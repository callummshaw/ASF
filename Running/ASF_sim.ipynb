{
 "cells": [
  {
   "cell_type": "markdown",
   "id": "22a5d427",
   "metadata": {},
   "source": [
    "# Load Modules"
   ]
  },
  {
   "cell_type": "code",
   "execution_count": 1,
   "id": "c400741c",
   "metadata": {},
   "outputs": [],
   "source": [
    "using GpABC, Distances, Distributions, Plots, StatsBase, Printf\n",
    "using DiffEqCallbacks, DifferentialEquations, LinearAlgebra\n",
    "using DelimitedFiles, DataFrames, LinearAlgebra, SparseArrays\n"
   ]
  },
  {
   "cell_type": "code",
   "execution_count": 2,
   "id": "50d1d6f9",
   "metadata": {},
   "outputs": [
    {
     "data": {
      "text/plain": [
       "Main.ASF_Analysis"
      ]
     },
     "execution_count": 2,
     "metadata": {},
     "output_type": "execute_result"
    }
   ],
   "source": [
    "include(\"/home/callum/ASF/Modules/ASF_input.jl\");\n",
    "include(\"/home/callum/ASF/Modules/ASF_model.jl\");\n",
    "include(\"/home/callum/ASF/Modules/ASF_analysis.jl\")"
   ]
  },
  {
   "cell_type": "code",
   "execution_count": 3,
   "id": "1ee1db8c",
   "metadata": {},
   "outputs": [],
   "source": [
    "input_path = \"/home/callum/ASF/Inputs/\"; #path to model data"
   ]
  },
  {
   "cell_type": "markdown",
   "id": "873289fd",
   "metadata": {},
   "source": [
    "# Model"
   ]
  },
  {
   "cell_type": "code",
   "execution_count": 4,
   "id": "fbc17fed",
   "metadata": {},
   "outputs": [
    {
     "name": "stderr",
     "output_type": "stream",
     "text": [
      "┌ Info: Running with seasons\n",
      "└ @ Main.ASF_Inputs /home/callum/ASF/Modules/ASF_input.jl:53\n",
      "┌ Info: Barabasi Albert Scale Free Network\n",
      "└ @ Main.ASF_Inputs /home/callum/ASF/Modules/ASF_input.jl:57\n",
      "┌ Warning: Death probability of 0.9\n",
      "└ @ Main.ASF_Inputs /home/callum/ASF/Modules/ASF_input.jl:164\n",
      "┌ Warning: Intra-group transmission of 0.4\n",
      "└ @ Main.ASF_Inputs /home/callum/ASF/Modules/ASF_input.jl:168\n",
      "┌ Warning: Inter-group transmission of 0.01\n",
      "└ @ Main.ASF_Inputs /home/callum/ASF/Modules/ASF_input.jl:172\n",
      "┌ Warning: Corpse infectivity of 0.7\n",
      "└ @ Main.ASF_Inputs /home/callum/ASF/Modules/ASF_input.jl:176\n",
      "┌ Info: 1000 Feral Groups\n",
      "└ @ Main.ASF_Inputs /home/callum/ASF/Modules/ASF_input.jl:370\n",
      "┌ Info: 0 Farm Populations\n",
      "└ @ Main.ASF_Inputs /home/callum/ASF/Modules/ASF_input.jl:371\n"
     ]
    }
   ],
   "source": [
    "input = ASF_Inputs.Model_Data(input_path, true); #loading the model input"
   ]
  },
  {
   "cell_type": "code",
   "execution_count": 94,
   "id": "1d839dd1",
   "metadata": {},
   "outputs": [
    {
     "name": "stderr",
     "output_type": "stream",
     "text": [
      "WARNING: redefinition of constant dc. This may fail, cause incorrect answers, or produce other errors.\n"
     ]
    }
   ],
   "source": [
    "const nt = input.Parameters.Populations.cum_sum[end] #total number of groups and farms\n",
    "const nc = 5 #number of classes\n",
    "const eqs = 11 #number of processes\n",
    "\n",
    "const dc = sparse(zeros(nt*nc,nt*eqs))\n",
    "\n",
    "#const _dc = zeros(nt*5,nt*10)\n",
    "\n",
    "dc[0*nc*nt+1:nc*nt*eqs+nc:end] .= 1\n",
    "dc[1*nc*nt+1:nc*nt*eqs+nc:end] .= -1\n",
    "dc[2*nc*nt+1:nc*nt*eqs+nc:end] .= -1\n",
    "dc[10*nc*nt+1:nc*nt*eqs+nc:end] .= 1\n",
    "\n",
    "dc[2*nc*nt+2:nc*nt*eqs+nc:end] .= 1\n",
    "dc[3*nc*nt+2:nc*nt*eqs+nc:end] .= -1\n",
    "dc[4*nc*nt+2:nc*nt*eqs+nc:end] .= -1\n",
    "\n",
    "dc[4*nc*nt+3:nc*nt*eqs+nc:end] .= 1\n",
    "dc[5*nc*nt+3:nc*nt*eqs+nc:end] .= -1\n",
    "dc[6*nc*nt+3:nc*nt*eqs+nc:end] .= -1\n",
    "dc[7*nc*nt+3:nc*nt*eqs+nc:end] .= -1\n",
    "\n",
    "dc[7*nc*nt+4:nc*nt*eqs+nc:end] .= 1\n",
    "dc[8*nc*nt+4:nc*nt*eqs+nc:end] .= -1\n",
    "dc[10*nc*nt+4:nc*nt*eqs+nc:end] .= -1\n",
    "\n",
    "\n",
    "dc[5*nc*nt+5:nc*nt*eqs+nc:end] .= 1\n",
    "dc[6*nc*nt+5:nc*nt*eqs+nc:end] .= 1\n",
    "dc[9*nc*nt+5:nc*nt*eqs+nc:end] .= -1;"
   ]
  },
  {
   "cell_type": "code",
   "execution_count": 16,
   "id": "026366b9",
   "metadata": {},
   "outputs": [
    {
     "data": {
      "text/plain": [
       "regular_c (generic function with 1 method)"
      ]
     },
     "execution_count": 16,
     "metadata": {},
     "output_type": "execute_result"
    }
   ],
   "source": [
    "function regular_c(du,u,p,t,counts,mark)  \n",
    "    mul!(du,dc,counts)\n",
    "    nothing\n",
    "end"
   ]
  }
 ],
 "metadata": {
  "kernelspec": {
   "display_name": "Julia 1.6.3",
   "language": "julia",
   "name": "julia-1.6"
  },
  "language_info": {
   "file_extension": ".jl",
   "mimetype": "application/julia",
   "name": "julia",
   "version": "1.6.3"
  },
  "vscode": {
   "interpreter": {
    "hash": "e7370f93d1d0cde622a1f8e1c04877d8463912d04d973331ad4851f04de6915a"
   }
  }
 },
 "nbformat": 4,
 "nbformat_minor": 5
}
