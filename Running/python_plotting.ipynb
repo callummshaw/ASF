{
 "cells": [
  {
   "cell_type": "code",
   "execution_count": 1,
   "id": "ce372741-6b71-43fb-b13c-17105b280b3e",
   "metadata": {},
   "outputs": [],
   "source": [
    "import numpy as np\n",
    "import matplotlib.pyplot as plt\n",
    "import glob\n",
    "import pandas as pd\n",
    "import matplotlib.colors as mcolors\n",
    "from scipy.stats import kde\n",
    "import matplotlib as mpl\n",
    "import sys\n",
    "from contextlib import redirect_stdout\n"
   ]
  },
  {
   "cell_type": "code",
   "execution_count": 2,
   "id": "412cbe7d-9f8c-426b-9455-5f8ac5828eff",
   "metadata": {},
   "outputs": [],
   "source": [
    "#old function for original output\n",
    "def plot_output(file, threshold,ft = True):\n",
    "    \n",
    "    files = glob.glob(file)    \n",
    "    data = pd.DataFrame()\n",
    "    \n",
    "    for f in files:\n",
    "        csv = pd.read_csv(f, names = [\"Alive\", \"Exposed\", \"Time\"])\n",
    "        data = pd.concat([data,csv],axis=0)\n",
    "        \n",
    "    print(\"Proportion of runs with ASF at end: {}%\".format(100*len(data[data.Time == -1])/len(data)))\n",
    "    print(\"Proportion of runs with die out before threshold: {}%\".format(100*len(data[data.Exposed <= threshold])/len(data)))\n",
    "    \n",
    "    if ft:\n",
    "        output  = data[(data.Exposed > threshold) & (data.Time != -1)]\n",
    "    else:\n",
    "         output  = data[(data.Exposed > threshold)]\n",
    "    return output"
   ]
  },
  {
   "cell_type": "code",
   "execution_count": 3,
   "id": "5b70e95d",
   "metadata": {},
   "outputs": [],
   "source": [
    "def read_output(path, pops = 1):\n",
    "    \n",
    "    c_name = [\"Alive\", \"Exposed\", \"Enter\", \"Dieout\"]\n",
    "    c_names = []\n",
    "    \n",
    "    for i in range(1,pops+1):\n",
    "        newnames = [s + \"_{}\".format(i) for s in c_name]\n",
    "        c_names.extend(newnames)\n",
    "    \n",
    "    file_path = path +\"/*.csv\"\n",
    "    \n",
    "    files = glob.glob(file_path)    \n",
    "    data = pd.DataFrame()\n",
    "    \n",
    "    for f in files:\n",
    "        csv = pd.read_csv(f, names = c_names)\n",
    "        data = pd.concat([data,csv],axis=0)\n",
    "    return data"
   ]
  },
  {
   "cell_type": "code",
   "execution_count": 4,
   "id": "e4dfe815",
   "metadata": {},
   "outputs": [],
   "source": [
    "def summary_stat(data, threshold, save=False):\n",
    "    if save:\n",
    "        with open(path+'/pop_summary.txt', 'w') as f:\n",
    "            with redirect_stdout(f):\n",
    "                 print_stats(data,threshold)\n",
    "    else:\n",
    "        print_stats(data,threshold)"
   ]
  },
  {
   "cell_type": "code",
   "execution_count": 5,
   "id": "2ab38b19",
   "metadata": {},
   "outputs": [],
   "source": [
    "def print_stats(data,threshold):\n",
    "\n",
    "    ns = 4 #number of stats\n",
    "    nr, nc = data.shape #number of runs\n",
    "    pops = nc//ns\n",
    "\n",
    "    #We first want to filter out the fast dieouts in seeded population but will keep IF spreads to other population\n",
    "    data_fast = data[(data.iloc[:,1] > threshold) | (np.sum(data.iloc[:,ns+1::ns],axis=1) != 0)]\n",
    "    nrf = data_fast.shape[0]\n",
    "    print(\"---------------------------------------------------\")\n",
    "    print()\n",
    "    print(\"Population 1\")\n",
    "    print(\"Proportion of runs with fast ASF die out: {}%\".format(np.round(100-100*nrf/nr,4)))\n",
    "    #print(\"Note these runs are filtered out from results\")\n",
    "\n",
    "    #We now have out filtered data!, lets start looking at some stats\n",
    "    #return(data_fast)\n",
    "    for i in range(1,pops+1):\n",
    "\n",
    "        data_population = data_fast.iloc[:,ns*(i-1):ns*i].copy() #selecting relevent data\n",
    "\n",
    "        if i == 1: #seeded population\n",
    "\n",
    "            data_population = data_population[data_population.iloc[:,3] > 0] # removing endemic data\n",
    "            number_endemic = data_population.shape[0]\n",
    "            print(\"Proportion of runs with ASF at end: {}%\".format(np.round(100-100*number_endemic/nrf,4)))\n",
    "            mean_stats(data_population,i)\n",
    "\n",
    "        else: #non-seeded populations\n",
    "\n",
    "            data_population = data_population[data_population.iloc[:,2] != -2]\n",
    "            number_asf = data_population.shape[0]\n",
    "\n",
    "            print()\n",
    "            print(\"Population {}\".format(i))\n",
    "            print(\"Proportion of runs where population gets ASF: {}%\".format(np.round(100*number_asf/nrf,2)))\n",
    "\n",
    "            data_population_s = data_population[data_population.iloc[:,1] > threshold] #ASF spreads\n",
    "            number_spread = data_population_s.shape[0]\n",
    "\n",
    "            print(\"Proportion of runs with fast ASF die out: {}%\".format(np.round(100-100*number_spread/number_asf,2)))\n",
    "\n",
    "\n",
    "            data_population_e = data_population_s[data_population_s.iloc[:,3] > 0] #number that are endemic at end\n",
    "            number_not_endemic = data_population_e.shape[0]\n",
    "            print(\"Proportion of runs with ASF at end: {}%\".format(np.round(100-100*number_not_endemic/number_spread,4)))\n",
    "            mean_stats(data_population_e,i)\n"
   ]
  },
  {
   "cell_type": "code",
   "execution_count": 6,
   "id": "4cb4088b",
   "metadata": {},
   "outputs": [],
   "source": [
    "def mean_stats(data,i):\n",
    "    mean_data = np.mean(data)\n",
    "    print()\n",
    "    print(\"Filtered Means: \")\n",
    "    print(\"Mean groups exposed: \", round(mean_data[1],2))\n",
    "    print(\"Mean groups alive: \", round(mean_data[0],2))\n",
    "    if i == 1:\n",
    "        print(\"Mean die out (days): \", round(mean_data[3],2))\n",
    "    else:\n",
    "        print(\"Mean entry (day): \", round(mean_data[2],2))\n",
    "        print(\"Mean days till dieout: \", round(mean_data[3]-mean_data[2],2))\n",
    "    print()\n",
    "    print(\"---------------------------------------------------\")"
   ]
  },
  {
   "cell_type": "code",
   "execution_count": 7,
   "id": "73535aa8",
   "metadata": {},
   "outputs": [],
   "source": [
    "path = \"/home/callum/Desktop/ACT_3_Low/\"\n",
    "data = read_output(path,3) #reading in data"
   ]
  },
  {
   "cell_type": "code",
   "execution_count": 8,
   "id": "33886756",
   "metadata": {},
   "outputs": [
    {
     "name": "stdout",
     "output_type": "stream",
     "text": [
      "---------------------------------------------------\n",
      "\n",
      "Population 1\n",
      "Proportion of runs with fast ASF die out: 16.2%\n",
      "Proportion of runs with ASF at end: 0.0119%\n",
      "\n",
      "Filtered Means: \n",
      "Mean groups exposed:  40.21\n",
      "Mean groups alive:  32.17\n",
      "Mean die out (days):  421.82\n",
      "\n",
      "---------------------------------------------------\n",
      "\n",
      "Population 2\n",
      "Proportion of runs where population gets ASF: 36.42%\n",
      "Proportion of runs with fast ASF die out: 16.51%\n",
      "Proportion of runs with ASF at end: 0.0392%\n",
      "\n",
      "Filtered Means: \n",
      "Mean groups exposed:  40.26\n",
      "Mean groups alive:  32.05\n",
      "Mean entry (day):  178.86\n",
      "Mean days till dieout:  412.86\n",
      "\n",
      "---------------------------------------------------\n",
      "\n",
      "Population 3\n",
      "Proportion of runs where population gets ASF: 9.59%\n",
      "Proportion of runs with fast ASF die out: 12.06%\n",
      "Proportion of runs with ASF at end: 4.1018%\n",
      "\n",
      "Filtered Means: \n",
      "Mean groups exposed:  37.37\n",
      "Mean groups alive:  33.14\n",
      "Mean entry (day):  346.08\n",
      "Mean days till dieout:  426.86\n",
      "\n",
      "---------------------------------------------------\n"
     ]
    }
   ],
   "source": [
    "summary_stat(data,10)"
   ]
  },
  {
   "cell_type": "code",
   "execution_count": null,
   "id": "a83bebaa",
   "metadata": {},
   "outputs": [],
   "source": []
  },
  {
   "cell_type": "code",
   "execution_count": null,
   "id": "5eac426f",
   "metadata": {},
   "outputs": [],
   "source": []
  },
  {
   "cell_type": "code",
   "execution_count": null,
   "id": "c00c33dc-2580-48d3-91d7-fb7a129c9431",
   "metadata": {},
   "outputs": [],
   "source": [
    "xedges = np.linspace(0,100,101)\n",
    "yedges = np.linspace(0,100,101)\n",
    "\n",
    "fig, axs = plt.subplots(2, 2, constrained_layout=True, figsize=(6,6))\n",
    "\n",
    "min_exp = 0\n",
    "vm=250\n",
    "data = ACT\n",
    "ax0 = axs.flat[0]\n",
    "hist, xedges, yedges = np.histogram2d(data.Exposed, data.Alive, (xedges, yedges))\n",
    "xidx = np.clip(np.digitize(data.Exposed, xedges), 0, hist.shape[0]-1)\n",
    "yidx = np.clip(np.digitize(data.Alive, yedges), 0, hist.shape[1]-1)\n",
    "c = hist[xidx, yidx]\n",
    "sc = ax0.scatter(data.Exposed, data.Alive, c=c, s=10,vmin=0, vmax=vm, cmap = plt.cm.get_cmap('cividis'))\n",
    "ax0.set_ylim([min_exp,100])\n",
    "ax0.set_xlim([min_exp,100])\n",
    "ax0.set_title(\"ACT\")\n",
    "ax0.set_ylabel(\"Alive (%)\")\n",
    "\n",
    "data = NSW\n",
    "ax0 = axs.flat[1]\n",
    "hist, xedges, yedges = np.histogram2d(data.Exposed, data.Alive, (xedges, yedges))\n",
    "xidx = np.clip(np.digitize(data.Exposed, xedges), 0, hist.shape[0]-1)\n",
    "yidx = np.clip(np.digitize(data.Alive, yedges), 0, hist.shape[1]-1)\n",
    "c = hist[xidx, yidx]\n",
    "sc = ax0.scatter(data.Exposed, data.Alive, c=c, s=10,vmin=0, vmax=vm, cmap = plt.cm.get_cmap('cividis'))\n",
    "ax0.set_ylim([min_exp,100])\n",
    "ax0.set_xlim([min_exp,100])\n",
    "ax0.set_title(\"NSW\")\n",
    "\n",
    "data = NT_ED\n",
    "ax0 = axs.flat[2]\n",
    "hist, xedges, yedges = np.histogram2d(data.Exposed, data.Alive, (xedges, yedges))\n",
    "xidx = np.clip(np.digitize(data.Exposed, xedges), 0, hist.shape[0]-1)\n",
    "yidx = np.clip(np.digitize(data.Alive, yedges), 0, hist.shape[1]-1)\n",
    "c = hist[xidx, yidx]\n",
    "sc = ax0.scatter(data.Exposed, data.Alive, c=c, s=10,vmin=0, vmax=vm, cmap = plt.cm.get_cmap('cividis'))\n",
    "ax0.set_ylim([min_exp,100])\n",
    "ax0.set_xlim([min_exp,100])\n",
    "ax0.set_title(\"NT Early Dry\")\n",
    "ax0.set_ylabel(\"Alive (%)\")\n",
    "ax0.set_xlabel(\"Exposed (%)\")\n",
    "\n",
    "data = NT_LD\n",
    "ax0 = axs.flat[3]\n",
    "hist, xedges, yedges = np.histogram2d(data.Exposed, data.Alive, (xedges, yedges))\n",
    "xidx = np.clip(np.digitize(data.Exposed, xedges), 0, hist.shape[0]-1)\n",
    "yidx = np.clip(np.digitize(data.Alive, yedges), 0, hist.shape[1]-1)\n",
    "c = hist[xidx, yidx]\n",
    "sc = ax0.scatter(data.Exposed, data.Alive, c=c, s=10,vmin=0, vmax=vm, cmap = plt.cm.get_cmap('cividis'))\n",
    "ax0.set_ylim([min_exp,100])\n",
    "ax0.set_xlim([min_exp,100])\n",
    "ax0.set_title(\"NT Late Dry\")\n",
    "ax0.set_xlabel(\"Exposed (%)\")\n",
    "\n",
    "\n",
    "fig.colorbar(sc, ax=axs, label=\"Counts\", fraction=0.33)\n",
    "fig.suptitle(\"Effect of location\\non ASF dynamics\",y=1.08, fontsize=14)\n",
    "fig.savefig(\"/home/callum/Results/plots/lethality.png\", dpi = 400, bbox_inches='tight')\n"
   ]
  },
  {
   "cell_type": "code",
   "execution_count": null,
   "id": "1dcb939b-b02a-4c13-8d3b-c54a1ae32573",
   "metadata": {},
   "outputs": [],
   "source": [
    "\n",
    "\n",
    "xedges = np.linspace(0,365*3,365*3//7)\n",
    "yedges = np.linspace(0,100,101)\n",
    "\n",
    "fig, axs = plt.subplots(2, 2, constrained_layout=True, figsize=(6,6))\n",
    "\n",
    "min_exp = 0\n",
    "vm =150\n",
    "data = ACT\n",
    "ax0 = axs.flat[0]\n",
    "hist, xedges, yedges = np.histogram2d(data.Time, data.Alive, (xedges, yedges))\n",
    "xidx = np.clip(np.digitize(data.Time, xedges), 0, hist.shape[0]-1)\n",
    "yidx = np.clip(np.digitize(data.Alive, yedges), 0, hist.shape[1]-1)\n",
    "c = hist[xidx, yidx]\n",
    "sc = ax0.scatter(data.Time, data.Alive, c=c, s=10,vmin=0, vmax=vm, cmap = plt.cm.get_cmap('cividis'))\n",
    "ax0.set_ylim([min_exp,100])\n",
    "ax0.set_xlim([min_exp,365*3])\n",
    "ax0.set_title(\"ACT\")\n",
    "ax0.set_ylabel(\"Alive (%)\")\n",
    "\n",
    "data = NSW\n",
    "ax0 = axs.flat[1]\n",
    "hist, xedges, yedges = np.histogram2d(data.Time, data.Alive, (xedges, yedges))\n",
    "xidx = np.clip(np.digitize(data.Time, xedges), 0, hist.shape[0]-1)\n",
    "yidx = np.clip(np.digitize(data.Alive, yedges), 0, hist.shape[1]-1)\n",
    "c = hist[xidx, yidx]\n",
    "sc = ax0.scatter(data.Time, data.Alive, c=c, s=10,vmin=0, vmax=vm, cmap = plt.cm.get_cmap('cividis'))\n",
    "ax0.set_ylim([min_exp,100])\n",
    "ax0.set_xlim([min_exp,365*3])\n",
    "ax0.set_title(\"NSW\")\n",
    "\n",
    "data = NT_ED\n",
    "ax0 = axs.flat[2]\n",
    "hist, xedges, yedges = np.histogram2d(data.Time, data.Alive, (xedges, yedges))\n",
    "xidx = np.clip(np.digitize(data.Time, xedges), 0, hist.shape[0]-1)\n",
    "yidx = np.clip(np.digitize(data.Alive, yedges), 0, hist.shape[1]-1)\n",
    "c = hist[xidx, yidx]\n",
    "sc = ax0.scatter(data.Time, data.Alive, c=c, s=10,vmin=0, vmax=vm, cmap = plt.cm.get_cmap('cividis'))\n",
    "ax0.set_ylim([min_exp,100])\n",
    "ax0.set_xlim([min_exp,365*3])\n",
    "ax0.set_title(\"NT Early Dry\")\n",
    "ax0.set_ylabel(\"Alive (%)\")\n",
    "ax0.set_xlabel(\"Time (days)\")\n",
    "\n",
    "data = NT_LD\n",
    "ax0 = axs.flat[3]\n",
    "hist, xedges, yedges = np.histogram2d(data.Time, data.Alive, (xedges, yedges))\n",
    "xidx = np.clip(np.digitize(data.Time, xedges), 0, hist.shape[0]-1)\n",
    "yidx = np.clip(np.digitize(data.Alive, yedges), 0, hist.shape[1]-1)\n",
    "c = hist[xidx, yidx]\n",
    "sc = ax0.scatter(data.Time, data.Alive, c=c, s=10,vmin=0, vmax=vm, cmap = plt.cm.get_cmap('cividis'))\n",
    "ax0.set_ylim([min_exp,100])\n",
    "ax0.set_xlim([min_exp,365*3])\n",
    "ax0.set_title(\"NT Late Dry\")\n",
    "ax0.set_xlabel(\"Time (days)\")\n",
    "ax0.set_ylabel(\"Alive (%)\")\n",
    "\n",
    "\n",
    "fig.colorbar(sc, ax=axs, label=\"Counts\", fraction=0.33)\n",
    "fig.suptitle(\"Effect of Location\\non ASF dynamics\",y=1.08,fontsize=14)\n",
    "fig.savefig(\"/home/callum/Results/plots/lethality_time.png\", dpi = 400, bbox_inches='tight')\n",
    "\n"
   ]
  },
  {
   "cell_type": "code",
   "execution_count": null,
   "id": "e35fba99",
   "metadata": {},
   "outputs": [],
   "source": [
    "data = ACTNT_LD\n",
    "hist, xedges, yedges = np.histogram2d(data.Time, data.Alive, (xedges, yedges))\n",
    "xidx = np.clip(np.digitize(data.Time, xedges), 0, hist.shape[0]-1)\n",
    "yidx = np.clip(np.digitize(data.Alive, yedges), 0, hist.shape[1]-1)\n",
    "c = hist[xidx, yidx]\n",
    "sc = plt.scatter(data.Time, data.Alive, c=c, s=10,vmin=0, vmax=80)# cmap = plt.cm.get_cmap('OrRd'))\n",
    "plt.ylim([min_exp,100])\n",
    "plt.xlim([min_exp,365*3])\n",
    "plt.title(\"NT Late Dry\")\n",
    "plt.xlabel(\"Time (days)\")\n",
    "plt.ylabel(\"Alive (%)\")"
   ]
  },
  {
   "cell_type": "code",
   "execution_count": null,
   "id": "8ef8d40e",
   "metadata": {},
   "outputs": [],
   "source": [
    "data = np.copy(ACT.Time)\n",
    "# Creating plot\n",
    "fig = plt.figure(figsize =(10, 7))\n",
    "time_bins = [0, 100, 200, 300,400, 500, 600, 700,800, 900, 1000, 1100,1200]\n",
    "plt.hist(data, bins = time_bins)"
   ]
  },
  {
   "cell_type": "code",
   "execution_count": null,
   "id": "b286422d",
   "metadata": {},
   "outputs": [],
   "source": [
    "data = np.copy(NSW.Time)\n",
    "data[data == 99999] = 1150\n",
    "# Creating plot\n",
    "fig = plt.figure(figsize =(10, 7))\n",
    "time_bins = [0, 100, 200, 300,400, 500, 600, 700,800, 900, 1000, 1100,1200]\n",
    "plt.hist(data, bins = time_bins)"
   ]
  },
  {
   "cell_type": "code",
   "execution_count": null,
   "id": "2a990594",
   "metadata": {},
   "outputs": [],
   "source": []
  },
  {
   "cell_type": "code",
   "execution_count": null,
   "id": "22c2416a",
   "metadata": {},
   "outputs": [],
   "source": []
  },
  {
   "cell_type": "code",
   "execution_count": null,
   "id": "78b7a261",
   "metadata": {},
   "outputs": [],
   "source": []
  },
  {
   "cell_type": "code",
   "execution_count": null,
   "id": "bbc299d5",
   "metadata": {},
   "outputs": [],
   "source": [
    "data = np.copy(ACTNT_LD.Time)\n",
    "data[data == 99999] = 1150\n",
    "# Creating plot\n",
    "fig = plt.figure(figsize =(10, 7))\n",
    "time_bins = [0, 100, 200, 300,400, 500, 600, 700,800, 900, 1000, 1100,1200]\n",
    "plt.hist(data, bins = time_bins)\n",
    " "
   ]
  },
  {
   "cell_type": "code",
   "execution_count": null,
   "id": "6bc5a514",
   "metadata": {},
   "outputs": [],
   "source": []
  },
  {
   "cell_type": "code",
   "execution_count": null,
   "id": "fd073656",
   "metadata": {},
   "outputs": [],
   "source": [
    "print_means(ACT)"
   ]
  },
  {
   "cell_type": "code",
   "execution_count": null,
   "id": "22a60372",
   "metadata": {},
   "outputs": [],
   "source": [
    "print_means(NSW)"
   ]
  },
  {
   "cell_type": "code",
   "execution_count": null,
   "id": "40b465ad",
   "metadata": {},
   "outputs": [],
   "source": [
    "print_means(NT_ED)"
   ]
  },
  {
   "cell_type": "code",
   "execution_count": null,
   "id": "37ab59b0",
   "metadata": {},
   "outputs": [],
   "source": [
    "print_means(NT_LD)"
   ]
  },
  {
   "cell_type": "code",
   "execution_count": null,
   "id": "2357f4c2",
   "metadata": {},
   "outputs": [],
   "source": [
    "print_means(ACTNT_LD)"
   ]
  },
  {
   "cell_type": "code",
   "execution_count": null,
   "id": "d3d3af4f",
   "metadata": {},
   "outputs": [],
   "source": []
  },
  {
   "cell_type": "code",
   "execution_count": null,
   "id": "a02d5814",
   "metadata": {},
   "outputs": [],
   "source": []
  },
  {
   "cell_type": "code",
   "execution_count": null,
   "id": "72c2c1a5",
   "metadata": {},
   "outputs": [],
   "source": [
    "def print_means(Data):\n",
    "    \n",
    "    print(\"----------------------------------------\")\n",
    "    print(\"Exposed (%): \", round(np.mean(Data[\"Exposed\"]),3))\n",
    "    print(\"Alive (%): \", round(np.mean(Data[\"Alive\"]),3))\n",
    "    print(\"Die out (days): \", round(np.mean(Data[\"Time\"]),3))\n",
    "    print(\"----------------------------------------\")\n"
   ]
  },
  {
   "cell_type": "code",
   "execution_count": null,
   "id": "39968e1d-93c2-4c6c-a924-531c50747d39",
   "metadata": {},
   "outputs": [],
   "source": []
  },
  {
   "cell_type": "code",
   "execution_count": null,
   "id": "4287031f-8149-4263-a721-9174968a2f71",
   "metadata": {},
   "outputs": [],
   "source": [
    "min(frequency.Time)"
   ]
  },
  {
   "cell_type": "code",
   "execution_count": null,
   "id": "780e331d-cad9-48c8-aedc-09f1817a390d",
   "metadata": {},
   "outputs": [],
   "source": [
    "max(frequency.Time)"
   ]
  },
  {
   "cell_type": "code",
   "execution_count": null,
   "id": "dc4c35c8-a288-4d7f-923f-19011b907cba",
   "metadata": {},
   "outputs": [],
   "source": [
    "min(density.Time)"
   ]
  },
  {
   "cell_type": "code",
   "execution_count": null,
   "id": "3ab7af32-5178-4ccb-8ec3-2ea8453e2b35",
   "metadata": {},
   "outputs": [],
   "source": [
    "max(density.Time)"
   ]
  },
  {
   "cell_type": "code",
   "execution_count": null,
   "id": "c48eb9c2-1d46-49ee-af05-123c51299165",
   "metadata": {},
   "outputs": [],
   "source": [
    "e"
   ]
  },
  {
   "cell_type": "code",
   "execution_count": null,
   "id": "ddebb6d5-c051-430d-92d5-a7b68f368a61",
   "metadata": {},
   "outputs": [],
   "source": [
    "100*2.718**(5*0.00665)\n"
   ]
  },
  {
   "cell_type": "code",
   "execution_count": null,
   "id": "2249894e-4c06-4ad2-ba56-ddf50bebe28c",
   "metadata": {},
   "outputs": [],
   "source": []
  }
 ],
 "metadata": {
  "kernelspec": {
   "display_name": "Python 3 (ipykernel)",
   "language": "python",
   "name": "python3"
  },
  "language_info": {
   "codemirror_mode": {
    "name": "ipython",
    "version": 3
   },
   "file_extension": ".py",
   "mimetype": "text/x-python",
   "name": "python",
   "nbconvert_exporter": "python",
   "pygments_lexer": "ipython3",
   "version": "3.8.10"
  },
  "vscode": {
   "interpreter": {
    "hash": "916dbcbb3f70747c44a77c7bcd40155683ae19c65e1c03b4aa3499c5328201f1"
   }
  }
 },
 "nbformat": 4,
 "nbformat_minor": 5
}
