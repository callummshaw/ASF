{
 "cells": [
  {
   "cell_type": "markdown",
   "id": "e1096a34",
   "metadata": {},
   "source": [
    "# Fitting AUSF\n",
    "\n",
    "The model requires the fitting of pig population dynamics and ASF disease dynamics. We first fit the population to ensure that the population returns to the carrying capacity"
   ]
  },
  {
   "cell_type": "markdown",
   "id": "22a5d427",
   "metadata": {},
   "source": [
    "### Load Modules"
   ]
  },
  {
   "cell_type": "code",
   "execution_count": null,
   "id": "c400741c",
   "metadata": {},
   "outputs": [],
   "source": [
    "using GpABC, Distances, Distributions, Plots, StatsBase, Printf\n",
    "using DiffEqCallbacks, DifferentialEquations, LinearAlgebra\n",
    "using DelimitedFiles, DataFrames, LinearAlgebra, SparseArrays\n"
   ]
  },
  {
   "cell_type": "code",
   "execution_count": null,
   "id": "50d1d6f9",
   "metadata": {},
   "outputs": [],
   "source": [
    "include(\"/home/callum/ASF/Modules/ASF_input.jl\");\n",
    "include(\"/home/callum/ASF/Modules/ASF_model.jl\");\n",
    "include(\"/home/callum/ASF/Modules/ASF_analysis.jl\")"
   ]
  },
  {
   "cell_type": "code",
   "execution_count": null,
   "id": "1ee1db8c",
   "metadata": {},
   "outputs": [],
   "source": [
    "input_path = \"/home/callum/ASF/Inputs/\"; #path to model data"
   ]
  },
  {
   "cell_type": "markdown",
   "id": "873289fd",
   "metadata": {},
   "source": [
    "### Model"
   ]
  },
  {
   "cell_type": "code",
   "execution_count": null,
   "id": "fbc17fed",
   "metadata": {},
   "outputs": [],
   "source": [
    "input = ASF_Inputs.Model_Data(input_path, true); #loading the model input"
   ]
  },
  {
   "cell_type": "code",
   "execution_count": null,
   "id": "1d839dd1",
   "metadata": {},
   "outputs": [],
   "source": [
    "const nt = input.Parameters.Populations.cum_sum[end] #total number of groups and farms\n",
    "const nc = 5 #number of classes\n",
    "const eqs = 11 #number of processes\n",
    "\n",
    "const dc = sparse(zeros(nt*nc,nt*eqs))\n",
    "\n",
    "#const _dc = zeros(nt*5,nt*10)\n",
    "\n",
    "dc[0*nc*nt+1:nc*nt*eqs+nc:end] .= 1\n",
    "dc[1*nc*nt+1:nc*nt*eqs+nc:end] .= -1\n",
    "dc[2*nc*nt+1:nc*nt*eqs+nc:end] .= -1\n",
    "dc[10*nc*nt+1:nc*nt*eqs+nc:end] .= 1\n",
    "\n",
    "dc[2*nc*nt+2:nc*nt*eqs+nc:end] .= 1\n",
    "dc[3*nc*nt+2:nc*nt*eqs+nc:end] .= -1\n",
    "dc[4*nc*nt+2:nc*nt*eqs+nc:end] .= -1\n",
    "\n",
    "dc[4*nc*nt+3:nc*nt*eqs+nc:end] .= 1\n",
    "dc[5*nc*nt+3:nc*nt*eqs+nc:end] .= -1\n",
    "dc[6*nc*nt+3:nc*nt*eqs+nc:end] .= -1\n",
    "dc[7*nc*nt+3:nc*nt*eqs+nc:end] .= -1\n",
    "\n",
    "dc[7*nc*nt+4:nc*nt*eqs+nc:end] .= 1\n",
    "dc[8*nc*nt+4:nc*nt*eqs+nc:end] .= -1\n",
    "dc[10*nc*nt+4:nc*nt*eqs+nc:end] .= -1\n",
    "\n",
    "\n",
    "dc[5*nc*nt+5:nc*nt*eqs+nc:end] .= 1\n",
    "dc[6*nc*nt+5:nc*nt*eqs+nc:end] .= 1\n",
    "dc[9*nc*nt+5:nc*nt*eqs+nc:end] .= -1;"
   ]
  },
  {
   "cell_type": "code",
   "execution_count": null,
   "id": "026366b9",
   "metadata": {},
   "outputs": [],
   "source": [
    "function regular_c(du,u,p,t,counts,mark)  \n",
    "    mul!(du,dc,counts)\n",
    "    nothing\n",
    "end"
   ]
  },
  {
   "cell_type": "markdown",
   "id": "8b09fdb8",
   "metadata": {},
   "source": [
    "### Fitting Population"
   ]
  },
  {
   "cell_type": "code",
   "execution_count": null,
   "id": "e9a01530",
   "metadata": {},
   "outputs": [],
   "source": [
    "AUSF_pop = function(params,Tspan, U0)\n",
    "    #function that runs model for fitting\n",
    "\n",
    "    rj = RegularJump(ASF_Model.asf_model_pop, regular_c, eqs*nt)\n",
    "\n",
    "    prob = DiscreteProblem(U0,Tspan,params)\n",
    "\n",
    "    jump_prob = JumpProblem(prob,Direct(),rj)\n",
    "\n",
    "    ensemble_prob_m = EnsembleProblem(jump_prob)\n",
    "\n",
    "    outputs = solve(ensemble_prob_m, SimpleTauLeaping(), trajectories= n_runs,EnsembleThreads(),dt=1);\n",
    "\n",
    "    res = eval_out_pop(outputs,U0)\n",
    "\n",
    "    return res\n",
    "end\n",
    "    \n",
    "\n",
    "function simulator_function_pop(var_params)\n",
    "\n",
    "   \n",
    "    input = ASF_Inputs.Model_Data(input_path);\n",
    "\n",
    "    U0 = copy(input.U0);\n",
    "    U0[1:5:end] += (U0[2:5:end] +U0[3:5:end]) #setting init pop to zero\n",
    "    U0[2:5:end] .= 0\n",
    "    U0[3:5:end] .= 0;\n",
    "    \n",
    "    params = ASF_Model.convert(input.Parameters)\n",
    "    \n",
    "    params[7] = var_params[1] #corpse decay rates\n",
    "    \n",
    "    Time = (0.0,n_years*365)\n",
    "    #now we run simulation!\n",
    "    AUSF_pop(params, Time, U0)\n",
    "end\n",
    "\n",
    "function eval_out_pop(output, U0)\n",
    "    output_final = Matrix{Float64}(undef,(n_years*365+1,1))\n",
    "    dist = zeros(Float64,n_runs)\n",
    "    K = sum(U0)\n",
    "   dummy = zeros(n_years*365+1)\n",
    "    \n",
    "    for i = 1:n_runs\n",
    "        sol = output[i]\n",
    "        data = reduce(vcat,transpose.(sol.u))\n",
    "        data[data .< 0 ] .= 0\n",
    "\n",
    "        s_d = data[:,1:5:end]\n",
    "        \n",
    "        pop_sum = sum(s_d,dims=2)[:,1]\n",
    "        \n",
    "        pop_crop = pop_sum/K\n",
    " \n",
    "        dummy += pop_crop/n_runs\n",
    "        \n",
    "    \n",
    "    end\n",
    "    output_final[:] = dummy\n",
    "    dist = euclidean(obs[:],dummy)\n",
    "    if euclidean(obs[:],dummy) < threshold\n",
    "        println(dist)\n",
    "    end\n",
    "    return output_final\n",
    "    \n",
    "end\n",
    "\n",
    "function observed_params()\n",
    "   \n",
    "    obs =  Matrix{Float64}(undef,(n_years*365+1,1))\n",
    "    \n",
    "    obs .= 1\n",
    "    \n",
    "    return obs\n",
    "end"
   ]
  },
  {
   "cell_type": "code",
   "execution_count": null,
   "id": "318b0feb",
   "metadata": {},
   "outputs": [],
   "source": [
    "#Some key parameters for G\n",
    "\n",
    "input_path = \"/home/callum/ASF/Inputs/\"; #path to model data\n",
    "n_years = 5 #how many years each sim will run for\n",
    "n_runs = 3 #how many runs for each param\n",
    "obs = observed_params() #our observed (just array of ones, we normalise output to be relative to this)\n",
    "priors = [Uniform(5, 10)];"
   ]
  },
  {
   "cell_type": "code",
   "execution_count": null,
   "id": "e206dadc",
   "metadata": {},
   "outputs": [],
   "source": [
    "#Our params for fitting\n",
    "n_particles = 10 #number of acceptances we want\n",
    "devi = 0.99 #how close (from 0-1 with 1 being identical) do we want output to be to observed, used for threshold\n",
    "threshold = sqrt((n_years*365+1)*((1-devi)^2));"
   ]
  },
  {
   "cell_type": "code",
   "execution_count": null,
   "id": "8cfc18a9",
   "metadata": {},
   "outputs": [],
   "source": [
    "sim_result = SimulatedABCRejection(obs, simulator_function_pop, priors, threshold, n_particles; max_iter=1000, write_progress=false)#,"
   ]
  },
  {
   "cell_type": "markdown",
   "id": "95abecd2",
   "metadata": {},
   "source": [
    "### Fitting ASF\n",
    "\n",
    "Here we are fitting the diease dynamics to previously observed effects from outbreaks in the Baltic States"
   ]
  },
  {
   "cell_type": "code",
   "execution_count": null,
   "id": "01344a31",
   "metadata": {},
   "outputs": [],
   "source": [
    "function AUSF_d(dis_params,Tspan,U0)\n",
    "     rj = RegularJump(ASF_Model.asf_model_one, regular_c, eqs*nt)\n",
    "    prob = DiscreteProblem(U0,Tspan,dis_params)\n",
    "    jump_prob = JumpProblem(prob,Direct(),rj)\n",
    "    ensemble_prob = EnsembleProblem(jump_prob)\n",
    "    model_outs = solve(ensemble_prob, SimpleTauLeaping(), trajectories= n_runs,EnsembleThreads(),dt=1)\n",
    "    res = eval_out(model_outs)\n",
    "end\n",
    "    \n",
    "function simulator_function_d(var_params)\n",
    "    Tspan = (0.0,365*n_years)\n",
    "    \n",
    "    input = ASF_Inputs.Model_Data(input_path);\n",
    "    U0 = input.U0\n",
    "    params = ASF_Model.convert(input.Parameters)\n",
    "    \n",
    "    #beta\n",
    "    params[1] .= var_params[1] #intra\n",
    "    params[2][params[2] .!= 0 ] .= var_params[2]/n_con #inter\n",
    "    \n",
    "    #corpse \n",
    "    params[10] = var_params[3] #corpse infection modifier\n",
    "\n",
    "    AUSF_d(params, Tspan, U0)\n",
    "end\n",
    "\n",
    "function eval_out(data) \n",
    "\n",
    "    output_final = Matrix{Float64}(undef,(3,1))\n",
    "    s = 0\n",
    "    ep = 0\n",
    "    mt = 0\n",
    "    pd = 0\n",
    "    \n",
    "    for i in 1:n_runs\n",
    "        d, da,f,p = run_analysis(data[i])\n",
    "\n",
    "        if d[end] > 0\n",
    "\n",
    "            ep += 100*mean(da[3*365:end])/mean(p[3*365:end])\n",
    "            pd += 100*(1-mean(p[3*365:end])/p[1])\n",
    "            mt += maximum(findall(==(maximum(d)), d))[1]\n",
    "\n",
    "\n",
    "            s += 1\n",
    "        end\n",
    "\n",
    "    end\n",
    "    \n",
    "    \n",
    "    if s >= 2\n",
    "        output_final[1] = ep/s*(1/2)\n",
    "        output_final[2] = pd/s*(1/10)\n",
    "        output_final[3] = mt/s*(2/365)\n",
    "        \n",
    "    else\n",
    "        output_final[1] = 0\n",
    "        output_final[2] = 0\n",
    "        output_final[3] = 0\n",
    "    end\n",
    "    \n",
    "    d= euclidean(output_final,obs)\n",
    "    if d < threshold\n",
    "        println(d)\n",
    "    end\n",
    "\n",
    "    return output_final\n",
    "    \n",
    "end\n",
    "\n",
    "function observed_params()\n",
    "   \n",
    "    obs =  Matrix{Float64}(undef,(3,1))\n",
    "    \n",
    "    obs[1] = 1 #2 #endemic prev\n",
    "    obs[2] = 8#80 #population delcine %\n",
    "    obs[3] = 2#180 #time (days) from init to max\n",
    "    \n",
    "    return obs\n",
    "end"
   ]
  },
  {
   "cell_type": "code",
   "execution_count": null,
   "id": "2df84bfd",
   "metadata": {},
   "outputs": [],
   "source": [
    "input_path = \"/home/callum/ASF/Inputs/\"; #path to model data\n",
    "n_years = 5 #how many years each sim will run for\n",
    "n_runs = 3 #how many runs for each param\n",
    "n_con = 8  # average number of connections each group has\n",
    "obs = observed_params() #our observed (just array of ones, we normalise output to be relative to this)\n",
    "priors = [Uniform(0.15, 0.85), Uniform(0.015, 0.085), Uniform(0.15, 1)];"
   ]
  },
  {
   "cell_type": "code",
   "execution_count": null,
   "id": "36657604",
   "metadata": {},
   "outputs": [],
   "source": [
    "n_particles = 100;\n",
    "threshold_schedule = [1.0, 0.8, 0.7];"
   ]
  },
  {
   "cell_type": "code",
   "execution_count": null,
   "id": "05913b04",
   "metadata": {},
   "outputs": [],
   "source": [
    "sim_abcsmc_res = SimulatedABCSMC(obs,simulator_function_d,priors,threshold_schedule,n_particles; write_progress=false)"
   ]
  },
  {
   "cell_type": "code",
   "execution_count": null,
   "id": "c24cb88b",
   "metadata": {},
   "outputs": [],
   "source": []
  },
  {
   "cell_type": "code",
   "execution_count": null,
   "id": "925d9b42",
   "metadata": {},
   "outputs": [],
   "source": []
  }
 ],
 "metadata": {
  "kernelspec": {
   "display_name": "Julia 1.8.3",
   "language": "julia",
   "name": "julia-1.8"
  },
  "language_info": {
   "file_extension": ".jl",
   "mimetype": "application/julia",
   "name": "julia",
   "version": "1.8.3"
  },
  "vscode": {
   "interpreter": {
    "hash": "e7370f93d1d0cde622a1f8e1c04877d8463912d04d973331ad4851f04de6915a"
   }
  }
 },
 "nbformat": 4,
 "nbformat_minor": 5
}
