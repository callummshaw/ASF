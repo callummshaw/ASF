{
 "cells": [
  {
   "cell_type": "markdown",
   "id": "8d0bb1ca-d118-40b2-8957-13458f555c66",
   "metadata": {},
   "source": [
    "# Running ASF Model"
   ]
  },
  {
   "cell_type": "code",
   "execution_count": null,
   "id": "55239d5e-70a5-4eb3-b50b-8613bbfda5ed",
   "metadata": {},
   "outputs": [],
   "source": [
    "using Plots\n",
    "using BenchmarkTools\n",
    "\n",
    "include(\"../Modules/Run_ASF.jl\")"
   ]
  },
  {
   "cell_type": "code",
   "execution_count": null,
   "id": "56609409",
   "metadata": {},
   "outputs": [],
   "source": [
    "input_path = \"../Inputs/\";"
   ]
  },
  {
   "cell_type": "code",
   "execution_count": null,
   "id": "37d67d54",
   "metadata": {
    "scrolled": false
   },
   "outputs": [],
   "source": [
    "aa = Run.ASF(input_path)"
   ]
  },
  {
   "cell_type": "code",
   "execution_count": null,
   "id": "3a2ae99f",
   "metadata": {},
   "outputs": [],
   "source": [
    "@benchmark Run.ASF(input_path)"
   ]
  },
  {
   "cell_type": "code",
   "execution_count": null,
   "id": "53550516",
   "metadata": {},
   "outputs": [],
   "source": []
  }
 ],
 "metadata": {
  "@webio": {
   "lastCommId": null,
   "lastKernelId": null
  },
  "kernelspec": {
   "display_name": "Julia 1.8.3",
   "language": "julia",
   "name": "julia-1.8"
  },
  "language_info": {
   "file_extension": ".jl",
   "mimetype": "application/julia",
   "name": "julia",
   "version": "1.8.3"
  }
 },
 "nbformat": 4,
 "nbformat_minor": 5
}
