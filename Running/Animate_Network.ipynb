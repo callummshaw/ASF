{
 "cells": [
  {
   "cell_type": "code",
   "execution_count": 1,
   "id": "c9cdfe3d-174e-4ec8-ba00-bdccefc0b6d0",
   "metadata": {},
   "outputs": [],
   "source": [
    "import imageio"
   ]
  },
  {
   "cell_type": "code",
   "execution_count": 10,
   "id": "9d331cd4-35ef-4777-8e70-d9941e4bb8fa",
   "metadata": {},
   "outputs": [],
   "source": [
    "files = [] #reading in files\n",
    "for i in range(1,13):\n",
    "    name = \"Sample_\"+str(i)+\".png\"\n",
    "    files.append(name)"
   ]
  },
  {
   "cell_type": "code",
   "execution_count": 22,
   "id": "ed465c4a-7e85-462d-a8bf-daaa4eeb7e30",
   "metadata": {},
   "outputs": [],
   "source": [
    "images = [] #animating\n",
    "for filename in files:\n",
    "    images.append(imageio.imread(filename))\n",
    "imageio.mimsave(\"hundred_connections.gif\", images, duration=1.25)\n",
    "    "
   ]
  },
  {
   "cell_type": "code",
   "execution_count": null,
   "id": "6d43382d-5364-41d0-a0e0-f3f1f7e5e4da",
   "metadata": {},
   "outputs": [],
   "source": []
  }
 ],
 "metadata": {
  "kernelspec": {
   "display_name": "Python 3 (ipykernel)",
   "language": "python",
   "name": "python3"
  },
  "language_info": {
   "codemirror_mode": {
    "name": "ipython",
    "version": 3
   },
   "file_extension": ".py",
   "mimetype": "text/x-python",
   "name": "python",
   "nbconvert_exporter": "python",
   "pygments_lexer": "ipython3",
   "version": "3.8.10"
  }
 },
 "nbformat": 4,
 "nbformat_minor": 5
}
