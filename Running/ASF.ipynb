{
 "cells": [
  {
   "cell_type": "markdown",
   "id": "8d0bb1ca-d118-40b2-8957-13458f555c66",
   "metadata": {},
   "source": [
    "# Running ASFMAUS"
   ]
  },
  {
   "cell_type": "code",
   "execution_count": 1,
   "id": "55239d5e-70a5-4eb3-b50b-8613bbfda5ed",
   "metadata": {},
   "outputs": [],
   "source": [
    "using StochasticDiffEq\n",
    "using DiffEqCallbacks\n",
    "using DifferentialEquations\n",
    "using Plots\n",
    "using LinearAlgebra\n",
    "using DelimitedFiles\n",
    "using DataFrames\n",
    "using LinearAlgebra\n",
    "using SparseArrays\n",
    "using Distributions"
   ]
  },
  {
   "cell_type": "code",
   "execution_count": 2,
   "id": "fed60c4a-b1a0-413f-aec9-69f55f33c32a",
   "metadata": {},
   "outputs": [
    {
     "data": {
      "text/plain": [
       "\"/home/callum/ASF/\""
      ]
     },
     "execution_count": 2,
     "metadata": {},
     "output_type": "execute_result"
    }
   ],
   "source": [
    "directory_path = \"/home/callum/ASF/\""
   ]
  },
  {
   "cell_type": "code",
   "execution_count": 16,
   "id": "f51a820e-0e85-4d30-b681-20ba0b44dfcd",
   "metadata": {},
   "outputs": [
    {
     "name": "stderr",
     "output_type": "stream",
     "text": [
      "WARNING: replacing module ASF_Inputs.\n",
      "WARNING: replacing module ASF_Model.\n",
      "WARNING: replacing module ASF_Analysis.\n"
     ]
    }
   ],
   "source": [
    "include(\"$(directory_path)Modules/ASF_input.jl\");\n",
    "include(\"$(directory_path)Modules/ASF_model.jl\");\n",
    "include(\"$(directory_path)Modules/ASF_analysis.jl\");"
   ]
  },
  {
   "cell_type": "code",
   "execution_count": 4,
   "id": "1c0df8f2-76f7-44c9-ad12-704d9e8db9e2",
   "metadata": {},
   "outputs": [],
   "source": [
    "input_1 = ASF_Inputs.Model_Data(directory_path); #creating parameters to run model"
   ]
  },
  {
   "cell_type": "code",
   "execution_count": 5,
   "id": "bbcd6443-0613-4032-90c4-c5f7eca00262",
   "metadata": {},
   "outputs": [],
   "source": [
    "nt = input_1.Parameters.Populations.cum_sum[end] #total number of groups and farms\n",
    "nc = 5 #number of classes\n",
    "eqs = 10#number of processes\n",
    "n_ens = 100 #number of runs in ensemble\n",
    "\n",
    "dc = sparse(zeros(nt*nc,nt*eqs))\n",
    "\n",
    "#const _dc = zeros(nt*5,nt*10)\n",
    "\n",
    "dc[0*nc*nt+1:nc*nt*eqs+nc:end] .= 1\n",
    "dc[1*nc*nt+1:nc*nt*eqs+nc:end] .= -1\n",
    "dc[2*nc*nt+1:nc*nt*eqs+nc:end] .= -1\n",
    "\n",
    "dc[2*nc*nt+2:nc*nt*eqs+nc:end] .= 1\n",
    "dc[3*nc*nt+2:nc*nt*eqs+nc:end] .= -1\n",
    "dc[4*nc*nt+2:nc*nt*eqs+nc:end] .= -1\n",
    "\n",
    "dc[4*nc*nt+3:nc*nt*eqs+nc:end] .= 1\n",
    "dc[5*nc*nt+3:nc*nt*eqs+nc:end] .= -1\n",
    "dc[6*nc*nt+3:nc*nt*eqs+nc:end] .= -1\n",
    "dc[7*nc*nt+3:nc*nt*eqs+nc:end] .= -1\n",
    "\n",
    "dc[7*nc*nt+4:nc*nt*eqs+nc:end] .= 1\n",
    "dc[8*nc*nt+4:nc*nt*eqs+nc:end] .= -1\n",
    "\n",
    "dc[5*nc*nt+5:nc*nt*eqs+nc:end] .= 1\n",
    "dc[6*nc*nt+5:nc*nt*eqs+nc:end] .= 1\n",
    "dc[9*nc*nt+5:nc*nt*eqs+nc:end] .= -1;"
   ]
  },
  {
   "cell_type": "code",
   "execution_count": 6,
   "id": "c1ebd047-a748-4178-ba6c-a48c5d0f8c04",
   "metadata": {},
   "outputs": [
    {
     "data": {
      "text/plain": [
       "prob_func (generic function with 1 method)"
      ]
     },
     "execution_count": 6,
     "metadata": {},
     "output_type": "execute_result"
    }
   ],
   "source": [
    "function regular_c(du,u,p,t,counts,mark)  \n",
    "    mul!(du,dc,counts)\n",
    "end\n",
    "\n",
    "function prob_func(prob,i,repeat) #function to change parameters while keeping network the same\n",
    "                ASF_Model.reparam!(input_1)\n",
    "                remake(prob,p=input_1.Parameters)\n",
    "end "
   ]
  },
  {
   "cell_type": "markdown",
   "id": "0c2d8254-d686-486b-823c-b13524343708",
   "metadata": {},
   "source": [
    "## Running the Model"
   ]
  },
  {
   "cell_type": "markdown",
   "id": "8baa5843-5ecf-4a53-bbc7-a7e01b03a702",
   "metadata": {},
   "source": [
    "### Frequency run"
   ]
  },
  {
   "cell_type": "code",
   "execution_count": null,
   "id": "c5a51b36-a081-4f30-9230-b09251d88a96",
   "metadata": {},
   "outputs": [],
   "source": [
    "#single run with frequency inter group interections\n",
    "rj = RegularJump(ASF_Model.frequency_rate,regular_c,eqs*nt)\n",
    "\n",
    "jumps = JumpSet(rj)\n",
    "\n",
    "prob = DiscreteProblem(input_1.U0,input_1.Time,input_1.Parameters)\n",
    "\n",
    "jump_prob = JumpProblem(prob,Direct(),rj) #rng=rng)\n",
    "\n",
    "#sol = solve(jump_prob,SimpleTauLeaping(), dt=.1)\n",
    "\n",
    "ensemble_prob_m = EnsembleProblem(jump_prob)#,prob_func=prob_func)\n",
    "output_f = solve(ensemble_prob_m, SimpleTauLeaping(), trajectories= 20,dt=.1);"
   ]
  },
  {
   "cell_type": "code",
   "execution_count": null,
   "id": "4849b392-bf85-48f1-b54c-99d210292a50",
   "metadata": {},
   "outputs": [],
   "source": [
    "ASF_Analysis.analyse_out(output_f, input_1.Parameters.Populations)"
   ]
  },
  {
   "cell_type": "markdown",
   "id": "a9896236-446d-46b3-91a5-539467b8c337",
   "metadata": {},
   "source": [
    "### Density run"
   ]
  },
  {
   "cell_type": "code",
   "execution_count": null,
   "id": "e4a97db3-012f-4832-bee1-eb76a4c43f7b",
   "metadata": {},
   "outputs": [],
   "source": [
    "\n",
    "rj = RegularJump(ASF_Model.density_rate,regular_c,eqs*nt)\n",
    "\n",
    "jumps = JumpSet(rj)\n",
    "#ensemble run with density inter group interections\n",
    "\n",
    "prob = DiscreteProblem(input_1.U0,input_1.Time,input_1.Parameters)\n",
    "\n",
    "jump_prob = JumpProblem(prob,Direct(),rj) #rng=rng)\n",
    "#sol = solve(jump_prob,SimpleTauLeaping(), dt=.1)\n",
    "\n",
    "ensemble_prob_m = EnsembleProblem(jump_prob,prob_func=prob_func)\n",
    "output = solve(ensemble_prob_m, SimpleTauLeaping(), trajectories= 100,EnsembleThreads(),dt=1);"
   ]
  },
  {
   "cell_type": "code",
   "execution_count": null,
   "id": "f555bed6-e9cb-46f1-8c9e-720a788e74e8",
   "metadata": {},
   "outputs": [],
   "source": [
    "ASF_Analysis.analyse_out(output, input_1.Parameters.Populations)"
   ]
  },
  {
   "cell_type": "markdown",
   "id": "6d9290a6-741b-4bc1-98ae-d18ba11943ec",
   "metadata": {},
   "source": [
    "## Running Multiple Networks"
   ]
  },
  {
   "cell_type": "code",
   "execution_count": null,
   "id": "36c89bba-d9b4-4dce-abf3-643815d0f780",
   "metadata": {},
   "outputs": [],
   "source": [
    "function sensitivity(n_networks, n_dist, n_runs, path, name)\n",
    "    \n",
    "    dir = \"$(path)Results/$(name)\"\n",
    "\n",
    "    isdir(dir) || mkdir(dir)\n",
    "    cd(dir)\n",
    "\n",
    "    for i = 1:n_networks\n",
    "\n",
    "        inputs = ASF_Inputs.Model_Data(directory_path); #creating parameters to run model\n",
    "\n",
    "        for j = 1:n_dist\n",
    "\n",
    "            rj = RegularJump(ASF_Model.density_rate,regular_c,eqs*nt)\n",
    "            jumps = JumpSet(rj)\n",
    "            prob = DiscreteProblem(inputs.U0,inputs.Time,inputs.Parameters)\n",
    "            jump_prob = JumpProblem(prob,Direct(),rj) \n",
    "            ensemble_prob_m = EnsembleProblem(jump_prob)\n",
    "            outputs = solve(ensemble_prob_m, SimpleTauLeaping(), trajectories= n_runs,EnsembleThreads(),dt=1);\n",
    "\n",
    "            summary = ASF_Analysis.quick_analysis(outputs, inputs.Parameters.Populations) #update to new function from module (ASF_Model.quick_analysis(outputs))\n",
    "\n",
    "            writedlm( \"Results_$(i)_$(j)\",  summary, ',')\n",
    "            ASF_Model.reparam!(inputs) #re-doing params with\n",
    "        end\n",
    "    end\n",
    "    \n",
    "end"
   ]
  },
  {
   "cell_type": "code",
   "execution_count": null,
   "id": "6ac5d700-d2ad-45f0-87b6-755b79f6d3f5",
   "metadata": {
    "tags": []
   },
   "outputs": [],
   "source": [
    "sensitivity(20,20,100,directory_path, \"Frequency\") # running "
   ]
  },
  {
   "cell_type": "markdown",
   "id": "aff92f23-f670-4638-bef9-0cd232187225",
   "metadata": {},
   "source": [
    "## Analysing Output"
   ]
  },
  {
   "cell_type": "code",
   "execution_count": 7,
   "id": "05a74b64-4882-414e-9ad6-de310734a394",
   "metadata": {},
   "outputs": [],
   "source": [
    "density = ASF_Analysis.read_outputs(\"/home/callum/ASF/Results/Density/\");\n",
    "frequency = ASF_Analysis.read_outputs(\"/home/callum/ASF/Results/Frequency/\");\n"
   ]
  },
  {
   "cell_type": "code",
   "execution_count": 17,
   "id": "4158fb6b-d038-4fa5-808c-5ff1b3e89311",
   "metadata": {},
   "outputs": [
    {
     "name": "stdout",
     "output_type": "stream",
     "text": [
      "Exposed!\n",
      "Mean- 91.38 & 91.25 - 91.51\n",
      "\n",
      "Alive!\n",
      "Mean- 30.48 & 30.37 - 30.58\n",
      "\n",
      "Time!\n",
      "Mean- 243.42 & 242.76 - 244.09\n",
      "\n",
      "Filtered\n",
      "\n",
      "Exposed!\n",
      "Mean- 93.26 & 93.23 - 93.29\n",
      "\n",
      "Alive!\n",
      "Mean- 29.06 & 29.01 - 29.11\n",
      "\n",
      "Time!\n",
      "Mean- 247.31 & 246.68 - 247.93\n"
     ]
    }
   ],
   "source": [
    "density_r = ASF_Analysis.three_statistics(density,20, p_out = true);"
   ]
  },
  {
   "cell_type": "code",
   "execution_count": 19,
   "id": "e28c635f-ce8a-4bfa-ae40-3447af0233a1",
   "metadata": {},
   "outputs": [
    {
     "name": "stdout",
     "output_type": "stream",
     "text": [
      "Exposed!\n",
      "Mean- 98.03 & 97.96 - 98.09\n",
      "\n",
      "Alive!\n",
      "Mean- 23.61 & 23.54 - 23.67\n",
      "\n",
      "Time!\n",
      "Mean- 220.31 & 219.89 - 220.73\n",
      "\n",
      "Filtered\n",
      "\n",
      "Exposed!\n",
      "Mean- 98.48 & 98.47 - 98.49\n",
      "\n",
      "Alive!\n",
      "Mean- 23.26 & 23.21 - 23.3\n",
      "\n",
      "Time!\n",
      "Mean- 221.15 & 220.74 - 221.55\n"
     ]
    }
   ],
   "source": [
    "frequency_r = ASF_Analysis.three_statistics(frequency,20, p_out = true);"
   ]
  },
  {
   "cell_type": "code",
   "execution_count": null,
   "id": "cf506dc4-17f5-4c8b-8c45-c3af5f07dee2",
   "metadata": {},
   "outputs": [],
   "source": []
  }
 ],
 "metadata": {
  "kernelspec": {
   "display_name": "Julia 1.6.3",
   "language": "julia",
   "name": "julia-1.6"
  },
  "language_info": {
   "file_extension": ".jl",
   "mimetype": "application/julia",
   "name": "julia",
   "version": "1.6.3"
  }
 },
 "nbformat": 4,
 "nbformat_minor": 5
}
