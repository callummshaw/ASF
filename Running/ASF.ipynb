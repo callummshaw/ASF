{
 "cells": [
  {
   "cell_type": "code",
   "execution_count": 30,
   "id": "55239d5e-70a5-4eb3-b50b-8613bbfda5ed",
   "metadata": {},
   "outputs": [],
   "source": [
    "using StochasticDiffEq\n",
    "using DiffEqCallbacks\n",
    "using DifferentialEquations\n",
    "using Plots\n",
    "using LinearAlgebra\n",
    "using DelimitedFiles\n",
    "using DataFrames\n",
    "using CSV\n",
    "using FileIO\n",
    "using LinearAlgebra\n",
    "using NPZ\n",
    "using Random, Distributions\n",
    "using SparseArrays\n",
    "using LightGraphs\n",
    "using BenchmarkTools\n"
   ]
  },
  {
   "cell_type": "code",
   "execution_count": 90,
   "id": "f51a820e-0e85-4d30-b681-20ba0b44dfcd",
   "metadata": {},
   "outputs": [
    {
     "name": "stderr",
     "output_type": "stream",
     "text": [
      "WARNING: replacing module ASF_Inputs.\n",
      "WARNING: replacing module ASF_Model.\n"
     ]
    }
   ],
   "source": [
    "include(\"/home/callum/Julia/Modules/ASF_input.jl\");\n",
    "include(\"/home/callum/Julia/Modules/ASF_model.jl\");"
   ]
  },
  {
   "cell_type": "code",
   "execution_count": 91,
   "id": "bfcb73f7-fdc5-460e-83ee-8fad7a7bd837",
   "metadata": {},
   "outputs": [],
   "source": [
    "input_path = \"/home/callum/Julia/ASF_Input/\";"
   ]
  },
  {
   "cell_type": "code",
   "execution_count": 92,
   "id": "1c0df8f2-76f7-44c9-ad12-704d9e8db9e2",
   "metadata": {},
   "outputs": [
    {
     "name": "stdout",
     "output_type": "stream",
     "text": [
      "-------------------------------------\n",
      "Single Population!\n",
      "The Only Population is Seeded With ASF!\n",
      "-------------------------------------\n"
     ]
    }
   ],
   "source": [
    "data_1 = ASF_Inputs.Model_Data(input_path);"
   ]
  },
  {
   "cell_type": "code",
   "execution_count": 39,
   "id": "bbcd6443-0613-4032-90c4-c5f7eca00262",
   "metadata": {},
   "outputs": [],
   "source": [
    "nt = data_1.Parameters.Populations.cum_sum[end] #total number of groups and farms\n",
    "nc = 5 #number of classes\n",
    "eqs = 10#number of processes\n",
    "n_ens = 100 #number of runs in ensemble\n",
    "\n",
    "dc = sparse(zeros(nt*nc,nt*eqs))\n",
    "\n",
    "#const _dc = zeros(nt*5,nt*10)\n",
    "\n",
    "dc[0*nc*nt+1:nc*nt*eqs+nc:end] .= 1\n",
    "dc[1*nc*nt+1:nc*nt*eqs+nc:end] .= -1\n",
    "dc[2*nc*nt+1:nc*nt*eqs+nc:end] .= -1\n",
    "\n",
    "dc[2*nc*nt+2:nc*nt*eqs+nc:end] .= 1\n",
    "dc[3*nc*nt+2:nc*nt*eqs+nc:end] .= -1\n",
    "dc[4*nc*nt+2:nc*nt*eqs+nc:end] .= -1\n",
    "\n",
    "dc[4*nc*nt+3:nc*nt*eqs+nc:end] .= 1\n",
    "dc[5*nc*nt+3:nc*nt*eqs+nc:end] .= -1\n",
    "dc[6*nc*nt+3:nc*nt*eqs+nc:end] .= -1\n",
    "dc[7*nc*nt+3:nc*nt*eqs+nc:end] .= -1\n",
    "\n",
    "dc[7*nc*nt+4:nc*nt*eqs+nc:end] .= 1\n",
    "dc[8*nc*nt+4:nc*nt*eqs+nc:end] .= -1\n",
    "\n",
    "dc[5*nc*nt+5:nc*nt*eqs+nc:end] .= 1\n",
    "dc[6*nc*nt+5:nc*nt*eqs+nc:end] .= 1\n",
    "dc[9*nc*nt+5:nc*nt*eqs+nc:end] .= -1;"
   ]
  },
  {
   "cell_type": "code",
   "execution_count": 40,
   "id": "c1ebd047-a748-4178-ba6c-a48c5d0f8c04",
   "metadata": {},
   "outputs": [
    {
     "data": {
      "text/plain": [
       "regular_c (generic function with 1 method)"
      ]
     },
     "execution_count": 40,
     "metadata": {},
     "output_type": "execute_result"
    }
   ],
   "source": [
    "function regular_c(du,u,p,t,counts,mark)  \n",
    "    mul!(du,dc,counts)\n",
    "end\n"
   ]
  },
  {
   "cell_type": "code",
   "execution_count": 96,
   "id": "c5a51b36-a081-4f30-9230-b09251d88a96",
   "metadata": {},
   "outputs": [],
   "source": [
    "rj = RegularJump(ASF_Model.frequency_rate,regular_c,eqs*nt)\n",
    "\n",
    "jumps = JumpSet(rj)\n",
    "\n",
    "prob = DiscreteProblem(data_1.U0,data_1.Time,data_1.Parameters)\n",
    "\n",
    "jump_prob = JumpProblem(prob,Direct(),rj) #rng=rng)\n",
    "\n",
    "#sol = solve(jump_prob,SimpleTauLeaping(), dt=.1)\n",
    "\n",
    "ensemble_prob_m = EnsembleProblem(jump_prob)#,prob_func=prob_func)\n",
    "output = solve(ensemble_prob_m, SimpleTauLeaping(), trajectories= n_ens,EnsembleThreads(),dt=.1);"
   ]
  },
  {
   "cell_type": "code",
   "execution_count": 97,
   "id": "1d6d9dba-794f-4aa5-9972-b75f89cea134",
   "metadata": {},
   "outputs": [
    {
     "name": "stdout",
     "output_type": "stream",
     "text": [
      "------------------------------------------------\n",
      "Run Stats:\n",
      "1 Populations\n",
      "100 Runs\n",
      "------------------------------------------------\n",
      "% of groups exposed to ASF in each population:\n",
      "[97.62]\n",
      "------------------------------------------------\n",
      "% of groups that survive in each population:\n",
      "[63.12]\n",
      "------------------------------------------------\n",
      "% of farms exposed to ASF in each population:\n",
      "[NaN]\n",
      "------------------------------------------------\n",
      "% of farms that survive in each population:\n",
      "[NaN]\n"
     ]
    }
   ],
   "source": [
    "ASF_Model.analyse_out(output,n_ens, data_1.Parameters.Populations)"
   ]
  },
  {
   "cell_type": "code",
   "execution_count": 106,
   "id": "e4a97db3-012f-4832-bee1-eb76a4c43f7b",
   "metadata": {},
   "outputs": [],
   "source": [
    "rj = RegularJump(ASF_Model.density_rate,regular_c,eqs*nt)\n",
    "\n",
    "jumps = JumpSet(rj)\n",
    "\n",
    "prob = DiscreteProblem(data_1.U0,data_1.Time,data_1.Parameters)\n",
    "\n",
    "jump_prob = JumpProblem(prob,Direct(),rj) #rng=rng)\n",
    "\n",
    "#sol = solve(jump_prob,SimpleTauLeaping(), dt=.1)\n",
    "\n",
    "ensemble_prob_m = EnsembleProblem(jump_prob)#,prob_func=prob_func)\n",
    "output = solve(ensemble_prob_m, SimpleTauLeaping(), trajectories= n_ens,EnsembleThreads(),dt=.1);"
   ]
  },
  {
   "cell_type": "code",
   "execution_count": 107,
   "id": "5f727dcd-8a92-40eb-b37e-5efcd4ebc69c",
   "metadata": {},
   "outputs": [
    {
     "name": "stdout",
     "output_type": "stream",
     "text": [
      "------------------------------------------------\n",
      "Run Stats:\n",
      "1 Populations\n",
      "100 Runs\n",
      "------------------------------------------------\n",
      "% of groups exposed to ASF in each population:\n",
      "[92.85]\n",
      "------------------------------------------------\n",
      "% of groups that survive in each population:\n",
      "[65.77]\n",
      "------------------------------------------------\n",
      "% of farms exposed to ASF in each population:\n",
      "[NaN]\n",
      "------------------------------------------------\n",
      "% of farms that survive in each population:\n",
      "[NaN]\n"
     ]
    }
   ],
   "source": [
    "ASF_Model.analyse_out(output,n_ens, data_1.Parameters.Populations)"
   ]
  },
  {
   "cell_type": "code",
   "execution_count": null,
   "id": "c92934fa-b35b-45ad-a462-ba1b5a2ad7ab",
   "metadata": {},
   "outputs": [],
   "source": [
    "summ = EnsembleSummary(output)\n",
    "pyplot() # Note that plotly does not support ribbon plots\n",
    "plot(summ,fillalpha=0.5)"
   ]
  },
  {
   "cell_type": "code",
   "execution_count": null,
   "id": "74469301-e5de-4970-91d5-94b255369e8a",
   "metadata": {},
   "outputs": [],
   "source": [
    "output = hcat(sol.u...)\n",
    "So = transpose(output[1:5:end,:])\n",
    "Eo = transpose(output[2:5:end,:])\n",
    "Io = transpose(output[3:5:end,:])\n",
    "Ro = transpose(output[4:5:end,:])\n",
    "Co = transpose(output[5:5:end,:])\n"
   ]
  },
  {
   "cell_type": "code",
   "execution_count": null,
   "id": "a2a0b7e4-ce86-4bf0-9524-1852828305e7",
   "metadata": {},
   "outputs": [],
   "source": []
  }
 ],
 "metadata": {
  "kernelspec": {
   "display_name": "Julia 1.6.3",
   "language": "julia",
   "name": "julia-1.6"
  },
  "language_info": {
   "file_extension": ".jl",
   "mimetype": "application/julia",
   "name": "julia",
   "version": "1.6.3"
  }
 },
 "nbformat": 4,
 "nbformat_minor": 5
}
