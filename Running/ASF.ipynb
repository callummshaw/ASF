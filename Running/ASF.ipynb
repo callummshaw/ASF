{
 "cells": [
  {
   "cell_type": "code",
   "execution_count": 1,
   "id": "55239d5e-70a5-4eb3-b50b-8613bbfda5ed",
   "metadata": {},
   "outputs": [],
   "source": [
    "using StochasticDiffEq\n",
    "using DiffEqCallbacks\n",
    "using DifferentialEquations\n",
    "using Plots\n",
    "using LinearAlgebra\n",
    "using DelimitedFiles\n",
    "using DataFrames\n",
    "using LinearAlgebra\n",
    "using SparseArrays\n",
    "\n"
   ]
  },
  {
   "cell_type": "code",
   "execution_count": 2,
   "id": "fed60c4a-b1a0-413f-aec9-69f55f33c32a",
   "metadata": {},
   "outputs": [
    {
     "data": {
      "text/plain": [
       "\"/home/callum/ASF/\""
      ]
     },
     "execution_count": 2,
     "metadata": {},
     "output_type": "execute_result"
    }
   ],
   "source": [
    "directory_path = \"/home/callum/ASF/\""
   ]
  },
  {
   "cell_type": "code",
   "execution_count": 20,
   "id": "f51a820e-0e85-4d30-b681-20ba0b44dfcd",
   "metadata": {},
   "outputs": [
    {
     "name": "stderr",
     "output_type": "stream",
     "text": [
      "WARNING: replacing module ASF_Inputs.\n",
      "WARNING: replacing module ASF_Model.\n"
     ]
    }
   ],
   "source": [
    "include(string(directory_path, \"Modules/ASF_input.jl\"));\n",
    "include(string(directory_path, \"Modules/ASF_model.jl\"));"
   ]
  },
  {
   "cell_type": "code",
   "execution_count": 4,
   "id": "1c0df8f2-76f7-44c9-ad12-704d9e8db9e2",
   "metadata": {},
   "outputs": [
    {
     "name": "stdout",
     "output_type": "stream",
     "text": [
      "-------------------------------------\n",
      "Single Population!\n",
      "The Only Population is Seeded With ASF!\n",
      "-------------------------------------\n"
     ]
    }
   ],
   "source": [
    "data_1 = ASF_Inputs.Model_Data(directory_path); #creating parameters to run model"
   ]
  },
  {
   "cell_type": "code",
   "execution_count": 5,
   "id": "bbcd6443-0613-4032-90c4-c5f7eca00262",
   "metadata": {},
   "outputs": [],
   "source": [
    "nt = data_1.Parameters.Populations.cum_sum[end] #total number of groups and farms\n",
    "nc = 5 #number of classes\n",
    "eqs = 10#number of processes\n",
    "n_ens = 100 #number of runs in ensemble\n",
    "\n",
    "dc = sparse(zeros(nt*nc,nt*eqs))\n",
    "\n",
    "#const _dc = zeros(nt*5,nt*10)\n",
    "\n",
    "dc[0*nc*nt+1:nc*nt*eqs+nc:end] .= 1\n",
    "dc[1*nc*nt+1:nc*nt*eqs+nc:end] .= -1\n",
    "dc[2*nc*nt+1:nc*nt*eqs+nc:end] .= -1\n",
    "\n",
    "dc[2*nc*nt+2:nc*nt*eqs+nc:end] .= 1\n",
    "dc[3*nc*nt+2:nc*nt*eqs+nc:end] .= -1\n",
    "dc[4*nc*nt+2:nc*nt*eqs+nc:end] .= -1\n",
    "\n",
    "dc[4*nc*nt+3:nc*nt*eqs+nc:end] .= 1\n",
    "dc[5*nc*nt+3:nc*nt*eqs+nc:end] .= -1\n",
    "dc[6*nc*nt+3:nc*nt*eqs+nc:end] .= -1\n",
    "dc[7*nc*nt+3:nc*nt*eqs+nc:end] .= -1\n",
    "\n",
    "dc[7*nc*nt+4:nc*nt*eqs+nc:end] .= 1\n",
    "dc[8*nc*nt+4:nc*nt*eqs+nc:end] .= -1\n",
    "\n",
    "dc[5*nc*nt+5:nc*nt*eqs+nc:end] .= 1\n",
    "dc[6*nc*nt+5:nc*nt*eqs+nc:end] .= 1\n",
    "dc[9*nc*nt+5:nc*nt*eqs+nc:end] .= -1;"
   ]
  },
  {
   "cell_type": "code",
   "execution_count": 6,
   "id": "c1ebd047-a748-4178-ba6c-a48c5d0f8c04",
   "metadata": {},
   "outputs": [
    {
     "data": {
      "text/plain": [
       "regular_c (generic function with 1 method)"
      ]
     },
     "execution_count": 6,
     "metadata": {},
     "output_type": "execute_result"
    }
   ],
   "source": [
    "function regular_c(du,u,p,t,counts,mark)  \n",
    "    mul!(du,dc,counts)\n",
    "end\n"
   ]
  },
  {
   "cell_type": "code",
   "execution_count": 7,
   "id": "c5a51b36-a081-4f30-9230-b09251d88a96",
   "metadata": {},
   "outputs": [],
   "source": [
    "#single run with frequency inter group interections\n",
    "rj = RegularJump(ASF_Model.frequency_rate,regular_c,eqs*nt)\n",
    "\n",
    "jumps = JumpSet(rj)\n",
    "\n",
    "prob = DiscreteProblem(data_1.U0,data_1.Time,data_1.Parameters)\n",
    "\n",
    "jump_prob = JumpProblem(prob,Direct(),rj) #rng=rng)\n",
    "\n",
    "#sol = solve(jump_prob,SimpleTauLeaping(), dt=.1)\n",
    "\n",
    "ensemble_prob_m = EnsembleProblem(jump_prob)#,prob_func=prob_func)\n",
    "output_f = solve(ensemble_prob_m, SimpleTauLeaping(), trajectories= n_ens,EnsembleThreads(),dt=.1);"
   ]
  },
  {
   "cell_type": "code",
   "execution_count": 8,
   "id": "4849b392-bf85-48f1-b54c-99d210292a50",
   "metadata": {},
   "outputs": [
    {
     "name": "stdout",
     "output_type": "stream",
     "text": [
      "Need to Reduce Timestep\n",
      "------------------------------------------------\n",
      "Run Stats:\n",
      "1 Populations\n",
      "100 Runs\n",
      "------------------------------------------------\n",
      "% of groups exposed to ASF in each population:\n",
      "[29.12]\n",
      "------------------------------------------------\n",
      "% of groups that survive in each population:\n",
      "[90.9]\n",
      "------------------------------------------------\n"
     ]
    }
   ],
   "source": [
    "ASF_Model.analyse_out(output_f, data_1.Parameters.Populations)"
   ]
  },
  {
   "cell_type": "code",
   "execution_count": 9,
   "id": "e4a97db3-012f-4832-bee1-eb76a4c43f7b",
   "metadata": {},
   "outputs": [],
   "source": [
    "#ensemble run with density inter group interections\n",
    "\n",
    "rj = RegularJump(ASF_Model.density_rate,regular_c,eqs*nt)\n",
    "\n",
    "jumps = JumpSet(rj)\n",
    "\n",
    "prob = DiscreteProblem(data_1.U0,data_1.Time,data_1.Parameters)\n",
    "\n",
    "jump_prob = JumpProblem(prob,Direct(),rj) #rng=rng)\n",
    "\n",
    "sol = solve(jump_prob,SimpleTauLeaping(), dt=.1)\n",
    "\n",
    "ensemble_prob_m = EnsembleProblem(jump_prob)#,prob_func=prob_func)\n",
    "output = solve(ensemble_prob_m, SimpleTauLeaping(), trajectories= n_ens,EnsembleThreads(),dt=.1);"
   ]
  },
  {
   "cell_type": "code",
   "execution_count": 10,
   "id": "5f727dcd-8a92-40eb-b37e-5efcd4ebc69c",
   "metadata": {},
   "outputs": [
    {
     "name": "stdout",
     "output_type": "stream",
     "text": [
      "------------------------------------------------\n",
      "Run Stats:\n",
      "1 Populations\n",
      "100 Runs\n",
      "------------------------------------------------\n",
      "% of groups exposed to ASF in each population:\n",
      "[14.51]\n",
      "------------------------------------------------\n",
      "% of groups that survive in each population:\n",
      "[95.39]\n",
      "------------------------------------------------\n"
     ]
    }
   ],
   "source": [
    "ASF_Model.analyse_out(output, data_1.Parameters.Populations)"
   ]
  },
  {
   "cell_type": "code",
   "execution_count": null,
   "id": "7871b1f5-0646-427f-97c4-d9ec7725cf1f",
   "metadata": {},
   "outputs": [],
   "source": [
    "ASF_Model.save_output(output, data_1, directory_path, \"NT_Frequency\")"
   ]
  },
  {
   "cell_type": "code",
   "execution_count": 21,
   "id": "0d07616b-1774-4c59-a4be-9263cbdf77f9",
   "metadata": {},
   "outputs": [],
   "source": [
    "ASF_Model.plot_network(data_1,output)"
   ]
  },
  {
   "cell_type": "code",
   "execution_count": null,
   "id": "4de7ce96-9ea3-4c17-a223-dfd712728cfc",
   "metadata": {},
   "outputs": [],
   "source": []
  }
 ],
 "metadata": {
  "kernelspec": {
   "display_name": "Julia 1.6.3",
   "language": "julia",
   "name": "julia-1.6"
  },
  "language_info": {
   "file_extension": ".jl",
   "mimetype": "application/julia",
   "name": "julia",
   "version": "1.6.3"
  }
 },
 "nbformat": 4,
 "nbformat_minor": 5
}
