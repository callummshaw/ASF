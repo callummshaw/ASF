{
 "cells": [
  {
   "cell_type": "markdown",
   "id": "8d0bb1ca-d118-40b2-8957-13458f555c66",
   "metadata": {},
   "source": [
    "# Running ASFMAUS"
   ]
  },
  {
   "cell_type": "code",
   "execution_count": 1,
   "id": "55239d5e-70a5-4eb3-b50b-8613bbfda5ed",
   "metadata": {},
   "outputs": [],
   "source": [
    "using StochasticDiffEq\n",
    "using DiffEqCallbacks\n",
    "using DifferentialEquations\n",
    "using Plots\n",
    "using LinearAlgebra\n",
    "using DelimitedFiles\n",
    "using DataFrames\n",
    "using LinearAlgebra\n",
    "using SparseArrays\n",
    "using Distributions"
   ]
  },
  {
   "cell_type": "code",
   "execution_count": 2,
   "id": "f51a820e-0e85-4d30-b681-20ba0b44dfcd",
   "metadata": {},
   "outputs": [],
   "source": [
    "include(\"/home/callum/ASF/Modules/ASF_input.jl\");\n",
    "include(\"/home/callum/ASF/Modules/ASF_model.jl\");\n",
    "include(\"/home/callum/ASF/Modules/ASF_analysis.jl\");"
   ]
  },
  {
   "cell_type": "code",
   "execution_count": 3,
   "id": "fed60c4a-b1a0-413f-aec9-69f55f33c32a",
   "metadata": {},
   "outputs": [
    {
     "data": {
      "text/plain": [
       "\"/home/callum/ASF/Inputs/\""
      ]
     },
     "execution_count": 3,
     "metadata": {},
     "output_type": "execute_result"
    }
   ],
   "source": [
    "input_path = \"/home/callum/ASF/Inputs/\""
   ]
  },
  {
   "cell_type": "code",
   "execution_count": 4,
   "id": "1c0df8f2-76f7-44c9-ad12-704d9e8db9e2",
   "metadata": {},
   "outputs": [
    {
     "name": "stdout",
     "output_type": "stream",
     "text": [
      "-------------------------------------\n",
      "3 Populations!\n",
      "Enter Populations Seeded With ASF! \n",
      "(for multiple seperate with space)\n",
      "-------------------------------------\n",
      "stdin> 1\n",
      "-------------------------------------\n",
      "3 Populations!\n",
      "Enter connections for each population\n",
      "(for multiple seperate with space)\n",
      "-------------------------------------\n",
      "Population 1 Connects to:\n",
      "stdin> 2\n",
      "Population 2 Connects to:\n",
      "stdin> 3\n",
      "Population 3 Connects to:\n",
      "stdin> 2\n",
      "-------------------------------------\n",
      "Strength of Population  1 to Population  2 Transmission:\n",
      "stdin> 0.01\n",
      "-------------------------------------\n",
      "Strength of Population  2 to Population  3 Transmission:\n",
      "stdin> 0.01\n"
     ]
    }
   ],
   "source": [
    "input_1 = ASF_Inputs.Model_Data(input_path); #creating parameters to run model"
   ]
  },
  {
   "cell_type": "code",
   "execution_count": 5,
   "id": "c0349a1d",
   "metadata": {},
   "outputs": [],
   "source": [
    "nt = input_1.Parameters.Populations.cum_sum[end] #total number of groups and farms\n",
    "nc = 5 #number of classes\n",
    "eqs = 11 #number of processes\n",
    "n_ens = 100 #number of runs in ensemble\n",
    "\n",
    "dc = sparse(zeros(nt*nc,nt*eqs))\n",
    "\n",
    "#const _dc = zeros(nt*5,nt*10)\n",
    "\n",
    "dc[0*nc*nt+1:nc*nt*eqs+nc:end] .= 1\n",
    "dc[1*nc*nt+1:nc*nt*eqs+nc:end] .= -1\n",
    "dc[2*nc*nt+1:nc*nt*eqs+nc:end] .= -1\n",
    "dc[10*nc*nt+1:nc*nt*eqs+nc:end] .= 1\n",
    "\n",
    "dc[2*nc*nt+2:nc*nt*eqs+nc:end] .= 1\n",
    "dc[3*nc*nt+2:nc*nt*eqs+nc:end] .= -1\n",
    "dc[4*nc*nt+2:nc*nt*eqs+nc:end] .= -1\n",
    "\n",
    "dc[4*nc*nt+3:nc*nt*eqs+nc:end] .= 1\n",
    "dc[5*nc*nt+3:nc*nt*eqs+nc:end] .= -1\n",
    "dc[6*nc*nt+3:nc*nt*eqs+nc:end] .= -1\n",
    "dc[7*nc*nt+3:nc*nt*eqs+nc:end] .= -1\n",
    "\n",
    "dc[7*nc*nt+4:nc*nt*eqs+nc:end] .= 1\n",
    "dc[8*nc*nt+4:nc*nt*eqs+nc:end] .= -1\n",
    "dc[10*nc*nt+4:nc*nt*eqs+nc:end] .= -1\n",
    "\n",
    "\n",
    "dc[5*nc*nt+5:nc*nt*eqs+nc:end] .= 1\n",
    "dc[6*nc*nt+5:nc*nt*eqs+nc:end] .= 1\n",
    "dc[9*nc*nt+5:nc*nt*eqs+nc:end] .= -1;"
   ]
  },
  {
   "cell_type": "code",
   "execution_count": 6,
   "id": "c1ebd047-a748-4178-ba6c-a48c5d0f8c04",
   "metadata": {},
   "outputs": [
    {
     "data": {
      "text/plain": [
       "prob_func (generic function with 1 method)"
      ]
     },
     "execution_count": 6,
     "metadata": {},
     "output_type": "execute_result"
    }
   ],
   "source": [
    "function regular_c(du,u,p,t,counts,mark)  \n",
    "    mul!(du,dc,counts)\n",
    "end\n",
    "\n",
    "function prob_func(prob,i,repeat) #function to change parameters while keeping network the same\n",
    "                ASF_Model.reparam!(input_1)\n",
    "                remake(prob,p=input_1.Parameters)\n",
    "end "
   ]
  },
  {
   "cell_type": "markdown",
   "id": "0c2d8254-d686-486b-823c-b13524343708",
   "metadata": {},
   "source": [
    "## Running the Model"
   ]
  },
  {
   "cell_type": "markdown",
   "id": "8baa5843-5ecf-4a53-bbc7-a7e01b03a702",
   "metadata": {
    "jp-MarkdownHeadingCollapsed": true,
    "tags": []
   },
   "source": [
    "### Frequency run"
   ]
  },
  {
   "cell_type": "code",
   "execution_count": 7,
   "id": "9e088da3",
   "metadata": {},
   "outputs": [],
   "source": [
    "rj = RegularJump(ASF_Model.density_rate,regular_c,eqs*nt)\n",
    "\n",
    "jumps = JumpSet(rj)\n",
    "\n",
    "prob = DiscreteProblem(input_1.U0,input_1.Time,input_1.Parameters)\n",
    "\n",
    "jump_prob = JumpProblem(prob,Direct(),rj) #rng=rng)\n",
    "\n",
    "#sol = solve(jump_prob, SimpleTauLeaping(),dt=1)\n",
    "\n",
    "ensemble_prob_m = EnsembleProblem(jump_prob)#,prob_func=prob_func)\n",
    "output = solve(ensemble_prob_m, SimpleTauLeaping(), trajectories= 10,dt=1);"
   ]
  },
  {
   "cell_type": "code",
   "execution_count": 8,
   "id": "b0264f92",
   "metadata": {},
   "outputs": [
    {
     "data": {
      "text/plain": [
       "10×12 Matrix{Int64}:\n",
       " 32  49  0  549  50   0   -2   -2  48  0  -2  -2\n",
       " 36  28  0  554  50   0   -2   -2  49  0  -2  -2\n",
       " 30  43  0  528  50   0   -2   -2  49  0  -2  -2\n",
       " 50   1  0   49  49   0   -2   -2  48  0  -2  -2\n",
       " 31  38  0  532  50   0   -2   -2  50  0  -2  -2\n",
       " 27  42  0  553  50   0   -2   -2  48  0  -2  -2\n",
       " 33  40  0  390  47   0   -2   -2  50  0  -2  -2\n",
       " 36  34  0  474  48   0   -2   -2  50  0  -2  -2\n",
       " 35  41  0  391  35  39  148  332  47  0  -2  -2\n",
       " 30  43  0  340  33  41  178  639  50  0  -2  -2"
      ]
     },
     "execution_count": 8,
     "metadata": {},
     "output_type": "execute_result"
    }
   ],
   "source": [
    "ASF_Analysis.quick_analysis(output,input_1)"
   ]
  },
  {
   "cell_type": "markdown",
   "id": "6d9290a6-741b-4bc1-98ae-d18ba11943ec",
   "metadata": {},
   "source": [
    "## Running Multiple Networks"
   ]
  },
  {
   "cell_type": "code",
   "execution_count": null,
   "id": "36c89bba-d9b4-4dce-abf3-643815d0f780",
   "metadata": {},
   "outputs": [],
   "source": [
    "function sensitivity(n_networks, n_dist, n_runs, path, name)\n",
    "    \n",
    "    input_folder = splitpath(path)[end]\n",
    "    base_path = rsplit(path, input_folder)[1]\n",
    "\n",
    "    #making save directory\n",
    "    dir = \"$(base_path)Results/$(name)\"\n",
    "\n",
    "    isdir(dir) || mkdir(dir)\n",
    "    cd(dir)\n",
    "\n",
    "    #copying inputs\n",
    "    cp(\"$(path)\", \"Inputs\",force = true)\n",
    "    \n",
    "    for i = 1:n_networks\n",
    "        inputs = ASF_Inputs.Model_Data(path); #creating parameters to run model\n",
    "        for j = 1:n_dist\n",
    "\n",
    "            rj = RegularJump(ASF_Model.density_rate,regular_c,eqs*nt)\n",
    "            jumps = JumpSet(rj)\n",
    "            prob = DiscreteProblem(inputs.U0,inputs.Time,inputs.Parameters)\n",
    "            jump_prob = JumpProblem(prob,Direct(),rj) \n",
    "            ensemble_prob_m = EnsembleProblem(jump_prob)\n",
    "            outputs = solve(ensemble_prob_m, SimpleTauLeaping(), trajectories= n_runs,EnsembleThreads(),dt=1);\n",
    "\n",
    "            summary = ASF_Analysis.quick_analysis(outputs, inputs) #update to new function from module (ASF_Model.quick_analysis(outputs))\n",
    "\n",
    "            writedlm( \"Results_$(i)_$(j).csv\",  summary, ',')\n",
    "            ASF_Model.reparam!(inputs) #re-doing params with\n",
    "        end\n",
    "        println(\"$(100*i/n_networks) %\")\n",
    "\n",
    "    end\n",
    "    \n",
    "end"
   ]
  },
  {
   "cell_type": "code",
   "execution_count": null,
   "id": "143b9cd0-be13-4d1f-b783-bc569ea2503b",
   "metadata": {},
   "outputs": [],
   "source": [
    "sensitivity(20,20,100,input_path, \"Dataout\") # running "
   ]
  },
  {
   "cell_type": "markdown",
   "id": "aff92f23-f670-4638-bef9-0cd232187225",
   "metadata": {
    "tags": []
   },
   "source": [
    "## Analysing Output"
   ]
  },
  {
   "cell_type": "code",
   "execution_count": null,
   "id": "05a74b64-4882-414e-9ad6-de310734a394",
   "metadata": {},
   "outputs": [],
   "source": [
    "density = ASF_Analysis.read_outputs(\"/home/callum/ASF/Results/Baseline//\");\n",
    "connect_5 = ASF_Analysis.read_outputs(\"/home/callum/ASF/Results/Connect_5//\");\n"
   ]
  },
  {
   "cell_type": "code",
   "execution_count": null,
   "id": "4158fb6b-d038-4fa5-808c-5ff1b3e89311",
   "metadata": {},
   "outputs": [],
   "source": [
    "density_r = ASF_Analysis.three_statistics(density,20, p_out = true);"
   ]
  },
  {
   "cell_type": "code",
   "execution_count": null,
   "id": "e28c635f-ce8a-4bfa-ae40-3447af0233a1",
   "metadata": {},
   "outputs": [],
   "source": [
    "connect_5_r = ASF_Analysis.three_statistics(connect_5,20, p_out = true);"
   ]
  }
 ],
 "metadata": {
  "kernelspec": {
   "display_name": "Julia 1.6.3",
   "language": "julia",
   "name": "julia-1.6"
  },
  "language_info": {
   "file_extension": ".jl",
   "mimetype": "application/julia",
   "name": "julia",
   "version": "1.6.3"
  }
 },
 "nbformat": 4,
 "nbformat_minor": 5
}
