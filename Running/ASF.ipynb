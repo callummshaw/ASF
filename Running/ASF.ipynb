{
 "cells": [
  {
   "cell_type": "markdown",
   "id": "8d0bb1ca-d118-40b2-8957-13458f555c66",
   "metadata": {},
   "source": [
    "# Running ASFMAUS"
   ]
  },
  {
   "cell_type": "code",
   "execution_count": 1,
   "id": "55239d5e-70a5-4eb3-b50b-8613bbfda5ed",
   "metadata": {},
   "outputs": [],
   "source": [
    "using StochasticDiffEq\n",
    "using DiffEqCallbacks\n",
    "using DifferentialEquations\n",
    "using Plots\n",
    "using LinearAlgebra\n",
    "using DelimitedFiles\n",
    "using DataFrames\n",
    "using LinearAlgebra\n",
    "using SparseArrays\n",
    "using Distributions"
   ]
  },
  {
   "cell_type": "code",
   "execution_count": 7,
   "id": "fed60c4a-b1a0-413f-aec9-69f55f33c32a",
   "metadata": {},
   "outputs": [
    {
     "data": {
      "text/plain": [
       "\"/home/callum/ASF/\""
      ]
     },
     "metadata": {},
     "output_type": "display_data"
    }
   ],
   "source": [
    "directory_path = \"/home/callum/ASF/\""
   ]
  },
  {
   "cell_type": "code",
   "execution_count": 8,
   "id": "f51a820e-0e85-4d30-b681-20ba0b44dfcd",
   "metadata": {},
   "outputs": [],
   "source": [
    "include(\"$(directory_path)Modules/ASF_input.jl\");\n",
    "include(\"$(directory_path)Modules/ASF_model.jl\");\n",
    "include(\"$(directory_path)Modules/ASF_analysis.jl\");"
   ]
  },
  {
   "cell_type": "code",
   "execution_count": 9,
   "id": "1c0df8f2-76f7-44c9-ad12-704d9e8db9e2",
   "metadata": {},
   "outputs": [],
   "source": [
    "input_1 = ASF_Inputs.Model_Data(directory_path); #creating parameters to run model"
   ]
  },
  {
   "cell_type": "code",
   "execution_count": 6,
   "id": "bbcd6443-0613-4032-90c4-c5f7eca00262",
   "metadata": {},
   "outputs": [],
   "source": [
    "nt = input_1.Parameters.Populations.cum_sum[end] #total number of groups and farms\n",
    "nc = 5 #number of classes\n",
    "eqs = 11 #number of processes\n",
    "n_ens = 100 #number of runs in ensemble\n",
    "\n",
    "dc = sparse(zeros(nt*nc,nt*eqs))\n",
    "\n",
    "#const _dc = zeros(nt*5,nt*10)\n",
    "\n",
    "dc[0*nc*nt+1:nc*nt*eqs+nc:end] .= 1\n",
    "dc[1*nc*nt+1:nc*nt*eqs+nc:end] .= -1\n",
    "dc[2*nc*nt+1:nc*nt*eqs+nc:end] .= -1\n",
    "dc[10*nc*nt+1:nc*nt*eqs+nc:end] .= 1\n",
    "\n",
    "dc[2*nc*nt+2:nc*nt*eqs+nc:end] .= 1\n",
    "dc[3*nc*nt+2:nc*nt*eqs+nc:end] .= -1\n",
    "dc[4*nc*nt+2:nc*nt*eqs+nc:end] .= -1\n",
    "\n",
    "dc[4*nc*nt+3:nc*nt*eqs+nc:end] .= 1\n",
    "dc[5*nc*nt+3:nc*nt*eqs+nc:end] .= -1\n",
    "dc[6*nc*nt+3:nc*nt*eqs+nc:end] .= -1\n",
    "dc[7*nc*nt+3:nc*nt*eqs+nc:end] .= -1\n",
    "\n",
    "dc[7*nc*nt+4:nc*nt*eqs+nc:end] .= 1\n",
    "dc[8*nc*nt+4:nc*nt*eqs+nc:end] .= -1\n",
    "dc[10*nc*nt+4:nc*nt*eqs+nc:end] .= -1\n",
    "\n",
    "\n",
    "dc[5*nc*nt+5:nc*nt*eqs+nc:end] .= 1\n",
    "dc[6*nc*nt+5:nc*nt*eqs+nc:end] .= 1\n",
    "dc[9*nc*nt+5:nc*nt*eqs+nc:end] .= -1;"
   ]
  },
  {
   "cell_type": "code",
   "execution_count": 5,
   "id": "7a001dce",
   "metadata": {},
   "outputs": [
    {
     "data": {
      "text/plain": [
       "10×22 SparseMatrixCSC{Float64, Int64} with 34 stored entries:\n",
       "⠉⠓⠦⢤⡀⡁⠀⠀⠀⠀⠀\n",
       "⠀⠀⠈⠁⠈⠐⠲⢤⣀⡀⠐\n",
       "⠀⠀⠀⠀⠀⠀⠀⠀⠒⠉⠊"
      ]
     },
     "metadata": {},
     "output_type": "display_data"
    }
   ],
   "source": [
    "dc"
   ]
  },
  {
   "cell_type": "code",
   "execution_count": 6,
   "id": "c1ebd047-a748-4178-ba6c-a48c5d0f8c04",
   "metadata": {},
   "outputs": [
    {
     "data": {
      "text/plain": [
       "prob_func (generic function with 1 method)"
      ]
     },
     "execution_count": 6,
     "metadata": {},
     "output_type": "execute_result"
    }
   ],
   "source": [
    "function regular_c(du,u,p,t,counts,mark)  \n",
    "    mul!(du,dc,counts)\n",
    "end\n",
    "\n",
    "function prob_func(prob,i,repeat) #function to change parameters while keeping network the same\n",
    "                ASF_Model.reparam!(input_1)\n",
    "                remake(prob,p=input_1.Parameters)\n",
    "end "
   ]
  },
  {
   "cell_type": "markdown",
   "id": "0c2d8254-d686-486b-823c-b13524343708",
   "metadata": {},
   "source": [
    "## Running the Model"
   ]
  },
  {
   "cell_type": "markdown",
   "id": "8baa5843-5ecf-4a53-bbc7-a7e01b03a702",
   "metadata": {
    "jp-MarkdownHeadingCollapsed": true,
    "tags": []
   },
   "source": [
    "### Frequency run"
   ]
  },
  {
   "cell_type": "code",
   "execution_count": 9,
   "id": "c5a51b36-a081-4f30-9230-b09251d88a96",
   "metadata": {},
   "outputs": [],
   "source": [
    "#single run with frequency inter group interections\n",
    "rj = RegularJump(ASF_Model.frequency_rate,regular_c,eqs*nt)\n",
    "\n",
    "jumps = JumpSet(rj)\n",
    "\n",
    "prob = DiscreteProblem(input_1.U0,input_1.Time,input_1.Parameters)\n",
    "\n",
    "jump_prob = JumpProblem(prob,Direct(),rj) #rng=rng)\n",
    "\n",
    "#sol = solve(jump_prob,SimpleTauLeaping(), dt=.1)\n",
    "\n",
    "ensemble_prob_m = EnsembleProblem(jump_prob)#,prob_func=prob_func)\n",
    "output_f = solve(ensemble_prob_m, SimpleTauLeaping(), trajectories= 20,dt=1);"
   ]
  },
  {
   "cell_type": "code",
   "execution_count": 10,
   "id": "4849b392-bf85-48f1-b54c-99d210292a50",
   "metadata": {},
   "outputs": [
    {
     "name": "stdout",
     "output_type": "stream",
     "text": [
      "------------------------------------------------\n",
      "Run Stats:\n",
      "1 Populations\n",
      "20 Runs\n",
      "------------------------------------------------\n",
      "% of groups exposed to ASF in each population:\n",
      "[99.45]\n",
      "------------------------------------------------\n",
      "% of groups that survive in each population:\n",
      "[36.95]\n",
      "------------------------------------------------\n"
     ]
    }
   ],
   "source": [
    "ASF_Analysis.analyse_out(output_f, input_1.Parameters.Populations)"
   ]
  },
  {
   "cell_type": "markdown",
   "id": "a9896236-446d-46b3-91a5-539467b8c337",
   "metadata": {},
   "source": [
    "### Density run"
   ]
  },
  {
   "cell_type": "code",
   "execution_count": 7,
   "id": "e4a97db3-012f-4832-bee1-eb76a4c43f7b",
   "metadata": {},
   "outputs": [],
   "source": [
    "\n",
    "rj = RegularJump(ASF_Model.density_rate,regular_c,eqs*nt)\n",
    "\n",
    "jumps = JumpSet(rj)\n",
    "#ensemble run with density inter group interections\n",
    "\n",
    "prob = DiscreteProblem(input_1.U0,input_1.Time,input_1.Parameters)\n",
    "\n",
    "jump_prob = JumpProblem(prob,Direct(),rj) #rng=rng)\n",
    "#sol = solve(jump_prob,SimpleTauLeaping(), dt=.1)\n",
    "\n",
    "ensemble_prob_m = EnsembleProblem(jump_prob,prob_func=prob_func)\n",
    "output = solve(ensemble_prob_m, SimpleTauLeaping(), trajectories= 100,EnsembleThreads(),dt=1);"
   ]
  },
  {
   "cell_type": "code",
   "execution_count": 8,
   "id": "8d0f512b-fb6e-407a-8967-4f6ba6a5df67",
   "metadata": {},
   "outputs": [
    {
     "name": "stdout",
     "output_type": "stream",
     "text": [
      "------------------------------------------------\n",
      "Run Stats:\n",
      "1 Populations\n",
      "100 Runs\n",
      "------------------------------------------------\n",
      "% of groups exposed to ASF in each population:\n",
      "[95.68]\n",
      "------------------------------------------------\n",
      "% of groups that survive in each population:\n",
      "[61.17]\n",
      "------------------------------------------------\n"
     ]
    }
   ],
   "source": [
    "ASF_Analysis.analyse_out(output, input_1.Parameters.Populations)"
   ]
  },
  {
   "cell_type": "markdown",
   "id": "6d9290a6-741b-4bc1-98ae-d18ba11943ec",
   "metadata": {},
   "source": [
    "## Running Multiple Networks"
   ]
  },
  {
   "cell_type": "code",
   "execution_count": 10,
   "id": "36c89bba-d9b4-4dce-abf3-643815d0f780",
   "metadata": {},
   "outputs": [
    {
     "data": {
      "text/plain": [
       "sensitivity (generic function with 1 method)"
      ]
     },
     "execution_count": 10,
     "metadata": {},
     "output_type": "execute_result"
    }
   ],
   "source": [
    "function sensitivity(n_networks, n_dist, n_runs, path, name)\n",
    "    \n",
    "    dir = \"$(path)Results/$(name)\"\n",
    "\n",
    "    isdir(dir) || mkdir(dir)\n",
    "    cd(dir)\n",
    "\n",
    "    for i = 1:n_networks\n",
    "        inputs = ASF_Inputs.Model_Data(directory_path); #creating parameters to run model\n",
    "\n",
    "        for j = 1:n_dist\n",
    "\n",
    "            rj = RegularJump(ASF_Model.density_rate,regular_c,eqs*nt)\n",
    "            jumps = JumpSet(rj)\n",
    "            prob = DiscreteProblem(inputs.U0,inputs.Time,inputs.Parameters)\n",
    "            jump_prob = JumpProblem(prob,Direct(),rj) \n",
    "            ensemble_prob_m = EnsembleProblem(jump_prob)\n",
    "            outputs = solve(ensemble_prob_m, SimpleTauLeaping(), trajectories= n_runs,EnsembleThreads(),dt=1);\n",
    "\n",
    "            summary = ASF_Analysis.quick_analysis(outputs) #update to new function from module (ASF_Model.quick_analysis(outputs))\n",
    "\n",
    "            writedlm( \"Results_$(i)_$(j).csv\",  summary, ',')\n",
    "            ASF_Model.reparam!(inputs) #re-doing params with\n",
    "        end\n",
    "        println(\"$(100*i/n_networks) %\")\n",
    "\n",
    "    end\n",
    "    \n",
    "end"
   ]
  },
  {
   "cell_type": "code",
   "execution_count": 11,
   "id": "6ac5d700-d2ad-45f0-87b6-755b79f6d3f5",
   "metadata": {
    "tags": []
   },
   "outputs": [
    {
     "name": "stdout",
     "output_type": "stream",
     "text": [
      "10.0 %\n",
      "20.0 %\n",
      "30.0 %\n",
      "40.0 %\n",
      "50.0 %\n",
      "60.0 %\n",
      "70.0 %\n",
      "80.0 %\n",
      "90.0 %\n",
      "100.0 %\n"
     ]
    }
   ],
   "source": [
    "sensitivity(10,10,100,directory_path, \"Death/death_hundred\") # running "
   ]
  },
  {
   "cell_type": "code",
   "execution_count": 92,
   "id": "b094ac4e-0732-40c1-8363-f6ddcaa524f0",
   "metadata": {},
   "outputs": [
    {
     "data": {
      "text/plain": [
       "sensitivity2 (generic function with 1 method)"
      ]
     },
     "execution_count": 92,
     "metadata": {},
     "output_type": "execute_result"
    }
   ],
   "source": [
    "function sensitivity2(n_networks, n_dist, n_runs, path, name)\n",
    "    \n",
    "    dir = \"$(path)Results/$(name)\"\n",
    "\n",
    "    isdir(dir) || mkdir(dir)\n",
    "    cd(dir)\n",
    "\n",
    "    for i = 1:n_networks\n",
    "\n",
    "        inputs = ASF_Inputs.Model_Data(directory_path); #creating parameters to run model\n",
    "\n",
    "        for j = 1:n_dist\n",
    "\n",
    "            rj = RegularJump(ASF_Model.frequency_rate,regular_c,eqs*nt)\n",
    "            jumps = JumpSet(rj)\n",
    "            prob = DiscreteProblem(inputs.U0,inputs.Time,inputs.Parameters)\n",
    "            jump_prob = JumpProblem(prob,Direct(),rj) \n",
    "            ensemble_prob_m = EnsembleProblem(jump_prob)\n",
    "            outputs = solve(ensemble_prob_m, SimpleTauLeaping(), trajectories= n_runs,EnsembleThreads(),dt=1);\n",
    "\n",
    "            summary = ASF_Analysis.quick_analysis(outputs) #update to new function from module (ASF_Model.quick_analysis(outputs))\n",
    "\n",
    "            writedlm( \"Results_$(i)_$(j).csv\",  summary, ',')\n",
    "            ASF_Model.reparam!(inputs) #re-doing params with\n",
    "        end\n",
    "    end\n",
    "    \n",
    "end"
   ]
  },
  {
   "cell_type": "code",
   "execution_count": 94,
   "id": "143b9cd0-be13-4d1f-b783-bc569ea2503b",
   "metadata": {},
   "outputs": [
    {
     "name": "stdout",
     "output_type": "stream",
     "text": [
      "Need to Reduce Timestep\n",
      "Need to Reduce Timestep\n",
      "Need to Reduce Timestep\n"
     ]
    }
   ],
   "source": [
    "sensitivity2(20,20,100,directory_path, \"Frequency\") # running "
   ]
  },
  {
   "cell_type": "code",
   "execution_count": null,
   "id": "19b142f6-b910-4d27-a412-1a821e825192",
   "metadata": {},
   "outputs": [],
   "source": []
  },
  {
   "cell_type": "markdown",
   "id": "aff92f23-f670-4638-bef9-0cd232187225",
   "metadata": {
    "tags": []
   },
   "source": [
    "## Analysing Output"
   ]
  },
  {
   "cell_type": "code",
   "execution_count": 18,
   "id": "05a74b64-4882-414e-9ad6-de310734a394",
   "metadata": {},
   "outputs": [],
   "source": [
    "density = ASF_Analysis.read_outputs(\"/home/callum/ASF/Results/Baseline//\");\n",
    "connect_5 = ASF_Analysis.read_outputs(\"/home/callum/ASF/Results/Connect_5//\");\n"
   ]
  },
  {
   "cell_type": "code",
   "execution_count": 19,
   "id": "4158fb6b-d038-4fa5-808c-5ff1b3e89311",
   "metadata": {},
   "outputs": [
    {
     "name": "stdout",
     "output_type": "stream",
     "text": [
      "Exposed!\n",
      "Mean- 91.88 & 91.75 - 92.01\n",
      "\n",
      "Alive!\n",
      "Mean- 41.8 & 41.72 - 41.88\n",
      "\n",
      "Time!\n",
      "Mean- 262.43 & 261.91 - 262.94\n",
      "\n",
      "Filtered\n",
      "\n",
      "Exposed!\n",
      "Mean- 93.69 & 93.67 - 93.72\n",
      "\n",
      "Alive!\n",
      "Mean- 40.93 & 40.88 - 40.98\n",
      "\n",
      "Time!\n",
      "Mean- 266.66 & 266.23 - 267.09\n"
     ]
    }
   ],
   "source": [
    "density_r = ASF_Analysis.three_statistics(density,20, p_out = true);"
   ]
  },
  {
   "cell_type": "code",
   "execution_count": 20,
   "id": "e28c635f-ce8a-4bfa-ae40-3447af0233a1",
   "metadata": {},
   "outputs": [
    {
     "name": "stdout",
     "output_type": "stream",
     "text": [
      "Exposed!\n",
      "Mean- 92.93 & 92.79 - 93.07\n",
      "\n",
      "Alive!\n",
      "Mean- 41.1 & 40.98 - 41.21\n",
      "\n",
      "Time!\n",
      "Mean- 262.15 & 261.27 - 263.03\n",
      "\n",
      "Filtered\n",
      "\n",
      "Exposed!\n",
      "Mean- 93.42 & 93.35 - 93.48\n",
      "\n",
      "Alive!\n",
      "Mean- 40.87 & 40.77 - 40.97\n",
      "\n",
      "Time!\n",
      "Mean- 263.28 & 262.45 - 264.11\n"
     ]
    }
   ],
   "source": [
    "connect_5_r = ASF_Analysis.three_statistics(connect_5,20, p_out = true);"
   ]
  },
  {
   "cell_type": "code",
   "execution_count": null,
   "id": "3d4e3109-e460-48ba-9242-59c4bf5fb426",
   "metadata": {},
   "outputs": [],
   "source": []
  }
 ],
 "metadata": {
  "kernelspec": {
   "display_name": "Julia 1.6.3",
   "language": "julia",
   "name": "julia-1.6"
  },
  "language_info": {
   "file_extension": ".jl",
   "mimetype": "application/julia",
   "name": "julia",
   "version": "1.6.3"
  }
 },
 "nbformat": 4,
 "nbformat_minor": 5
}
