{
 "cells": [
  {
   "cell_type": "markdown",
   "id": "8d0bb1ca-d118-40b2-8957-13458f555c66",
   "metadata": {},
   "source": [
    "# Running ASFMAUS"
   ]
  },
  {
   "cell_type": "code",
   "execution_count": 1,
   "id": "55239d5e-70a5-4eb3-b50b-8613bbfda5ed",
   "metadata": {},
   "outputs": [],
   "source": [
    "using StochasticDiffEq\n",
    "using DiffEqCallbacks\n",
    "using DifferentialEquations\n",
    "using Plots\n",
    "using LinearAlgebra\n",
    "using DelimitedFiles\n",
    "using DataFrames\n",
    "using LinearAlgebra\n",
    "using SparseArrays\n",
    "using Distributions"
   ]
  },
  {
   "cell_type": "code",
   "execution_count": 2,
   "id": "f51a820e-0e85-4d30-b681-20ba0b44dfcd",
   "metadata": {},
   "outputs": [],
   "source": [
    "include(\"/home/callum/ASF/Modules/ASF_input.jl\");\n",
    "include(\"/home/callum/ASF/Modules/ASF_model.jl\");\n",
    "include(\"/home/callum/ASF/Modules/ASF_analysis.jl\");"
   ]
  },
  {
   "cell_type": "code",
   "execution_count": 3,
   "id": "fed60c4a-b1a0-413f-aec9-69f55f33c32a",
   "metadata": {},
   "outputs": [
    {
     "data": {
      "text/plain": [
       "\"/home/callum/ASF/Inputs/\""
      ]
     },
     "metadata": {},
     "output_type": "display_data"
    }
   ],
   "source": [
    "input_path = \"/home/callum/ASF/Inputs/\""
   ]
  },
  {
   "cell_type": "code",
   "execution_count": 6,
   "id": "1c0df8f2-76f7-44c9-ad12-704d9e8db9e2",
   "metadata": {},
   "outputs": [],
   "source": [
    "input_1 = ASF_Inputs.Model_Data(input_path); #creating parameters to run model"
   ]
  },
  {
   "cell_type": "code",
   "execution_count": 7,
   "id": "bbcd6443-0613-4032-90c4-c5f7eca00262",
   "metadata": {},
   "outputs": [],
   "source": [
    "nt = input_1.Parameters.Populations.cum_sum[end] #total number of groups and farms\n",
    "nc = 5 #number of classes\n",
    "eqs = 11 #number of processes\n",
    "n_ens = 100 #number of runs in ensemble\n",
    "\n",
    "dc = sparse(zeros(nt*nc,nt*eqs))\n",
    "\n",
    "#const _dc = zeros(nt*5,nt*10)\n",
    "\n",
    "dc[0*nc*nt+1:nc*nt*eqs+nc:end] .= 1\n",
    "dc[1*nc*nt+1:nc*nt*eqs+nc:end] .= -1\n",
    "dc[2*nc*nt+1:nc*nt*eqs+nc:end] .= -1\n",
    "dc[10*nc*nt+1:nc*nt*eqs+nc:end] .= 1\n",
    "\n",
    "dc[2*nc*nt+2:nc*nt*eqs+nc:end] .= 1\n",
    "dc[3*nc*nt+2:nc*nt*eqs+nc:end] .= -1\n",
    "dc[4*nc*nt+2:nc*nt*eqs+nc:end] .= -1\n",
    "\n",
    "dc[4*nc*nt+3:nc*nt*eqs+nc:end] .= 1\n",
    "dc[5*nc*nt+3:nc*nt*eqs+nc:end] .= -1\n",
    "dc[6*nc*nt+3:nc*nt*eqs+nc:end] .= -1\n",
    "dc[7*nc*nt+3:nc*nt*eqs+nc:end] .= -1\n",
    "\n",
    "dc[7*nc*nt+4:nc*nt*eqs+nc:end] .= 1\n",
    "dc[8*nc*nt+4:nc*nt*eqs+nc:end] .= -1\n",
    "dc[10*nc*nt+4:nc*nt*eqs+nc:end] .= -1\n",
    "\n",
    "\n",
    "dc[5*nc*nt+5:nc*nt*eqs+nc:end] .= 1\n",
    "dc[6*nc*nt+5:nc*nt*eqs+nc:end] .= 1\n",
    "dc[9*nc*nt+5:nc*nt*eqs+nc:end] .= -1;"
   ]
  },
  {
   "cell_type": "code",
   "execution_count": 8,
   "id": "c1ebd047-a748-4178-ba6c-a48c5d0f8c04",
   "metadata": {},
   "outputs": [
    {
     "data": {
      "text/plain": [
       "prob_func (generic function with 1 method)"
      ]
     },
     "metadata": {},
     "output_type": "display_data"
    }
   ],
   "source": [
    "function regular_c(du,u,p,t,counts,mark)  \n",
    "    mul!(du,dc,counts)\n",
    "end\n",
    "\n",
    "function prob_func(prob,i,repeat) #function to change parameters while keeping network the same\n",
    "                ASF_Model.reparam!(input_1)\n",
    "                remake(prob,p=input_1.Parameters)\n",
    "end "
   ]
  },
  {
   "cell_type": "markdown",
   "id": "0c2d8254-d686-486b-823c-b13524343708",
   "metadata": {},
   "source": [
    "## Running the Model"
   ]
  },
  {
   "cell_type": "markdown",
   "id": "8baa5843-5ecf-4a53-bbc7-a7e01b03a702",
   "metadata": {
    "jp-MarkdownHeadingCollapsed": true,
    "tags": []
   },
   "source": [
    "### Frequency run"
   ]
  },
  {
   "cell_type": "code",
   "execution_count": 58,
   "id": "ea562c14",
   "metadata": {},
   "outputs": [],
   "source": [
    "input_1 = ASF_Inputs.Model_Data(directory_path); #creating parameters to run model"
   ]
  },
  {
   "cell_type": "code",
   "execution_count": 1,
   "id": "9e088da3",
   "metadata": {},
   "outputs": [
    {
     "ename": "UndefVarError",
     "evalue": "UndefVarError: ASF_Model not defined",
     "output_type": "error",
     "traceback": [
      "UndefVarError: ASF_Model not defined\n",
      "\n",
      "Stacktrace:\n",
      " [1] top-level scope\n",
      "   @ ~/ASF/Running/ASF.ipynb:1"
     ]
    }
   ],
   "source": [
    "rj = RegularJump(ASF_Model.density_rate,regular_c,eqs*nt)\n",
    "\n",
    "jumps = JumpSet(rj)\n",
    "\n",
    "prob = DiscreteProblem(input_1.U0,input_1.Time,input_1.Parameters)\n",
    "\n",
    "jump_prob = JumpProblem(prob,Direct(),rj) #rng=rng)\n",
    "\n",
    "sol = solve(jump_prob, SimpleTauLeaping(),dt=1, DiscreteCallback= cb)\n",
    "\n",
    "#ensemble_prob_m = EnsembleProblem(jump_prob)#,prob_func=prob_func)\n",
    "#output = solve(ensemble_prob_m, SimpleTauLeaping(), trajectories= 10,dt=1);"
   ]
  },
  {
   "cell_type": "markdown",
   "id": "6d9290a6-741b-4bc1-98ae-d18ba11943ec",
   "metadata": {},
   "source": [
    "## Running Multiple Networks"
   ]
  },
  {
   "cell_type": "code",
   "execution_count": 13,
   "id": "36c89bba-d9b4-4dce-abf3-643815d0f780",
   "metadata": {},
   "outputs": [
    {
     "data": {
      "text/plain": [
       "sensitivity (generic function with 1 method)"
      ]
     },
     "metadata": {},
     "output_type": "display_data"
    }
   ],
   "source": [
    "function sensitivity(n_networks, n_dist, n_runs, path, name)\n",
    "    \n",
    "    input_folder = splitpath(path)[end]\n",
    "    base_path = rsplit(path, input_folder)[1]\n",
    "\n",
    "    #making save directory\n",
    "    dir = \"$(base_path)Results/$(name)\"\n",
    "\n",
    "    isdir(dir) || mkdir(dir)\n",
    "    cd(dir)\n",
    "\n",
    "    #copying inputs\n",
    "    cp(\"$(path)\", \"Inputs\",force = true)\n",
    "    \n",
    "    for i = 1:n_networks\n",
    "        inputs = ASF_Inputs.Model_Data(path); #creating parameters to run model\n",
    "        for j = 1:n_dist\n",
    "\n",
    "            rj = RegularJump(ASF_Model.density_rate,regular_c,eqs*nt)\n",
    "            jumps = JumpSet(rj)\n",
    "            prob = DiscreteProblem(inputs.U0,inputs.Time,inputs.Parameters)\n",
    "            jump_prob = JumpProblem(prob,Direct(),rj) \n",
    "            ensemble_prob_m = EnsembleProblem(jump_prob)\n",
    "            outputs = solve(ensemble_prob_m, SimpleTauLeaping(), trajectories= n_runs,EnsembleThreads(),dt=1);\n",
    "\n",
    "            summary = ASF_Analysis.quick_analysis(outputs) #update to new function from module (ASF_Model.quick_analysis(outputs))\n",
    "\n",
    "            writedlm( \"Results_$(i)_$(j).csv\",  summary, ',')\n",
    "            ASF_Model.reparam!(inputs) #re-doing params with\n",
    "        end\n",
    "        println(\"$(100*i/n_networks) %\")\n",
    "\n",
    "    end\n",
    "    \n",
    "end"
   ]
  },
  {
   "cell_type": "code",
   "execution_count": 14,
   "id": "143b9cd0-be13-4d1f-b783-bc569ea2503b",
   "metadata": {},
   "outputs": [
    {
     "ename": "TaskFailedException",
     "evalue": "TaskFailedException\n\n    nested task error: InterruptException:\n    Stacktrace:\n      [1] Array\n        @ ./boot.jl:448 [inlined]\n      [2] Array\n        @ ./boot.jl:457 [inlined]\n      [3] Array\n        @ ./boot.jl:465 [inlined]\n      [4] similar\n        @ ./abstractarray.jl:785 [inlined]\n      [5] similar\n        @ ./abstractarray.jl:784 [inlined]\n      [6] similar\n        @ ./broadcast.jl:197 [inlined]\n      [7] similar\n        @ ./broadcast.jl:196 [inlined]\n      [8] copy\n        @ ./broadcast.jl:908 [inlined]\n      [9] materialize\n        @ ./broadcast.jl:883 [inlined]\n     [10] density_rate(out::Vector{Float64}, u::Vector{Int64}, p::Main.ASF_Inputs.Model_Parameters, t::Float64)\n        @ Main.ASF_Model ~/ASF/Modules/ASF_model.jl:50\n     [11] solve(jump_prob::JumpProblem{true, DiscreteProblem{Vector{Int64}, Tuple{Float64, Float64}, true, Main.ASF_Inputs.Model_Parameters, DiscreteFunction{true, SciMLBase.var\"#158#159\", Nothing, Nothing}, Base.Iterators.Pairs{Union{}, Union{}, Tuple{}, NamedTuple{(), Tuple{}}}}, Direct, CallbackSet{Tuple{}, Tuple{}}, Nothing, Tuple{}, RegularJump{true, typeof(Main.ASF_Model.density_rate), typeof(regular_c), Nothing}, Nothing}, alg::SimpleTauLeaping; seed::Nothing, dt::Int64)\n        @ DiffEqJump ~/.julia/packages/DiffEqJump/x05Qi/src/simple_regular_solve.jl:40\n     [12] #batch_func#460\n        @ ~/.julia/packages/SciMLBase/h4Gxc/src/ensemble/basic_ensemble_solve.jl:143 [inlined]\n     [13] #469\n        @ ~/.julia/packages/SciMLBase/h4Gxc/src/ensemble/basic_ensemble_solve.jl:213 [inlined]\n     [14] macro expansion\n        @ ~/.julia/packages/SciMLBase/h4Gxc/src/ensemble/basic_ensemble_solve.jl:221 [inlined]\n     [15] (::SciMLBase.var\"#446#threadsfor_fun#472\"{SciMLBase.var\"#469#471\"{Base.Iterators.Pairs{Symbol, Int64, Tuple{Symbol}, NamedTuple{(:dt,), Tuple{Int64}}}, EnsembleProblem{JumpProblem{true, DiscreteProblem{Vector{Int64}, Tuple{Float64, Float64}, true, Main.ASF_Inputs.Model_Parameters, DiscreteFunction{true, SciMLBase.var\"#158#159\", Nothing, Nothing}, Base.Iterators.Pairs{Union{}, Union{}, Tuple{}, NamedTuple{(), Tuple{}}}}, Direct, CallbackSet{Tuple{}, Tuple{}}, Nothing, Tuple{}, RegularJump{true, typeof(Main.ASF_Model.density_rate), typeof(regular_c), Nothing}, Nothing}, typeof(SciMLBase.DEFAULT_PROB_FUNC), typeof(SciMLBase.DEFAULT_OUTPUT_FUNC), typeof(SciMLBase.DEFAULT_REDUCTION), Nothing}, SimpleTauLeaping}, Tuple{UnitRange{Int64}}, Vector{ODESolution{Int64, 2, Vector{Vector{Int64}}, Nothing, Nothing, StepRangeLen{Float64, Base.TwicePrecision{Float64}, Base.TwicePrecision{Float64}}, Nothing, DiscreteProblem{Vector{Int64}, Tuple{Float64, Float64}, true, Main.ASF_Inputs.Model_Parameters, DiscreteFunction{true, SciMLBase.var\"#158#159\", Nothing, Nothing}, Base.Iterators.Pairs{Union{}, Union{}, Tuple{}, NamedTuple{(), Tuple{}}}}, SimpleTauLeaping, SciMLBase.ConstantInterpolation{StepRangeLen{Float64, Base.TwicePrecision{Float64}, Base.TwicePrecision{Float64}}, Vector{Vector{Int64}}}, Nothing}}, UnitRange{Int64}})(onethread::Bool)\n        @ SciMLBase ./threadingconstructs.jl:81\n     [16] (::SciMLBase.var\"#446#threadsfor_fun#472\"{SciMLBase.var\"#469#471\"{Base.Iterators.Pairs{Symbol, Int64, Tuple{Symbol}, NamedTuple{(:dt,), Tuple{Int64}}}, EnsembleProblem{JumpProblem{true, DiscreteProblem{Vector{Int64}, Tuple{Float64, Float64}, true, Main.ASF_Inputs.Model_Parameters, DiscreteFunction{true, SciMLBase.var\"#158#159\", Nothing, Nothing}, Base.Iterators.Pairs{Union{}, Union{}, Tuple{}, NamedTuple{(), Tuple{}}}}, Direct, CallbackSet{Tuple{}, Tuple{}}, Nothing, Tuple{}, RegularJump{true, typeof(Main.ASF_Model.density_rate), typeof(regular_c), Nothing}, Nothing}, typeof(SciMLBase.DEFAULT_PROB_FUNC), typeof(SciMLBase.DEFAULT_OUTPUT_FUNC), typeof(SciMLBase.DEFAULT_REDUCTION), Nothing}, SimpleTauLeaping}, Tuple{UnitRange{Int64}}, Vector{ODESolution{Int64, 2, Vector{Vector{Int64}}, Nothing, Nothing, StepRangeLen{Float64, Base.TwicePrecision{Float64}, Base.TwicePrecision{Float64}}, Nothing, DiscreteProblem{Vector{Int64}, Tuple{Float64, Float64}, true, Main.ASF_Inputs.Model_Parameters, DiscreteFunction{true, SciMLBase.var\"#158#159\", Nothing, Nothing}, Base.Iterators.Pairs{Union{}, Union{}, Tuple{}, NamedTuple{(), Tuple{}}}}, SimpleTauLeaping, SciMLBase.ConstantInterpolation{StepRangeLen{Float64, Base.TwicePrecision{Float64}, Base.TwicePrecision{Float64}}, Vector{Vector{Int64}}}, Nothing}}, UnitRange{Int64}})()\n        @ SciMLBase ./threadingconstructs.jl:48",
     "output_type": "error",
     "traceback": [
      "TaskFailedException\n",
      "\n",
      "    nested task error: InterruptException:\n",
      "    Stacktrace:\n",
      "      [1] Array\n",
      "        @ ./boot.jl:448 [inlined]\n",
      "      [2] Array\n",
      "        @ ./boot.jl:457 [inlined]\n",
      "      [3] Array\n",
      "        @ ./boot.jl:465 [inlined]\n",
      "      [4] similar\n",
      "        @ ./abstractarray.jl:785 [inlined]\n",
      "      [5] similar\n",
      "        @ ./abstractarray.jl:784 [inlined]\n",
      "      [6] similar\n",
      "        @ ./broadcast.jl:197 [inlined]\n",
      "      [7] similar\n",
      "        @ ./broadcast.jl:196 [inlined]\n",
      "      [8] copy\n",
      "        @ ./broadcast.jl:908 [inlined]\n",
      "      [9] materialize\n",
      "        @ ./broadcast.jl:883 [inlined]\n",
      "     [10] density_rate(out::Vector{Float64}, u::Vector{Int64}, p::Main.ASF_Inputs.Model_Parameters, t::Float64)\n",
      "        @ Main.ASF_Model ~/ASF/Modules/ASF_model.jl:50\n",
      "     [11] solve(jump_prob::JumpProblem{true, DiscreteProblem{Vector{Int64}, Tuple{Float64, Float64}, true, Main.ASF_Inputs.Model_Parameters, DiscreteFunction{true, SciMLBase.var\"#158#159\", Nothing, Nothing}, Base.Iterators.Pairs{Union{}, Union{}, Tuple{}, NamedTuple{(), Tuple{}}}}, Direct, CallbackSet{Tuple{}, Tuple{}}, Nothing, Tuple{}, RegularJump{true, typeof(Main.ASF_Model.density_rate), typeof(regular_c), Nothing}, Nothing}, alg::SimpleTauLeaping; seed::Nothing, dt::Int64)\n",
      "        @ DiffEqJump ~/.julia/packages/DiffEqJump/x05Qi/src/simple_regular_solve.jl:40\n",
      "     [12] #batch_func#460\n",
      "        @ ~/.julia/packages/SciMLBase/h4Gxc/src/ensemble/basic_ensemble_solve.jl:143 [inlined]\n",
      "     [13] #469\n",
      "        @ ~/.julia/packages/SciMLBase/h4Gxc/src/ensemble/basic_ensemble_solve.jl:213 [inlined]\n",
      "     [14] macro expansion\n",
      "        @ ~/.julia/packages/SciMLBase/h4Gxc/src/ensemble/basic_ensemble_solve.jl:221 [inlined]\n",
      "     [15] (::SciMLBase.var\"#446#threadsfor_fun#472\"{SciMLBase.var\"#469#471\"{Base.Iterators.Pairs{Symbol, Int64, Tuple{Symbol}, NamedTuple{(:dt,), Tuple{Int64}}}, EnsembleProblem{JumpProblem{true, DiscreteProblem{Vector{Int64}, Tuple{Float64, Float64}, true, Main.ASF_Inputs.Model_Parameters, DiscreteFunction{true, SciMLBase.var\"#158#159\", Nothing, Nothing}, Base.Iterators.Pairs{Union{}, Union{}, Tuple{}, NamedTuple{(), Tuple{}}}}, Direct, CallbackSet{Tuple{}, Tuple{}}, Nothing, Tuple{}, RegularJump{true, typeof(Main.ASF_Model.density_rate), typeof(regular_c), Nothing}, Nothing}, typeof(SciMLBase.DEFAULT_PROB_FUNC), typeof(SciMLBase.DEFAULT_OUTPUT_FUNC), typeof(SciMLBase.DEFAULT_REDUCTION), Nothing}, SimpleTauLeaping}, Tuple{UnitRange{Int64}}, Vector{ODESolution{Int64, 2, Vector{Vector{Int64}}, Nothing, Nothing, StepRangeLen{Float64, Base.TwicePrecision{Float64}, Base.TwicePrecision{Float64}}, Nothing, DiscreteProblem{Vector{Int64}, Tuple{Float64, Float64}, true, Main.ASF_Inputs.Model_Parameters, DiscreteFunction{true, SciMLBase.var\"#158#159\", Nothing, Nothing}, Base.Iterators.Pairs{Union{}, Union{}, Tuple{}, NamedTuple{(), Tuple{}}}}, SimpleTauLeaping, SciMLBase.ConstantInterpolation{StepRangeLen{Float64, Base.TwicePrecision{Float64}, Base.TwicePrecision{Float64}}, Vector{Vector{Int64}}}, Nothing}}, UnitRange{Int64}})(onethread::Bool)\n",
      "        @ SciMLBase ./threadingconstructs.jl:81\n",
      "     [16] (::SciMLBase.var\"#446#threadsfor_fun#472\"{SciMLBase.var\"#469#471\"{Base.Iterators.Pairs{Symbol, Int64, Tuple{Symbol}, NamedTuple{(:dt,), Tuple{Int64}}}, EnsembleProblem{JumpProblem{true, DiscreteProblem{Vector{Int64}, Tuple{Float64, Float64}, true, Main.ASF_Inputs.Model_Parameters, DiscreteFunction{true, SciMLBase.var\"#158#159\", Nothing, Nothing}, Base.Iterators.Pairs{Union{}, Union{}, Tuple{}, NamedTuple{(), Tuple{}}}}, Direct, CallbackSet{Tuple{}, Tuple{}}, Nothing, Tuple{}, RegularJump{true, typeof(Main.ASF_Model.density_rate), typeof(regular_c), Nothing}, Nothing}, typeof(SciMLBase.DEFAULT_PROB_FUNC), typeof(SciMLBase.DEFAULT_OUTPUT_FUNC), typeof(SciMLBase.DEFAULT_REDUCTION), Nothing}, SimpleTauLeaping}, Tuple{UnitRange{Int64}}, Vector{ODESolution{Int64, 2, Vector{Vector{Int64}}, Nothing, Nothing, StepRangeLen{Float64, Base.TwicePrecision{Float64}, Base.TwicePrecision{Float64}}, Nothing, DiscreteProblem{Vector{Int64}, Tuple{Float64, Float64}, true, Main.ASF_Inputs.Model_Parameters, DiscreteFunction{true, SciMLBase.var\"#158#159\", Nothing, Nothing}, Base.Iterators.Pairs{Union{}, Union{}, Tuple{}, NamedTuple{(), Tuple{}}}}, SimpleTauLeaping, SciMLBase.ConstantInterpolation{StepRangeLen{Float64, Base.TwicePrecision{Float64}, Base.TwicePrecision{Float64}}, Vector{Vector{Int64}}}, Nothing}}, UnitRange{Int64}})()\n",
      "        @ SciMLBase ./threadingconstructs.jl:48\n",
      "\n",
      "Stacktrace:\n",
      "  [1] wait\n",
      "    @ ./task.jl:322 [inlined]\n",
      "  [2] threading_run(func::Function)\n",
      "    @ Base.Threads ./threadingconstructs.jl:34\n",
      "  [3] macro expansion\n",
      "    @ ./threadingconstructs.jl:93 [inlined]\n",
      "  [4] tmap(f::Function, args::UnitRange{Int64})\n",
      "    @ SciMLBase ~/.julia/packages/SciMLBase/h4Gxc/src/ensemble/basic_ensemble_solve.jl:220\n",
      "  [5] solve_batch(prob::EnsembleProblem{JumpProblem{true, DiscreteProblem{Vector{Int64}, Tuple{Float64, Float64}, true, Main.ASF_Inputs.Model_Parameters, DiscreteFunction{true, SciMLBase.var\"#158#159\", Nothing, Nothing}, Base.Iterators.Pairs{Union{}, Union{}, Tuple{}, NamedTuple{(), Tuple{}}}}, Direct, CallbackSet{Tuple{}, Tuple{}}, Nothing, Tuple{}, RegularJump{true, typeof(Main.ASF_Model.density_rate), typeof(regular_c), Nothing}, Nothing}, typeof(SciMLBase.DEFAULT_PROB_FUNC), typeof(SciMLBase.DEFAULT_OUTPUT_FUNC), typeof(SciMLBase.DEFAULT_REDUCTION), Nothing}, alg::SimpleTauLeaping, ensemblealg::EnsembleThreads, II::UnitRange{Int64}, pmap_batch_size::Int64; kwargs::Base.Iterators.Pairs{Symbol, Int64, Tuple{Symbol}, NamedTuple{(:dt,), Tuple{Int64}}})\n",
      "    @ SciMLBase ~/.julia/packages/SciMLBase/h4Gxc/src/ensemble/basic_ensemble_solve.jl:212\n",
      "  [6] macro expansion\n",
      "    @ ./timing.jl:287 [inlined]\n",
      "  [7] __solve(prob::EnsembleProblem{JumpProblem{true, DiscreteProblem{Vector{Int64}, Tuple{Float64, Float64}, true, Main.ASF_Inputs.Model_Parameters, DiscreteFunction{true, SciMLBase.var\"#158#159\", Nothing, Nothing}, Base.Iterators.Pairs{Union{}, Union{}, Tuple{}, NamedTuple{(), Tuple{}}}}, Direct, CallbackSet{Tuple{}, Tuple{}}, Nothing, Tuple{}, RegularJump{true, typeof(Main.ASF_Model.density_rate), typeof(regular_c), Nothing}, Nothing}, typeof(SciMLBase.DEFAULT_PROB_FUNC), typeof(SciMLBase.DEFAULT_OUTPUT_FUNC), typeof(SciMLBase.DEFAULT_REDUCTION), Nothing}, alg::SimpleTauLeaping, ensemblealg::EnsembleThreads; trajectories::Int64, batch_size::Int64, pmap_batch_size::Int64, kwargs::Base.Iterators.Pairs{Symbol, Int64, Tuple{Symbol}, NamedTuple{(:dt,), Tuple{Int64}}})\n",
      "    @ SciMLBase ~/.julia/packages/SciMLBase/h4Gxc/src/ensemble/basic_ensemble_solve.jl:108\n",
      "  [8] #solve#45\n",
      "    @ ~/.julia/packages/DiffEqBase/OPDgm/src/solve.jl:101 [inlined]\n",
      "  [9] sensitivity(n_networks::Int64, n_dist::Int64, n_runs::Int64, path::String, name::String)\n",
      "    @ Main ~/ASF/Running/ASF.ipynb:24\n",
      " [10] top-level scope\n",
      "    @ ~/ASF/Running/ASF.ipynb:1"
     ]
    }
   ],
   "source": [
    "sensitivity(20,20,100,input_path, \"Dataout\") # running "
   ]
  },
  {
   "cell_type": "markdown",
   "id": "aff92f23-f670-4638-bef9-0cd232187225",
   "metadata": {
    "tags": []
   },
   "source": [
    "## Analysing Output"
   ]
  },
  {
   "cell_type": "code",
   "execution_count": null,
   "id": "05a74b64-4882-414e-9ad6-de310734a394",
   "metadata": {},
   "outputs": [],
   "source": [
    "density = ASF_Analysis.read_outputs(\"/home/callum/ASF/Results/Baseline//\");\n",
    "connect_5 = ASF_Analysis.read_outputs(\"/home/callum/ASF/Results/Connect_5//\");\n"
   ]
  },
  {
   "cell_type": "code",
   "execution_count": null,
   "id": "4158fb6b-d038-4fa5-808c-5ff1b3e89311",
   "metadata": {},
   "outputs": [],
   "source": [
    "density_r = ASF_Analysis.three_statistics(density,20, p_out = true);"
   ]
  },
  {
   "cell_type": "code",
   "execution_count": null,
   "id": "e28c635f-ce8a-4bfa-ae40-3447af0233a1",
   "metadata": {},
   "outputs": [],
   "source": [
    "connect_5_r = ASF_Analysis.three_statistics(connect_5,20, p_out = true);"
   ]
  }
 ],
 "metadata": {
  "kernelspec": {
   "display_name": "Julia 1.6.3",
   "language": "julia",
   "name": "julia-1.6"
  },
  "language_info": {
   "file_extension": ".jl",
   "mimetype": "application/julia",
   "name": "julia",
   "version": "1.6.3"
  }
 },
 "nbformat": 4,
 "nbformat_minor": 5
}
