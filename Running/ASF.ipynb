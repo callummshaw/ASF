{
 "cells": [
  {
   "cell_type": "markdown",
   "id": "8d0bb1ca-d118-40b2-8957-13458f555c66",
   "metadata": {},
   "source": [
    "# Running ASFMAUS"
   ]
  },
  {
   "cell_type": "code",
   "execution_count": null,
   "id": "55239d5e-70a5-4eb3-b50b-8613bbfda5ed",
   "metadata": {},
   "outputs": [],
   "source": [
    "using StochasticDiffEq\n",
    "using DiffEqCallbacks\n",
    "using DifferentialEquations\n",
    "using Plots\n",
    "using LinearAlgebra\n",
    "using DelimitedFiles\n",
    "using DataFrames\n",
    "using LinearAlgebra\n",
    "using SparseArrays\n",
    "using Distributions"
   ]
  },
  {
   "cell_type": "code",
   "execution_count": null,
   "id": "f51a820e-0e85-4d30-b681-20ba0b44dfcd",
   "metadata": {},
   "outputs": [],
   "source": [
    "include(\"/home/callum/ASF/Modules/ASF_input.jl\");\n",
    "include(\"/home/callum/ASF/Modules/ASF_model.jl\");\n",
    "include(\"/home/callum/ASF/Modules/ASF_analysis.jl\");"
   ]
  },
  {
   "cell_type": "code",
   "execution_count": null,
   "id": "fed60c4a-b1a0-413f-aec9-69f55f33c32a",
   "metadata": {},
   "outputs": [],
   "source": [
    "input_path = \"/home/callum/ASF/Inputs/\";"
   ]
  },
  {
   "cell_type": "code",
   "execution_count": null,
   "id": "1c0df8f2-76f7-44c9-ad12-704d9e8db9e2",
   "metadata": {},
   "outputs": [],
   "source": [
    "input_1 = ASF_Inputs.Model_Data(input_path); #creating parameters to run model"
   ]
  },
  {
   "cell_type": "code",
   "execution_count": null,
   "id": "57378193",
   "metadata": {},
   "outputs": [],
   "source": [
    "nt = input_1.Parameters.Populations.cum_sum[end] #total number of groups and farms\n",
    "nc = 5 #number of classes\n",
    "eqs = 11 #number of processes\n",
    "n_ens = 100 #number of runs in ensemble\n",
    "\n",
    "dc = sparse(zeros(nt*nc,nt*eqs))\n",
    "\n",
    "#const _dc = zeros(nt*5,nt*10)\n",
    "\n",
    "dc[0*nc*nt+1:nc*nt*eqs+nc:end] .= 1\n",
    "dc[1*nc*nt+1:nc*nt*eqs+nc:end] .= -1\n",
    "dc[2*nc*nt+1:nc*nt*eqs+nc:end] .= -1\n",
    "dc[10*nc*nt+1:nc*nt*eqs+nc:end] .= 1\n",
    "\n",
    "dc[2*nc*nt+2:nc*nt*eqs+nc:end] .= 1\n",
    "dc[3*nc*nt+2:nc*nt*eqs+nc:end] .= -1\n",
    "dc[4*nc*nt+2:nc*nt*eqs+nc:end] .= -1\n",
    "\n",
    "dc[4*nc*nt+3:nc*nt*eqs+nc:end] .= 1\n",
    "dc[5*nc*nt+3:nc*nt*eqs+nc:end] .= -1\n",
    "dc[6*nc*nt+3:nc*nt*eqs+nc:end] .= -1\n",
    "dc[7*nc*nt+3:nc*nt*eqs+nc:end] .= -1\n",
    "\n",
    "dc[7*nc*nt+4:nc*nt*eqs+nc:end] .= 1\n",
    "dc[8*nc*nt+4:nc*nt*eqs+nc:end] .= -1\n",
    "dc[10*nc*nt+4:nc*nt*eqs+nc:end] .= -1\n",
    "\n",
    "\n",
    "dc[5*nc*nt+5:nc*nt*eqs+nc:end] .= 1\n",
    "dc[6*nc*nt+5:nc*nt*eqs+nc:end] .= 1\n",
    "dc[9*nc*nt+5:nc*nt*eqs+nc:end] .= -1;"
   ]
  },
  {
   "cell_type": "code",
   "execution_count": null,
   "id": "c1ebd047-a748-4178-ba6c-a48c5d0f8c04",
   "metadata": {},
   "outputs": [],
   "source": [
    "function regular_c(du,u,p,t,counts,mark)  \n",
    "    mul!(du,dc,counts)\n",
    "    nothing\n",
    "end\n",
    "\n",
    "function prob_func(prob,i,repeat) #function to change parameters while keeping network the same\n",
    "    ASF_Model.reparam!(input_1)\n",
    "    remake(prob,p=input_1.Parameters)\n",
    "end "
   ]
  },
  {
   "cell_type": "markdown",
   "id": "0c2d8254-d686-486b-823c-b13524343708",
   "metadata": {},
   "source": [
    "## Running the Model"
   ]
  },
  {
   "cell_type": "markdown",
   "id": "8baa5843-5ecf-4a53-bbc7-a7e01b03a702",
   "metadata": {
    "jp-MarkdownHeadingCollapsed": true,
    "tags": []
   },
   "source": [
    "### Frequency run"
   ]
  },
  {
   "cell_type": "code",
   "execution_count": null,
   "id": "2d4efe19",
   "metadata": {},
   "outputs": [],
   "source": [
    "include(\"/home/callum/ASF/Modules/ASF_input.jl\");\n",
    "include(\"/home/callum/ASF/Modules/ASF_model.jl\");"
   ]
  },
  {
   "cell_type": "code",
   "execution_count": null,
   "id": "8d19ced4",
   "metadata": {},
   "outputs": [],
   "source": [
    "input_1 = ASF_Inputs.Model_Data(input_path); #creating parameters to run model"
   ]
  },
  {
   "cell_type": "code",
   "execution_count": null,
   "id": "203159f6",
   "metadata": {},
   "outputs": [],
   "source": [
    "u0 = input_1.U0\n",
    "u0[1:5:end] += u0[2:5:end] +u0[3:5:end]\n",
    "u0[2:5:end] .= 0\n",
    "u0[3:5:end] .= 0;\n",
    "\n"
   ]
  },
  {
   "cell_type": "code",
   "execution_count": null,
   "id": "9e088da3",
   "metadata": {},
   "outputs": [],
   "source": [
    "N_years = 3\n",
    "n_ens = 10\n",
    "\n",
    "rj = RegularJump(ASF_Model.density_rate, regular_c, eqs*nt)\n",
    "\n",
    "prob = DiscreteProblem(input_1.U0,(0.0,365.0*N_years),input_1.Parameters)\n",
    "\n",
    "jump_prob = JumpProblem(prob,Direct(),rj)\n",
    "\n",
    "sol = solve(jump_prob, SimpleTauLeaping(), dt= 1)#callback=DiscreteCallback(pcondit,paffect!), dt=1 ) ;\n",
    "#ensemble_prob_m = EnsembleProblem(jump_prob)#,prob_func=prob_func)\n",
    "#output = solve(ensemble_prob_m, SimpleTauLeaping(), dt=1, trajectories= n_ens);"
   ]
  },
  {
   "cell_type": "code",
   "execution_count": null,
   "id": "f64ffa22",
   "metadata": {},
   "outputs": [],
   "source": [
    "n_sims = 100\n",
    "final_pops = Vector{Int16}(undef, n_sims)\n",
    "\n",
    "\n",
    "for i in 1:n_sims\n",
    "    sol = output[i]\n",
    "    data = reduce(vcat,transpose.(sol.u))\n",
    "    \n",
    "    if any(x->x <0, data)\n",
    "        println(\"Need to Reduce Timestep\")\n",
    "        data[data .< 0 ] .= 0\n",
    "    end\n",
    "    \n",
    "    s_d = data[:,1:5:end]\n",
    "    e_d = data[:,2:5:end]\n",
    "    i_d = data[:,3:5:end]\n",
    "    r_d = data[:,4:5:end]\n",
    "    c_d = data[:,5:5:end]\n",
    "    \n",
    "    disease = e_d + i_d + c_d #classes with disease\n",
    "    disease_free = s_d + r_d #classes without disease\n",
    "    \n",
    "    disease_sum = sum(disease,dims=2)\n",
    "    pop_sum = sum(disease+disease_free,dims=2)\n",
    "    \n",
    "    N = s_d + e_d + i_d+ r_d + c_d;\n",
    "\n",
    "    final_pop = sum(N[end,:])\n",
    "    final_pops[i] = final_pop\n",
    "end "
   ]
  },
  {
   "cell_type": "markdown",
   "id": "6d9290a6-741b-4bc1-98ae-d18ba11943ec",
   "metadata": {},
   "source": [
    "## Running Multiple Networks"
   ]
  },
  {
   "cell_type": "code",
   "execution_count": null,
   "id": "36c89bba-d9b4-4dce-abf3-643815d0f780",
   "metadata": {},
   "outputs": [],
   "source": [
    "function sensitivity(n_networks, n_dist, n_runs, path, name)\n",
    "    \n",
    "    input_folder = splitpath(path)[end]\n",
    "    base_path = rsplit(path, input_folder)[1]\n",
    "\n",
    "    #making save directory\n",
    "    dir = \"$(base_path)Results/$(name)\"\n",
    "\n",
    "    isdir(dir) || mkdir(dir)\n",
    "    cd(dir)\n",
    "\n",
    "    #copying inputs\n",
    "    cp(\"$(path)\", \"Inputs\",force = true)\n",
    "    \n",
    "    for i = 1:n_networks\n",
    "        inputs = ASF_Inputs.Model_Data(path); #creating parameters to run model\n",
    "        for j = 1:n_dist\n",
    "\n",
    "            rj = RegularJump(ASF_Model.density_rate,regular_c,eqs*nt)\n",
    "            jumps = JumpSet(rj)\n",
    "            prob = DiscreteProblem(inputs.U0,inputs.Time,inputs.Parameters)\n",
    "            jump_prob = JumpProblem(prob,Direct(),rj) \n",
    "            ensemble_prob_m = EnsembleProblem(jump_prob)\n",
    "            outputs = solve(ensemble_prob_m, SimpleTauLeaping(), trajectories= n_runs,EnsembleThreads(),dt=1);\n",
    "\n",
    "            summary = ASF_Analysis.quick_analysis(outputs, inputs) #update to new function from module (ASF_Model.quick_analysis(outputs))\n",
    "\n",
    "            writedlm( \"Results_$(i)_$(j).csv\",  summary, ',')\n",
    "            ASF_Model.reparam!(inputs) #re-doing params with\n",
    "        end\n",
    "        println(\"$(100*i/n_networks) %\")\n",
    "\n",
    "    end\n",
    "    \n",
    "end"
   ]
  },
  {
   "cell_type": "code",
   "execution_count": null,
   "id": "143b9cd0-be13-4d1f-b783-bc569ea2503b",
   "metadata": {},
   "outputs": [],
   "source": [
    "sensitivity(20,20,100,input_path, \"Dataout\") # running "
   ]
  },
  {
   "cell_type": "markdown",
   "id": "aff92f23-f670-4638-bef9-0cd232187225",
   "metadata": {
    "tags": []
   },
   "source": [
    "## Analysing Output"
   ]
  },
  {
   "cell_type": "code",
   "execution_count": null,
   "id": "05a74b64-4882-414e-9ad6-de310734a394",
   "metadata": {},
   "outputs": [],
   "source": [
    "density = ASF_Analysis.read_outputs(\"/home/callum/ASF/Results/Baseline//\");\n",
    "connect_5 = ASF_Analysis.read_outputs(\"/home/callum/ASF/Results/Connect_5//\");\n"
   ]
  },
  {
   "cell_type": "code",
   "execution_count": null,
   "id": "4158fb6b-d038-4fa5-808c-5ff1b3e89311",
   "metadata": {},
   "outputs": [],
   "source": [
    "density_r = ASF_Analysis.three_statistics(density,20, p_out = true);"
   ]
  },
  {
   "cell_type": "code",
   "execution_count": null,
   "id": "e28c635f-ce8a-4bfa-ae40-3447af0233a1",
   "metadata": {},
   "outputs": [],
   "source": [
    "connect_5_r = ASF_Analysis.three_statistics(connect_5,20, p_out = true);"
   ]
  }
 ],
 "metadata": {
  "kernelspec": {
   "display_name": "Julia 1.6.3",
   "language": "julia",
   "name": "julia-1.6"
  },
  "language_info": {
   "file_extension": ".jl",
   "mimetype": "application/julia",
   "name": "julia",
   "version": "1.6.3"
  }
 },
 "nbformat": 4,
 "nbformat_minor": 5
}
