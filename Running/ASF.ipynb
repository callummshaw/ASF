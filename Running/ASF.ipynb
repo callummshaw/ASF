{
 "cells": [
  {
   "cell_type": "markdown",
   "id": "8d0bb1ca-d118-40b2-8957-13458f555c66",
   "metadata": {},
   "source": [
    "# Running ASFMAUS"
   ]
  },
  {
   "cell_type": "code",
   "execution_count": null,
   "id": "c4e1dc9d",
   "metadata": {},
   "outputs": [],
   "source": [
    "using Distributed"
   ]
  },
  {
   "cell_type": "code",
   "execution_count": null,
   "id": "a2d61dac",
   "metadata": {
    "scrolled": true
   },
   "outputs": [],
   "source": [
    "addprocs(5)"
   ]
  },
  {
   "cell_type": "code",
   "execution_count": null,
   "id": "c57528da",
   "metadata": {},
   "outputs": [],
   "source": [
    "nprocs()"
   ]
  },
  {
   "cell_type": "code",
   "execution_count": 1,
   "id": "55239d5e-70a5-4eb3-b50b-8613bbfda5ed",
   "metadata": {},
   "outputs": [],
   "source": [
    "using StochasticDiffEq\n",
    "using DiffEqCallbacks\n",
    "using DifferentialEquations\n",
    " using LinearAlgebra\n",
    "using Statistics\n",
    "using SparseArrays\n",
    "\n",
    "using Plots\n",
    "using DelimitedFiles"
   ]
  },
  {
   "cell_type": "code",
   "execution_count": 47,
   "id": "f51a820e-0e85-4d30-b681-20ba0b44dfcd",
   "metadata": {},
   "outputs": [
    {
     "name": "stderr",
     "output_type": "stream",
     "text": [
      "WARNING: replacing module ASF_Inputs.\n",
      "WARNING: replacing module ASF_Analysis.\n",
      "WARNING: replacing module ASF_Model.\n"
     ]
    }
   ],
   "source": [
    " include(\"/home/callum/ASF/Modules/ASF_input.jl\");\n",
    "include(\"/home/callum/ASF/Modules/ASF_analysis.jl\");\n",
    "\n",
    " include(\"/home/callum/ASF/Modules/ASF_model.jl\");"
   ]
  },
  {
   "cell_type": "code",
   "execution_count": 4,
   "id": "fed60c4a-b1a0-413f-aec9-69f55f33c32a",
   "metadata": {},
   "outputs": [],
   "source": [
    "input_path = \"/home/callum/ASF/Inputs/\";"
   ]
  },
  {
   "cell_type": "code",
   "execution_count": 39,
   "id": "1c0df8f2-76f7-44c9-ad12-704d9e8db9e2",
   "metadata": {},
   "outputs": [
    {
     "name": "stdout",
     "output_type": "stream",
     "text": [
      "Watts Strogatz Small Worlds Network\n",
      "Random: 1\n",
      "Warning 1 disconnected feral groups!\n"
     ]
    }
   ],
   "source": [
    "input_1 = ASF_Inputs.Model_Data(input_path); #creating parameters to run model"
   ]
  },
  {
   "cell_type": "code",
   "execution_count": 43,
   "id": "57378193",
   "metadata": {},
   "outputs": [],
   "source": [
    " nt = 500#input_1.Parameters.Populations.cum_sum[end] #total number of groups and farms\n",
    " nc = 5 #number of classes\n",
    " eqs = 11 #number of processes\n",
    "\n",
    " dc = sparse(zeros(nt*nc,nt*eqs))\n",
    "\n",
    "#const _dc = zeros(nt*5,nt*10)\n",
    "\n",
    "dc[0*nc*nt+1:nc*nt*eqs+nc:end] .= 1\n",
    "dc[1*nc*nt+1:nc*nt*eqs+nc:end] .= -1\n",
    "dc[2*nc*nt+1:nc*nt*eqs+nc:end] .= -1\n",
    "dc[10*nc*nt+1:nc*nt*eqs+nc:end] .= 1\n",
    "\n",
    "dc[2*nc*nt+2:nc*nt*eqs+nc:end] .= 1\n",
    "dc[3*nc*nt+2:nc*nt*eqs+nc:end] .= -1\n",
    "dc[4*nc*nt+2:nc*nt*eqs+nc:end] .= -1\n",
    "\n",
    "dc[4*nc*nt+3:nc*nt*eqs+nc:end] .= 1\n",
    "dc[5*nc*nt+3:nc*nt*eqs+nc:end] .= -1\n",
    "dc[6*nc*nt+3:nc*nt*eqs+nc:end] .= -1\n",
    "dc[7*nc*nt+3:nc*nt*eqs+nc:end] .= -1\n",
    "\n",
    "dc[7*nc*nt+4:nc*nt*eqs+nc:end] .= 1\n",
    "dc[8*nc*nt+4:nc*nt*eqs+nc:end] .= -1\n",
    "dc[10*nc*nt+4:nc*nt*eqs+nc:end] .= -1\n",
    "\n",
    "\n",
    "dc[5*nc*nt+5:nc*nt*eqs+nc:end] .= 1\n",
    "dc[6*nc*nt+5:nc*nt*eqs+nc:end] .= 1\n",
    "dc[9*nc*nt+5:nc*nt*eqs+nc:end] .= -1;"
   ]
  },
  {
   "cell_type": "code",
   "execution_count": null,
   "id": "f708d9fa",
   "metadata": {},
   "outputs": [],
   "source": []
  },
  {
   "cell_type": "code",
   "execution_count": null,
   "id": "ab7e1f55",
   "metadata": {},
   "outputs": [],
   "source": []
  },
  {
   "cell_type": "code",
   "execution_count": null,
   "id": "a8d9c0a4",
   "metadata": {},
   "outputs": [],
   "source": []
  },
  {
   "cell_type": "code",
   "execution_count": 36,
   "id": "1c1fe084",
   "metadata": {},
   "outputs": [
    {
     "data": {
      "text/plain": [
       "2-element Vector{UInt16}:\n",
       " 0x0003\n",
       " 0x0000"
      ]
     },
     "execution_count": 36,
     "metadata": {},
     "output_type": "execute_result"
    }
   ],
   "source": [
    "input_1.Populations_data[1].N_feral"
   ]
  },
  {
   "cell_type": "code",
   "execution_count": 44,
   "id": "c1ebd047-a748-4178-ba6c-a48c5d0f8c04",
   "metadata": {},
   "outputs": [
    {
     "data": {
      "text/plain": [
       "prob_func (generic function with 1 method)"
      ]
     },
     "execution_count": 44,
     "metadata": {},
     "output_type": "execute_result"
    }
   ],
   "source": [
    " function regular_c(du,u,p,t,counts,mark)  \n",
    "    mul!(du,dc,counts)\n",
    "    nothing\n",
    "end\n",
    "\n",
    "function prob_func(prob,i,repeat) #function to change parameters while keeping network the same\n",
    "    ASF_Model.reparam!(input_1)\n",
    "    remake(prob,p=input_1.Parameters)\n",
    "end "
   ]
  },
  {
   "cell_type": "markdown",
   "id": "0c2d8254-d686-486b-823c-b13524343708",
   "metadata": {},
   "source": [
    "## Running the Model"
   ]
  },
  {
   "cell_type": "markdown",
   "id": "8baa5843-5ecf-4a53-bbc7-a7e01b03a702",
   "metadata": {
    "jp-MarkdownHeadingCollapsed": true,
    "tags": []
   },
   "source": [
    "### Frequency run"
   ]
  },
  {
   "cell_type": "code",
   "execution_count": 45,
   "id": "bf0edba1",
   "metadata": {},
   "outputs": [
    {
     "name": "stdout",
     "output_type": "stream",
     "text": [
      "Watts Strogatz Small Worlds Network\n",
      "Random: 1\n",
      "Warning 1 disconnected feral groups!\n"
     ]
    }
   ],
   "source": [
    "input_1 = ASF_Inputs.Model_Data(input_path); #creating parameters to run model"
   ]
  },
  {
   "cell_type": "code",
   "execution_count": 59,
   "id": "4ae02564",
   "metadata": {},
   "outputs": [
    {
     "data": {
      "text/plain": [
       "retcode: Default\n",
       "Interpolation: Piecewise constant interpolation\n",
       "t: 0.0:1.0:1825.0\n",
       "u: 1826-element Vector{Vector{Int64}}:\n",
       " [4090, 5, 5, 0, 0]\n",
       " [4089, 5, 6, 0, 1]\n",
       " [4085, 8, 6, 0, 2]\n",
       " [4069, 19, 5, 0, 3]\n",
       " [4058, 19, 8, 0, 4]\n",
       " [4045, 26, 7, 1, 5]\n",
       " [4036, 27, 10, 2, 5]\n",
       " [4031, 31, 16, 2, 7]\n",
       " [4018, 27, 25, 2, 8]\n",
       " [4003, 35, 30, 2, 10]\n",
       " [3975, 50, 27, 3, 16]\n",
       " [3949, 74, 26, 4, 21]\n",
       " [3921, 80, 39, 5, 24]\n",
       " ⋮\n",
       " [0, 2, 0, 9, 3]\n",
       " [0, 2, 0, 9, 3]\n",
       " [0, 2, 0, 9, 3]\n",
       " [0, 2, 0, 9, 3]\n",
       " [0, 2, 0, 9, 3]\n",
       " [0, 2, 0, 8, 3]\n",
       " [0, 2, 0, 8, 3]\n",
       " [0, 2, 0, 8, 3]\n",
       " [0, 2, 0, 8, 2]\n",
       " [0, 0, 2, 8, 2]\n",
       " [0, 0, 1, 9, 2]\n",
       " [0, 0, 1, 9, 2]"
      ]
     },
     "execution_count": 59,
     "metadata": {},
     "output_type": "execute_result"
    }
   ],
   "source": [
    "\n",
    "N_years = 5\n",
    "\n",
    " rj = RegularJump(ASF_Model.density_rate_single,regular_c,eqs*nt)\n",
    "\n",
    " jumps = JumpSet(rj)\n",
    "\n",
    " prob = DiscreteProblem(init_pop,(0.0,365*N_years),input_1.Parameters)\n",
    "\n",
    " jump_prob = JumpProblem(prob,Direct(),rj) #rng=rng)\n",
    "\n",
    "sol = solve(jump_prob, SimpleTauLeaping(),dt=1)\n",
    " #ensemble_prob_m = EnsembleProblem(jump_prob)#,prob_func=prob_func)\n"
   ]
  },
  {
   "cell_type": "code",
   "execution_count": null,
   "id": "778c4296",
   "metadata": {},
   "outputs": [],
   "source": [
    "Threads.nthreads()"
   ]
  },
  {
   "cell_type": "code",
   "execution_count": null,
   "id": "0982e611",
   "metadata": {},
   "outputs": [],
   "source": [
    "solve(ensemble_prob_m, SimpleTauLeaping(),trajectories= 10,EnsembleSplitThreads(), dt=1);"
   ]
  },
  {
   "cell_type": "code",
   "execution_count": null,
   "id": "18971cf7",
   "metadata": {},
   "outputs": [],
   "source": [
    "Threads.nthreads()"
   ]
  },
  {
   "cell_type": "code",
   "execution_count": null,
   "id": "26df12d6",
   "metadata": {},
   "outputs": [],
   "source": []
  },
  {
   "cell_type": "code",
   "execution_count": null,
   "id": "e3c105f6",
   "metadata": {},
   "outputs": [],
   "source": [
    "data = reduce(vcat,transpose.(sol.u))\n",
    "    \n",
    "if any(x->x <0, data)\n",
    "    println(\"Need to Reduce Timestep\")\n",
    "    data[data .< 0 ] .= 0\n",
    "end\n",
    "\n",
    "s_d = data[:,1:5:end]\n",
    "e_d = data[:,2:5:end]\n",
    "i_d = data[:,3:5:end]\n",
    "r_d = data[:,4:5:end]\n",
    "c_d = data[:,5:5:end]\n",
    "\n",
    "disease = e_d + i_d + c_d #classes with disease\n",
    "disease_free = s_d + r_d #classes without disease\n",
    "\n",
    "disease_sum = sum(disease,dims=2);\n",
    "pop_sum = sum(disease_free,dims=2);"
   ]
  },
  {
   "cell_type": "code",
   "execution_count": null,
   "id": "5dd7053f",
   "metadata": {},
   "outputs": [],
   "source": [
    "plot(pop_sum)\n",
    "plot!(disease_sum)"
   ]
  },
  {
   "cell_type": "code",
   "execution_count": null,
   "id": "a2bc2cc2",
   "metadata": {},
   "outputs": [],
   "source": [
    "input_1 = ASF_Inputs.Model_Data(input_path); #creating parameters to run model\n",
    "prob = ODEProblem(SEIRC_ODE!,input_1.U0,(0.0,365.0*N_years),input_1.Parameters);\n",
    "sol=solve(prob, QNDF(),saveat=1);\n"
   ]
  },
  {
   "cell_type": "code",
   "execution_count": 68,
   "id": "48f34a6d",
   "metadata": {},
   "outputs": [
    {
     "data": {
      "text/plain": [
       "sensitivity3 (generic function with 1 method)"
      ]
     },
     "execution_count": 68,
     "metadata": {},
     "output_type": "execute_result"
    }
   ],
   "source": [
    "function sensitivity3(n_networks, n_runs, path,name)\n",
    "    \n",
    "   \n",
    "    input_folder = splitpath(path)[end]\n",
    "    base_path = rsplit(path, input_folder)[1]\n",
    "    \n",
    "    #making save directory\n",
    "    dir = \"$(base_path)Results/$(name)\"\n",
    "\n",
    "    isdir(dir) || mkdir(dir)\n",
    "    cd(dir)\n",
    "\n",
    "    #copying inputs\n",
    "    cp(\"$(path)\", \"Inputs\",force = true)\n",
    "\n",
    "    for i = 1:n_networks\n",
    "\n",
    "        println(\"$(100*i/n_networks) %\")\n",
    "        inputs = ASF_Inputs.Model_Data(path); #creating parameters to run model\n",
    "\n",
    "        rj = RegularJump(ASF_Model.density_rate,regular_c,eqs*nt)\n",
    "        prob = DiscreteProblem(init_pop,inputs.Time,inputs.Parameters)\n",
    "        jump_prob = JumpProblem(prob,Direct(),rj) \n",
    "        ensemble_prob_m = EnsembleProblem(jump_prob)\n",
    "\n",
    "\n",
    "        outputs = solve(ensemble_prob_m, SimpleTauLeaping(), trajectories= n_runs,dt=1)\n",
    "        stats = one_population_analysis(outputs) #stats for each run\n",
    "        writedlm( \"Results_$(i).csv\",  stats, ',')\n",
    "    end\n",
    "        \n",
    "\n",
    "end"
   ]
  },
  {
   "cell_type": "code",
   "execution_count": 69,
   "id": "ce7b3a78",
   "metadata": {},
   "outputs": [
    {
     "data": {
      "text/plain": [
       "one_population_analysis (generic function with 1 method)"
      ]
     },
     "execution_count": 69,
     "metadata": {},
     "output_type": "execute_result"
    }
   ],
   "source": [
    "function one_population_analysis(output)\n",
    "    \n",
    "    stats = 6\n",
    "    years_till_endemic = 3\n",
    "    classes, t_steps, n_ens = size(output) \n",
    "    times = output[1].t\n",
    "    n_g = classes ./ 5\n",
    "\n",
    "    Data_store = Matrix{Float32}(undef,n_ens,stats)\n",
    "\n",
    "    for i in 1:n_ens #looping through ensemble_run\n",
    "\n",
    "        sol = output[i]\n",
    "        data = reduce(vcat,transpose.(sol.u))\n",
    "\n",
    "        if any(x->x <0, data)\n",
    "            println(\"Need to Reduce Timestep\")\n",
    "            data[data .< 0 ] .= 0\n",
    "        end\n",
    "        \n",
    "        s_d = data[:,1:5:end]\n",
    "        e_d = data[:,2:5:end]\n",
    "        i_d = data[:,3:5:end]\n",
    "        r_d = data[:,4:5:end]\n",
    "        c_d = data[:,5:5:end]\n",
    "\n",
    "        disease_total = e_d + i_d + c_d #classes with disease\n",
    "        disease_alive = e_d + i_d\n",
    "\n",
    "        disease_free = s_d + r_d #classes without disease\n",
    "        \n",
    "        disease_sum = sum(disease_total,dims=2)\n",
    "        diease_alive_sum =  sum(disease_alive,dims=2)\n",
    "        disease_free_sum = sum(disease_free,dims=2)\n",
    "        population_sum = diease_alive_sum + disease_free_sum\n",
    "        \n",
    "        #we first want to see dieout time/if the diease was endemic \n",
    "        if disease_sum[end] > 0\n",
    "            #Endemic/still present at end of simulation\n",
    "            Data_store[i,1] = -1\n",
    "        else #dies out\n",
    "            dieout_index = findfirst(==(0), disease_sum)[1]\n",
    "            Data_store[i,1] = times[dieout_index]\n",
    "        end\n",
    "\n",
    "        #now lets find the maximum time\n",
    "        max_time_index=findfirst(==(maximum(disease_sum)), disease_sum)[1]\n",
    "        Data_store[i,2] = times[max_time_index]\n",
    "\n",
    "        #Endemic prevalence and groups alive\n",
    "        if Data_store[i,1] == -1 #if endemic\n",
    "            prevalence = 100*(diease_alive_sum ./ population_sum)\n",
    "            e_prev = prevalence[365*years_till_endemic:end]\n",
    "            Data_store[i,3] = mean(e_prev)\n",
    "        else\n",
    "            Data_store[i,3] = 0\n",
    "        end\n",
    "\n",
    "        #now looking at the number of groups alive at either dieout time or end if endemic\n",
    "        exposed_groups = sum(disease_total, dims = 1)\n",
    "        n_exposed = count(>(0), exposed_groups)\n",
    "        Data_store[i,4] = 100*n_exposed/n_g\n",
    "        \n",
    "        population_decline = 100(1-minimum(population_sum)/population_sum[1])\n",
    "        Data_store[i,5] = population_decline\n",
    "        \n",
    "        \n",
    "        #Now want to look at minimum number of groups alive\n",
    "\n",
    "        mimum_alive = minimum(sum((disease_alive + disease_free) .> 0, dims = 2))\n",
    "        Data_store[i,6] = 100*mimum_alive/n_g\n",
    "    end\n",
    "    \n",
    "    return Data_store\n",
    "\n",
    "end\n"
   ]
  },
  {
   "cell_type": "markdown",
   "id": "6d9290a6-741b-4bc1-98ae-d18ba11943ec",
   "metadata": {},
   "source": [
    "## Running Multiple Networks"
   ]
  },
  {
   "cell_type": "code",
   "execution_count": 71,
   "id": "2f61942e",
   "metadata": {},
   "outputs": [
    {
     "name": "stdout",
     "output_type": "stream",
     "text": [
      "10.0 %\n",
      "Watts Strogatz Small Worlds Network\n",
      "Random: 1\n",
      "Warning 1 disconnected feral groups!\n",
      "20.0 %\n",
      "Watts Strogatz Small Worlds Network\n",
      "Random: 1\n",
      "Warning 1 disconnected feral groups!\n",
      "30.0 %\n",
      "Watts Strogatz Small Worlds Network\n",
      "Random: 1\n",
      "Warning 1 disconnected feral groups!\n",
      "40.0 %\n",
      "Watts Strogatz Small Worlds Network\n",
      "Random: 1\n",
      "Warning 1 disconnected feral groups!\n",
      "50.0 %\n",
      "Watts Strogatz Small Worlds Network\n",
      "Random: 1\n",
      "Warning 1 disconnected feral groups!\n",
      "60.0 %\n",
      "Watts Strogatz Small Worlds Network\n",
      "Random: 1\n",
      "Warning 1 disconnected feral groups!\n",
      "70.0 %\n",
      "Watts Strogatz Small Worlds Network\n",
      "Random: 1\n",
      "Warning 1 disconnected feral groups!\n",
      "80.0 %\n",
      "Watts Strogatz Small Worlds Network\n",
      "Random: 1\n",
      "Warning 1 disconnected feral groups!\n",
      "90.0 %\n",
      "Watts Strogatz Small Worlds Network\n",
      "Random: 1\n",
      "Warning 1 disconnected feral groups!\n",
      "100.0 %\n",
      "Watts Strogatz Small Worlds Network\n",
      "Random: 1\n",
      "Warning 1 disconnected feral groups!\n"
     ]
    }
   ],
   "source": [
    "sensitivity3(10,10,input_path,\"ONE_5\")"
   ]
  },
  {
   "cell_type": "code",
   "execution_count": null,
   "id": "f6215bba",
   "metadata": {},
   "outputs": [],
   "source": [
    "Threads.nthreads()"
   ]
  },
  {
   "cell_type": "code",
   "execution_count": null,
   "id": "cd1d68f1",
   "metadata": {},
   "outputs": [],
   "source": []
  },
  {
   "cell_type": "code",
   "execution_count": null,
   "id": "36c89bba-d9b4-4dce-abf3-643815d0f780",
   "metadata": {},
   "outputs": [],
   "source": [
    "function sensitivity(n_networks, n_dist, n_runs, path, name)\n",
    "    \n",
    "    input_folder = splitpath(path)[end]\n",
    "    base_path = rsplit(path, input_folder)[1]\n",
    "\n",
    "    #making save directory\n",
    "    dir = \"$(base_path)Results/$(name)\"\n",
    "\n",
    "    isdir(dir) || mkdir(dir)\n",
    "    cd(dir)\n",
    "\n",
    "    #copying inputs\n",
    "    cp(\"$(path)\", \"Inputs\",force = true)\n",
    "    \n",
    "    for i = 1:n_networks\n",
    "        println(\"$(100*i/n_networks) %\")\n",
    "        inputs = ASF_Inputs.Model_Data(path); #creating parameters to run model\n",
    "        for j = 1:n_dist\n",
    "\n",
    "            rj = RegularJump(ASF_Model.density_rate,regular_c,eqs*nt)\n",
    "            prob = DiscreteProblem(inputs.U0,inputs.Time,inputs.Parameters)\n",
    "            jump_prob = JumpProblem(prob,Direct(),rj) \n",
    "            ensemble_prob_m = EnsembleProblem(jump_prob)\n",
    "            outputs = solve(ensemble_prob_m, SimpleTauLeaping(), trajectories= n_runs,EnsembleThreads(),dt=1);\n",
    "\n",
    "            summary = ASF_Analysis.quick_analysis(outputs, inputs) #update to new function from module (ASF_Model.quick_analysis(outputs))\n",
    "\n",
    "            writedlm( \"Results_$(i)_$(j).csv\",  summary, ',')\n",
    "            ASF_Model.reparam!(inputs) #re-doing params with\n",
    "        end\n",
    "        \n",
    "\n",
    "    end\n",
    "    re\n",
    "end"
   ]
  },
  {
   "cell_type": "code",
   "execution_count": null,
   "id": "8926dc5c",
   "metadata": {},
   "outputs": [],
   "source": [
    "function sensitivity2(n_networks, n_dist, n_runs, path)\n",
    "    sumss = Vector{Float64}(undef, n_networks*n_dist*n_runs)\n",
    "    println(n_runs)\n",
    "    println(n_dist)\n",
    "    println(n_networks)\n",
    "    for i = 1:n_networks\n",
    "        println(\"$(100*i/n_networks) %\")\n",
    "        inputs = ASF_Inputs.Model_Data(path); #creating parameters to run model\n",
    "\n",
    "        inputs.U0[1:5:end] += (inputs.U0[2:5:end] +inputs.U0[3:5:end])\n",
    "        inputs.U0[2:5:end] .= 0;\n",
    "        inputs.U0[3:5:end] .= 0;\n",
    "\n",
    "        for j = 1:n_dist\n",
    "\n",
    "            rj = RegularJump(ASF_Model.density_rate,regular_c,eqs*nt)\n",
    "            prob = DiscreteProblem(inputs.U0,inputs.Time,inputs.Parameters)\n",
    "            jump_prob = JumpProblem(prob,Direct(),rj) \n",
    "            ensemble_prob_m = EnsembleProblem(jump_prob)\n",
    "            outputs = solve(ensemble_prob_m, SimpleTauLeaping(), trajectories= n_runs,EnsembleThreads(),dt=1);\n",
    "\n",
    "            #summary = ASF_Analysis.quick_analysis(outputs, inputs) #update to new function from module (ASF_Model.quick_analysis(outputs))\n",
    "\n",
    "            for k = 1:n_runs\n",
    "                final_p = sum(outputs[k].u[end])/sum(inputs.U0)\n",
    "                sumss[n_networks*(i-1)+k] = final_p\n",
    "            end\n",
    "            ASF_Model.reparam!(inputs) #re-doing params with\n",
    "        end\n",
    "        \n",
    "\n",
    "    end\n",
    "    return sumss\n",
    "end"
   ]
  },
  {
   "cell_type": "code",
   "execution_count": null,
   "id": "143b9cd0-be13-4d1f-b783-bc569ea2503b",
   "metadata": {},
   "outputs": [],
   "source": [
    "sensitivity(10,10,10,Linear, \"ET\") # running "
   ]
  },
  {
   "cell_type": "markdown",
   "id": "aff92f23-f670-4638-bef9-0cd232187225",
   "metadata": {
    "tags": []
   },
   "source": [
    "## Analysing Output"
   ]
  },
  {
   "cell_type": "code",
   "execution_count": null,
   "id": "05a74b64-4882-414e-9ad6-de310734a394",
   "metadata": {},
   "outputs": [],
   "source": [
    "density = ASF_Analysis.read_outputs(\"/home/callum/ASF/Results/Baseline//\");\n",
    "connect_5 = ASF_Analysis.read_outputs(\"/home/callum/ASF/Results/Connect_5//\");\n"
   ]
  },
  {
   "cell_type": "code",
   "execution_count": null,
   "id": "4158fb6b-d038-4fa5-808c-5ff1b3e89311",
   "metadata": {},
   "outputs": [],
   "source": [
    "density_r = ASF_Analysis.three_statistics(density,20, p_out = true);"
   ]
  },
  {
   "cell_type": "code",
   "execution_count": null,
   "id": "e28c635f-ce8a-4bfa-ae40-3447af0233a1",
   "metadata": {},
   "outputs": [],
   "source": [
    "connect_5_r = ASF_Analysis.three_statistics(connect_5,20, p_out = true);"
   ]
  },
  {
   "cell_type": "code",
   "execution_count": null,
   "id": "3b2f314d",
   "metadata": {},
   "outputs": [],
   "source": []
  },
  {
   "cell_type": "code",
   "execution_count": null,
   "id": "e21b28b6",
   "metadata": {},
   "outputs": [],
   "source": [
    "using DifferentialEquations, BenchmarkTools"
   ]
  },
  {
   "cell_type": "code",
   "execution_count": null,
   "id": "a8fdaaa8",
   "metadata": {},
   "outputs": [],
   "source": [
    "function lorenz(u,p,t)\n",
    "    dx = 10.0*(u[2]-u[1])\n",
    "    dy = u[1]*(28.0-u[3]) - u[2]\n",
    "    dz = u[1]*u[2] - (8/3)*u[3]\n",
    "    [dx,dy,dz]\n",
    "   end"
   ]
  },
  {
   "cell_type": "code",
   "execution_count": null,
   "id": "bdbeb149",
   "metadata": {},
   "outputs": [],
   "source": [
    "u0 = [1.0;0.0;0.0]\n",
    "tspan = (0.0,100.0)\n",
    "prob = ODEProblem(lorenz,u0,tspan)\n",
    "@benchmark solve(prob,Tsit5())"
   ]
  },
  {
   "cell_type": "code",
   "execution_count": null,
   "id": "70814240",
   "metadata": {},
   "outputs": [],
   "source": [
    "u0 = [1.0;0.0;0.0]\n",
    "tspan = (0.0,100.0)\n",
    "prob = ODEProblem(lorenz,u0,tspan)\n",
    "@benchmark solve(prob,Tsit5(),save_everystep=false)"
   ]
  },
  {
   "cell_type": "code",
   "execution_count": null,
   "id": "ba4ebd22",
   "metadata": {},
   "outputs": [],
   "source": [
    "function SEIRC_ODE!(du,u,p,t)\n",
    "    \n",
    "    ref_density = 3\n",
    "    \n",
    "    u[u.<0].=0 \n",
    "    \n",
    "    S = u[1:5:end]\n",
    "    E = u[2:5:end]\n",
    "    I = u[3:5:end]\n",
    "    R = u[4:5:end]\n",
    "    C = u[5:5:end]\n",
    "  \n",
    "    N = S + E + I + R + C .+ 0.0001\n",
    "    Np = S + E + I + R\n",
    "    \n",
    "    Pops = p.Populations \n",
    "    \n",
    "    tp = Pops.cum_sum[end]\n",
    "\n",
    "    beta = copy(p.β)\n",
    "    \n",
    "   \n",
    "    #calculating density of region\n",
    "    #for i in 1:Pops.pop\n",
    "    #    nf = Pops.feral[i] #number of feral groups in region\n",
    "    #    ncs = Pops.cum_sum[i] #cumsum of farm and ferals over all regions\n",
    "    N_feral = sum(Np) #total feral population in region i\n",
    "    Density = N_feral/Pops.area[1]\n",
    "    beta = beta * Density/ref_density\n",
    "   #end\n",
    "\n",
    "    column(i) = N .+ N[i]\n",
    "    populations  = hcat([column(i) for i=1:tp]...)\n",
    "    populations[diagind(populations)] = N;\n",
    "\n",
    "    connected_pops = p.β_b * Np\n",
    "\n",
    "    #procceses \n",
    "    Births = p.μ_b .* Np\n",
    "    Births[(p.μ_c .== 1) .& (Np .> 0)] .= 0 #preventing boar populations growing larger than one!\n",
    "    Births[(Np .== 0) .& (connected_pops .>2)] .= mean(p.μ_b)*2 #allowing migration births if neighbouring groups have pop\n",
    "    \n",
    "\n",
    "    \n",
    "    du[1:5:end] = Births - ((beta.* S) ./ populations) * (I + p.ω .* C) - p.μ_d .* S + (p.μ_b-p.μ_d)./tanh(1).*S.*tanh.(Np./p.μ_c)  + p.κ .* R #S\n",
    "    du[2:5:end] = ((beta.* S) ./ populations) * (I + p.ω .* C) - p.ζ .* E - p.μ_d .* E + (p.μ_b-p.μ_d)./tanh(1).*E.*tanh.(Np./p.μ_c) #E\n",
    "    du[3:5:end] = p.ζ .* E - p.γ .* I -  p.μ_d .* I+ (p.μ_b-p.μ_d)./tanh(1).*I.*tanh.(Np./p.μ_c) #I\n",
    "    du[4:5:end] = p.γ .* (1 .- p.ρ) .* I - p.μ_d .* R + (p.μ_b-p.μ_d)./tanh(1).*R.*tanh.(Np./p.μ_c) - p.κ .* R  #R\n",
    "    du[5:5:end] = p.ρ .* p.γ .* I + p.μ_d .* I+ (p.μ_b-p.μ_d)./tanh(1).*I.*tanh.(Np./p.μ_c) - p.λ .* C#C\n",
    "    nothing\n",
    "end"
   ]
  },
  {
   "cell_type": "code",
   "execution_count": null,
   "id": "f10e6484",
   "metadata": {},
   "outputs": [],
   "source": [
    "input_1 = ASF_Inputs.Model_Data(input_path); #creating parameters to run model\n",
    "prob = ODEProblem(SEIRC_ODE!,input_1.U0,(0.0,10*365.0),input_1.Parameters);\n",
    "\n"
   ]
  },
  {
   "cell_type": "code",
   "execution_count": null,
   "id": "57179156",
   "metadata": {},
   "outputs": [],
   "source": [
    "sol=solve(prob, AutoTsit5(Rosenbrock23()),saveat=7);"
   ]
  },
  {
   "cell_type": "code",
   "execution_count": null,
   "id": "16193df5",
   "metadata": {},
   "outputs": [],
   "source": [
    "@benchmark solve(prob, AutoTsit5(Rosenbrock23()),saveat=7)\n"
   ]
  },
  {
   "cell_type": "code",
   "execution_count": null,
   "id": "0ed73720",
   "metadata": {},
   "outputs": [],
   "source": [
    "@benchmark solve(prob, AutoTsit5(Rosenbrock23()),saveat=1)\n"
   ]
  },
  {
   "cell_type": "code",
   "execution_count": null,
   "id": "b05178a2",
   "metadata": {},
   "outputs": [],
   "source": [
    "@benchmark solve(prob, Tsit5(),saveat=1)\n"
   ]
  },
  {
   "cell_type": "code",
   "execution_count": null,
   "id": "632f205b",
   "metadata": {},
   "outputs": [],
   "source": [
    "p = [β, β_b,β_d,μ_b,μ_d,μ_c,ζ,γ,ω,ρ,λ,κ, pops]; \n",
    "\n"
   ]
  },
  {
   "cell_type": "code",
   "execution_count": null,
   "id": "1d16d8c1",
   "metadata": {},
   "outputs": [],
   "source": [
    "β = input_1.Parameters.β\n",
    "β_b = input_1.Parameters.β_b\n",
    "β_d= input_1.Parameters.β_d\n",
    "μ_b= input_1.Parameters.μ_b\n",
    "μ_d= input_1.Parameters.μ_d\n",
    "μ_c= input_1.Parameters.μ_c\n",
    "ζ= input_1.Parameters.ζ\n",
    "γ= input_1.Parameters.γ\n",
    "ω= input_1.Parameters.ω\n",
    "ρ= input_1.Parameters.ρ\n",
    "λ= input_1.Parameters.λ\n",
    "κ= input_1.Parameters.κ\n",
    "pops= input_1.Parameters.Populations\n"
   ]
  },
  {
   "cell_type": "code",
   "execution_count": null,
   "id": "afa1d2b6",
   "metadata": {},
   "outputs": [],
   "source": [
    "input_1.Parameters.Pops"
   ]
  },
  {
   "cell_type": "code",
   "execution_count": null,
   "id": "8a0f9dc9",
   "metadata": {},
   "outputs": [],
   "source": []
  }
 ],
 "metadata": {
  "kernelspec": {
   "display_name": "Julia 1.7.3",
   "language": "julia",
   "name": "julia-1.7"
  },
  "language_info": {
   "file_extension": ".jl",
   "mimetype": "application/julia",
   "name": "julia",
   "version": "1.7.3"
  }
 },
 "nbformat": 4,
 "nbformat_minor": 5
}
