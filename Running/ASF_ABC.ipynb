{
 "cells": [
  {
   "cell_type": "code",
   "execution_count": 1,
   "id": "c400741c",
   "metadata": {},
   "outputs": [],
   "source": [
    "using GpABC, Distances, Distributions, Plots, StatsBase, Printf\n",
    "using DiffEqCallbacks, DifferentialEquations, LinearAlgebra\n",
    "using DelimitedFiles, DataFrames, LinearAlgebra, SparseArrays\n"
   ]
  },
  {
   "cell_type": "code",
   "execution_count": 2,
   "id": "50d1d6f9",
   "metadata": {},
   "outputs": [
    {
     "data": {
      "text/plain": [
       "Main.ASF_Analysis"
      ]
     },
     "execution_count": 2,
     "metadata": {},
     "output_type": "execute_result"
    }
   ],
   "source": [
    "include(\"/home/callum/ASF/Modules/ASF_input.jl\");\n",
    "include(\"/home/callum/ASF/Modules/ASF_model.jl\");\n",
    "include(\"/home/callum/ASF/Modules/ASF_analysis.jl\")"
   ]
  },
  {
   "cell_type": "code",
   "execution_count": 3,
   "id": "b289afab",
   "metadata": {},
   "outputs": [
    {
     "data": {
      "text/plain": [
       "observed_params (generic function with 1 method)"
      ]
     },
     "execution_count": 3,
     "metadata": {},
     "output_type": "execute_result"
    }
   ],
   "source": [
    "function observed_params()\n",
    "    \n",
    "    obs =  Matrix{Float64}(undef,(3,1))\n",
    "    \n",
    "    endemic = 2 \n",
    "    decline = 80\n",
    "    peak = 180\n",
    "    \n",
    "    obs[1] = endemic\n",
    "    obs[2] = decline\n",
    "    obs[3] = peak\n",
    "    \n",
    "    return obs\n",
    "end\n"
   ]
  },
  {
   "cell_type": "code",
   "execution_count": 4,
   "id": "1ee1db8c",
   "metadata": {},
   "outputs": [],
   "source": [
    "input_path = \"/home/callum/ASF/ABC_INPUTS//\";"
   ]
  },
  {
   "cell_type": "code",
   "execution_count": 5,
   "id": "fbc17fed",
   "metadata": {},
   "outputs": [
    {
     "name": "stdout",
     "output_type": "stream",
     "text": [
      " Barabasi Albert Scale Free Network\n"
     ]
    }
   ],
   "source": [
    "\n",
    "input_1 = ASF_Inputs.Model_Data(input_path);"
   ]
  },
  {
   "cell_type": "code",
   "execution_count": 6,
   "id": "1d839dd1",
   "metadata": {},
   "outputs": [],
   "source": [
    "nt = 500#input_1.Parameters.Populations.cum_sum[end] #total number of groups and farms\n",
    "nc = 5 #number of classes\n",
    "eqs = 11 #number of processes\n",
    "n_ens = 100 #number of runs in ensemble\n",
    "\n",
    "dc = sparse(zeros(nt*nc,nt*eqs))\n",
    "\n",
    "#const _dc = zeros(nt*5,nt*10)\n",
    "\n",
    "dc[0*nc*nt+1:nc*nt*eqs+nc:end] .= 1\n",
    "dc[1*nc*nt+1:nc*nt*eqs+nc:end] .= -1\n",
    "dc[2*nc*nt+1:nc*nt*eqs+nc:end] .= -1\n",
    "dc[10*nc*nt+1:nc*nt*eqs+nc:end] .= 1\n",
    "\n",
    "dc[2*nc*nt+2:nc*nt*eqs+nc:end] .= 1\n",
    "dc[3*nc*nt+2:nc*nt*eqs+nc:end] .= -1\n",
    "dc[4*nc*nt+2:nc*nt*eqs+nc:end] .= -1\n",
    "\n",
    "dc[4*nc*nt+3:nc*nt*eqs+nc:end] .= 1\n",
    "dc[5*nc*nt+3:nc*nt*eqs+nc:end] .= -1\n",
    "dc[6*nc*nt+3:nc*nt*eqs+nc:end] .= -1\n",
    "dc[7*nc*nt+3:nc*nt*eqs+nc:end] .= -1\n",
    "\n",
    "dc[7*nc*nt+4:nc*nt*eqs+nc:end] .= 1\n",
    "dc[8*nc*nt+4:nc*nt*eqs+nc:end] .= -1\n",
    "dc[10*nc*nt+4:nc*nt*eqs+nc:end] .= -1\n",
    "\n",
    "\n",
    "dc[5*nc*nt+5:nc*nt*eqs+nc:end] .= 1\n",
    "dc[6*nc*nt+5:nc*nt*eqs+nc:end] .= 1\n",
    "dc[9*nc*nt+5:nc*nt*eqs+nc:end] .= -1;"
   ]
  },
  {
   "cell_type": "code",
   "execution_count": 7,
   "id": "026366b9",
   "metadata": {},
   "outputs": [
    {
     "data": {
      "text/plain": [
       "regular_c (generic function with 1 method)"
      ]
     },
     "execution_count": 7,
     "metadata": {},
     "output_type": "execute_result"
    }
   ],
   "source": [
    "function regular_c(du,u,p,t,counts,mark)  \n",
    "    mul!(du,dc,counts)\n",
    "    nothing\n",
    "end"
   ]
  },
  {
   "cell_type": "code",
   "execution_count": 8,
   "id": "b3fb628d",
   "metadata": {},
   "outputs": [
    {
     "data": {
      "text/plain": [
       "convert (generic function with 1 method)"
      ]
     },
     "execution_count": 8,
     "metadata": {},
     "output_type": "execute_result"
    }
   ],
   "source": [
    "function convert(input)\n",
    "    \n",
    "    params = Vector{Any}(undef,13)\n",
    "    \n",
    "    params[1]  = input.β\n",
    "    params[2]  = input.β_b\n",
    "    params[3]  = input.β_d\n",
    "    \n",
    "    params[4]  = input.μ_b\n",
    "    params[5]  = input.μ_d\n",
    "    params[6]  = input.μ_c\n",
    "    \n",
    "    params[7]  = input.ζ\n",
    "    params[8]  = input.γ\n",
    "    params[9]  = input.ω\n",
    "    params[10] = input.ρ\n",
    "    params[11] = input.λ\n",
    "    params[12] = input.κ\n",
    "    \n",
    "    params[13] = input.Populations\n",
    "    \n",
    "    return params\n",
    "    \n",
    "end"
   ]
  },
  {
   "cell_type": "code",
   "execution_count": 9,
   "id": "cb9a4a06",
   "metadata": {},
   "outputs": [
    {
     "data": {
      "text/plain": [
       "asf_model (generic function with 1 method)"
      ]
     },
     "execution_count": 9,
     "metadata": {},
     "output_type": "execute_result"
    }
   ],
   "source": [
    "function asf_model(out,u,p,t)\n",
    "    \n",
    "    #ref_density = 1\n",
    "    u[u.<0].=0 \n",
    "    \n",
    "    β, β_b, β_d, μ_b, μ_d, μ_c, ζ, γ, ω, ρ, λ, κ, Pops= p\n",
    "    \n",
    "    S = Vector{UInt8}(u[1:5:end])\n",
    "    E = Vector{UInt8}(u[2:5:end])\n",
    "    I = Vector{UInt8}(u[3:5:end])\n",
    "    R = Vector{UInt8}(u[4:5:end])\n",
    "    C = Vector{UInt8}(u[5:5:end])\n",
    "    \n",
    "    tp = Pops.cum_sum[end]\n",
    "    N = S + E + I + R + C\n",
    "    Np = S + E + I + R\n",
    "    \n",
    "    N[N .== 0] .= 1\n",
    "    v = ones(Int8,tp)\n",
    "\n",
    "    populations  = v*N'+ N*v'\n",
    "    populations[diagind(populations)] = N;\n",
    "\n",
    "    beta = copy(β)\n",
    "    N_feral = sum(Np)\n",
    "    Density = N_feral/Pops.area[1]\n",
    "    beta[β_d .== 1] .*= Density\n",
    "\n",
    "    \n",
    "    connected_pops = β_b * Np\n",
    " \n",
    "    Births = μ_b .* Np\n",
    "    Births[(μ_c .== 1) .& (Np .> 0)] .= 0 #preventing boar populations growing larger than one!\n",
    "    Births[(Np .== 0) .& (connected_pops .>2)] .= mean(μ_b)*2 #allowing migration births if neighbouring groups have pop\n",
    "    Infect = ((beta .* S) ./ populations) * (I + ω .* C)#ASF Infections\n",
    "    Infectous = ζ .* E\n",
    "    Recover = γ .* (1 .- ρ) .* I #ASF Recoveries\n",
    "    Death_I = ρ .* γ .* I #ASF Deaths in I\n",
    "    Death_nI = μ_d .* I+ (μ_b-μ_d)./tanh(1).*I.*tanh.(Np./μ_c) #Natural Deaths in I\n",
    "    Death_S = μ_d .* S + (μ_b-μ_d)./tanh(1).*S.*tanh.(Np./μ_c) #Natural Deaths S\n",
    "    Death_E = μ_d .* E + (μ_b-μ_d)./tanh(1).*E.*tanh.(Np./μ_c)\n",
    "    Death_R = μ_d .* R + (μ_b-μ_d)./tanh(1).*R.*tanh.(Np./μ_c) #Natural Deaths R\n",
    "    Decay_C = λ .* C #Body Decomposition \n",
    "    W_Immunity = κ .* R \n",
    "    \n",
    "    out[1:11:end] = Births\n",
    "    out[2:11:end] = Death_S\n",
    "    out[3:11:end] = Infect\n",
    "    out[4:11:end] = Death_E\n",
    "    out[5:11:end] = Infectous\n",
    "    out[6:11:end] = Death_I\n",
    "    out[7:11:end] = Death_nI\n",
    "    out[8:11:end] = Recover\n",
    "    out[9:11:end] = Death_R\n",
    "    out[10:11:end] = Decay_C  \n",
    "    out[11:11:end] = W_Immunity  \n",
    "    \n",
    "\n",
    "    nothing\n",
    "end"
   ]
  },
  {
   "cell_type": "code",
   "execution_count": 10,
   "id": "bce59737",
   "metadata": {},
   "outputs": [
    {
     "data": {
      "text/plain": [
       "SEIRC_ODE! (generic function with 1 method)"
      ]
     },
     "execution_count": 10,
     "metadata": {},
     "output_type": "execute_result"
    }
   ],
   "source": [
    "function SEIRC_ODE!(du,u,p,t)\n",
    "    \n",
    "     u[u.<0].=0 \n",
    "    \n",
    "    β, β_b, β_d, μ_b, μ_d, μ_c, ζ, γ, ω, ρ, λ, κ, Pops= p\n",
    "    \n",
    "     S = u[1:5:end]\n",
    "    E = u[2:5:end]\n",
    "    I = u[3:5:end]\n",
    "    R = u[4:5:end]\n",
    "    C = u[5:5:end]\n",
    "    \n",
    "    tp = Pops.cum_sum[end]\n",
    "    N = S + E + I + R + C\n",
    "    Np = S + E + I + R\n",
    "    \n",
    "    N[N .== 0] .= 1\n",
    "    v = ones(Int8,tp)\n",
    "\n",
    "    populations  = v*N'+ N*v'\n",
    "    populations[diagind(populations)] = N;\n",
    "\n",
    "    beta = deepcopy(β)\n",
    "    N_feral = sum(Np)\n",
    "    Dens = N_feral/Pops.area[1]\n",
    "    D_t = Float32.(Dens)\n",
    "        \n",
    "   \n",
    "    beta[β_d .== 1] .*= D_t\n",
    "\n",
    "    connected_pops = β_b * Np\n",
    "\n",
    "    #procceses \n",
    "    Births = μ_b .* Np\n",
    "    Births[(μ_c .== 1) .& (Np .> 0)] .= 0 #preventing boar populations growing larger than one!\n",
    "    Births[(Np .== 0) .& (connected_pops .>2)] .= mean(μ_b)*2 #allowing migration births if neighbouring groups have pop\n",
    "    \n",
    "\n",
    "    \n",
    "    du[1:5:end] = Births - ((beta.* S) ./ populations) * (I + ω .* C) - μ_d .* S + (μ_b-μ_d)./tanh(1).*S.*tanh.(Np./μ_c)  + κ .* R #S\n",
    "    du[2:5:end] = ((beta.* S) ./ populations) * (I + ω .* C) - ζ .* E - μ_d .* E + (μ_b-μ_d)./tanh(1).*E.*tanh.(Np./μ_c) #E\n",
    "    du[3:5:end] = ζ .* E - γ .* I -  μ_d .* I+ (μ_b-μ_d)./tanh(1).*I.*tanh.(Np./μ_c) #I\n",
    "    du[4:5:end] = γ .* (1 .- ρ) .* I - μ_d .* R + (μ_b-μ_d)./tanh(1).*R.*tanh.(Np./μ_c) - κ .* R  #R\n",
    "    du[5:5:end] = ρ .* γ .* I + μ_d .* I+ (μ_b-μ_d)./tanh(1).*I.*tanh.(Np./μ_c) - λ .* C#C\n",
    "    nothing\n",
    "end"
   ]
  },
  {
   "cell_type": "code",
   "execution_count": null,
   "id": "1ddcd432",
   "metadata": {},
   "outputs": [],
   "source": []
  },
  {
   "cell_type": "code",
   "execution_count": 12,
   "id": "7f493bf2",
   "metadata": {},
   "outputs": [
    {
     "data": {
      "text/plain": [
       "#1 (generic function with 1 method)"
      ]
     },
     "execution_count": 12,
     "metadata": {},
     "output_type": "execute_result"
    }
   ],
   "source": [
    "AUSASF = function(params,Tspan, U0)\n",
    "    \n",
    "    rj = RegularJump(asf_model, regular_c, eqs*nt)\n",
    "    prob = DiscreteProblem(U0,Tspan,params)\n",
    "    jump_prob = JumpProblem(prob,Direct(),rj)\n",
    "    #sol = solve(jump_prob, SimpleTauLeaping(), dt= 1)\n",
    "    ensemble_prob_m = EnsembleProblem(jump_prob)\n",
    "    outputs = solve(ensemble_prob_m, SimpleTauLeaping(), trajectories= n_runs,EnsembleThreads(),dt=1);\n",
    "    res = eval_out(outputs)\n",
    "    \n",
    "    return res\n",
    "end\n",
    "    "
   ]
  },
  {
   "cell_type": "code",
   "execution_count": 13,
   "id": "0cb5caa8",
   "metadata": {},
   "outputs": [
    {
     "data": {
      "text/plain": [
       "#3 (generic function with 1 method)"
      ]
     },
     "execution_count": 13,
     "metadata": {},
     "output_type": "execute_result"
    }
   ],
   "source": [
    "AUSASF_ode = function(params,Tspan, U0)\n",
    "    \n",
    "    prob = ODEProblem(SEIRC_ODE!,U0,Tspan,params);\n",
    "    outputs = solve(prob, AutoTsit5(Rosenbrock23()),saveat=1)\n",
    "\n",
    "    #outputs = solve(ensemble_prob_m, SimpleTauLeaping(), trajectories= n_runs,EnsembleThreads(),dt=1);\n",
    "    res = eval_out(outputs)\n",
    "    \n",
    "    return res\n",
    "end\n",
    "    "
   ]
  },
  {
   "cell_type": "code",
   "execution_count": 14,
   "id": "0b766368",
   "metadata": {},
   "outputs": [
    {
     "data": {
      "text/plain": [
       "simulator_function_ode (generic function with 1 method)"
      ]
     },
     "execution_count": 14,
     "metadata": {},
     "output_type": "execute_result"
    }
   ],
   "source": [
    "function simulator_function_ode(var_params)\n",
    "    params = deepcopy(true_params)\n",
    "    \n",
    "    #beta\n",
    "    params[1][diagind(params[1])] .= var_params[1] #intra\n",
    "    params[1][params[2] .== 1 ] .= var_params[2] #inter\n",
    "    \n",
    "    params[10] .= var_params[3]\n",
    "    \n",
    "    #corpse \n",
    "    params[9] .= var_params[4] #corpse infection modifier\n",
    "    params[11] .= var_params[5] #corpse decay rates\n",
    "    \n",
    "    #now we run simulation!\n",
    "    AUSASF_ode(params, Tspan, U0)\n",
    "end"
   ]
  },
  {
   "cell_type": "code",
   "execution_count": 15,
   "id": "2a90553e",
   "metadata": {},
   "outputs": [
    {
     "data": {
      "text/plain": [
       "simulator_function (generic function with 1 method)"
      ]
     },
     "execution_count": 15,
     "metadata": {},
     "output_type": "execute_result"
    }
   ],
   "source": [
    "function simulator_function(var_params)\n",
    "    params = deepcopy(true_params)\n",
    "    \n",
    "    #beta\n",
    "    params[1][diagind(params[1])] .= var_params[1] #intra\n",
    "    params[1][params[2] .== 1 ] .= var_params[2] #inter\n",
    "    \n",
    "    params[10] .= var_params[3]\n",
    "    \n",
    "    #corpse \n",
    "    params[9] .= var_params[4] #corpse infection modifier\n",
    "    params[11] .= var_params[5] #corpse decay rates\n",
    "    \n",
    "    #now we run simulation!\n",
    "    AUSASF(params, Tspan, U0)\n",
    "end"
   ]
  },
  {
   "cell_type": "code",
   "execution_count": 16,
   "id": "86db6854",
   "metadata": {},
   "outputs": [
    {
     "data": {
      "text/plain": [
       "eval_out (generic function with 1 method)"
      ]
     },
     "execution_count": 16,
     "metadata": {},
     "output_type": "execute_result"
    }
   ],
   "source": [
    "function eval_out(output)\n",
    "    \n",
    "    output_final = Matrix{Float64}(undef,(3,1))\n",
    "    \n",
    "    prev_data = Vector{Float64}(undef,n_runs)\n",
    "    die_data  = Vector{Float64}(undef,n_runs)\n",
    "    time_data = Vector{Float64}(undef,n_runs)\n",
    "    \n",
    "    for i = 1:n_runs\n",
    "        sol = output[i]\n",
    "        data = reduce(vcat,transpose.(sol.u))\n",
    "        data[data .< 0 ] .= 0\n",
    "\n",
    "        s_d = data[:,1:5:end]\n",
    "        e_d = data[:,2:5:end]\n",
    "        i_d = data[:,3:5:end]\n",
    "        r_d = data[:,4:5:end]\n",
    "        c_d = data[:,5:5:end]\n",
    "\n",
    "        disease_total = e_d + i_d + c_d #classes with disease\n",
    "        disease_alive = e_d + i_d\n",
    "\n",
    "        disease_free = s_d + r_d #classes without disease\n",
    "\n",
    "        disease_sum = sum(disease_total,dims=2)\n",
    "        disease_alive_sum =  sum(disease_alive,dims=2)\n",
    "        disease_free_sum = sum(disease_free,dims=2)\n",
    "        population_sum = disease_alive_sum + disease_free_sum\n",
    "\n",
    "        end_prev = 100*(disease_alive_sum[end]/disease_free_sum[end])\n",
    "        pop_decline = 100*(1-population_sum[end]/U0_sum)\n",
    "        max_time = findfirst(==(maximum(disease_sum)), disease_sum)[1]\n",
    "\n",
    "        prev_data[i] = end_prev/obs[1]\n",
    "        die_data[i] = pop_decline/obs[2]\n",
    "        time_data[i] = max_time/obs[3]\n",
    "    \n",
    "    end\n",
    "    \n",
    "    output_final[1] = mean(prev_data)\n",
    "    output_final[2] = mean(die_data)\n",
    "    output_final[3] = mean(time_data)\n",
    "    #println(res)\n",
    "    \n",
    "    d = norm(output_final-obs_test) \n",
    "    if d < 1\n",
    "    println(d)\n",
    "    println(output_final)\n",
    "    end\n",
    "    \n",
    "    #if output_final[1] > 0\n",
    "     #   println(output_final[1])\n",
    "    #end\n",
    "    \n",
    "    #println(output_final)\n",
    "    return output_final\n",
    "    \n",
    "end"
   ]
  },
  {
   "cell_type": "code",
   "execution_count": 17,
   "id": "7e9d30a9",
   "metadata": {},
   "outputs": [
    {
     "name": "stdout",
     "output_type": "stream",
     "text": [
      " Barabasi Albert Scale Free Network\n"
     ]
    }
   ],
   "source": [
    "input_1 = ASF_Inputs.Model_Data(input_path);"
   ]
  },
  {
   "cell_type": "code",
   "execution_count": 18,
   "id": "6cdebab2",
   "metadata": {},
   "outputs": [
    {
     "data": {
      "text/plain": [
       "3×1 Matrix{Float64}:\n",
       " 1.0\n",
       " 1.0\n",
       " 1.0"
      ]
     },
     "execution_count": 18,
     "metadata": {},
     "output_type": "execute_result"
    }
   ],
   "source": [
    "obs = observed_params()\n",
    "obs_test= observed_params()*0 .+ 1"
   ]
  },
  {
   "cell_type": "code",
   "execution_count": 19,
   "id": "103fc597",
   "metadata": {},
   "outputs": [
    {
     "name": "stdout",
     "output_type": "stream",
     "text": [
      "Watts Strogatz Small Worlds Network\n",
      "Random: 0.5\n"
     ]
    }
   ],
   "source": [
    "input_1 = ASF_Inputs.Model_Data(\"/home/callum/ASF/Inputs/\");\n",
    "true_params = convert(input_1.Parameters);\n",
    "Tspan = (0.0,5*365.0)\n",
    "U0 = input_1.U0;\n",
    "U0_sum = sum(U0);\n",
    "n_runs = 1;"
   ]
  },
  {
   "cell_type": "code",
   "execution_count": 20,
   "id": "e1311224",
   "metadata": {},
   "outputs": [
    {
     "data": {
      "text/plain": [
       "5-element Vector{Uniform{Float64}}:\n",
       " Uniform{Float64}(a=0.1, b=1.0)\n",
       " Uniform{Float64}(a=0.01, b=0.1)\n",
       " Uniform{Float64}(a=0.5, b=1.0)\n",
       " Uniform{Float64}(a=0.1, b=1.0)\n",
       " Uniform{Float64}(a=0.01, b=0.1)"
      ]
     },
     "execution_count": 20,
     "metadata": {},
     "output_type": "execute_result"
    }
   ],
   "source": [
    "priors = [Uniform(0.1, 1.), Uniform(0.01, 0.1), Uniform(0.5, 1.), Uniform(0.1, 1.), Uniform(0.01, 0.1)]"
   ]
  },
  {
   "cell_type": "code",
   "execution_count": null,
   "id": "90384d2b",
   "metadata": {},
   "outputs": [],
   "source": [
    "n_particles = 100\n",
    "threshold = 1.0\n",
    "sim_result = SimulatedABCRejection(obs_test, simulator_function, priors, threshold, n_particles; max_iter=100, write_progress=false)#,"
   ]
  },
  {
   "cell_type": "code",
   "execution_count": null,
   "id": "c24cfdad",
   "metadata": {},
   "outputs": [],
   "source": [
    "for i = 1:4\n",
    "    println(median(sim_result.population[:,i]))\n",
    "end"
   ]
  },
  {
   "cell_type": "code",
   "execution_count": null,
   "id": "d357de04",
   "metadata": {},
   "outputs": [],
   "source": [
    "plot(sim_result)"
   ]
  },
  {
   "cell_type": "code",
   "execution_count": null,
   "id": "5e5828a3",
   "metadata": {},
   "outputs": [],
   "source": []
  },
  {
   "cell_type": "markdown",
   "id": "ed01928a",
   "metadata": {},
   "source": [
    "# sim_result.population"
   ]
  },
  {
   "cell_type": "code",
   "execution_count": null,
   "id": "4a8a555e",
   "metadata": {},
   "outputs": [],
   "source": [
    "1/0.0230853"
   ]
  },
  {
   "cell_type": "code",
   "execution_count": null,
   "id": "98839f72",
   "metadata": {},
   "outputs": [],
   "source": [
    "plot(sim_result)"
   ]
  },
  {
   "cell_type": "code",
   "execution_count": null,
   "id": "052c9a85",
   "metadata": {},
   "outputs": [],
   "source": []
  },
  {
   "cell_type": "code",
   "execution_count": null,
   "id": "597bf5de",
   "metadata": {},
   "outputs": [],
   "source": []
  },
  {
   "cell_type": "code",
   "execution_count": null,
   "id": "5ac5ffab",
   "metadata": {},
   "outputs": [],
   "source": [
    "prob = ODEProblem(SEIRC_ODE!,U0,Tspan,true_params);\n"
   ]
  },
  {
   "cell_type": "code",
   "execution_count": null,
   "id": "8395e280",
   "metadata": {},
   "outputs": [],
   "source": [
    "    sol = solve(prob, AutoTsit5(Rosenbrock23(autodiff=false)),saveat=1)"
   ]
  },
  {
   "cell_type": "code",
   "execution_count": null,
   "id": "a0c47c40",
   "metadata": {},
   "outputs": [],
   "source": [
    "data = reduce(vcat,transpose.(sol.u))\n",
    "\n",
    "if any(x->x <0, data)\n",
    "    println(\"Need to Reduce Timestep\")\n",
    "    data[data .< 0 ] .= 0\n",
    "end\n",
    "\n",
    "s_d = data[:,1:5:end]\n",
    "e_d = data[:,2:5:end]\n",
    "i_d = data[:,3:5:end]\n",
    "r_d = data[:,4:5:end]\n",
    "c_d = data[:,5:5:end]\n",
    "\n",
    "disease_total = e_d + i_d + c_d #classes with disease\n",
    "disease_alive = e_d + i_d\n",
    "\n",
    "disease_free = s_d + r_d #classes without disease\n",
    "\n",
    "disease_sum = sum(disease_total,dims=2)\n",
    "diease_alive_sum =  sum(disease_alive,dims=2)\n",
    "disease_free_sum = sum(disease_free,dims=2)\n",
    "population_sum = diease_alive_sum + disease_free_sum;\n",
    "\n",
    "if disease_sum[end] == 0\n",
    "    println(\"DIED OUT\")\n",
    "end"
   ]
  },
  {
   "cell_type": "code",
   "execution_count": null,
   "id": "fe7f05c4",
   "metadata": {},
   "outputs": [],
   "source": [
    "plot(disease_sum)\n",
    "plot!(disease_free_sum)"
   ]
  },
  {
   "cell_type": "code",
   "execution_count": null,
   "id": "8111ce4e",
   "metadata": {},
   "outputs": [],
   "source": [
    "plot(sim_result)"
   ]
  },
  {
   "cell_type": "code",
   "execution_count": null,
   "id": "bc62a172",
   "metadata": {},
   "outputs": [],
   "source": [
    "for i = 1:4\n",
    "    data = sim_result.population[:,i]\n",
    "    println(median(data))\n",
    "end"
   ]
  },
  {
   "cell_type": "code",
   "execution_count": null,
   "id": "4fef81cb",
   "metadata": {},
   "outputs": [],
   "source": [
    "1/0.01464174881400811"
   ]
  },
  {
   "cell_type": "code",
   "execution_count": null,
   "id": "0c20eb7a",
   "metadata": {},
   "outputs": [],
   "source": []
  },
  {
   "cell_type": "code",
   "execution_count": null,
   "id": "f99ead86",
   "metadata": {},
   "outputs": [],
   "source": [
    "input_1 = ASF_Inputs.Model_Data(\"/home/callum/ASF/Inputs/\");\n",
    "true_params = convert(input_1.Parameters);\n",
    "Tspan = (0.0,10*365.0)\n",
    "U0 = input_1.U0;\n",
    "U0_sum = sum(U0);\n",
    "n_runs = 1;"
   ]
  },
  {
   "cell_type": "code",
   "execution_count": null,
   "id": "291350d7",
   "metadata": {},
   "outputs": [],
   "source": [
    "rj = RegularJump(asf_model, regular_c, eqs*nt)\n",
    "prob = DiscreteProblem(U0,Tspan,true_params)\n",
    "jump_prob = JumpProblem(prob,Direct(),rj)\n",
    "sol = solve(jump_prob, SimpleTauLeaping(), dt= 1);"
   ]
  },
  {
   "cell_type": "code",
   "execution_count": null,
   "id": "3bfe933a",
   "metadata": {},
   "outputs": [],
   "source": [
    "ensemble_prob_m = EnsembleProblem(jump_prob)\n",
    "output = solve(ensemble_prob_m, SimpleTauLeaping(), trajectories= 10,EnsembleThreads(),dt=1);\n"
   ]
  },
  {
   "cell_type": "code",
   "execution_count": null,
   "id": "9cc5624c",
   "metadata": {},
   "outputs": [],
   "source": [
    "end_sum = 0\n",
    "for i = 1:10\n",
    "    sol = output[i]\n",
    "    data = reduce(vcat,transpose.(sol.u))\n",
    "    data[data .< 0 ] .= 0\n",
    "\n",
    "    s_d = data[:,1:5:end]\n",
    "    e_d = data[:,2:5:end]\n",
    "    i_d = data[:,3:5:end]\n",
    "    r_d = data[:,4:5:end]\n",
    "    c_d = data[:,5:5:end]\n",
    "\n",
    "    disease_total = e_d + i_d + c_d #classes with disease\n",
    "    disease_alive = e_d + i_d\n",
    "\n",
    "    disease_free = s_d + r_d #classes without disease\n",
    "\n",
    "    disease_sum = sum(disease_total,dims=2)\n",
    "    disease_alive_sum =  sum(disease_alive,dims=2)\n",
    "    disease_free_sum = sum(disease_free,dims=2)\n",
    "    population_sum = disease_alive_sum + disease_free_sum\n",
    "\n",
    "    if disease_sum[end] >0\n",
    "        end_sum += 1\n",
    "    end\n",
    "\n",
    "end\n",
    "\n",
    "println(end_sum)\n",
    "    "
   ]
  },
  {
   "cell_type": "code",
   "execution_count": null,
   "id": "c50d1093",
   "metadata": {},
   "outputs": [],
   "source": [
    "plot()\n",
    "for i in 1:10\n",
    "    sol = output[i]\n",
    "    data = reduce(vcat,transpose.(sol.u))\n",
    "\n",
    "    if any(x->x <0, data)\n",
    "        println(\"Need to Reduce Timestep\")\n",
    "        data[data .< 0 ] .= 0\n",
    "    end\n",
    "\n",
    "    s_d = data[:,1:5:end]\n",
    "    e_d = data[:,2:5:end]\n",
    "    i_d = data[:,3:5:end]\n",
    "    r_d = data[:,4:5:end]\n",
    "    c_d = data[:,5:5:end]\n",
    "\n",
    "    disease_total = e_d + i_d + c_d #classes with disease\n",
    "    disease_alive = e_d + i_d\n",
    "\n",
    "    disease_free = s_d + r_d #classes without disease\n",
    "\n",
    "    disease_sum = sum(disease_total,dims=2)\n",
    "    diease_alive_sum =  sum(disease_alive,dims=2)\n",
    "    disease_free_sum = sum(disease_free,dims=2)\n",
    "    population_sum = diease_alive_sum + disease_free_sum;\n",
    "\n",
    "    #if disease_sum[end] == 0\n",
    "     #   println(\"DIED OUT\")\n",
    "    #end\n",
    "    \n",
    "    plot!(disease_sum, label = \"\")\n",
    "    plot!(disease_free_sum, label = \"\")\n",
    "end\n",
    "plot!()"
   ]
  },
  {
   "cell_type": "code",
   "execution_count": null,
   "id": "f8b7fcd2",
   "metadata": {},
   "outputs": [],
   "source": [
    "plot(disease_sum, label = \"\")\n",
    "plot!(disease_free_sum)"
   ]
  },
  {
   "cell_type": "code",
   "execution_count": null,
   "id": "70f9af7b",
   "metadata": {},
   "outputs": [],
   "source": [
    "diease_alive_sum"
   ]
  },
  {
   "cell_type": "code",
   "execution_count": null,
   "id": "87862019",
   "metadata": {},
   "outputs": [],
   "source": [
    "plot(sol)"
   ]
  },
  {
   "cell_type": "code",
   "execution_count": null,
   "id": "f7257954",
   "metadata": {},
   "outputs": [],
   "source": []
  },
  {
   "cell_type": "code",
   "execution_count": null,
   "id": "b02188e0",
   "metadata": {},
   "outputs": [],
   "source": [
    "median(sim_result.population[:,1])"
   ]
  },
  {
   "cell_type": "code",
   "execution_count": null,
   "id": "f0c36518",
   "metadata": {},
   "outputs": [],
   "source": [
    "median(sim_result.population[:,2])"
   ]
  },
  {
   "cell_type": "code",
   "execution_count": null,
   "id": "7b7799a9",
   "metadata": {},
   "outputs": [],
   "source": [
    "median(sim_result.population[:,3])"
   ]
  },
  {
   "cell_type": "code",
   "execution_count": null,
   "id": "ff002069",
   "metadata": {},
   "outputs": [],
   "source": [
    "median(sim_result.population[:,4])"
   ]
  },
  {
   "cell_type": "code",
   "execution_count": null,
   "id": "ad39a9c7",
   "metadata": {},
   "outputs": [],
   "source": []
  },
  {
   "cell_type": "code",
   "execution_count": null,
   "id": "d41175e3",
   "metadata": {},
   "outputs": [],
   "source": [
    "plot(sim_result)"
   ]
  },
  {
   "cell_type": "code",
   "execution_count": null,
   "id": "fa4365d9",
   "metadata": {},
   "outputs": [],
   "source": [
    "median(sim_result.population[:,4])"
   ]
  },
  {
   "cell_type": "code",
   "execution_count": null,
   "id": "78a42325",
   "metadata": {},
   "outputs": [],
   "source": [
    "1/0.015021101514961837"
   ]
  },
  {
   "cell_type": "code",
   "execution_count": null,
   "id": "574f53a1",
   "metadata": {},
   "outputs": [],
   "source": []
  },
  {
   "cell_type": "code",
   "execution_count": null,
   "id": "0d83b4d6",
   "metadata": {},
   "outputs": [],
   "source": [
    "\n",
    "\n",
    "#\n",
    "# ABC-SMC settings\n",
    "#\n",
    "threshold_schedule = [3.0, 2.0, 1.0, 0.5, 0.2];\n",
    "\n"
   ]
  },
  {
   "cell_type": "code",
   "execution_count": null,
   "id": "1cf51841",
   "metadata": {},
   "outputs": [],
   "source": [
    "\n",
    "\n",
    "population_colors=[\"#FF2F4E\", \"#D0001F\", \"#A20018\", \"#990017\", \"#800013\"]\n",
    "sim_abcsmc_res = SimulatedABCSMC(obs_test,\n",
    "    simulator_function,\n",
    "    priors,\n",
    "    threshold_schedule,\n",
    "    n_particles; max_iter = 10000,\n",
    "    write_progress=true)\n",
    "#plot(sim_abcsmc_res, population_colors=population_colors)\n",
    "\n"
   ]
  },
  {
   "cell_type": "code",
   "execution_count": null,
   "id": "3348922f",
   "metadata": {},
   "outputs": [],
   "source": [
    "plot(sim_abcsmc_res, population_colors=population_colors)"
   ]
  },
  {
   "cell_type": "code",
   "execution_count": null,
   "id": "1733d0a8",
   "metadata": {},
   "outputs": [],
   "source": [
    "n_design_points = 500\n",
    "emu_result = EmulatedABCRejection(obs_test, simulator_function, priors, threshold, n_particles, n_design_points; max_iter=1000,write_progress=false)\n",
    "plot(emu_result)\n"
   ]
  },
  {
   "cell_type": "code",
   "execution_count": null,
   "id": "3e99e748",
   "metadata": {},
   "outputs": [],
   "source": [
    "n_particles"
   ]
  },
  {
   "cell_type": "code",
   "execution_count": null,
   "id": "2cc18d40",
   "metadata": {},
   "outputs": [],
   "source": []
  }
 ],
 "metadata": {
  "kernelspec": {
   "display_name": "Julia 1.6.3",
   "language": "julia",
   "name": "julia-1.6"
  },
  "language_info": {
   "file_extension": ".jl",
   "mimetype": "application/julia",
   "name": "julia",
   "version": "1.6.3"
  }
 },
 "nbformat": 4,
 "nbformat_minor": 5
}
