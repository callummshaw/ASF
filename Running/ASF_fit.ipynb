{
 "cells": [
  {
   "cell_type": "markdown",
   "id": "e1096a34",
   "metadata": {},
   "source": [
    "# Fitting AUSF\n",
    "\n",
    "The model requires the fitting of pig population dynamics and ASF disease dynamics. We first fit the population to ensure that the population returns to the carrying capacity"
   ]
  },
  {
   "cell_type": "markdown",
   "id": "22a5d427",
   "metadata": {},
   "source": [
    "### Load Modules"
   ]
  },
  {
   "cell_type": "code",
   "execution_count": null,
   "id": "c400741c",
   "metadata": {
    "tags": []
   },
   "outputs": [],
   "source": [
    "using GpABC, Distances, Plots, DifferentialEquations, LinearAlgebra, SparseArrays, Distributions, Random"
   ]
  },
  {
   "cell_type": "code",
   "execution_count": null,
   "id": "50d1d6f9",
   "metadata": {
    "scrolled": true,
    "tags": []
   },
   "outputs": [],
   "source": [
    "#Loading the functions to build the input and run the models\n",
    "include(\"/home/callum/ASF/Modules/ASF_input.jl\");\n",
    "include(\"/home/callum/ASF/Modules/ASF_model.jl\");"
   ]
  },
  {
   "cell_type": "code",
   "execution_count": null,
   "id": "1ee1db8c",
   "metadata": {
    "tags": []
   },
   "outputs": [],
   "source": [
    "input_path = \"/home/callum/ASF/Inputs/\"; #path to model data"
   ]
  },
  {
   "cell_type": "markdown",
   "id": "873289fd",
   "metadata": {},
   "source": [
    "### Tau-leaping model"
   ]
  },
  {
   "cell_type": "code",
   "execution_count": null,
   "id": "fbc17fed",
   "metadata": {
    "scrolled": true,
    "tags": []
   },
   "outputs": [],
   "source": [
    "input = ASF_Inputs.Model_Data(input_path, fitting_rewire = 1.3, verbose = true); #loading the model input"
   ]
  },
  {
   "cell_type": "code",
   "execution_count": null,
   "id": "1d839dd1",
   "metadata": {
    "tags": []
   },
   "outputs": [],
   "source": [
    "const nt = input.Parameters.Populations.cum_sum[end] #total number of groups and/or farms\n",
    "const nc = 5 #number of classes (SEIRC)\n",
    "const eqs = 11 #number of processes\n",
    "\n",
    "#Matrix of all the transitions between classes for Gillespie model\n",
    "const dc = sparse(zeros(nt*nc,nt*eqs))\n",
    "\n",
    "dc[0*nc*nt+1:nc*nt*eqs+nc:end] .= 1\n",
    "dc[1*nc*nt+1:nc*nt*eqs+nc:end] .= -1\n",
    "dc[2*nc*nt+1:nc*nt*eqs+nc:end] .= -1\n",
    "dc[10*nc*nt+1:nc*nt*eqs+nc:end] .= 1\n",
    "\n",
    "dc[2*nc*nt+2:nc*nt*eqs+nc:end] .= 1\n",
    "dc[3*nc*nt+2:nc*nt*eqs+nc:end] .= -1\n",
    "dc[4*nc*nt+2:nc*nt*eqs+nc:end] .= -1\n",
    "\n",
    "dc[4*nc*nt+3:nc*nt*eqs+nc:end] .= 1\n",
    "dc[5*nc*nt+3:nc*nt*eqs+nc:end] .= -1\n",
    "dc[6*nc*nt+3:nc*nt*eqs+nc:end] .= -1\n",
    "dc[7*nc*nt+3:nc*nt*eqs+nc:end] .= -1\n",
    "\n",
    "dc[7*nc*nt+4:nc*nt*eqs+nc:end] .= 1\n",
    "dc[8*nc*nt+4:nc*nt*eqs+nc:end] .= -1\n",
    "dc[10*nc*nt+4:nc*nt*eqs+nc:end] .= -1\n",
    "\n",
    "\n",
    "dc[5*nc*nt+5:nc*nt*eqs+nc:end] .= 1\n",
    "dc[6*nc*nt+5:nc*nt*eqs+nc:end] .= 1\n",
    "dc[9*nc*nt+5:nc*nt*eqs+nc:end] .= -1;"
   ]
  },
  {
   "cell_type": "code",
   "execution_count": null,
   "id": "026366b9",
   "metadata": {
    "tags": []
   },
   "outputs": [],
   "source": [
    "function regular_c(du,u,p,t,counts,mark)  \n",
    "    mul!(du,dc,counts)\n",
    "    nothing\n",
    "end"
   ]
  },
  {
   "cell_type": "code",
   "execution_count": null,
   "id": "9461fa72",
   "metadata": {
    "tags": []
   },
   "outputs": [],
   "source": [
    "# function that breaks up results into easy to analyse form\n",
    "function run_analysis(sol)\n",
    "   \n",
    "        data = reduce(vcat,transpose.(sol.u))\n",
    "        data[data .< 0 ] .= 0\n",
    "   \n",
    "        s_d = data[:,1:5:end]\n",
    "        e_d = data[:,2:5:end]\n",
    "        i_d = data[:,3:5:end]\n",
    "        r_d = data[:,4:5:end]\n",
    "        c_d = data[:,5:5:end]\n",
    " \n",
    "        disease_total = e_d + i_d + c_d #classes with disease,\n",
    "        disease_alive = e_d + i_d\n",
    " \n",
    "        disease_free = s_d + r_d #classes without disease,\n",
    " \n",
    "        disease_sum = sum(disease_total,dims=2)\n",
    "        disease_alive_sum =  sum(disease_alive,dims=2)\n",
    "        disease_free_sum = sum(disease_free,dims=2)\n",
    "        population_sum = disease_alive_sum + disease_free_sum;\n",
    "   \n",
    "        return disease_sum, disease_alive_sum, disease_free_sum, population_sum\n",
    "    end"
   ]
  },
  {
   "cell_type": "markdown",
   "id": "8b09fdb8",
   "metadata": {},
   "source": [
    "## Fitting population in tau-leaping model\n",
    "\n",
    "There is population level drift, therefore we fit the population (by adjusting deaths) to make the population stabalise at carrying capacity. This effect occurs due to the small population size (often, given the equations, a death is more preferable than a birth)."
   ]
  },
  {
   "cell_type": "code",
   "execution_count": null,
   "id": "e9a01530",
   "metadata": {
    "tags": []
   },
   "outputs": [],
   "source": [
    "AUSF_pop = function(params,Tspan, U0)\n",
    "    #function that runs model for fitting\n",
    "\n",
    "    rj = RegularJump(ASF_Model.asf_model_pop, regular_c, eqs*nt)\n",
    "\n",
    "    prob = DiscreteProblem(U0,Tspan,params)\n",
    "\n",
    "    jump_prob = JumpProblem(prob,Direct(),rj)\n",
    "\n",
    "    ensemble_prob_m = EnsembleProblem(jump_prob)\n",
    "\n",
    "    obs = solve(ensemble_prob_m, SimpleTauLeaping(), trajectories= n_runs,EnsembleThreads(),dt=1);\n",
    "    \n",
    "    #simply averaging over our mutliple runs!\n",
    "    output_final = Matrix{Float64}(undef,(1,n_years*365+1,))\n",
    "    output_final .= 0\n",
    "    for i in 1:n_runs\n",
    "        output_final += sum(hcat(obs[1].u...), dims=1)/n_runs\n",
    "    end\n",
    "    \n",
    "    return output_final\n",
    "end\n",
    "    \n",
    "\n",
    "function simulator_function_pop(var_params)\n",
    "    \n",
    "    #function that builds the input and runs fitting!\n",
    "    input = ASF_Inputs.Model_Data(input_path); #input!\n",
    "\n",
    "    U0 = copy(input.U0); #initial pop\n",
    "    U0[1:5:end] += (U0[2:5:end] +U0[3:5:end]) #setting init pop to zero\n",
    "    U0[2:5:end] .= 0 #removing infected populations\n",
    "    U0[3:5:end] .= 0\n",
    "    \n",
    "    params = ASF_Model.convert(input.Parameters)\n",
    "    \n",
    "    params[15] = var_params[1] #The death modifier, to reduce population drift \n",
    "    \n",
    "    Time = (0.0,n_years*365.0)\n",
    "    #now we run simulation!\n",
    "    \n",
    "    AUSF_pop(params, Time, U0)\n",
    "end\n"
   ]
  },
  {
   "cell_type": "code",
   "execution_count": null,
   "id": "318b0feb",
   "metadata": {
    "tags": []
   },
   "outputs": [],
   "source": [
    "#Some key parameters for fitting!\n",
    "\n",
    "input_path = \"/home/callum/ASF/Inputs/\"; #path to model data\n",
    "n_years = 5 #how many years each sim will run for\n",
    "n_runs = 3; #how many runs for each param\n"
   ]
  },
  {
   "cell_type": "markdown",
   "id": "143d0482-7ec6-4a1c-8be6-ec139377d9bf",
   "metadata": {},
   "source": [
    "### Building Obersevations!"
   ]
  },
  {
   "cell_type": "code",
   "execution_count": null,
   "id": "19f36b39-a740-4929-8b0f-949c0673038d",
   "metadata": {
    "tags": []
   },
   "outputs": [],
   "source": [
    "function density_carrying!(du,u,p,t)\n",
    "    #ODE to calculate the \"real\" observations\n",
    "    S = u[1]\n",
    "    k, bw, σ, K, μ_p = p\n",
    "  \n",
    "    du[1] =  k*exp(-bw*cos(pi*(t)/365)^2).*(σ .* S .+ ((1-σ)) .* sqrt.(S.*K))-S.*μ_p.*(σ .+ ((1-σ)).*sqrt.(S./K))\n",
    "    \n",
    "end"
   ]
  },
  {
   "cell_type": "code",
   "execution_count": null,
   "id": "21529dae-4a00-48d9-a73a-e9fed7c3bda9",
   "metadata": {
    "tags": []
   },
   "outputs": [],
   "source": [
    "input = ASF_Inputs.Model_Data(input_path);\n",
    "U0_ode = [sum(input.U0)];\n",
    "p_ode = [input.Parameters.k[1], input.Parameters.bw[1],input.Parameters.σ[1],sum(input.Parameters.K),input.Parameters.μ_p[1]];\n",
    "tspan_ode = (0.0,1000*365.0);\n",
    "\n",
    "#solving ODE\n",
    "prob_ode = ODEProblem(density_carrying!, U0_ode, (0.0,n_years*365.0), p_ode)\n",
    "sol_ode = solve(prob_ode, saveat = 1,reltol=1e-8)\n",
    "obs = hcat(sol_ode.u...);"
   ]
  },
  {
   "cell_type": "code",
   "execution_count": null,
   "id": "08e37f8d-1c58-44dd-aa17-f887ce08e3df",
   "metadata": {
    "tags": []
   },
   "outputs": [],
   "source": [
    "plot(obs', xlabel = \"Time (days)\", ylabel = \"Population\", label=\"\")\n"
   ]
  },
  {
   "cell_type": "code",
   "execution_count": null,
   "id": "e206dadc",
   "metadata": {
    "tags": []
   },
   "outputs": [],
   "source": [
    "#Our params for fitting\n",
    "n_particles = 100 #number of acceptances we want\n",
    "devi = 0.975 #how close (from 0-1 with 1 being identical) do we want output to be to observed, used for threshold\n",
    "threshold = euclidean(obs,0.95*obs) #want to be with 95% of \"real observation\" to be accepted;\n",
    "priors = [Uniform(0.9,1.0)]"
   ]
  },
  {
   "cell_type": "code",
   "execution_count": null,
   "id": "8cfc18a9",
   "metadata": {
    "tags": []
   },
   "outputs": [],
   "source": [
    "sim_result = SimulatedABCRejection(obs, simulator_function_pop, priors, threshold, n_particles; max_iter=10000, write_progress=false)#,"
   ]
  },
  {
   "cell_type": "code",
   "execution_count": null,
   "id": "c7317b45",
   "metadata": {
    "tags": []
   },
   "outputs": [],
   "source": [
    "plot(sim_result)"
   ]
  },
  {
   "cell_type": "code",
   "execution_count": null,
   "id": "f44ca121",
   "metadata": {
    "tags": []
   },
   "outputs": [],
   "source": [
    "data = sim_result.population\n",
    "vars = [\"g\"]\n",
    "\n",
    "wanted = data[:,1]\n",
    "println(vars[1])\n",
    "println(\"Median: \", round(median(wanted),digits=4))\n",
    "println(\"Mean: \", round(mean(wanted), digits=4))\n",
    "    \n"
   ]
  },
  {
   "cell_type": "markdown",
   "id": "95abecd2",
   "metadata": {},
   "source": [
    "## Fitting  tau-laping model ASF\n",
    "\n",
    "Here we are fitting the diease dynamics to previously observed data from outbreaks in the Baltic States and Poland"
   ]
  },
  {
   "cell_type": "code",
   "execution_count": null,
   "id": "4260005e",
   "metadata": {},
   "outputs": [],
   "source": [
    "#Important means\n",
    "\n",
    "m_t = Normal(180,36.48)\n",
    "p_d = Normal(75,6.08)\n",
    "e_p = Normal(1.5,0.304)"
   ]
  },
  {
   "cell_type": "code",
   "execution_count": null,
   "id": "01344a31",
   "metadata": {
    "tags": []
   },
   "outputs": [],
   "source": [
    "function AUSF_tau(dis_params,Tspan,U0)\n",
    "    rj = RegularJump(ASF_Model.asf_model_one, regular_c, eqs*nt)\n",
    "    prob = DiscreteProblem(U0,Tspan,dis_params)\n",
    "    jump_prob = JumpProblem(prob,Direct(),rj)\n",
    "    ensemble_prob = EnsembleProblem(jump_prob)\n",
    "    model_outs = solve(ensemble_prob, SimpleTauLeaping(), trajectories= 3,EnsembleThreads(),dt=1)\n",
    "    \n",
    "    res = eval_out(model_outs)\n",
    "    \n",
    "end\n",
    "    \n",
    "function simulator_function_d(var_params)\n",
    "    start_day = 180\n",
    "    \n",
    "    Tspan = (start_day,365*n_years+start_day)\n",
    "    \n",
    "    input = ASF_Inputs.Model_Data(input_path,var_params[4]);\n",
    "    \n",
    "    params = ASF_Model.convert(input.Parameters)\n",
    "    \n",
    "    U0 = input.U0\n",
    "\n",
    "    Burn_U0 =  copy(U0)\n",
    "    Burn_U0[2:5:end] .= 0\n",
    "    Burn_U0[3:5:end] .= 0\n",
    "    rj_burn = RegularJump(ASF_Model.asf_model_pop, regular_c, eqs*nt)\n",
    "    prob_burn = DiscreteProblem(Burn_U0,(0.0,275),params)\n",
    "    jump_prob_burn = JumpProblem(prob_burn, Direct(), rj_burn)\n",
    "    sol_burn = solve(jump_prob_burn, SimpleTauLeaping(),dt=1);\n",
    "    \n",
    "    U_burn = copy(sol_burn[params[18]+start_day]); #population at start date\n",
    "    rr = rand(1:nt) #seeding diease in starting pop\n",
    "    ra = rr -1\n",
    "    if U_burn[ra*5+1] > 1\n",
    "        U_burn[ra*5+1] = 0\n",
    "        U_burn[ra*5+2] = 3\n",
    "        U_burn[ra*5+3] = 2\n",
    "    else\n",
    "        U_burn[ra*5+1] = 0\n",
    "        U_burn[ra*5+3] = 1\n",
    "    end\n",
    "\n",
    "    netw = params[3][:,rr] #related populations\n",
    "    cons = findall(>(0), netw)\n",
    "    \n",
    "    if length(cons) <= 4\n",
    "        wanted = cons\n",
    "    else\n",
    "        wanted=shuffle(cons)[1:4] #seeding in 4 other pops so 5 in total!\n",
    "    end \n",
    "    \n",
    "    for i in cons\n",
    "        i1 = i -1\n",
    "        if U_burn[i1*5+1] > 1\n",
    "            U_burn[i1*5+1] = 0\n",
    "            U_burn[i1*5+2] = 3\n",
    "            U_burn[i1*5+3] = 2\n",
    "        else\n",
    "            U_burn[i1*5+1] = 0\n",
    "            U_burn[i1*5+3] = 1\n",
    "        end\n",
    "\n",
    "    end\n",
    "    #beta\n",
    "    params[1] .= var_params[1] #intra\n",
    "    params[2][params[2] .!= 0 ] .= var_params[2]/n_con #inter\n",
    "    \n",
    "    #corpse \n",
    "    params[8] = var_params[3] #corpse infection modifier\n",
    "    AUSF_tau(params, Tspan, U_burn)\n",
    "    \n",
    "    \n",
    "end\n",
    "\n",
    "\n",
    "function eval_out(data) \n",
    "\n",
    "    output_final = Matrix{Float64}(undef,(3,1))\n",
    "    s = 0\n",
    "    ep = 0\n",
    "    mt = 0\n",
    "    pd = 0\n",
    "    detection_p = 0.05\n",
    "    pop_K = 5000\n",
    "    \n",
    "    starting_p = detection_p*pop_K\n",
    "    for i in 1:3\n",
    "        d, da,f,p = run_analysis(data[i])\n",
    "\n",
    "        if d[end] > 0\n",
    "            \n",
    "            ep += 100*mean(da[3*365:end])/mean(p[3*365:end])\n",
    "            pd += 100*(1-mean(p[3*365:end])/pop_K)\n",
    "            \n",
    "            max_d = findmax(d)[2][1]\n",
    "            \n",
    "            if maximum(d) <= starting_p\n",
    "                take_off_time = 0\n",
    "            else\n",
    "                take_off_time = findfirst(>(starting_p), d)[1]\n",
    "            end\n",
    "            \n",
    "            mt += max_d-take_off_time\n",
    "            s += 1\n",
    "\n",
    "        end\n",
    "\n",
    "    end\n",
    "    \n",
    "    if s >= 2\n",
    "        output_final[1] = pdf.(e_p,ep/s)/pdf.(e_p,mean(e_p))\n",
    "        output_final[2] = pdf.(p_d,pd/s)/pdf.(p_d,mean(p_d))\n",
    "        output_final[3] = pdf.(m_t,mt/s)/pdf.(m_t,mean(m_t))\n",
    "\n",
    "        \n",
    "    else\n",
    "        output_final[1] = 0\n",
    "        output_final[2] = 0\n",
    "        output_final[3] = 0\n",
    "       \n",
    "    end\n",
    "   \n",
    "    \n",
    "    return output_final\n",
    "    \n",
    "end\n",
    "\n",
    "function observed_params()\n",
    "   \n",
    "    obs =  Matrix{Float64}(undef,(3,1))\n",
    "    \n",
    "    obs[1] = 1\n",
    "    obs[2] = 1\n",
    "    obs[3] = 1\n",
    "    \n",
    "    return obs\n",
    "end"
   ]
  },
  {
   "cell_type": "code",
   "execution_count": null,
   "id": "93ab70ce",
   "metadata": {},
   "outputs": [],
   "source": [
    "thresh_shed = [1.2841903149896468,0.7197669138598748, 0.5165660265550855]"
   ]
  },
  {
   "cell_type": "code",
   "execution_count": null,
   "id": "2df84bfd",
   "metadata": {},
   "outputs": [],
   "source": [
    "input_path = \"/home/callum/ASF/Inputs/\"; #path to model data\n",
    "n_years = 10 #how many years each sim will run for\n",
    "n_runs = 3 #how many runs for each param\n",
    "n_con = 6  # average number of connections each group has\n",
    "obs = observed_params() #our observed (just array of ones, we normalise output to be relative to this)\n",
    "priors = [Uniform(0.1, 1.0), Uniform(0.01, 0.1), Uniform(0, 1.0), Uniform(0,0.5)];"
   ]
  },
  {
   "cell_type": "code",
   "execution_count": null,
   "id": "36657604",
   "metadata": {},
   "outputs": [],
   "source": [
    "n_particles = 250;"
   ]
  },
  {
   "cell_type": "code",
   "execution_count": null,
   "id": "05913b04",
   "metadata": {
    "scrolled": true
   },
   "outputs": [],
   "source": [
    "sim_abcsmc_res = SimulatedABCSMC(obs,simulator_function_d,priors,thresh_shed,n_particles; write_progress=true)"
   ]
  },
  {
   "cell_type": "code",
   "execution_count": null,
   "id": "896f52bf",
   "metadata": {
    "tags": []
   },
   "outputs": [],
   "source": [
    "ds = 3\n",
    "data = sim_abcsmc_res.population[3]\n",
    "vars = [\"β_intra\", \"β_inter\", \"ω\", \"p\"]\n",
    "for i in 1:4\n",
    "    wanted = data[:,i]\n",
    "    println(vars[i])\n",
    "    println(\"Median: \", round(median(wanted),digits=4))\n",
    "    println(\"Mean: \", round(mean(wanted), digits=4))\n",
    "    \n",
    "    println()\n",
    "end"
   ]
  },
  {
   "cell_type": "code",
   "execution_count": null,
   "id": "2ac92664-3f7d-4157-9575-7544021f8e42",
   "metadata": {},
   "outputs": [],
   "source": []
  },
  {
   "cell_type": "markdown",
   "id": "7e7abfe8-60ce-486f-83ec-39f4e3e1cdf8",
   "metadata": {
    "tags": []
   },
   "source": [
    "## Fitting ODE Model\n",
    "Now we fit ODE Model, needs to be fit seperately as no population drift and no groups!\n",
    "Should be alot faster than tau-leaping fitting!"
   ]
  },
  {
   "cell_type": "code",
   "execution_count": null,
   "id": "5aeb8bc2-b564-4546-a4de-907dc8bdb30f",
   "metadata": {
    "tags": []
   },
   "outputs": [],
   "source": [
    "function AUSF_ode(param_ode,Tspan,U0)\n",
    "    \n",
    "    prob_ode = ODEProblem(ASF_Model.asf_model_ode, U0_ode, (0.0,n_years*365.0), param_ode)\n",
    "    sol_ode = solve(prob_ode, saveat = 1,reltol=1e-8)\n",
    "    \n",
    "    res = eval_out(sol_ode)\n",
    "    \n",
    "end\n",
    "    \n",
    "function simulator_function_d(var_params)\n",
    "    start_day = 180\n",
    "    \n",
    "    Tspan = (start_day,365*n_years+start_day)\n",
    "    \n",
    "    input = ASF_Inputs.Model_Data(input_path,var_params[4]);\n",
    "    \n",
    "    params = ASF_Model.convert(input.Parameters)\n",
    "    \n",
    "    U0 = input.U0\n",
    "\n",
    "    Burn_U0 =  copy(U0)\n",
    "    Burn_U0[2:5:end] .= 0\n",
    "    Burn_U0[3:5:end] .= 0\n",
    "    rj_burn = RegularJump(ASF_Model.asf_model_pop, regular_c, eqs*nt)\n",
    "    prob_burn = DiscreteProblem(Burn_U0,(0.0,275),params)\n",
    "    jump_prob_burn = JumpProblem(prob_burn, Direct(), rj_burn)\n",
    "    sol_burn = solve(jump_prob_burn, SimpleTauLeaping(),dt=1);\n",
    "    \n",
    "    U_burn = copy(sol_burn[params[18]+start_day]); #population at start date\n",
    "    rr = rand(1:nt) #seeding diease in starting pop\n",
    "    ra = rr -1\n",
    "    if U_burn[ra*5+1] > 1\n",
    "        U_burn[ra*5+1] = 0\n",
    "        U_burn[ra*5+2] = 3\n",
    "        U_burn[ra*5+3] = 2\n",
    "    else\n",
    "        U_burn[ra*5+1] = 0\n",
    "        U_burn[ra*5+3] = 1\n",
    "    end\n",
    "\n",
    "    netw = params[3][:,rr] #related populations\n",
    "    cons = findall(>(0), netw)\n",
    "    \n",
    "    if length(cons) <= 4\n",
    "        wanted = cons\n",
    "    else\n",
    "        wanted=shuffle(cons)[1:4] #seeding in 4 other pops so 5 in total!\n",
    "    end \n",
    "    \n",
    "    for i in cons\n",
    "        i1 = i -1\n",
    "        if U_burn[i1*5+1] > 1\n",
    "            U_burn[i1*5+1] = 0\n",
    "            U_burn[i1*5+2] = 3\n",
    "            U_burn[i1*5+3] = 2\n",
    "        else\n",
    "            U_burn[i1*5+1] = 0\n",
    "            U_burn[i1*5+3] = 1\n",
    "        end\n",
    "\n",
    "    end\n",
    "    #beta\n",
    "    params[1] .= var_params[1] #intra\n",
    "    params[2][params[2] .!= 0 ] .= var_params[2]/n_con #inter\n",
    "    \n",
    "    #corpse \n",
    "    params[8] = var_params[3] #corpse infection modifier\n",
    "    AUSF_d(params, Tspan, U_burn)\n",
    "    \n",
    "    \n",
    "end\n"
   ]
  },
  {
   "cell_type": "code",
   "execution_count": null,
   "id": "bfaf42c7-97ae-4328-a607-2f226ddf29d7",
   "metadata": {},
   "outputs": [],
   "source": []
  }
 ],
 "metadata": {
  "kernelspec": {
   "display_name": "Julia 1.8.3",
   "language": "julia",
   "name": "julia-1.8"
  },
  "language_info": {
   "file_extension": ".jl",
   "mimetype": "application/julia",
   "name": "julia",
   "version": "1.8.3"
  },
  "vscode": {
   "interpreter": {
    "hash": "e7370f93d1d0cde622a1f8e1c04877d8463912d04d973331ad4851f04de6915a"
   }
  }
 },
 "nbformat": 4,
 "nbformat_minor": 5
}
