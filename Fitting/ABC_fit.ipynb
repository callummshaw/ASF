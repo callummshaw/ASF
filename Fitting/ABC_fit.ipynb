{
 "cells": [
  {
   "cell_type": "code",
   "execution_count": 1,
   "id": "a5490003",
   "metadata": {},
   "outputs": [],
   "source": [
    " from julia import Julia\n",
    "jl = Julia(sysimage = \"/home/callum/ASF/Fitting/sys_model.so\") #loading sys image"
   ]
  },
  {
   "cell_type": "code",
   "execution_count": 2,
   "id": "4e52024c",
   "metadata": {},
   "outputs": [],
   "source": [
    "import matplotlib.pyplot as plt\n",
    "\n",
    "import os\n",
    "import tempfile\n",
    "import numpy as np\n",
    "import scipy as sp\n",
    "\n",
    "\n",
    "from pyabc import ABCSMC, RV, Distribution, LocalTransition, MedianEpsilon, SingleCoreSampler\n",
    "from pyabc.visualization import plot_data_callback, plot_kde_2d\n",
    "from pyabc.populationstrategy import AdaptivePopulationSize\n",
    "import pyabc\n",
    "from scipy import stats\n",
    "import random as rd\n",
    "from brokenaxes import brokenaxes"
   ]
  },
  {
   "cell_type": "code",
   "execution_count": 3,
   "id": "65624f17",
   "metadata": {},
   "outputs": [],
   "source": [
    "plt.rcParams.update({\n",
    "    \"text.usetex\": True,\n",
    "    \"font.family\": \"Helvetica\"\n",
    "})"
   ]
  },
  {
   "cell_type": "code",
   "execution_count": 4,
   "id": "9fd7d30b",
   "metadata": {},
   "outputs": [],
   "source": [
    "plt.style.use('seaborn-colorblind')\n",
    "prop_cycle = plt.rcParams['axes.prop_cycle']\n",
    "colors = prop_cycle.by_key()['color']"
   ]
  },
  {
   "cell_type": "markdown",
   "id": "331510cd",
   "metadata": {},
   "source": [
    "# Fitting ODE model and deciding best!"
   ]
  },
  {
   "cell_type": "code",
   "execution_count": 12,
   "id": "2602582e",
   "metadata": {},
   "outputs": [
    {
     "name": "stderr",
     "output_type": "stream",
     "text": [
      "/home/callum/.local/lib/python3.10/site-packages/julia/core.py:709: FutureWarning: Accessing `Julia().<name>` to obtain Julia objects is deprecated.  Use `from julia import Main; Main.<name>` or `jl = Julia(); jl.eval('<name>')`.\n",
      "  warnings.warn(\n"
     ]
    },
    {
     "data": {
      "text/plain": [
       "<PyCall.jlwrap Main.SIR_ODE>"
      ]
     },
     "execution_count": 12,
     "metadata": {},
     "output_type": "execute_result"
    }
   ],
   "source": [
    "jl.eval('push!(LOAD_PATH, \"/home/callum/ASF/Fitting/ODE_FIT.jl\")')\n",
    "jl.include('/home/callum/ASF/Fitting/ODE_FIT.jl') #loading files with our model!"
   ]
  },
  {
   "cell_type": "code",
   "execution_count": 14,
   "id": "482749cb",
   "metadata": {},
   "outputs": [],
   "source": [
    "#Loading the four models!\n",
    "model1 = jl.SIR_ODE.model_1 #Frequency\n",
    "model2 = jl.SIR_ODE.model_2 #Pure Density\n",
    "model3 = jl.SIR_ODE.model_3 #Sigmoid Density\n",
    "model4 = jl.SIR_ODE.model_4 #Sqrt Density\n",
    "\n",
    "models  =[model1,model2,model3,model4]"
   ]
  },
  {
   "cell_type": "code",
   "execution_count": null,
   "id": "4ab4a608",
   "metadata": {},
   "outputs": [],
   "source": [
    "#The observations!\n",
    "obs = jl.SIR_ODE.observation\n",
    "\n",
    "#Distance function used for fitting\n",
    "distance = jl.SIR_ODE.distance\n"
   ]
  },
  {
   "cell_type": "code",
   "execution_count": null,
   "id": "30f403b8",
   "metadata": {},
   "outputs": [],
   "source": [
    "#Fitting two params P1 - transmission co-efficent, P2 - corpse infectivity modifier\n",
    "parameter_prior = Distribution(p1=RV(\"uniform\", 0.0, 1.0),p2=RV(\"uniform\", 0.0, 1.0))\n",
    "\n",
    "#sample params to test functions all work and pre-compile\n",
    "sample_par = {\"p1\": 0.1,\"p2\": 0.5} \n",
    "\n",
    "n = 4 #number of models we are looking at!\n",
    "param_list = [parameter_prior]*n"
   ]
  },
  {
   "cell_type": "code",
   "execution_count": null,
   "id": "b37312df",
   "metadata": {},
   "outputs": [],
   "source": [
    "distance(model1(sample_par),obs)\n",
    "distance(model2(sample_par),obs)\n",
    "distance(model3(sample_par),obs)\n",
    "distance(model4(sample_par),obs);"
   ]
  },
  {
   "cell_type": "code",
   "execution_count": null,
   "id": "293ecd55",
   "metadata": {},
   "outputs": [],
   "source": [
    "abc= ABCSMC(\n",
    "    models=model4,\n",
    "    parameter_priors=parameter_prior,\n",
    "    distance_function=distance,\n",
    "    population_size =  AdaptivePopulationSize(1000, 0.15,max_population_size = 1000),\n",
    "    sampler = SingleCoreSampler(),\n",
    ")\n",
    "\n"
   ]
  },
  {
   "cell_type": "code",
   "execution_count": null,
   "id": "57a64402",
   "metadata": {},
   "outputs": [],
   "source": []
  },
  {
   "cell_type": "markdown",
   "id": "df0c3418",
   "metadata": {},
   "source": [
    "# Tau Leaping Homogeneous "
   ]
  },
  {
   "cell_type": "code",
   "execution_count": 12,
   "id": "f268e554",
   "metadata": {},
   "outputs": [
    {
     "name": "stderr",
     "output_type": "stream",
     "text": [
      "/home/callum/.local/lib/python3.10/site-packages/julia/core.py:709: FutureWarning: Accessing `Julia().<name>` to obtain Julia objects is deprecated.  Use `from julia import Main; Main.<name>` or `jl = Julia(); jl.eval('<name>')`.\n",
      "  warnings.warn(\n"
     ]
    },
    {
     "data": {
      "text/plain": [
       "<PyCall.jlwrap Main.SIR_TAU_S>"
      ]
     },
     "execution_count": 12,
     "metadata": {},
     "output_type": "execute_result"
    }
   ],
   "source": [
    "jl.eval('push!(LOAD_PATH, \"/home/callum/ASF/Fitting/TAU_HOMO_FIT.jl\")')\n",
    "jl.include('/home/callum/ASF/Fitting/TAU_HOMO_FIT.jl') #loading files with our model!\n",
    "model_int = jl.SIR_TAU_S.model_int"
   ]
  },
  {
   "cell_type": "code",
   "execution_count": 13,
   "id": "a5efaee2",
   "metadata": {},
   "outputs": [],
   "source": [
    "model_int = jl.SIR_TAU_S.model_int"
   ]
  },
  {
   "cell_type": "code",
   "execution_count": null,
   "id": "f468768f",
   "metadata": {
    "scrolled": true
   },
   "outputs": [],
   "source": [
    "model1 = jl.SIR_TAU_S.model_1 #Frequency\n",
    "model2 = jl.SIR_TAU_S.model_2 #Pure Density\n",
    "model3 = jl.SIR_TAU_S.model_3 #Sigmoid Density\n",
    "model4 = jl.SIR_TAU_S.model_4 #Sqrt Density\n",
    "\n",
    "#models_h  =[model1_h,model2_h,model3_h,model4_h]"
   ]
  },
  {
   "cell_type": "code",
   "execution_count": null,
   "id": "4cb6a2e1",
   "metadata": {},
   "outputs": [],
   "source": [
    "distance(model1_h (sample_par),obs)\n",
    "distance(model2_h (sample_par),obs)\n",
    "distance(model3_h (sample_par),obs)\n",
    "distance(model4_h (sample_par),obs);"
   ]
  },
  {
   "cell_type": "code",
   "execution_count": null,
   "id": "1d056563",
   "metadata": {},
   "outputs": [],
   "source": [
    "abc = ABCSMC(\n",
    "    models=model4_h,\n",
    "    parameter_priors=parameter_prior,\n",
    "    distance_function=distance,\n",
    "    population_size =  AdaptivePopulationSize(1000, 0.15,max_population_size = 1000),\n",
    "    sampler = SingleCoreSampler(),\n",
    ")"
   ]
  },
  {
   "cell_type": "code",
   "execution_count": null,
   "id": "22a58046",
   "metadata": {},
   "outputs": [],
   "source": [
    "\n",
    "abc_id = abc.new(\"sqlite:////tmp/mjp.db\", obs)\n"
   ]
  },
  {
   "cell_type": "code",
   "execution_count": null,
   "id": "602f58c3",
   "metadata": {},
   "outputs": [],
   "source": [
    "\n",
    "h4_h = abc.run(minimum_epsilon=0.5, max_nr_populations=15)\n"
   ]
  },
  {
   "cell_type": "code",
   "execution_count": null,
   "id": "fc63e009",
   "metadata": {},
   "outputs": [],
   "source": []
  },
  {
   "cell_type": "markdown",
   "id": "c72a2cf5",
   "metadata": {},
   "source": [
    "# Tau Hetro"
   ]
  },
  {
   "cell_type": "code",
   "execution_count": null,
   "id": "bddcb045",
   "metadata": {},
   "outputs": [],
   "source": [
    "jl.eval('push!(LOAD_PATH, \"/home/callum/ASF/Fitting/TAU_HETRO_FIT.jl\")')\n",
    "jl.include('/home/callum/ASF/Fitting/TAU_HETRO_FIT.jl') #loading files with our model!"
   ]
  },
  {
   "cell_type": "code",
   "execution_count": null,
   "id": "a3d75c1a",
   "metadata": {},
   "outputs": [],
   "source": [
    "model1= jl.SIR_TAU_M.model_1 #Frequency\n",
    "#model2 = jl.SIR_TAU_M.model_2 #Pure Density\n",
    "#model3 = jl.SIR_TAU_M.model_3 #Sigmoid Density\n",
    "model4 = jl.SIR_TAU_M.model_4 #Sqrt Density"
   ]
  },
  {
   "cell_type": "code",
   "execution_count": null,
   "id": "79807b21",
   "metadata": {},
   "outputs": [],
   "source": [
    "#Fitting two params P1 - transmission co-efficent, P2 - corpse infectivity modifier\n",
    "parameter_prior = Distribution(p1=RV(\"uniform\", 0.0, 1.0),p2=RV(\"uniform\", 0.0, 0.25),p3=RV(\"uniform\", 0.0, 1.0),)\n",
    "\n",
    "#sample params to test functions all work and pre-compile\n",
    "sample_par = {\"p1\": 0.1,\"p2\": 0.05, \"p3\": 0.5} \n",
    "\n",
    "n = 4 #number of models we are looking at!\n",
    "param_list = [parameter_prior]*n"
   ]
  },
  {
   "cell_type": "code",
   "execution_count": null,
   "id": "57ab0068",
   "metadata": {},
   "outputs": [],
   "source": [
    "distance(model1_c (sample_par),obs)\n",
    "distance(model2_c (sample_par),obs)\n",
    "distance(model3_c (sample_par),obs)\n",
    "distance(model4_c (sample_par),obs);"
   ]
  },
  {
   "cell_type": "code",
   "execution_count": null,
   "id": "5b7d876a",
   "metadata": {},
   "outputs": [],
   "source": [
    "abc = ABCSMC(\n",
    "    models=model1_c,\n",
    "    parameter_priors=parameter_prior,\n",
    "    distance_function=distance,\n",
    "    population_size =  AdaptivePopulationSize(100, 0.15,max_population_size = 100),\n",
    "    sampler = SingleCoreSampler(),\n",
    ")\n",
    "\n",
    "\n"
   ]
  },
  {
   "cell_type": "code",
   "execution_count": null,
   "id": "b439862c",
   "metadata": {},
   "outputs": [],
   "source": [
    "abc_id = abc.new(\"sqlite:////tmp/mjjp.db\", obs)\n"
   ]
  },
  {
   "cell_type": "code",
   "execution_count": null,
   "id": "36dde7b3",
   "metadata": {},
   "outputs": [],
   "source": [
    "h1n = abc.run(minimum_epsilon=0.5, max_nr_populations=6)\n"
   ]
  }
 ],
 "metadata": {
  "@webio": {
   "lastCommId": null,
   "lastKernelId": null
  },
  "kernelspec": {
   "display_name": "Python 3 (ipykernel)",
   "language": "python",
   "name": "python3"
  },
  "language_info": {
   "codemirror_mode": {
    "name": "ipython",
    "version": 3
   },
   "file_extension": ".py",
   "mimetype": "text/x-python",
   "name": "python",
   "nbconvert_exporter": "python",
   "pygments_lexer": "ipython3",
   "version": "3.10.6"
  }
 },
 "nbformat": 4,
 "nbformat_minor": 5
}
