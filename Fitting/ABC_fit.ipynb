{
 "cells": [
  {
   "cell_type": "code",
   "execution_count": 1,
   "id": "a5490003",
   "metadata": {},
   "outputs": [],
   "source": [
    " from julia import Julia\n",
    "jl = Julia(sysimage = \"/home/callum/ASF/Fitting/sys_model.so\")"
   ]
  },
  {
   "cell_type": "code",
   "execution_count": 2,
   "id": "2602582e",
   "metadata": {},
   "outputs": [
    {
     "name": "stderr",
     "output_type": "stream",
     "text": [
      "/home/callum/.local/lib/python3.10/site-packages/julia/core.py:709: FutureWarning: Accessing `Julia().<name>` to obtain Julia objects is deprecated.  Use `from julia import Main; Main.<name>` or `jl = Julia(); jl.eval('<name>')`.\n",
      "  warnings.warn(\n"
     ]
    },
    {
     "data": {
      "text/plain": [
       "['/home/callum/ASF/', '/home/callum/ASF/Fitting/TAU_Hetro_FIT.jl']"
      ]
     },
     "execution_count": 2,
     "metadata": {},
     "output_type": "execute_result"
    }
   ],
   "source": [
    "jl.eval('push!(LOAD_PATH, \"/home/callum/ASF/Fitting/TAU_Hetro_FIT.jl\")')"
   ]
  },
  {
   "cell_type": "code",
   "execution_count": null,
   "id": "6ea6fdf4",
   "metadata": {},
   "outputs": [],
   "source": [
    "jl.include('/home/callum/ASF/Fitting/TAU_HOMO_FIT.jl')\n",
    "jl.include('/home/callum/ASF/Fitting/ODE_FIT.jl')"
   ]
  },
  {
   "cell_type": "code",
   "execution_count": 13,
   "id": "4a337d44",
   "metadata": {},
   "outputs": [
    {
     "name": "stderr",
     "output_type": "stream",
     "text": [
      "WARNING: replacing module SIR_TAU_M.\n"
     ]
    },
    {
     "data": {
      "text/plain": [
       "<PyCall.jlwrap Main.SIR_TAU_M>"
      ]
     },
     "execution_count": 13,
     "metadata": {},
     "output_type": "execute_result"
    }
   ],
   "source": [
    "jl.include('/home/callum/ASF/Fitting/TAU_HETRO_FIT.jl')"
   ]
  },
  {
   "cell_type": "code",
   "execution_count": 5,
   "id": "0c486c1b",
   "metadata": {},
   "outputs": [],
   "source": [
    "import matplotlib.pyplot as plt"
   ]
  },
  {
   "cell_type": "code",
   "execution_count": 5,
   "id": "4e52024c",
   "metadata": {},
   "outputs": [],
   "source": [
    "import os\n",
    "import tempfile\n",
    "import numpy as np\n",
    "import scipy as sp\n",
    "\n",
    "\n",
    "from pyabc import ABCSMC, RV, Distribution, LocalTransition, MedianEpsilon\n",
    "from pyabc.visualization import plot_data_callback, plot_kde_2d\n",
    "import pyabc\n",
    "#db_path = \"sqlite:///\" + os.path.join(tempfile.gettempdir(), \"test.db\")"
   ]
  },
  {
   "cell_type": "code",
   "execution_count": 14,
   "id": "482749cb",
   "metadata": {},
   "outputs": [],
   "source": [
    "model1 = jl.SIR_TAU_M.model_1\n",
    "model2 = jl.SIR_TAU_M.model_2\n",
    "model3 = jl.SIR_TAU_M.model_3\n",
    "model4 = jl.SIR_TAU_M.model_4"
   ]
  },
  {
   "cell_type": "code",
   "execution_count": 23,
   "id": "4ab4a608",
   "metadata": {},
   "outputs": [],
   "source": [
    "models  =[model1,model2,model3,model4]"
   ]
  },
  {
   "cell_type": "code",
   "execution_count": 15,
   "id": "ed45a619",
   "metadata": {},
   "outputs": [],
   "source": [
    "distance = jl.SIR_TAU_M.distance\n",
    "obs = jl.SIR_TAU_M.observation"
   ]
  },
  {
   "cell_type": "code",
   "execution_count": 16,
   "id": "29647a33",
   "metadata": {},
   "outputs": [
    {
     "data": {
      "text/plain": [
       "{'SS': array([  1.5,  75. , 180. ])}"
      ]
     },
     "execution_count": 16,
     "metadata": {},
     "output_type": "execute_result"
    }
   ],
   "source": [
    "obs"
   ]
  },
  {
   "cell_type": "code",
   "execution_count": 24,
   "id": "30f403b8",
   "metadata": {},
   "outputs": [],
   "source": [
    "parameter_prior = Distribution(p1=RV(\"uniform\", 0.0, 1.0),p2=RV(\"uniform\", 0.0, 0.1),p3=RV(\"uniform\", 0.0, 1.0))\n",
    "parameter_prior.get_parameter_names()\n",
    "params = [parameter_prior,parameter_prior,parameter_prior,parameter_prior, parameter_prior,parameter_prior,parameter_prior,parameter_prior]\n",
    "params = [parameter_prior,parameter_prior,parameter_prior,parameter_prior]\n",
    "\n",
    "gt_par = {\"p1\": 0.4,\"p2\": 0.05,\"p3\": 0.5}"
   ]
  },
  {
   "cell_type": "code",
   "execution_count": 22,
   "id": "b37312df",
   "metadata": {},
   "outputs": [
    {
     "data": {
      "text/plain": [
       "2.694456671065735"
      ]
     },
     "execution_count": 22,
     "metadata": {},
     "output_type": "execute_result"
    }
   ],
   "source": [
    "distance(model1(gt_par),obs)\n",
    "distance(model2(gt_par),obs)\n",
    "distance(model3(gt_par),obs)\n",
    "distance(model4(gt_par),obs)"
   ]
  },
  {
   "cell_type": "code",
   "execution_count": 26,
   "id": "4df8653f",
   "metadata": {},
   "outputs": [],
   "source": [
    "from pyabc import ABCSMC, RV, Distribution, MulticoreEvalParallelSampler"
   ]
  },
  {
   "cell_type": "code",
   "execution_count": 15,
   "id": "fa24956b",
   "metadata": {},
   "outputs": [
    {
     "name": "stderr",
     "output_type": "stream",
     "text": [
      "ABC.Sampler INFO: Parallelize sampling on 1 processes.\n",
      "ABC.History INFO: Start <ABCSMC id=1, start_time=2023-03-03 17:09:49>\n",
      "ABC INFO: Calibration sample t = -1.\n",
      "ABC INFO: t: 0, eps: 1.45874069e+05.\n",
      "ABC INFO: Accepted: 100 / 181 = 5.5249e-01, ESS: 1.0000e+02.\n",
      "ABC INFO: t: 1, eps: 9.28532084e+04.\n",
      "ABC INFO: Accepted: 100 / 211 = 4.7393e-01, ESS: 9.6922e+01.\n",
      "ABC INFO: t: 2, eps: 4.48972172e+04.\n",
      "ABC INFO: Accepted: 100 / 204 = 4.9020e-01, ESS: 9.5911e+01.\n",
      "ABC INFO: t: 3, eps: 2.06387219e+04.\n",
      "ABC INFO: Accepted: 100 / 198 = 5.0505e-01, ESS: 9.4076e+01.\n",
      "ABC INFO: t: 4, eps: 1.07447049e+04.\n",
      "ABC INFO: Accepted: 100 / 207 = 4.8309e-01, ESS: 9.9580e+01.\n",
      "ABC INFO: t: 5, eps: 7.15516393e+03.\n",
      "ABC INFO: Accepted: 100 / 265 = 3.7736e-01, ESS: 9.6606e+01.\n",
      "ABC INFO: t: 6, eps: 5.42329424e+03.\n",
      "ABC INFO: Accepted: 100 / 342 = 2.9240e-01, ESS: 3.8722e+01.\n",
      "ABC INFO: t: 7, eps: 4.25625551e+03.\n",
      "ABC INFO: Accepted: 100 / 743 = 1.3459e-01, ESS: 8.6771e+01.\n",
      "ABC INFO: t: 8, eps: 3.64309401e+03.\n",
      "ABC INFO: Accepted: 100 / 1178 = 8.4890e-02, ESS: 9.1922e+01.\n",
      "ABC INFO: t: 9, eps: 3.15188803e+03.\n",
      "ABC INFO: Accepted: 100 / 2474 = 4.0420e-02, ESS: 4.9028e+01.\n",
      "ABC INFO: Stop: Maximum number of generations.\n",
      "ABC.History INFO: Done <ABCSMC id=1, duration=0:28:27.345574, end_time=2023-03-03 17:38:17>\n"
     ]
    }
   ],
   "source": [
    "abc = ABCSMC(\n",
    "    model1,\n",
    "    parameter_prior,\n",
    "    distance,\n",
    "    sampler=MulticoreEvalParallelSampler(n_procs=1),\n",
    ")\n",
    "db = tempfile.mkstemp(suffix=\".db\")[1]\n",
    "abc.new(\"sqlite:///\" + db, obs)\n",
    "h1 = abc.run(max_nr_populations=10)"
   ]
  },
  {
   "cell_type": "code",
   "execution_count": 16,
   "id": "01e119e3",
   "metadata": {},
   "outputs": [
    {
     "name": "stderr",
     "output_type": "stream",
     "text": [
      "ABC.Sampler INFO: Parallelize sampling on 1 processes.\n",
      "ABC.History INFO: Start <ABCSMC id=1, start_time=2023-03-03 17:38:17>\n",
      "ABC INFO: Calibration sample t = -1.\n",
      "ABC INFO: t: 0, eps: 1.52224143e+05.\n",
      "ABC INFO: Accepted: 100 / 149 = 6.7114e-01, ESS: 1.0000e+02.\n",
      "ABC INFO: t: 1, eps: 9.57563653e+04.\n",
      "ABC INFO: Accepted: 100 / 206 = 4.8544e-01, ESS: 9.8462e+01.\n",
      "ABC INFO: t: 2, eps: 4.24255990e+04.\n",
      "ABC INFO: Accepted: 100 / 185 = 5.4054e-01, ESS: 7.8053e+01.\n",
      "ABC INFO: t: 3, eps: 2.12589345e+04.\n",
      "ABC INFO: Accepted: 100 / 165 = 6.0606e-01, ESS: 9.8996e+01.\n",
      "ABC INFO: t: 4, eps: 1.18749141e+04.\n",
      "ABC INFO: Accepted: 100 / 216 = 4.6296e-01, ESS: 9.4694e+01.\n",
      "ABC INFO: t: 5, eps: 7.86319379e+03.\n",
      "ABC INFO: Accepted: 100 / 245 = 4.0816e-01, ESS: 9.6306e+01.\n",
      "ABC INFO: t: 6, eps: 5.68020383e+03.\n",
      "ABC INFO: Accepted: 100 / 435 = 2.2989e-01, ESS: 8.4560e+01.\n",
      "ABC INFO: t: 7, eps: 4.84171844e+03.\n",
      "ABC INFO: Accepted: 100 / 684 = 1.4620e-01, ESS: 7.9856e+01.\n",
      "ABC INFO: t: 8, eps: 4.14048505e+03.\n",
      "ABC INFO: Accepted: 100 / 1156 = 8.6505e-02, ESS: 1.7262e+01.\n",
      "ABC INFO: t: 9, eps: 3.69035012e+03.\n",
      "ABC INFO: Accepted: 100 / 2280 = 4.3860e-02, ESS: 8.9584e+01.\n",
      "ABC INFO: Stop: Maximum number of generations.\n",
      "ABC.History INFO: Done <ABCSMC id=1, duration=0:27:15.747331, end_time=2023-03-03 18:05:33>\n"
     ]
    }
   ],
   "source": [
    "abc = ABCSMC(\n",
    "    model2,\n",
    "    parameter_prior,\n",
    "    distance,\n",
    "    sampler=MulticoreEvalParallelSampler(n_procs=1),\n",
    ")\n",
    "db = tempfile.mkstemp(suffix=\".db\")[1]\n",
    "abc.new(\"sqlite:///\" + db, obs)\n",
    "h2 = abc.run(max_nr_populations=10)"
   ]
  },
  {
   "cell_type": "code",
   "execution_count": 17,
   "id": "91cffa8d",
   "metadata": {},
   "outputs": [
    {
     "name": "stderr",
     "output_type": "stream",
     "text": [
      "ABC.Sampler INFO: Parallelize sampling on 1 processes.\n",
      "ABC.History INFO: Start <ABCSMC id=1, start_time=2023-03-03 18:05:33>\n",
      "ABC INFO: Calibration sample t = -1.\n",
      "ABC INFO: t: 0, eps: 1.39772879e+05.\n",
      "ABC INFO: Accepted: 100 / 214 = 4.6729e-01, ESS: 1.0000e+02.\n",
      "ABC INFO: t: 1, eps: 8.59154063e+04.\n",
      "ABC INFO: Accepted: 100 / 187 = 5.3476e-01, ESS: 9.7526e+01.\n",
      "ABC INFO: t: 2, eps: 4.08081151e+04.\n",
      "ABC INFO: Accepted: 100 / 222 = 4.5045e-01, ESS: 9.6858e+01.\n",
      "ABC INFO: t: 3, eps: 1.65369138e+04.\n",
      "ABC INFO: Accepted: 100 / 222 = 4.5045e-01, ESS: 9.7044e+01.\n",
      "ABC INFO: t: 4, eps: 8.34601258e+03.\n",
      "ABC INFO: Accepted: 100 / 241 = 4.1494e-01, ESS: 9.8089e+01.\n",
      "ABC INFO: t: 5, eps: 5.98232138e+03.\n",
      "ABC INFO: Accepted: 100 / 274 = 3.6496e-01, ESS: 8.6687e+01.\n",
      "ABC INFO: t: 6, eps: 4.77382649e+03.\n",
      "ABC INFO: Accepted: 100 / 612 = 1.6340e-01, ESS: 9.1755e+01.\n",
      "ABC INFO: t: 7, eps: 3.98472716e+03.\n",
      "ABC INFO: Accepted: 100 / 950 = 1.0526e-01, ESS: 6.1014e+01.\n",
      "ABC INFO: t: 8, eps: 3.42543641e+03.\n",
      "ABC INFO: Accepted: 100 / 2019 = 4.9529e-02, ESS: 9.5907e+01.\n",
      "ABC INFO: t: 9, eps: 3.05404945e+03.\n",
      "ABC INFO: Accepted: 100 / 2931 = 3.4118e-02, ESS: 5.6365e+01.\n",
      "ABC INFO: Stop: Maximum number of generations.\n",
      "ABC.History INFO: Done <ABCSMC id=1, duration=0:37:06.719183, end_time=2023-03-03 18:42:39>\n"
     ]
    }
   ],
   "source": [
    "abc = ABCSMC(\n",
    "    model3,\n",
    "    parameter_prior,\n",
    "    distance,\n",
    "    sampler=MulticoreEvalParallelSampler(n_procs=1),\n",
    ")\n",
    "db = tempfile.mkstemp(suffix=\".db\")[1]\n",
    "abc.new(\"sqlite:///\" + db, obs)\n",
    "h3 = abc.run(max_nr_populations=10)"
   ]
  },
  {
   "cell_type": "code",
   "execution_count": null,
   "id": "3cf9428a",
   "metadata": {},
   "outputs": [],
   "source": []
  },
  {
   "cell_type": "code",
   "execution_count": null,
   "id": "87eed373",
   "metadata": {},
   "outputs": [],
   "source": [
    "db = tempfile.mkstemp(suffix=\".db\")[1]\n",
    "abc.new(\"sqlite:///\" + db, obs)"
   ]
  },
  {
   "cell_type": "code",
   "execution_count": null,
   "id": "f6ebdb87",
   "metadata": {
    "scrolled": false
   },
   "outputs": [],
   "source": [
    "h = abc.run(max_nr_populations=10)"
   ]
  },
  {
   "cell_type": "code",
   "execution_count": 35,
   "id": "543bc0c8",
   "metadata": {},
   "outputs": [
    {
     "name": "stderr",
     "output_type": "stream",
     "text": [
      "ABC.Sampler INFO: Parallelize sampling on 1 processes.\n"
     ]
    }
   ],
   "source": [
    "from pyabc import ABCSMC\n",
    "from pyabc.populationstrategy import AdaptivePopulationSize\n",
    "\n",
    "abc = ABCSMC(\n",
    "    models,\n",
    "    params,\n",
    "    distance,\n",
    "    population_size=AdaptivePopulationSize(200, 0.15),\n",
    "    sampler=MulticoreEvalParallelSampler(n_procs=1)\n",
    ")\n",
    "\n"
   ]
  },
  {
   "cell_type": "code",
   "execution_count": 36,
   "id": "b348dae7",
   "metadata": {},
   "outputs": [
    {
     "name": "stderr",
     "output_type": "stream",
     "text": [
      "ABC.History INFO: Start <ABCSMC id=3, start_time=2023-03-05 16:01:27>\n"
     ]
    }
   ],
   "source": [
    "abc_id = abc.new(\"sqlite:////tmp/mjp.db\", obs)"
   ]
  },
  {
   "cell_type": "code",
   "execution_count": 37,
   "id": "e31f9b58",
   "metadata": {},
   "outputs": [
    {
     "name": "stderr",
     "output_type": "stream",
     "text": [
      "ABC INFO: Calibration sample t = -1.\n",
      "ABC INFO: t: 0, eps: 3.20849561e+00.\n",
      "ABC INFO: Accepted: 200 / 372 = 5.3763e-01, ESS: 2.0000e+02.\n",
      "ABC.Adaptation INFO: Change nr particles 200 -> 2135\n",
      "ABC INFO: t: 1, eps: 1.93564694e+00.\n",
      "ABC.History INFO: Done <ABCSMC id=3, duration=8:09:02.461873, end_time=2023-03-06 00:10:30>\n"
     ]
    },
    {
     "ename": "ProcessError",
     "evalue": "At least one worker is dead.",
     "output_type": "error",
     "traceback": [
      "\u001b[0;31m---------------------------------------------------------------------------\u001b[0m",
      "\u001b[0;31mEmpty\u001b[0m                                     Traceback (most recent call last)",
      "File \u001b[0;32m~/.local/lib/python3.10/site-packages/pyabc/sampler/multicorebase.py:99\u001b[0m, in \u001b[0;36mget_if_worker_healthy\u001b[0;34m(workers, queue)\u001b[0m\n\u001b[1;32m     98\u001b[0m \u001b[38;5;28;01mtry\u001b[39;00m:\n\u001b[0;32m---> 99\u001b[0m     item \u001b[38;5;241m=\u001b[39m \u001b[43mqueue\u001b[49m\u001b[38;5;241;43m.\u001b[39;49m\u001b[43mget\u001b[49m\u001b[43m(\u001b[49m\u001b[38;5;28;43;01mTrue\u001b[39;49;00m\u001b[43m,\u001b[49m\u001b[43m \u001b[49m\u001b[38;5;241;43m5\u001b[39;49m\u001b[43m)\u001b[49m\n\u001b[1;32m    100\u001b[0m     \u001b[38;5;28;01mreturn\u001b[39;00m item\n",
      "File \u001b[0;32m/usr/lib/python3.10/multiprocessing/queues.py:114\u001b[0m, in \u001b[0;36mQueue.get\u001b[0;34m(self, block, timeout)\u001b[0m\n\u001b[1;32m    113\u001b[0m     \u001b[38;5;28;01mif\u001b[39;00m \u001b[38;5;129;01mnot\u001b[39;00m \u001b[38;5;28mself\u001b[39m\u001b[38;5;241m.\u001b[39m_poll(timeout):\n\u001b[0;32m--> 114\u001b[0m         \u001b[38;5;28;01mraise\u001b[39;00m Empty\n\u001b[1;32m    115\u001b[0m \u001b[38;5;28;01melif\u001b[39;00m \u001b[38;5;129;01mnot\u001b[39;00m \u001b[38;5;28mself\u001b[39m\u001b[38;5;241m.\u001b[39m_poll():\n",
      "\u001b[0;31mEmpty\u001b[0m: ",
      "\nDuring handling of the above exception, another exception occurred:\n",
      "\u001b[0;31mProcessError\u001b[0m                              Traceback (most recent call last)",
      "Input \u001b[0;32mIn [37]\u001b[0m, in \u001b[0;36m<cell line: 1>\u001b[0;34m()\u001b[0m\n\u001b[0;32m----> 1\u001b[0m history \u001b[38;5;241m=\u001b[39m \u001b[43mabc\u001b[49m\u001b[38;5;241;43m.\u001b[39;49m\u001b[43mrun\u001b[49m\u001b[43m(\u001b[49m\u001b[43mminimum_epsilon\u001b[49m\u001b[38;5;241;43m=\u001b[39;49m\u001b[38;5;241;43m1\u001b[39;49m\u001b[43m,\u001b[49m\u001b[43m \u001b[49m\u001b[43mmax_nr_populations\u001b[49m\u001b[38;5;241;43m=\u001b[39;49m\u001b[38;5;241;43m4\u001b[39;49m\u001b[43m)\u001b[49m\n",
      "File \u001b[0;32m~/.local/lib/python3.10/site-packages/pyabc/inference/smc.py:62\u001b[0m, in \u001b[0;36mrun_cleanup.<locals>.wrapped_run\u001b[0;34m(self, *args, **kwargs)\u001b[0m\n\u001b[1;32m     59\u001b[0m \u001b[38;5;28;01mdef\u001b[39;00m \u001b[38;5;21mwrapped_run\u001b[39m(\u001b[38;5;28mself\u001b[39m: \u001b[38;5;124m\"\u001b[39m\u001b[38;5;124mABCSMC\u001b[39m\u001b[38;5;124m\"\u001b[39m, \u001b[38;5;241m*\u001b[39margs, \u001b[38;5;241m*\u001b[39m\u001b[38;5;241m*\u001b[39mkwargs):\n\u001b[1;32m     60\u001b[0m     \u001b[38;5;28;01mtry\u001b[39;00m:\n\u001b[1;32m     61\u001b[0m         \u001b[38;5;66;03m# the actual run\u001b[39;00m\n\u001b[0;32m---> 62\u001b[0m         ret \u001b[38;5;241m=\u001b[39m \u001b[43mrun\u001b[49m\u001b[43m(\u001b[49m\u001b[38;5;28;43mself\u001b[39;49m\u001b[43m,\u001b[49m\u001b[43m \u001b[49m\u001b[38;5;241;43m*\u001b[39;49m\u001b[43margs\u001b[49m\u001b[43m,\u001b[49m\u001b[43m \u001b[49m\u001b[38;5;241;43m*\u001b[39;49m\u001b[38;5;241;43m*\u001b[39;49m\u001b[43mkwargs\u001b[49m\u001b[43m)\u001b[49m\n\u001b[1;32m     63\u001b[0m     \u001b[38;5;28;01mfinally\u001b[39;00m:\n\u001b[1;32m     64\u001b[0m         \u001b[38;5;66;03m# close session and store end time\u001b[39;00m\n\u001b[1;32m     65\u001b[0m         \u001b[38;5;28mself\u001b[39m\u001b[38;5;241m.\u001b[39mhistory\u001b[38;5;241m.\u001b[39mdone(end_time\u001b[38;5;241m=\u001b[39mdatetime\u001b[38;5;241m.\u001b[39mnow())\n",
      "File \u001b[0;32m~/.local/lib/python3.10/site-packages/pyabc/inference/smc.py:700\u001b[0m, in \u001b[0;36mABCSMC.run\u001b[0;34m(self, minimum_epsilon, max_nr_populations, min_acceptance_rate, max_total_nr_simulations, max_walltime, min_eps_diff)\u001b[0m\n\u001b[1;32m    697\u001b[0m t \u001b[38;5;241m=\u001b[39m t0\n\u001b[1;32m    698\u001b[0m \u001b[38;5;28;01mwhile\u001b[39;00m \u001b[38;5;28;01mTrue\u001b[39;00m:\n\u001b[1;32m    699\u001b[0m     \u001b[38;5;66;03m# perform one generation\u001b[39;00m\n\u001b[0;32m--> 700\u001b[0m     ret \u001b[38;5;241m=\u001b[39m \u001b[38;5;28;43mself\u001b[39;49m\u001b[38;5;241;43m.\u001b[39;49m\u001b[43mrun_generation\u001b[49m\u001b[43m(\u001b[49m\u001b[43mt\u001b[49m\u001b[38;5;241;43m=\u001b[39;49m\u001b[43mt\u001b[49m\u001b[43m)\u001b[49m\n\u001b[1;32m    702\u001b[0m     \u001b[38;5;66;03m# check whether to discontinue\u001b[39;00m\n\u001b[1;32m    703\u001b[0m     \u001b[38;5;28;01mif\u001b[39;00m \u001b[38;5;129;01mnot\u001b[39;00m ret[\u001b[38;5;124m\"\u001b[39m\u001b[38;5;124msuccessful\u001b[39m\u001b[38;5;124m\"\u001b[39m] \u001b[38;5;129;01mor\u001b[39;00m \u001b[38;5;28mself\u001b[39m\u001b[38;5;241m.\u001b[39mcheck_terminate(\n\u001b[1;32m    704\u001b[0m         t\u001b[38;5;241m=\u001b[39mt,\n\u001b[1;32m    705\u001b[0m         acceptance_rate\u001b[38;5;241m=\u001b[39mret[\u001b[38;5;124m\"\u001b[39m\u001b[38;5;124macceptance_rate\u001b[39m\u001b[38;5;124m\"\u001b[39m],\n\u001b[1;32m    706\u001b[0m     ):\n",
      "File \u001b[0;32m~/.local/lib/python3.10/site-packages/pyabc/inference/smc.py:815\u001b[0m, in \u001b[0;36mABCSMC.run_generation\u001b[0;34m(self, t)\u001b[0m\n\u001b[1;32m    813\u001b[0m \u001b[38;5;66;03m# perform the sampling\u001b[39;00m\n\u001b[1;32m    814\u001b[0m logger\u001b[38;5;241m.\u001b[39mdebug(\u001b[38;5;124mf\u001b[39m\u001b[38;5;124m\"\u001b[39m\u001b[38;5;124mSubmitting population \u001b[39m\u001b[38;5;132;01m{\u001b[39;00mt\u001b[38;5;132;01m}\u001b[39;00m\u001b[38;5;124m.\u001b[39m\u001b[38;5;124m\"\u001b[39m)\n\u001b[0;32m--> 815\u001b[0m sample \u001b[38;5;241m=\u001b[39m \u001b[38;5;28;43mself\u001b[39;49m\u001b[38;5;241;43m.\u001b[39;49m\u001b[43msampler\u001b[49m\u001b[38;5;241;43m.\u001b[39;49m\u001b[43msample_until_n_accepted\u001b[49m\u001b[43m(\u001b[49m\n\u001b[1;32m    816\u001b[0m \u001b[43m    \u001b[49m\u001b[43mn\u001b[49m\u001b[38;5;241;43m=\u001b[39;49m\u001b[43mpop_size\u001b[49m\u001b[43m,\u001b[49m\n\u001b[1;32m    817\u001b[0m \u001b[43m    \u001b[49m\u001b[43msimulate_one\u001b[49m\u001b[38;5;241;43m=\u001b[39;49m\u001b[43msimulate_one\u001b[49m\u001b[43m,\u001b[49m\n\u001b[1;32m    818\u001b[0m \u001b[43m    \u001b[49m\u001b[43mt\u001b[49m\u001b[38;5;241;43m=\u001b[39;49m\u001b[43mt\u001b[49m\u001b[43m,\u001b[49m\n\u001b[1;32m    819\u001b[0m \u001b[43m    \u001b[49m\u001b[43mmax_eval\u001b[49m\u001b[38;5;241;43m=\u001b[39;49m\u001b[43mmax_eval\u001b[49m\u001b[43m,\u001b[49m\n\u001b[1;32m    820\u001b[0m \u001b[43m    \u001b[49m\u001b[43mana_vars\u001b[49m\u001b[38;5;241;43m=\u001b[39;49m\u001b[38;5;28;43mself\u001b[39;49m\u001b[38;5;241;43m.\u001b[39;49m\u001b[43m_vars\u001b[49m\u001b[43m(\u001b[49m\u001b[43mt\u001b[49m\u001b[38;5;241;43m=\u001b[39;49m\u001b[43mt\u001b[49m\u001b[43m)\u001b[49m\u001b[43m,\u001b[49m\n\u001b[1;32m    821\u001b[0m \u001b[43m\u001b[49m\u001b[43m)\u001b[49m\n\u001b[1;32m    823\u001b[0m \u001b[38;5;66;03m# check sample health\u001b[39;00m\n\u001b[1;32m    824\u001b[0m \u001b[38;5;28;01mif\u001b[39;00m \u001b[38;5;129;01mnot\u001b[39;00m sample\u001b[38;5;241m.\u001b[39mok:\n",
      "File \u001b[0;32m~/.local/lib/python3.10/site-packages/pyabc/sampler/base.py:20\u001b[0m, in \u001b[0;36mwrap_sample.<locals>.sample_until_n_accepted\u001b[0;34m(self, n, simulate_one, t, **kwargs)\u001b[0m\n\u001b[1;32m     19\u001b[0m \u001b[38;5;28;01mdef\u001b[39;00m \u001b[38;5;21msample_until_n_accepted\u001b[39m(\u001b[38;5;28mself\u001b[39m, n, simulate_one, t, \u001b[38;5;241m*\u001b[39m\u001b[38;5;241m*\u001b[39mkwargs):\n\u001b[0;32m---> 20\u001b[0m     sample \u001b[38;5;241m=\u001b[39m \u001b[43mf\u001b[49m\u001b[43m(\u001b[49m\u001b[38;5;28;43mself\u001b[39;49m\u001b[43m,\u001b[49m\u001b[43m \u001b[49m\u001b[43mn\u001b[49m\u001b[43m,\u001b[49m\u001b[43m \u001b[49m\u001b[43msimulate_one\u001b[49m\u001b[43m,\u001b[49m\u001b[43m \u001b[49m\u001b[43mt\u001b[49m\u001b[43m,\u001b[49m\u001b[43m \u001b[49m\u001b[38;5;241;43m*\u001b[39;49m\u001b[38;5;241;43m*\u001b[39;49m\u001b[43mkwargs\u001b[49m\u001b[43m)\u001b[49m\n\u001b[1;32m     22\u001b[0m     \u001b[38;5;28;01mif\u001b[39;00m sample\u001b[38;5;241m.\u001b[39mn_accepted \u001b[38;5;241m!=\u001b[39m n \u001b[38;5;129;01mand\u001b[39;00m sample\u001b[38;5;241m.\u001b[39mok:\n\u001b[1;32m     23\u001b[0m         \u001b[38;5;66;03m# this should not happen if the sampler is configured correctly\u001b[39;00m\n\u001b[1;32m     24\u001b[0m         \u001b[38;5;28;01mraise\u001b[39;00m \u001b[38;5;167;01mAssertionError\u001b[39;00m(\n\u001b[1;32m     25\u001b[0m             \u001b[38;5;124mf\u001b[39m\u001b[38;5;124m\"\u001b[39m\u001b[38;5;124mExpected \u001b[39m\u001b[38;5;132;01m{\u001b[39;00mn\u001b[38;5;132;01m}\u001b[39;00m\u001b[38;5;124m but got \u001b[39m\u001b[38;5;132;01m{\u001b[39;00msample\u001b[38;5;241m.\u001b[39mn_accepted\u001b[38;5;132;01m}\u001b[39;00m\u001b[38;5;124m acceptances.\u001b[39m\u001b[38;5;124m\"\u001b[39m\n\u001b[1;32m     26\u001b[0m         )\n",
      "File \u001b[0;32m~/.local/lib/python3.10/site-packages/pyabc/sampler/multicore_evaluation_parallel.py:142\u001b[0m, in \u001b[0;36mMulticoreEvalParallelSampler.sample_until_n_accepted\u001b[0;34m(self, n, simulate_one, t, max_eval, all_accepted, ana_vars)\u001b[0m\n\u001b[1;32m    140\u001b[0m \u001b[38;5;28;01mwith\u001b[39;00m jabbar(total\u001b[38;5;241m=\u001b[39mn, enable\u001b[38;5;241m=\u001b[39m\u001b[38;5;28mself\u001b[39m\u001b[38;5;241m.\u001b[39mshow_progress, keep\u001b[38;5;241m=\u001b[39m\u001b[38;5;28;01mFalse\u001b[39;00m) \u001b[38;5;28;01mas\u001b[39;00m bar:\n\u001b[1;32m    141\u001b[0m     \u001b[38;5;28;01mwhile\u001b[39;00m n_done \u001b[38;5;241m<\u001b[39m \u001b[38;5;28mlen\u001b[39m(processes):\n\u001b[0;32m--> 142\u001b[0m         val \u001b[38;5;241m=\u001b[39m \u001b[43mget_if_worker_healthy\u001b[49m\u001b[43m(\u001b[49m\u001b[43mprocesses\u001b[49m\u001b[43m,\u001b[49m\u001b[43m \u001b[49m\u001b[43mqueue\u001b[49m\u001b[43m)\u001b[49m\n\u001b[1;32m    143\u001b[0m         \u001b[38;5;28;01mif\u001b[39;00m val \u001b[38;5;241m==\u001b[39m DONE:\n\u001b[1;32m    144\u001b[0m             n_done \u001b[38;5;241m+\u001b[39m\u001b[38;5;241m=\u001b[39m \u001b[38;5;241m1\u001b[39m\n",
      "File \u001b[0;32m~/.local/lib/python3.10/site-packages/pyabc/sampler/multicorebase.py:103\u001b[0m, in \u001b[0;36mget_if_worker_healthy\u001b[0;34m(workers, queue)\u001b[0m\n\u001b[1;32m    101\u001b[0m \u001b[38;5;28;01mexcept\u001b[39;00m Empty:\n\u001b[1;32m    102\u001b[0m     \u001b[38;5;28;01mif\u001b[39;00m \u001b[38;5;129;01mnot\u001b[39;00m healthy(workers):\n\u001b[0;32m--> 103\u001b[0m         \u001b[38;5;28;01mraise\u001b[39;00m ProcessError(\u001b[38;5;124m\"\u001b[39m\u001b[38;5;124mAt least one worker is dead.\u001b[39m\u001b[38;5;124m\"\u001b[39m)\n",
      "\u001b[0;31mProcessError\u001b[0m: At least one worker is dead."
     ]
    }
   ],
   "source": [
    "history = abc.run(minimum_epsilon=1, max_nr_populations=4)"
   ]
  },
  {
   "cell_type": "code",
   "execution_count": null,
   "id": "10c78e95",
   "metadata": {},
   "outputs": [],
   "source": []
  },
  {
   "cell_type": "code",
   "execution_count": null,
   "id": "16c78560",
   "metadata": {},
   "outputs": [],
   "source": []
  },
  {
   "cell_type": "code",
   "execution_count": 34,
   "id": "a74a2df5",
   "metadata": {},
   "outputs": [
    {
     "ename": "NameError",
     "evalue": "name 'history' is not defined",
     "output_type": "error",
     "traceback": [
      "\u001b[0;31m---------------------------------------------------------------------------\u001b[0m",
      "\u001b[0;31mNameError\u001b[0m                                 Traceback (most recent call last)",
      "Input \u001b[0;32mIn [34]\u001b[0m, in \u001b[0;36m<cell line: 1>\u001b[0;34m()\u001b[0m\n\u001b[0;32m----> 1\u001b[0m df, w \u001b[38;5;241m=\u001b[39m \u001b[43mhistory\u001b[49m\u001b[38;5;241m.\u001b[39mget_distribution(m\u001b[38;5;241m=\u001b[39m\u001b[38;5;241m0\u001b[39m,t\u001b[38;5;241m=\u001b[39m\u001b[38;5;241m9\u001b[39m)\n",
      "\u001b[0;31mNameError\u001b[0m: name 'history' is not defined"
     ]
    }
   ],
   "source": [
    "df, w = history.get_distribution(m=0,t=9)"
   ]
  },
  {
   "cell_type": "code",
   "execution_count": 30,
   "id": "cb462825",
   "metadata": {},
   "outputs": [
    {
     "ename": "AttributeError",
     "evalue": "module 'pyabc' has no attribute 'export'",
     "output_type": "error",
     "traceback": [
      "\u001b[0;31m---------------------------------------------------------------------------\u001b[0m",
      "\u001b[0;31mAttributeError\u001b[0m                            Traceback (most recent call last)",
      "Input \u001b[0;32mIn [30]\u001b[0m, in \u001b[0;36m<cell line: 1>\u001b[0;34m()\u001b[0m\n\u001b[0;32m----> 1\u001b[0m \u001b[43mpyabc\u001b[49m\u001b[38;5;241;43m.\u001b[39;49m\u001b[43mexport\u001b[49m(h1\u001b[38;5;241m.\u001b[39mdb)\n",
      "\u001b[0;31mAttributeError\u001b[0m: module 'pyabc' has no attribute 'export'"
     ]
    }
   ],
   "source": [
    "pyabc.export(h1.db)"
   ]
  },
  {
   "cell_type": "code",
   "execution_count": null,
   "id": "9f5d5ffe",
   "metadata": {},
   "outputs": [],
   "source": [
    "np.concatenate(df.values)"
   ]
  },
  {
   "cell_type": "code",
   "execution_count": null,
   "id": "96109265",
   "metadata": {},
   "outputs": [],
   "source": [
    "    pyabc.weighted_statistics.weighted_median(np.concatenate(df.values),w)"
   ]
  },
  {
   "cell_type": "code",
   "execution_count": 29,
   "id": "3c8c4439",
   "metadata": {},
   "outputs": [
    {
     "ename": "SyntaxError",
     "evalue": "invalid syntax (1698625841.py, line 1)",
     "output_type": "error",
     "traceback": [
      "\u001b[0;36m  Input \u001b[0;32mIn [29]\u001b[0;36m\u001b[0m\n\u001b[0;31m    abc-export --db h1.db --out exported.csv --format csv\u001b[0m\n\u001b[0m                    ^\u001b[0m\n\u001b[0;31mSyntaxError\u001b[0m\u001b[0;31m:\u001b[0m invalid syntax\n"
     ]
    }
   ],
   "source": [
    "abc-export --db h1.db --out exported.csv --format csv"
   ]
  },
  {
   "cell_type": "code",
   "execution_count": 28,
   "id": "f17e896b",
   "metadata": {},
   "outputs": [
    {
     "data": {
      "text/plain": [
       "'sqlite:////tmp/tmp4_dg7pt6.db'"
      ]
     },
     "execution_count": 28,
     "metadata": {},
     "output_type": "execute_result"
    }
   ],
   "source": [
    "h2.db"
   ]
  },
  {
   "cell_type": "code",
   "execution_count": 20,
   "id": "1df4b53d",
   "metadata": {},
   "outputs": [
    {
     "data": {
      "image/png": "[encoded data removed]",
      "text/plain": [
       "<Figure size 640x480 with 1 Axes>"
      ]
     },
     "metadata": {},
     "output_type": "display_data"
    }
   ],
   "source": [
    "fig, ax = plt.subplots()\n",
    "for t in range(1,h1.max_t + 1):\n",
    "    df, w = h1.get_distribution(m=0, t=t)\n",
    "    pyabc.visualization.plot_kde_1d(\n",
    "        df,\n",
    "        w,\n",
    "        x=\"p1\",\n",
    "        ax=ax,\n",
    "        label=f\"PDF t={t}\",\n",
    "    )\n",
    "ax.axvline( pyabc.weighted_statistics.weighted_median(np.concatenate(df.values),w),color=\"k\", linestyle=\"dashed\")\n",
    "ax.legend();"
   ]
  },
  {
   "cell_type": "code",
   "execution_count": 21,
   "id": "7a146cbd",
   "metadata": {},
   "outputs": [
    {
     "data": {
      "image/png": "[encoded data removed]",
      "text/plain": [
       "<Figure size 640x480 with 1 Axes>"
      ]
     },
     "metadata": {},
     "output_type": "display_data"
    }
   ],
   "source": [
    "fig, ax = plt.subplots()\n",
    "for t in range(1,h2.max_t + 1):\n",
    "    df, w = h2.get_distribution(m=0, t=t)\n",
    "    pyabc.visualization.plot_kde_1d(\n",
    "        df,\n",
    "        w,\n",
    "        x=\"p1\",\n",
    "        ax=ax,\n",
    "        label=f\"PDF t={t}\",\n",
    "    )\n",
    "ax.axvline( pyabc.weighted_statistics.weighted_median(np.concatenate(df.values),w),color=\"k\", linestyle=\"dashed\")\n",
    "ax.legend();"
   ]
  },
  {
   "cell_type": "code",
   "execution_count": 22,
   "id": "397a60ea",
   "metadata": {},
   "outputs": [
    {
     "data": {
      "image/png": "[encoded data removed]",
      "text/plain": [
       "<Figure size 640x480 with 1 Axes>"
      ]
     },
     "metadata": {},
     "output_type": "display_data"
    }
   ],
   "source": [
    "fig, ax = plt.subplots()\n",
    "for t in range(1,h3.max_t + 1):\n",
    "    df, w = h3.get_distribution(m=0, t=t)\n",
    "    pyabc.visualization.plot_kde_1d(\n",
    "        df,\n",
    "        w,\n",
    "        x=\"p1\",\n",
    "        ax=ax,\n",
    "        label=f\"PDF t={t}\",\n",
    "    )\n",
    "ax.axvline( pyabc.weighted_statistics.weighted_median(np.concatenate(df.values),w),color=\"k\", linestyle=\"dashed\")\n",
    "ax.legend();"
   ]
  },
  {
   "cell_type": "code",
   "execution_count": null,
   "id": "b5ea4a02",
   "metadata": {},
   "outputs": [],
   "source": []
  },
  {
   "cell_type": "code",
   "execution_count": null,
   "id": "ae9ae8ff",
   "metadata": {},
   "outputs": [],
   "source": []
  },
  {
   "cell_type": "code",
   "execution_count": 26,
   "id": "d90de428",
   "metadata": {},
   "outputs": [
    {
     "data": {
      "text/plain": [
       "0.9391929542842055"
      ]
     },
     "execution_count": 26,
     "metadata": {},
     "output_type": "execute_result"
    }
   ],
   "source": [
    "df, w = h3.get_distribution(m=0, t=9)\n",
    "    \n",
    "pyabc.weighted_statistics.weighted_median(np.concatenate(df.values),w)"
   ]
  },
  {
   "cell_type": "code",
   "execution_count": null,
   "id": "d8a4d071",
   "metadata": {},
   "outputs": [],
   "source": []
  },
  {
   "cell_type": "code",
   "execution_count": null,
   "id": "bfd34856",
   "metadata": {},
   "outputs": [],
   "source": []
  },
  {
   "cell_type": "code",
   "execution_count": null,
   "id": "e1fe3326",
   "metadata": {
    "scrolled": false
   },
   "outputs": [],
   "source": [
    "for t in [0, 1,2,3,4,5,6,7,8,9]:\n",
    "    pyabc.visualization.plot_kde_matrix_highlevel(\n",
    "        h,\n",
    "        t=t,\n",
    "       \n",
    "        \n",
    "    )\n",
    "    plt.gcf().suptitle(f\"Posterior at t={t}\")\n",
    "    plt.gcf().tight_layout();"
   ]
  },
  {
   "cell_type": "code",
   "execution_count": null,
   "id": "9170d8c4",
   "metadata": {},
   "outputs": [],
   "source": []
  },
  {
   "cell_type": "code",
   "execution_count": null,
   "id": "ff26dd11",
   "metadata": {},
   "outputs": [],
   "source": [
    "abc = pyabc.ABCSMC(models, params,distance_function=distance, population_size=AdaptivePopulationSize(100, 0.15),eps=MedianEpsilon(100, median_multiplier=0.7))"
   ]
  },
  {
   "cell_type": "code",
   "execution_count": null,
   "id": "eb325c2c",
   "metadata": {},
   "outputs": [],
   "source": [
    "db_path = \"sqlite:///\" + os.path.join(tempfile.gettempdir(), \"test.db\")\n",
    "history = abc.new(db_path, {\"SS\": obs})"
   ]
  },
  {
   "cell_type": "code",
   "execution_count": null,
   "id": "d1fa0c2d",
   "metadata": {
    "scrolled": false
   },
   "outputs": [],
   "source": [
    "history = abc.run(minimum_epsilon=0.8, max_nr_populations=6)"
   ]
  },
  {
   "cell_type": "code",
   "execution_count": null,
   "id": "7ce2b443",
   "metadata": {},
   "outputs": [],
   "source": [
    "pyabc.visualization.plot_model_probabilities(history)"
   ]
  },
  {
   "cell_type": "code",
   "execution_count": null,
   "id": "58ff7ee2",
   "metadata": {},
   "outputs": [],
   "source": []
  },
  {
   "cell_type": "code",
   "execution_count": null,
   "id": "2fc2dc7e",
   "metadata": {},
   "outputs": [],
   "source": []
  },
  {
   "cell_type": "code",
   "execution_count": null,
   "id": "06f7dbd5",
   "metadata": {},
   "outputs": [],
   "source": [
    "pyabc.visualization.plot_model_probabilities(history)"
   ]
  },
  {
   "cell_type": "code",
   "execution_count": null,
   "id": "10a461e2",
   "metadata": {},
   "outputs": [],
   "source": [
    "pyabc.visualization.plot_model_probabilities(history)"
   ]
  },
  {
   "cell_type": "code",
   "execution_count": null,
   "id": "baf9b25b",
   "metadata": {},
   "outputs": [],
   "source": [
    "history.get_distribution(m=0, t=t)"
   ]
  },
  {
   "cell_type": "code",
   "execution_count": null,
   "id": "25f4442f",
   "metadata": {},
   "outputs": [],
   "source": [
    "history.get_distribution(m=0, t=0)[0]"
   ]
  },
  {
   "cell_type": "code",
   "execution_count": null,
   "id": "26b218ec",
   "metadata": {},
   "outputs": [],
   "source": [
    "for t in range(history.max_t + 1):\n",
    "    df, w = history.get_distribution(m=0, t=t)\n",
    "    pyabc.visualization.plot_kde_1d(\n",
    "        df,\n",
    "        w,\n",
    "        xmin=0,\n",
    "        xmax=5,\n",
    "        x=\"mu\",\n",
    "        xname=r\"$\\mu$\",\n",
    "        ax=ax,\n",
    "        label=f\"PDF t={t}\",\n",
    "    )\n",
    "ax.axvline(observation, color=\"k\", linestyle=\"dashed\")\n",
    "ax.legend();"
   ]
  },
  {
   "cell_type": "code",
   "execution_count": null,
   "id": "d4190832",
   "metadata": {},
   "outputs": [],
   "source": [
    "for t in [0, history.max_t]:\n",
    "    pyabc.visualization.plot_kde_matrix_highlevel(\n",
    "        history,\n",
    "        t=t,\n",
    "        limits=par_limits,\n",
    "        refval=gt_par,\n",
    "        refval_color=\"grey\",\n",
    "    )\n",
    "    plt.gcf().suptitle(f\"Posterior at t={t}\")\n",
    "    plt.gcf().tight_layout();\n",
    "\n"
   ]
  },
  {
   "cell_type": "code",
   "execution_count": null,
   "id": "88572700",
   "metadata": {},
   "outputs": [],
   "source": [
    "from pyabc.visualization import plot_kde_matrix\n",
    "\n",
    "\n",
    "df, w = history.get_distribution(m=3, t= 4)\n",
    "plot_kde_matrix(df, w)"
   ]
  },
  {
   "cell_type": "code",
   "execution_count": null,
   "id": "01d17069",
   "metadata": {},
   "outputs": [],
   "source": []
  },
  {
   "cell_type": "code",
   "execution_count": null,
   "id": "3ac802cc",
   "metadata": {},
   "outputs": [],
   "source": [
    "from pyabc.visualization import plot_kde_1d\n",
    "\n",
    "fig, axes = plt.subplots(2)\n",
    "fig.set_size_inches((6, 6))\n",
    "axes = axes.flatten()\n",
    "#axes[0].axvline(true_rate, color=\"black\", linestyle=\"dotted\")\n",
    "for m, ax in enumerate(axes):\n",
    "    for t in range(0, history.n_populations, 2):\n",
    "        df, w = history.get_distribution(m=m, t=t)\n",
    "        if len(w) > 0:  # Particles in a model might die out\n",
    "            plot_kde_1d(\n",
    "                df,\n",
    "                w,\n",
    "                \"rate\",\n",
    "                ax=ax,\n",
    "                label=f\"t={t}\",\n",
    "                xmin=0,\n",
    "                xmax=20 if m == 0 else 100,\n",
    "                numx=200,\n",
    "            )\n",
    "    ax.set_title(f\"Model {m+1}\")\n",
    "axes[0].legend(title=\"Generation\", loc=\"upper left\", bbox_to_anchor=(1, 1))\n",
    "\n",
    "fig.tight_layout()"
   ]
  },
  {
   "cell_type": "code",
   "execution_count": null,
   "id": "358f7e3c",
   "metadata": {},
   "outputs": [],
   "source": []
  },
  {
   "cell_type": "code",
   "execution_count": null,
   "id": "280482d2",
   "metadata": {},
   "outputs": [],
   "source": [
    "from pyabc.populationstrategy import AdaptivePopulationSize\n"
   ]
  },
  {
   "cell_type": "code",
   "execution_count": null,
   "id": "331d44b3",
   "metadata": {},
   "outputs": [],
   "source": [
    "from pyabc import ABCSMC\n",
    "from pyabc.populationstrategy import AdaptivePopulationSize\n",
    "\n",
    "abc = ABCSMC(\n",
    "    [model1,model4],\n",
    "    [parameter_prior,parameter_prior],\n",
    "    distance_function=distance,\n",
    "    population_size=AdaptivePopulationSize(500, 0.15),\n",
    "    eps=MedianEpsilon(100, median_multiplier=0.7),\n",
    ")"
   ]
  },
  {
   "cell_type": "code",
   "execution_count": null,
   "id": "ebb4ce1a",
   "metadata": {},
   "outputs": [],
   "source": [
    "abc_id = abc.new(\"sqlite:////tmp/mjp.db\", {\"SS\":obs})"
   ]
  },
  {
   "cell_type": "code",
   "execution_count": null,
   "id": "09835195",
   "metadata": {},
   "outputs": [],
   "source": [
    "history = abc.run(minimum_epsilon=1, max_nr_populations=5)"
   ]
  },
  {
   "cell_type": "code",
   "execution_count": null,
   "id": "eb35870b",
   "metadata": {},
   "outputs": [],
   "source": []
  },
  {
   "cell_type": "code",
   "execution_count": null,
   "id": "3318f297",
   "metadata": {},
   "outputs": [],
   "source": []
  },
  {
   "cell_type": "code",
   "execution_count": null,
   "id": "ef5115bf",
   "metadata": {},
   "outputs": [],
   "source": [
    "abc.new(db_path, {\"SS\":obs});"
   ]
  },
  {
   "cell_type": "code",
   "execution_count": null,
   "id": "0d4e9e2e",
   "metadata": {},
   "outputs": [],
   "source": [
    "abc_id = abc.new(\"sqlite:////tmp/mjp.db\", {\"SS\":obs})"
   ]
  },
  {
   "cell_type": "code",
   "execution_count": null,
   "id": "974123b7",
   "metadata": {},
   "outputs": [],
   "source": [
    "history = abc.run(minimum_epsilon=1, max_nr_populations=6)"
   ]
  },
  {
   "cell_type": "code",
   "execution_count": null,
   "id": "3c4a8065",
   "metadata": {},
   "outputs": [],
   "source": [
    "abc = ABCSMC( models=model4,\n",
    "    parameter_priors=parameter_prior,\n",
    "    distance_function=distance,\n",
    "    population_size=200,\n",
    "    transitions=LocalTransition(k_fraction=0.3),\n",
    "    eps=MedianEpsilon(100, median_multiplier=0.7),\n",
    ")"
   ]
  },
  {
   "cell_type": "code",
   "execution_count": null,
   "id": "8d59925d",
   "metadata": {
    "scrolled": false
   },
   "outputs": [],
   "source": [
    "h = abc.run(minimum_epsilon=0.1, max_nr_populations=5)"
   ]
  },
  {
   "cell_type": "code",
   "execution_count": null,
   "id": "27ee25f9",
   "metadata": {},
   "outputs": [],
   "source": [
    "for t in [0,1,2,3,4]:\n",
    "    pyabc.visualization.plot_kde_matrix_highlevel(\n",
    "        h,\n",
    "        t=t,\n",
    "    )\n",
    "    plt.gcf().suptitle(f\"Posterior at t={t}\")\n",
    "    plt.gcf().tight_layout();\n",
    "\n"
   ]
  },
  {
   "cell_type": "code",
   "execution_count": null,
   "id": "a5d9113c",
   "metadata": {
    "scrolled": false
   },
   "outputs": [],
   "source": [
    "for t in [0,1,2,3,4]:\n",
    "    pyabc.visualization.plot_kde_matrix_highlevel(\n",
    "        h,\n",
    "        t=t,\n",
    "    )\n",
    "    plt.gcf().suptitle(f\"Posterior at t={t}\")\n",
    "    plt.gcf().tight_layout();\n",
    "\n"
   ]
  },
  {
   "cell_type": "code",
   "execution_count": null,
   "id": "3dab6d0e",
   "metadata": {},
   "outputs": [],
   "source": [
    "from pyabc.visualization import plot_kde_1d\n",
    "\n",
    "fig, axes = plt.subplots(1)\n",
    "fig.set_size_inches((6, 6))\n",
    "axes = axes.flatten()\n",
    "axes[0].axvline(true_rate, color=\"black\", linestyle=\"dotted\")\n",
    "for m, ax in enumerate(axes):\n",
    "    for t in range(0, history.n_populations, 2):\n",
    "        df, w = history.get_distribution(m=m, t=t)\n",
    "        if len(w) > 0:  # Particles in a model might die out\n",
    "            plot_kde_1d(\n",
    "                df,\n",
    "                w,\n",
    "                \"rate\",\n",
    "                ax=ax,\n",
    "                label=f\"t={t}\",\n",
    "                xmin=0,\n",
    "                xmax=20 if m == 0 else 100,\n",
    "                numx=200,\n",
    "            )\n",
    "    ax.set_title(f\"Model {m+1}\")\n",
    "axes[0].legend(title=\"Generation\", loc=\"upper left\", bbox_to_anchor=(1, 1))\n"
   ]
  },
  {
   "cell_type": "code",
   "execution_count": null,
   "id": "d3d656d2",
   "metadata": {},
   "outputs": [],
   "source": []
  },
  {
   "cell_type": "code",
   "execution_count": null,
   "id": "3d9962ae",
   "metadata": {},
   "outputs": [],
   "source": []
  },
  {
   "cell_type": "code",
   "execution_count": null,
   "id": "631ae64f",
   "metadata": {},
   "outputs": [],
   "source": [
    "plt.plot(aaa['t'], u[:,0])\n",
    "plt.plot(aaa['t'], u[:,1])\n",
    "plt.plot(aaa['t'], u[:,2])\n",
    "plt.plot(aaa['t'], u[:,3])\n",
    "plt.plot(aaa['t'], u[:,4])\n"
   ]
  },
  {
   "cell_type": "code",
   "execution_count": null,
   "id": "7f45f086",
   "metadata": {},
   "outputs": [],
   "source": [
    "np.concatenate(aaa['u'], axis = 0 )"
   ]
  },
  {
   "cell_type": "code",
   "execution_count": null,
   "id": "1ae7b8d0",
   "metadata": {},
   "outputs": [],
   "source": [
    "from julia import Main"
   ]
  },
  {
   "cell_type": "code",
   "execution_count": null,
   "id": "af366910",
   "metadata": {},
   "outputs": [],
   "source": [
    "aaa['u']"
   ]
  },
  {
   "cell_type": "code",
   "execution_count": null,
   "id": "c9306e5a",
   "metadata": {},
   "outputs": [],
   "source": [
    "u =  np.stack(aaa['u'])\n"
   ]
  },
  {
   "cell_type": "code",
   "execution_count": null,
   "id": "ae7b122f",
   "metadata": {},
   "outputs": [],
   "source": [
    "from pyabc import ABCSMC, RV, Distribution, MulticoreEvalParallelSampler"
   ]
  },
  {
   "cell_type": "code",
   "execution_count": null,
   "id": "44f42fe1",
   "metadata": {},
   "outputs": [],
   "source": [
    "abc = ABCSMC(\n",
    "    model1,\n",
    "    parameter_prior,\n",
    "    distance,\n",
    ")\n",
    "db = tempfile.mkstemp(suffix=\".db\")[1]\n",
    "abc.new(\"sqlite:///\" + db,  {\"SS\":obs})\n",
    "h = abc.run(max_nr_populations=5)\n",
    "\n"
   ]
  },
  {
   "cell_type": "code",
   "execution_count": null,
   "id": "f468768f",
   "metadata": {},
   "outputs": [],
   "source": []
  }
 ],
 "metadata": {
  "@webio": {
   "lastCommId": null,
   "lastKernelId": null
  },
  "kernelspec": {
   "display_name": "Python 3 (ipykernel)",
   "language": "python",
   "name": "python3"
  },
  "language_info": {
   "codemirror_mode": {
    "name": "ipython",
    "version": 3
   },
   "file_extension": ".py",
   "mimetype": "text/x-python",
   "name": "python",
   "nbconvert_exporter": "python",
   "pygments_lexer": "ipython3",
   "version": "3.10.6"
  }
 },
 "nbformat": 4,
 "nbformat_minor": 5
}
