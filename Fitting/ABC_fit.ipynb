{
 "cells": [
  {
   "cell_type": "markdown",
   "id": "acafe9c1",
   "metadata": {},
   "source": [
    "# Notebook to fit the models\n",
    "\n",
    "Here we are fitting the models using pyabc (running the fitting in python)"
   ]
  },
  {
   "cell_type": "code",
   "execution_count": null,
   "id": "a5490003",
   "metadata": {},
   "outputs": [],
   "source": [
    " from julia import Julia\n",
    "jl = Julia(sysimage = \"/home/callum/ASF/Fitting/sys_model.so\") #loading sys image"
   ]
  },
  {
   "cell_type": "code",
   "execution_count": null,
   "id": "4e52024c",
   "metadata": {},
   "outputs": [],
   "source": [
    "import matplotlib.pyplot as plt\n",
    "\n",
    "import os\n",
    "import tempfile\n",
    "import numpy as np\n",
    "import scipy as sp\n",
    "\n",
    "\n",
    "from pyabc import ABCSMC, RV, Distribution, LocalTransition, MedianEpsilon, SingleCoreSampler\n",
    "from pyabc.visualization import plot_data_callback, plot_kde_2d\n",
    "from pyabc.populationstrategy import AdaptivePopulationSize\n",
    "import pyabc\n",
    "from scipy import stats\n",
    "import random as rd\n",
    "from brokenaxes import brokenaxes"
   ]
  },
  {
   "cell_type": "code",
   "execution_count": null,
   "id": "65624f17",
   "metadata": {},
   "outputs": [],
   "source": [
    "plt.rcParams.update({\n",
    "    \"text.usetex\": True,\n",
    "    \"font.family\": \"Helvetica\"\n",
    "})"
   ]
  },
  {
   "cell_type": "code",
   "execution_count": null,
   "id": "9fd7d30b",
   "metadata": {},
   "outputs": [],
   "source": [
    "plt.style.use('seaborn-colorblind')\n",
    "prop_cycle = plt.rcParams['axes.prop_cycle']\n",
    "colors = prop_cycle.by_key()['color']"
   ]
  },
  {
   "cell_type": "markdown",
   "id": "331510cd",
   "metadata": {},
   "source": [
    "# Fitting ODE model and deciding best!"
   ]
  },
  {
   "cell_type": "code",
   "execution_count": null,
   "id": "2602582e",
   "metadata": {},
   "outputs": [],
   "source": [
    "jl.eval('push!(LOAD_PATH, \"/home/callum/ASF/Fitting/ODE_FIT.jl\")')\n",
    "jl.include('/home/callum/ASF/Fitting/ODE_FIT.jl') #loading files with our model!"
   ]
  },
  {
   "cell_type": "code",
   "execution_count": null,
   "id": "482749cb",
   "metadata": {},
   "outputs": [],
   "source": [
    "#Loading the four models!\n",
    "model1 = jl.SIR_ODE.model_1 #Frequency\n",
    "model2 = jl.SIR_ODE.model_2 #Pure Density\n",
    "model3 = jl.SIR_ODE.model_3 #Sigmoid Density\n",
    "model4 = jl.SIR_ODE.model_4 #Sqrt Density\n",
    "\n",
    "models  =[model1,model2,model3,model4]"
   ]
  },
  {
   "cell_type": "code",
   "execution_count": null,
   "id": "4ab4a608",
   "metadata": {},
   "outputs": [],
   "source": [
    "#The observations!\n",
    "obs = jl.SIR_ODE.observation\n",
    "\n",
    "#Distance function used for fitting\n",
    "distance = jl.SIR_ODE.distance\n"
   ]
  },
  {
   "cell_type": "code",
   "execution_count": null,
   "id": "30f403b8",
   "metadata": {},
   "outputs": [],
   "source": [
    "#Fitting two params P1 - transmission co-efficent, P2 - corpse infectivity modifier\n",
    "parameter_prior = Distribution(p1=RV(\"uniform\", 0.0, 1.0),p2=RV(\"uniform\", 0.0, 1.0))\n",
    "\n",
    "#sample params to test functions all work and pre-compile\n",
    "sample_par = {\"p1\": 0.142,\"p2\": 0.006} \n",
    "\n",
    "n = 4 #number of models we are looking at!\n",
    "param_list = [parameter_prior]*n"
   ]
  },
  {
   "cell_type": "code",
   "execution_count": null,
   "id": "9b4c03f3",
   "metadata": {},
   "outputs": [],
   "source": [
    "param_list = [Distribution(p1=RV(\"uniform\", 0.1, 0.25),p2=RV(\"uniform\", 0.0, 0.01)), Distribution(p1=RV(\"uniform\", 0.0, 0.5),p2=RV(\"uniform\", 0.75, 1.0)),Distribution(p1=RV(\"uniform\", 0.0, 0.5),p2=RV(\"uniform\", 0.75, 1.0)),Distribution(p1=RV(\"uniform\", 0.0, 0.5),p2=RV(\"uniform\", 0.75, 1.0))]"
   ]
  },
  {
   "cell_type": "code",
   "execution_count": null,
   "id": "293ecd55",
   "metadata": {},
   "outputs": [],
   "source": [
    "#running the fitting!\n",
    "abc= ABCSMC(\n",
    "    models=model1,\n",
    "    parameter_priors=parameter_prior,\n",
    "    distance_function=distance,\n",
    "    population_size = AdaptivePopulationSize(100, 0.15,max_population_size = 1000),\n",
    "    sampler = SingleCoreSampler(),\n",
    ")\n",
    "\n",
    "\n",
    "abc_id = abc.new(\"sqlite:////tmp/mjp.db\", obs)\n",
    "it = 20 #number of generations we want smc to do!\n",
    "m1 = abc.run(minimum_epsilon=0.5, max_nr_populations=it)\n"
   ]
  },
  {
   "cell_type": "code",
   "execution_count": null,
   "id": "3de4fac4",
   "metadata": {},
   "outputs": [],
   "source": [
    "#saving the fit!\n",
    "np.savetxt(\"Posteriors/ODE/L1_params.csv\",  m1.get_distribution(t=it-1)[0].values, delimiter =',')\n",
    "np.savetxt(\"/home/callum/ASF/Fitting/Posteriors/ODE/L1_weights.csv\", m1.get_distribution(t=it-1)[1], delimiter= ',')"
   ]
  },
  {
   "cell_type": "code",
   "execution_count": null,
   "id": "74619582",
   "metadata": {},
   "outputs": [],
   "source": []
  },
  {
   "cell_type": "markdown",
   "id": "df0c3418",
   "metadata": {},
   "source": [
    "# Tau Leaping Homogeneous "
   ]
  },
  {
   "cell_type": "code",
   "execution_count": null,
   "id": "f268e554",
   "metadata": {},
   "outputs": [],
   "source": [
    "#The same as above but for M2!\n",
    "\n",
    "jl.eval('push!(LOAD_PATH, \"/home/callum/ASF/Fitting/TAU_HOMO_FIT.jl\")')\n",
    "jl.include('/home/callum/ASF/Fitting/TAU_HOMO_FIT.jl') #loading files with our model!\n"
   ]
  },
  {
   "cell_type": "code",
   "execution_count": null,
   "id": "f468768f",
   "metadata": {
    "scrolled": true
   },
   "outputs": [],
   "source": [
    "model1_h = jl.SIR_TAU_S.model_1 #Frequency\n",
    "model2_h = jl.SIR_TAU_S.model_2 #Pure Density\n",
    "model3_h = jl.SIR_TAU_S.model_3 #Sigmoid Density\n",
    "model4_h = jl.SIR_TAU_S.model_4 #Sqrt Density\n",
    "\n",
    "models_h  =[model1_h,model2_h,model3_h,model4_h]"
   ]
  },
  {
   "cell_type": "code",
   "execution_count": null,
   "id": "fef8c079",
   "metadata": {},
   "outputs": [],
   "source": [
    "abc= ABCSMC(\n",
    "    models=model1_h,\n",
    "    parameter_priors=parameter_prior,\n",
    "    distance_function=distance,\n",
    "    population_size = AdaptivePopulationSize(100, 0.15,max_population_size = 1000),\n",
    "    sampler = SingleCoreSampler(),\n",
    ")\n",
    "\n",
    "it=10\n",
    "\n",
    "abc_id = abc.new(\"sqlite:////tmp/mjp.db\", obs)\n",
    "m1h = abc.run(minimum_epsilon=0.5, max_nr_populations=it)"
   ]
  },
  {
   "cell_type": "code",
   "execution_count": null,
   "id": "af7dfaf3",
   "metadata": {},
   "outputs": [],
   "source": [
    "np.savetxt(\"/home/callum/ASF/Fitting/Posteriors/Tau-Homogeneous/L1_params.csv\",  m1h.get_distribution(t=it-1)[0].values, delimiter =',')\n",
    "np.savetxt(\"/home/callum/ASF/Fitting/Posteriors/Tau-Homogeneous/L1_weights.csv\", m1h.get_distribution(t=it-1)[1], delimiter= ',')\n"
   ]
  },
  {
   "cell_type": "markdown",
   "id": "c72a2cf5",
   "metadata": {},
   "source": [
    "# Tau Hetro"
   ]
  },
  {
   "cell_type": "code",
   "execution_count": null,
   "id": "bddcb045",
   "metadata": {},
   "outputs": [],
   "source": [
    "jl.eval('push!(LOAD_PATH, \"/home/callum/ASF/Fitting/TAU_HETRO_FIT.jl\")')\n",
    "jl.include('/home/callum/ASF/Fitting/TAU_HETRO_FIT.jl') #loading files with our model!\n",
    "#the network we are using is defined in the Hetro_Fit file!"
   ]
  },
  {
   "cell_type": "code",
   "execution_count": null,
   "id": "a3d75c1a",
   "metadata": {},
   "outputs": [],
   "source": [
    "model1= jl.SIR_TAU_M.model_1 #Frequency\n",
    "model4 = jl.SIR_TAU_M.model_4 #Sqrt Density"
   ]
  },
  {
   "cell_type": "code",
   "execution_count": null,
   "id": "79807b21",
   "metadata": {},
   "outputs": [],
   "source": [
    "#Fitting two params P1 - transmission co-efficent, P2 - corpse infectivity modifier\n",
    "parameter_prior = Distribution(p1=RV(\"uniform\", 0.0, 1.0),p2=RV(\"uniform\", 0.0, 0.25),p3=RV(\"uniform\", 0.0, 1.0),)\n",
    "\n",
    "#sample params to test functions all work and pre-compile\n",
    "sample_par = {\"p1\": 0.1,\"p2\": 0.05, \"p3\": 0.5} \n",
    "\n",
    "n = 4 #number of models we are looking at!\n",
    "param_list = [parameter_prior]*n"
   ]
  },
  {
   "cell_type": "code",
   "execution_count": null,
   "id": "57ab0068",
   "metadata": {},
   "outputs": [],
   "source": [
    "distance(model1_c (sample_par),obs)\n",
    "distance(model2_c (sample_par),obs)\n",
    "distance(model3_c (sample_par),obs)\n",
    "distance(model4_c (sample_par),obs);"
   ]
  },
  {
   "cell_type": "code",
   "execution_count": null,
   "id": "5b7d876a",
   "metadata": {},
   "outputs": [],
   "source": [
    "abc = ABCSMC(\n",
    "    models=model1_c,\n",
    "    parameter_priors=parameter_prior,\n",
    "    distance_function=distance,\n",
    "    population_size =  AdaptivePopulationSize(100, 0.15,max_population_size = 100),\n",
    "    sampler = SingleCoreSampler(),\n",
    ")\n",
    "\n",
    "\n"
   ]
  },
  {
   "cell_type": "code",
   "execution_count": null,
   "id": "b439862c",
   "metadata": {},
   "outputs": [],
   "source": [
    "abc_id = abc.new(\"sqlite:////tmp/mjjp.db\", obs)\n"
   ]
  },
  {
   "cell_type": "code",
   "execution_count": null,
   "id": "36dde7b3",
   "metadata": {},
   "outputs": [],
   "source": [
    "h1n = abc.run(minimum_epsilon=0.5, max_nr_populations=6)\n"
   ]
  }
 ],
 "metadata": {
  "@webio": {
   "lastCommId": null,
   "lastKernelId": null
  },
  "kernelspec": {
   "display_name": "Python 3 (ipykernel)",
   "language": "python",
   "name": "python3"
  },
  "language_info": {
   "codemirror_mode": {
    "name": "ipython",
    "version": 3
   },
   "file_extension": ".py",
   "mimetype": "text/x-python",
   "name": "python",
   "nbconvert_exporter": "python",
   "pygments_lexer": "ipython3",
   "version": "3.10.6"
  }
 },
 "nbformat": 4,
 "nbformat_minor": 5
}
