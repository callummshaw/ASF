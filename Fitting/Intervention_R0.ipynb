{
 "cells": [
  {
   "cell_type": "markdown",
   "id": "c045f91e",
   "metadata": {},
   "source": [
    "# Calculating $R_0$ and $R_{eff}$"
   ]
  },
  {
   "cell_type": "code",
   "execution_count": null,
   "id": "a5490003",
   "metadata": {},
   "outputs": [],
   "source": [
    "from julia import Julia\n",
    "jl = Julia(sysimage = \"/home/callum/ASF/Fitting/sys_model.so\") #loading sys image"
   ]
  },
  {
   "cell_type": "code",
   "execution_count": null,
   "id": "4e52024c",
   "metadata": {},
   "outputs": [],
   "source": [
    "import matplotlib.pyplot as plt\n",
    "\n",
    "import os\n",
    "import tempfile\n",
    "import numpy as np\n",
    "import scipy as sp\n",
    "\n",
    "from scipy import stats\n",
    "import random as rd\n",
    "from brokenaxes import brokenaxes"
   ]
  },
  {
   "cell_type": "code",
   "execution_count": null,
   "id": "65624f17",
   "metadata": {},
   "outputs": [],
   "source": [
    "plt.rcParams.update({\n",
    "    \"text.usetex\": True,\n",
    "    \"font.family\": \"Helvetica\"\n",
    "})"
   ]
  },
  {
   "cell_type": "code",
   "execution_count": null,
   "id": "ff1fb8b3",
   "metadata": {},
   "outputs": [],
   "source": [
    "plt.style.use('seaborn-colorblind')\n",
    "prop_cycle = plt.rcParams['axes.prop_cycle']\n",
    "colors = prop_cycle.by_key()['color']"
   ]
  },
  {
   "cell_type": "code",
   "execution_count": null,
   "id": "914d9c90",
   "metadata": {},
   "outputs": [],
   "source": [
    "#reading the fitted posteriors that we will run the model from\n",
    "def read_inputs(path,number):\n",
    "    \n",
    "    models = [1,2,3,4]\n",
    "    \n",
    "    if number not in models:\n",
    "        raise Exception(\"Model number must be 1, 2, 3 or 4\") \n",
    "        \n",
    "    weights = np.genfromtxt(path + \"/H{}_weights.csv\".format(number), delimiter=',')\n",
    "    params = np.genfromtxt(path + \"/H{}_params.csv\".format(number), delimiter=',')\n",
    "    \n",
    "    nparams = params.shape[1]\n",
    "    \n",
    "    p1_dis = stats.gaussian_kde(params[:,0],weights = weights)\n",
    "    p2_dis = stats.gaussian_kde(params[:,1],weights = weights)\n",
    "    \n",
    "    if nparams == 2:\n",
    "        return p1_dis, p2_dis\n",
    "    elif nparams == 3:\n",
    "        p3_dis = stats.gaussian_kde(params[:,2],weights = weights)\n",
    "        return p1_dis, p2_dis, p3_dis\n",
    "    "
   ]
  },
  {
   "cell_type": "code",
   "execution_count": null,
   "id": "7aaf5812",
   "metadata": {},
   "outputs": [],
   "source": [
    "#simulating the model from the posteriors\n",
    "\n",
    "def run_simulations_inter(path,number,n_sims, value, median = False):\n",
    "    \n",
    "    posteriors = read_inputs(path,number)\n",
    "    \n",
    "    n_params = len(posteriors) #two or three fitted parameters!\n",
    "    \n",
    "    dd = 0\n",
    "    n_samples = 100000\n",
    "    \n",
    "    dp1 = posteriors[0].resample(n_samples)[0]\n",
    "    dp2 = posteriors[1].resample(n_samples)[0]\n",
    "\n",
    "    rd.shuffle(dp1)\n",
    "    rd.shuffle(dp2)\n",
    "    \n",
    "    if n_params == 3:\n",
    "        dp3 = posteriors[2].resample(n_samples)[0]\n",
    "        rd.shuffle(dp3)\n",
    "        \n",
    "    if median:\n",
    "        if n_params == 2:\n",
    "            p = (np.median(dp1), np.median(dp2), value,number)\n",
    "            \n",
    "        elif n_params ==3:\n",
    "             p = (np.median(dp1), np.median(dp2), np.median(dp3), value,number)\n",
    "            \n",
    "    for i in range(n_sims):\n",
    "        \n",
    "        if not median:\n",
    "            if n_params == 2:\n",
    "                p = (dp1[i], dp2[i], value,number)\n",
    "            elif n_params ==3:\n",
    "                p = (dp1[i], dp2[i], dp3[i], value,number)\n",
    "\n",
    "        \n",
    "        \n",
    "        out = model_int(p)\n",
    "        \n",
    "        \n",
    "        #dd += out\n",
    "  \n",
    "    return out[0], out[1], dp1[0], dp2[0]\n"
   ]
  },
  {
   "cell_type": "markdown",
   "id": "331510cd",
   "metadata": {},
   "source": [
    "# ODE model"
   ]
  },
  {
   "cell_type": "code",
   "execution_count": null,
   "id": "926d63c2",
   "metadata": {},
   "outputs": [],
   "source": [
    "jl.eval('push!(LOAD_PATH, \"/home/callum/ASF/Fitting/ODE_Extinct.jl\")')\n",
    "jl.include('/home/callum/ASF/Fitting/ODE_Extinct.jl') #loading files with our model!\n",
    "\n",
    "#Loading the four models!\n",
    "model_int = jl.SIR_ODE.model_int #Frequency\n"
   ]
  },
  {
   "cell_type": "code",
   "execution_count": null,
   "id": "a6ae755d",
   "metadata": {},
   "outputs": [],
   "source": [
    "def fd(N):\n",
    "    #calculating the net death rate of model!\n",
    "    \n",
    "    dr = μ*(σ + ((1-σ))*np.sqrt(N/K))\n",
    "    \n",
    "    #This section is to ensure the right output type occurs to ensure all multiplication works!\n",
    "    if type(N) == float:\n",
    "        return dr\n",
    "    else:\n",
    "        return np.expand_dims(dr,axis=1)"
   ]
  },
  {
   "cell_type": "code",
   "execution_count": null,
   "id": "022478f9",
   "metadata": {},
   "outputs": [],
   "source": [
    "#Key paparms\n",
    "t = np.arange(1096) #time\n",
    "λ = 1 / (60 + 30*np.cos((2*np.pi*(t+182.5))/365)) #corpse decay rate\n",
    "σ = 0.75 #density independent ratio\n",
    "K = 5000 #carrying capacity\n",
    "μ = 0.0036 #naive death rate (daily)\n",
    "ρ = 0.95 #mortatily \n",
    "γ =  0.125 #infection rate\n",
    "ζ = 1/6 #exposed rate"
   ]
  },
  {
   "cell_type": "code",
   "execution_count": null,
   "id": "839242de",
   "metadata": {},
   "outputs": [],
   "source": [
    "def simulate_r0_data(n_sims,model_no):\n",
    "    \n",
    "    #arrays to store out\n",
    "    s_pop = np.zeros((n_sims,3*365+1)) #S\n",
    "    n_pop = np.zeros((n_sims,3*365+1)) #N\n",
    "\n",
    "    bh = np.zeros(n_sims) #beta\n",
    "    o = np.zeros(n_sims) #omega\n",
    "    \n",
    "    for i in range(n_sims):\n",
    "        s_pop[i,:], n_pop[i,:], bh[i], o[i] = run_simulations_inter(path,model_no,1,1) #(1 sim, 1 intevention (akin to nothing))\n",
    "    \n",
    "    return s_pop, n_pop, bh, o\n"
   ]
  },
  {
   "cell_type": "code",
   "execution_count": null,
   "id": "41fc2c6a",
   "metadata": {},
   "outputs": [],
   "source": [
    "path = \"Posteriors/ODE/\""
   ]
  },
  {
   "cell_type": "code",
   "execution_count": null,
   "id": "ab52d02c",
   "metadata": {},
   "outputs": [],
   "source": [
    "s_pop_1, n_pop_1, bh_1, o_1 = simulate_r0_data(500,1)\n",
    "s_pop_2, n_pop_2, bh_2, o_2 = simulate_r0_data(500,2)\n",
    "s_pop_3, n_pop_3, bh_3, o_3 = simulate_r0_data(500,3)\n",
    "s_pop_4, n_pop_4, bh_4, o_4 = simulate_r0_data(500,4)\n"
   ]
  },
  {
   "cell_type": "markdown",
   "id": "954dcb3e",
   "metadata": {},
   "source": [
    "# TAU-Homogeneous model!"
   ]
  },
  {
   "cell_type": "code",
   "execution_count": null,
   "id": "fbedfeaa",
   "metadata": {},
   "outputs": [],
   "source": [
    "jl.eval('push!(LOAD_PATH, \"/home/callum/ASF/Fitting/TAU_HOMO_EXTINCT.jl\")')\n",
    "jl.include('/home/callum/ASF/Fitting/TAU_HOMO_EXTINCT.jl') #loading files with our model!\n",
    "\n",
    "#Loading the four models!\n",
    "model_int = jl.SIR_TAU_S.model_int #Frequency\n"
   ]
  },
  {
   "cell_type": "code",
   "execution_count": null,
   "id": "b690e9b3",
   "metadata": {},
   "outputs": [],
   "source": [
    "path = \"Posteriors/Tau-Homogeneous/\""
   ]
  },
  {
   "cell_type": "code",
   "execution_count": null,
   "id": "07424e33",
   "metadata": {},
   "outputs": [],
   "source": [
    "s_pop_1t, n_pop_1t, bh_1t, o_1t = simulate_r0_data(500,1)\n",
    "s_pop_2t, n_pop_2t, bh_2t, o_2t = simulate_r0_data(500,2)\n",
    "s_pop_3t, n_pop_3t, bh_3t, o_3t = simulate_r0_data(500,3)\n",
    "s_pop_4t, n_pop_4t, bh_4t, o_4t = simulate_r0_data(500,4)"
   ]
  },
  {
   "cell_type": "code",
   "execution_count": null,
   "id": "618c6c04",
   "metadata": {},
   "outputs": [],
   "source": []
  },
  {
   "cell_type": "markdown",
   "id": "65b6f235",
   "metadata": {},
   "source": [
    "## Plotting Results!"
   ]
  },
  {
   "cell_type": "code",
   "execution_count": null,
   "id": "0bcb4876",
   "metadata": {},
   "outputs": [],
   "source": [
    "#Fixing the dimensions for calulations!\n",
    "bh1 = np.expand_dims(bh_1,axis=1)\n",
    "bh2 = np.expand_dims(bh_2,axis=1)\n",
    "bh3 = np.expand_dims(bh_3,axis=1)\n",
    "bh4 = np.expand_dims(bh_4,axis=1)\n",
    "\n",
    "o1 = np.expand_dims(o_1,axis=1)\n",
    "o2 = np.expand_dims(o_2,axis=1)\n",
    "o3 = np.expand_dims(o_3,axis=1)\n",
    "o4 = np.expand_dims(o_4,axis=1)"
   ]
  },
  {
   "cell_type": "code",
   "execution_count": null,
   "id": "0e3896a4",
   "metadata": {},
   "outputs": [],
   "source": [
    "bh1t = np.expand_dims(bh_1t,axis=1)\n",
    "bh2t = np.expand_dims(bh_2t,axis=1)\n",
    "bh3t = np.expand_dims(bh_3t,axis=1)\n",
    "bh4t = np.expand_dims(bh_4t,axis=1)\n",
    "\n",
    "o1t = np.expand_dims(o_1t,axis=1)\n",
    "o2t = np.expand_dims(o_2t,axis=1)\n",
    "o3t = np.expand_dims(o_3t,axis=1)\n",
    "o4t = np.expand_dims(o_4t,axis=1)"
   ]
  },
  {
   "cell_type": "code",
   "execution_count": null,
   "id": "9703e630",
   "metadata": {},
   "outputs": [],
   "source": []
  },
  {
   "cell_type": "code",
   "execution_count": null,
   "id": "f1565dcf",
   "metadata": {},
   "outputs": [],
   "source": [
    "#Calculating R0!\n",
    "\n",
    "R01i =  bh1*ζ*(λ+o1*(fd(n_pop_1)+ρ*γ))/(λ*(fd(n_pop_1)+γ)*(fd(n_pop_1)+ζ))\n",
    "\n",
    "R02i =  (n_pop_2/K)*bh2*ζ*(λ+o2*(fd(n_pop_2)+ρ*γ))/(λ*(fd(n_pop_2)+γ)*(fd(n_pop_2)+ζ))\n",
    "\n",
    "R03i = (np.tanh(1.5 *n_pop_3/K - 1.5 ) + 1)*bh3*ζ*(λ+o3*(fd(n_pop_3)+ρ*γ))/(λ*(fd(n_pop_3)+γ)*(fd(n_pop_3)+ζ))\n",
    "\n",
    "R04i =  bh4*np.sqrt(n_pop_4/K)*ζ*(λ+o4*(fd(n_pop_4)+ρ*γ))/(λ*(fd(n_pop_4)+γ)*(fd(n_pop_4)+ζ))\n"
   ]
  },
  {
   "cell_type": "code",
   "execution_count": null,
   "id": "20611b33",
   "metadata": {},
   "outputs": [],
   "source": [
    "R01it =  bh1t*ζ*(λ+o1t*(fd(n_pop_1t)+ρ*γ))/(λ*(fd(n_pop_1t)+γ)*(fd(n_pop_1t)+ζ))\n",
    "\n",
    "R02it =  (n_pop_2t/K)*bh2t*ζ*(λ+o2t*(fd(n_pop_2t)+ρ*γ))/(λ*(fd(n_pop_2t)+γ)*(fd(n_pop_2t)+ζ))\n",
    "\n",
    "R03it = (np.tanh(1.5 *n_pop_3t/K - 1.5 ) + 1)*bh3t*ζ*(λ+o3t*(fd(n_pop_3t)+ρ*γ))/(λ*(fd(n_pop_3t)+γ)*(fd(n_pop_3t)+ζ))\n",
    "\n",
    "R04it =  bh4t*np.sqrt(n_pop_4t/K)*ζ*(λ+o4t*(fd(n_pop_4t)+ρ*γ))/(λ*(fd(n_pop_4t)+γ)*(fd(n_pop_4t)+ζ))\n"
   ]
  },
  {
   "cell_type": "code",
   "execution_count": null,
   "id": "afda8bf2",
   "metadata": {},
   "outputs": [],
   "source": []
  },
  {
   "cell_type": "code",
   "execution_count": null,
   "id": "b5313ba3",
   "metadata": {},
   "outputs": [],
   "source": [
    "#Plotting!\n",
    "\n",
    "fig, (ax1, ax2) = plt.subplots(2, 1, figsize = (4,4))\n",
    "fig.tight_layout() # Or equivalently,  \"plt.tight_layout()\"\n",
    "fig.suptitle('Reproduction Number',y=1.07, x = 0.52)\n",
    "plt.subplots_adjust(hspace=0.4)\n",
    "\n",
    "ax1.plot(t,np.mean(R01i, axis=0), color=colors[0], label = r\"$C = 1$\")\n",
    "ax1.plot(t,np.mean(R01i*s_pop_1/n_pop_1, axis = 0), color=colors[0], ls = \"--\", label = r\"$C = 1$\")\n",
    "\n",
    "\n",
    "ax1.plot(t,np.mean(R02i, axis=0), color=colors[1], label = r\"$C \\propto \\rho_N: R_0$\")\n",
    "ax1.plot(t,np.mean(R02i*s_pop_2/n_pop_2, axis = 0), color=colors[1], ls = \"--\", label = r\"$C \\propto \\rho_N$\")\n",
    "\n",
    "ax1.plot(t,np.mean(R03i, axis=0), color=colors[2], label = r\"$C \\propto \\tanh(\\rho_N): R_0$\")\n",
    "ax1.plot(t,np.mean(R03i*s_pop_3/n_pop_3, axis = 0), color=colors[2], ls = \"--\", label = r\"$C \\propto \\tanh(\\rho_N): R_{eff}$\")\n",
    "\n",
    "\n",
    "\n",
    "ax1.plot(t,np.mean(R04i, axis=0), color=colors[3], label = r\"$C \\propto \\sqrt {\\rho_N}: R_0$\")\n",
    "ax1.plot(t,np.mean(R04i*s_pop_4/n_pop_4, axis = 0), color=colors[3], ls = \"--\", label = r\"$C \\propto \\sqrt {\\rho_N}: R_{eff}$\")\n",
    "\n",
    "\n",
    "ax1.set_ylabel(\"Reproduction Number\")\n",
    "\n",
    "\n",
    "\n",
    "ax2.plot(t,np.mean(R01it, axis=0), color=colors[0], label = r\"$R_0:\\quad \\, C = 1$\")\n",
    "ax2.plot(t,np.mean(R01it*s_pop_1t/n_pop_1t, axis = 0), color=colors[0], ls = \"--\", label = r\"$R_{eff}: C = 1$\")\n",
    "\n",
    "\n",
    "ax2.plot(t,np.mean(R02it, axis=0), color=colors[1], label = r\"$R_0: \\quad \\,  C \\propto \\rho_N$\")\n",
    "ax2.plot(t,np.mean(R02it*s_pop_2t/n_pop_2t, axis = 0), color=colors[1], ls = \"--\", label = r\"$R_{eff}: C \\propto \\rho_N$\")\n",
    "\n",
    "ax2.plot(t,np.mean(R03it, axis=0), color=colors[2], label = r\"$R_0: \\quad \\,  C  \\propto \\tanh(\\rho_N)$\")\n",
    "ax2.plot(t,np.mean(R03it*s_pop_3t/n_pop_3t, axis = 0), color=colors[2], ls = \"--\", label = r\"$R_{eff}: C \\propto \\tanh(\\rho_N)$\")\n",
    "\n",
    "\n",
    "\n",
    "ax2.plot(t,np.mean(R04it, axis=0), color=colors[3], label = r\"$R_0: \\quad \\, C \\propto \\sqrt {\\rho_N}$\")\n",
    "ax2.plot(t,np.mean(R04it*s_pop_4t/n_pop_4t, axis = 0), color=colors[3], ls = \"--\", label = r\"$R_{eff}: C \\propto \\sqrt {\\rho_N}$\")\n",
    "\n",
    "ax2.legend(fontsize=7, ncol=2)\n",
    "\n",
    "\n",
    "ax1.set_title(\"ODE\")\n",
    "ax2.set_title(\"Tau-Leaping Homogeneous\")\n",
    "\n",
    "ax2.set_xlabel(\"Day\")\n",
    "ax2.set_ylabel(\"Reproduction Number\")\n",
    "ax2.set_yscale('log')\n",
    "ax1.set_yscale('log')\n",
    "plt.savefig('m1r.pdf', format='pdf', bbox_inches='tight')\n"
   ]
  },
  {
   "cell_type": "code",
   "execution_count": null,
   "id": "0c8855b6",
   "metadata": {},
   "outputs": [],
   "source": []
  }
 ],
 "metadata": {
  "@webio": {
   "lastCommId": null,
   "lastKernelId": null
  },
  "kernelspec": {
   "display_name": "Python 3 (ipykernel)",
   "language": "python",
   "name": "python3"
  },
  "language_info": {
   "codemirror_mode": {
    "name": "ipython",
    "version": 3
   },
   "file_extension": ".py",
   "mimetype": "text/x-python",
   "name": "python",
   "nbconvert_exporter": "python",
   "pygments_lexer": "ipython3",
   "version": "3.10.6"
  }
 },
 "nbformat": 4,
 "nbformat_minor": 5
}
