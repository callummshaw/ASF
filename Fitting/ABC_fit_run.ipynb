{
 "cells": [
  {
   "cell_type": "code",
   "execution_count": 158,
   "id": "a5490003",
   "metadata": {},
   "outputs": [],
   "source": [
    " from julia import Julia\n",
    "jl = Julia(sysimage = \"/home/callum/ASF/Fitting/sys_model.so\") #loading sys image"
   ]
  },
  {
   "cell_type": "code",
   "execution_count": 28,
   "id": "4e52024c",
   "metadata": {},
   "outputs": [],
   "source": [
    "import matplotlib.pyplot as plt\n",
    "\n",
    "import os\n",
    "import tempfile\n",
    "import numpy as np\n",
    "import scipy as sp\n",
    "\n",
    "\n",
    "from pyabc import ABCSMC, RV, Distribution, LocalTransition, MedianEpsilon, SingleCoreSampler\n",
    "from pyabc.visualization import plot_data_callback, plot_kde_2d\n",
    "from pyabc.populationstrategy import AdaptivePopulationSize\n",
    "import pyabc\n",
    "from scipy import stats\n",
    "import random as rd\n",
    "from brokenaxes import brokenaxes"
   ]
  },
  {
   "cell_type": "code",
   "execution_count": 365,
   "id": "65624f17",
   "metadata": {},
   "outputs": [],
   "source": [
    "plt.rcParams.update({\n",
    "    \"text.usetex\": True,\n",
    "    \"font.family\": \"Helvetica\"\n",
    "})"
   ]
  },
  {
   "cell_type": "code",
   "execution_count": 385,
   "id": "ff1fb8b3",
   "metadata": {},
   "outputs": [],
   "source": [
    "plt.style.use('seaborn-colorblind')\n",
    "prop_cycle = plt.rcParams['axes.prop_cycle']\n",
    "colors = prop_cycle.by_key()['color']"
   ]
  },
  {
   "cell_type": "code",
   "execution_count": 185,
   "id": "914d9c90",
   "metadata": {},
   "outputs": [],
   "source": [
    "def read_inputs(path,number):\n",
    "    \n",
    "    models = [1,2,3,4]\n",
    "    \n",
    "    if number not in models:\n",
    "        raise Exception(\"Model number must be 1, 2, 3 or 4\") \n",
    "        \n",
    "    weights = np.genfromtxt(path + \"/h{}_weights.csv\".format(number), delimiter=',')\n",
    "    params = np.genfromtxt(path + \"/h{}_params.csv\".format(number), delimiter=',')\n",
    "    \n",
    "    nparams = params.shape[1]\n",
    "    \n",
    "    p1_dis = stats.gaussian_kde(params[:,0],weights = weights)\n",
    "    p2_dis = stats.gaussian_kde(params[:,1],weights = weights)\n",
    "    \n",
    "    if nparams == 2:\n",
    "        return p1_dis, p2_dis\n",
    "    elif nparams == 3:\n",
    "        p3_dis = stats.gaussian_kde(params[:,2],weights = weights)\n",
    "        return p1_dis, p2_dis, p3_dis\n",
    "    "
   ]
  },
  {
   "cell_type": "code",
   "execution_count": 196,
   "id": "eb10bbb0",
   "metadata": {},
   "outputs": [],
   "source": [
    "def run_simulations(path,number,n_sims, median = False, distance = False):\n",
    "    \n",
    "    posteriors = read_inputs(path,number)\n",
    "    \n",
    "    n_params = len(posteriors) #two or three fitted parameters!\n",
    "    \n",
    "    store  = np.zeros((n_sims,3))\n",
    "    \n",
    "    dd = 0\n",
    "    n_samples = 100000\n",
    "    \n",
    "    dp1 = posteriors[0].resample(n_samples)[0]\n",
    "    dp2 = posteriors[1].resample(n_samples)[0]\n",
    "\n",
    "    rd.shuffle(dp1)\n",
    "    rd.shuffle(dp2)\n",
    "    \n",
    "    if n_params == 3:\n",
    "        dp3 = posteriors[2].resample(n_samples)[0]\n",
    "        rd.shuffle(dp3)\n",
    "        \n",
    "    if median:\n",
    "        if n_params == 2:\n",
    "            p = {\"p1\":np.median(dp1),\"p2\":np.median(dp2)}\n",
    "        elif n_params ==3:\n",
    "            p = {\"p1\":np.median(dp1),\"p2\":np.median(dp2), \"p3\":np.median(dp3)}\n",
    "            \n",
    "    for i in range(n_sims):\n",
    "        \n",
    "        if not median:\n",
    "            if n_params == 2:\n",
    "                p = {\"p1\":dp1[i],\"p2\":dp2[i]}\n",
    "            elif n_params ==3:\n",
    "                p = {\"p1\":dp1[i],\"p2\":dp2[i], \"p3\":dp3[i]}\n",
    "\n",
    "        \n",
    "        \n",
    "        if number == 1:\n",
    "            out = model1(p)\n",
    "            \n",
    "        elif number == 2:\n",
    "             out = model2(p)\n",
    "                \n",
    "        elif number == 3:\n",
    "             out = model3(p)\n",
    "                \n",
    "        else:\n",
    "             out = model4(p)\n",
    "\n",
    "        \n",
    "        store[i] = out[\"SS\"][0:3]\n",
    "        dd += out[\"SS\"][3]\n",
    "    print(\"Finished\")\n",
    "    if distance:\n",
    "        dis, mean, c95 = distance_from_mean(store)\n",
    "        \n",
    "        return store, dis, mean, c95\n",
    "    \n",
    "    else:        \n",
    "        return store, dd\n",
    "    \n",
    "    \n",
    "        \n",
    "        "
   ]
  },
  {
   "cell_type": "code",
   "execution_count": 7,
   "id": "d542a788",
   "metadata": {},
   "outputs": [],
   "source": [
    "def distance_from_mean(store):\n",
    "    \n",
    "    mean_ep = 1.5\n",
    "    std_ep = 0.604\n",
    "\n",
    "    mean_pd = 75\n",
    "    std_pd = 6.08\n",
    "\n",
    "    mean_mt = 180\n",
    "    std_mt = 36.475\n",
    "\n",
    "    \n",
    "    store_t = (store -[mean_ep, mean_pd, mean_mt]) / ([std_ep, std_pd, std_mt])\n",
    "    \n",
    "    d = np.linalg.norm(store_t,axis=1)\n",
    "    \n",
    "    mean = np.mean(d)\n",
    "    c_95 = np.percentile(d,[2.5, 97.5])\n",
    "    \n",
    "    print('Mean distance = ', mean)\n",
    "    print('95% confidence interval =', c_95)\n",
    "    \n",
    "    return d, mean, c_95"
   ]
  },
  {
   "cell_type": "code",
   "execution_count": 50,
   "id": "b544668b",
   "metadata": {},
   "outputs": [],
   "source": [
    "def distri(data):\n",
    "    nt =  data.n_populations - 1 \n",
    "    h_ws = data.get_distribution(t=nt)[1]\n",
    "    h_p1 = data.get_distribution(t=nt)[0]['p1'].values\n",
    "    h_p2 = data.get_distribution(t=nt)[0]['p2'].values\n",
    "    h_p3 = data.get_distribution(t=nt)[0]['p3'].values\n",
    "\n",
    "    p1_dis = stats.gaussian_kde(h_p1,weights = h_ws)\n",
    "    p2_dis = stats.gaussian_kde(h_p2,weights = h_ws)\n",
    "    p3_dis = stats.gaussian_kde(h_p3,weights = h_ws)\n",
    "\n",
    "    return p1_dis, p2_dis, p3_dis"
   ]
  },
  {
   "cell_type": "code",
   "execution_count": 77,
   "id": "d335793b",
   "metadata": {},
   "outputs": [],
   "source": [
    "def run_sim(data,n_sims, modeln):\n",
    "    p1, p2,p3 = distri(data)\n",
    "    store  = np.zeros((n_sims,3))\n",
    "    \n",
    "    dp1 = p1.resample(n_sims)[0]\n",
    "    dp2 = p2.resample(n_sims)[0]\n",
    "    dp3 = p3.resample(n_sims)[0]\n",
    "    \n",
    "    for i in range(n_sims):\n",
    "        \n",
    "        \n",
    "        p = {\"p1\":dp1[i],\"p2\":dp2[i], \"p3\":dp3[i]}\n",
    "        #p = {\"p1\":np.average(p1_h1, weights=w_h1),\"p2\":np.average(p2_h1, weights=w_h1)}\n",
    "        out = modeln(p)\n",
    "        \n",
    "        store[i] = out[\"SS\"]\n",
    "    \n",
    "    \n",
    "    store_t = (store - obs[\"SS\"]) / ([std_ep, std_pd, std_mt])\n",
    "    \n",
    "    d = np.linalg.norm(store_t,axis=1)\n",
    "    \n",
    "    mean = np.mean(d)\n",
    "    c_95 = np.percentile(d,[2.5, 97.5])\n",
    "    \n",
    "    print('Mean distance = ', mean)\n",
    "    print('95% confidence interval =', c_95)\n",
    "    \n",
    "    return store#mean, c_95"
   ]
  },
  {
   "cell_type": "code",
   "execution_count": 21,
   "id": "c5f38092",
   "metadata": {},
   "outputs": [],
   "source": [
    "mean_ep = 1.5\n",
    "std_ep = 0.604\n",
    "\n",
    "mean_pd = 75\n",
    "std_pd = 6.08\n",
    "\n",
    "mean_mt = 180\n",
    "std_mt = 36.475\n",
    "\n"
   ]
  },
  {
   "cell_type": "code",
   "execution_count": 22,
   "id": "7aaf5812",
   "metadata": {},
   "outputs": [
    {
     "name": "stdout",
     "output_type": "stream",
     "text": [
      "Finished\n",
      "Finished\n",
      "Finished\n",
      "Finished\n"
     ]
    }
   ],
   "source": [
    "ode_1 = run_simulations(\"Posteriors/ODE/\", 1, 10000)\n",
    "ode_2 = run_simulations(\"Posteriors/ODE/\", 2, 10000)\n",
    "ode_3 = run_simulations(\"Posteriors/ODE/\", 3, 10000)\n",
    "ode_4 = run_simulations(\"Posteriors/ODE/\", 4, 10000)"
   ]
  },
  {
   "cell_type": "markdown",
   "id": "331510cd",
   "metadata": {},
   "source": [
    "# ODE model"
   ]
  },
  {
   "cell_type": "code",
   "execution_count": 10,
   "id": "2602582e",
   "metadata": {},
   "outputs": [
    {
     "data": {
      "text/plain": [
       "<PyCall.jlwrap Main.SIR_ODE>"
      ]
     },
     "execution_count": 10,
     "metadata": {},
     "output_type": "execute_result"
    }
   ],
   "source": [
    "jl.eval('push!(LOAD_PATH, \"/home/callum/ASF/Fitting/ODE_FIT.jl\")')\n",
    "jl.include('/home/callum/ASF/Fitting/ODE_FIT.jl') #loading files with our model!"
   ]
  },
  {
   "cell_type": "code",
   "execution_count": 13,
   "id": "482749cb",
   "metadata": {},
   "outputs": [
    {
     "name": "stderr",
     "output_type": "stream",
     "text": [
      "/home/callum/.local/lib/python3.10/site-packages/julia/core.py:709: FutureWarning: Accessing `Julia().<name>` to obtain Julia objects is deprecated.  Use `from julia import Main; Main.<name>` or `jl = Julia(); jl.eval('<name>')`.\n",
      "  warnings.warn(\n"
     ]
    }
   ],
   "source": [
    "#Loading the four models!\n",
    "model1 = jl.SIR_ODE.model_1 #Frequency\n",
    "model2 = jl.SIR_ODE.model_2 #Pure Density\n",
    "model3 = jl.SIR_ODE.model_3 #Sigmoid Density\n",
    "model4 = jl.SIR_ODE.model_4 #Sqrt Density\n",
    "\n",
    "models  =[model1,model2,model3,model4]"
   ]
  },
  {
   "cell_type": "code",
   "execution_count": 12,
   "id": "4ab4a608",
   "metadata": {},
   "outputs": [],
   "source": [
    "#The observations!\n",
    "obs = jl.SIR_ODE.observation\n",
    "\n",
    "#Distance function used for fitting\n",
    "distance = jl.SIR_ODE.distance\n"
   ]
  },
  {
   "cell_type": "code",
   "execution_count": null,
   "id": "30f403b8",
   "metadata": {},
   "outputs": [],
   "source": [
    "#Fitting two params P1 - transmission co-efficent, P2 - corpse infectivity modifier\n",
    "parameter_prior = Distribution(p1=RV(\"uniform\", 0.0, 1.0),p2=RV(\"uniform\", 0.0, 1.0))\n",
    "\n",
    "#sample params to test functions all work and pre-compile\n",
    "sample_par = {\"p1\": 0.1,\"p2\": 0.5} \n",
    "\n",
    "n = 4 #number of models we are looking at!\n",
    "param_list = [parameter_prior]*n"
   ]
  },
  {
   "cell_type": "code",
   "execution_count": null,
   "id": "b37312df",
   "metadata": {},
   "outputs": [],
   "source": [
    "distance(model1(sample_par),obs)\n",
    "distance(model2(sample_par),obs)\n",
    "distance(model3(sample_par),obs)\n",
    "distance(model4(sample_par),obs);"
   ]
  },
  {
   "cell_type": "code",
   "execution_count": null,
   "id": "293ecd55",
   "metadata": {},
   "outputs": [],
   "source": [
    "abc= ABCSMC(\n",
    "    models=model4,\n",
    "    parameter_priors=parameter_prior,\n",
    "    distance_function=distance,\n",
    "    population_size =  AdaptivePopulationSize(1000, 0.15,max_population_size = 1000),\n",
    "    sampler = SingleCoreSampler(),\n",
    ")\n",
    "\n"
   ]
  },
  {
   "cell_type": "code",
   "execution_count": null,
   "id": "c7411744",
   "metadata": {},
   "outputs": [],
   "source": [
    "abc_id = abc.new(\"sqlite:////tmp/mp.db\", obs)\n"
   ]
  },
  {
   "cell_type": "code",
   "execution_count": null,
   "id": "820ce7d1",
   "metadata": {},
   "outputs": [],
   "source": [
    "h4 = abc.run(minimum_epsilon=0.5,max_nr_populations=20)\n"
   ]
  },
  {
   "cell_type": "markdown",
   "id": "df0c3418",
   "metadata": {},
   "source": [
    "# Tau Leaping Homogeneous "
   ]
  },
  {
   "cell_type": "code",
   "execution_count": 161,
   "id": "f268e554",
   "metadata": {},
   "outputs": [
    {
     "name": "stderr",
     "output_type": "stream",
     "text": [
      "WARNING: replacing module SIR_TAU_S.\n"
     ]
    },
    {
     "data": {
      "text/plain": [
       "<PyCall.jlwrap Main.SIR_TAU_S>"
      ]
     },
     "execution_count": 161,
     "metadata": {},
     "output_type": "execute_result"
    }
   ],
   "source": [
    "jl.eval('push!(LOAD_PATH, \"/home/callum/ASF/Fitting/TAU_HOMO_FIT.jl\")')\n",
    "jl.include('/home/callum/ASF/Fitting/TAU_HOMO_FIT.jl') #loading files with our model!"
   ]
  },
  {
   "cell_type": "code",
   "execution_count": 162,
   "id": "f468768f",
   "metadata": {
    "scrolled": true
   },
   "outputs": [],
   "source": [
    "model1 = jl.SIR_TAU_S.model_1 #Frequency\n",
    "model2 = jl.SIR_TAU_S.model_2 #Pure Density\n",
    "model3 = jl.SIR_TAU_S.model_3 #Sigmoid Density\n",
    "model4 = jl.SIR_TAU_S.model_4 #Sqrt Density\n",
    "\n",
    "#models_h  =[model1_h,model2_h,model3_h,model4_h]"
   ]
  },
  {
   "cell_type": "code",
   "execution_count": null,
   "id": "4cb6a2e1",
   "metadata": {},
   "outputs": [],
   "source": [
    "distance(model1_h (sample_par),obs)\n",
    "distance(model2_h (sample_par),obs)\n",
    "distance(model3_h (sample_par),obs)\n",
    "distance(model4_h (sample_par),obs);"
   ]
  },
  {
   "cell_type": "code",
   "execution_count": null,
   "id": "1d056563",
   "metadata": {},
   "outputs": [],
   "source": [
    "abc = ABCSMC(\n",
    "    models=model4_h,\n",
    "    parameter_priors=parameter_prior,\n",
    "    distance_function=distance,\n",
    "    population_size =  AdaptivePopulationSize(1000, 0.15,max_population_size = 1000),\n",
    "    sampler = SingleCoreSampler(),\n",
    ")"
   ]
  },
  {
   "cell_type": "code",
   "execution_count": null,
   "id": "22a58046",
   "metadata": {},
   "outputs": [],
   "source": [
    "\n",
    "abc_id = abc.new(\"sqlite:////tmp/mjp.db\", obs)\n"
   ]
  },
  {
   "cell_type": "code",
   "execution_count": null,
   "id": "602f58c3",
   "metadata": {},
   "outputs": [],
   "source": [
    "\n",
    "h4_h = abc.run(minimum_epsilon=0.5, max_nr_populations=15)\n"
   ]
  },
  {
   "cell_type": "code",
   "execution_count": null,
   "id": "fc63e009",
   "metadata": {},
   "outputs": [],
   "source": []
  },
  {
   "cell_type": "markdown",
   "id": "c72a2cf5",
   "metadata": {},
   "source": [
    "# Tau Hetro"
   ]
  },
  {
   "cell_type": "code",
   "execution_count": 163,
   "id": "bddcb045",
   "metadata": {},
   "outputs": [
    {
     "name": "stderr",
     "output_type": "stream",
     "text": [
      "WARNING: replacing module SIR_TAU_M.\n"
     ]
    },
    {
     "data": {
      "text/plain": [
       "<PyCall.jlwrap Main.SIR_TAU_M>"
      ]
     },
     "execution_count": 163,
     "metadata": {},
     "output_type": "execute_result"
    }
   ],
   "source": [
    "jl.eval('push!(LOAD_PATH, \"/home/callum/ASF/Fitting/TAU_HETRO_FIT.jl\")')\n",
    "jl.include('/home/callum/ASF/Fitting/TAU_HETRO_FIT.jl') #loading files with our model!"
   ]
  },
  {
   "cell_type": "code",
   "execution_count": 165,
   "id": "a3d75c1a",
   "metadata": {},
   "outputs": [],
   "source": [
    "model1= jl.SIR_TAU_M.model_1 #Frequency\n",
    "#model2 = jl.SIR_TAU_M.model_2 #Pure Density\n",
    "#model3 = jl.SIR_TAU_M.model_3 #Sigmoid Density\n",
    "model4 = jl.SIR_TAU_M.model_4 #Sqrt Density"
   ]
  },
  {
   "cell_type": "code",
   "execution_count": 9,
   "id": "79807b21",
   "metadata": {},
   "outputs": [],
   "source": [
    "#Fitting two params P1 - transmission co-efficent, P2 - corpse infectivity modifier\n",
    "parameter_prior = Distribution(p1=RV(\"uniform\", 0.0, 1.0),p2=RV(\"uniform\", 0.0, 0.25),p3=RV(\"uniform\", 0.0, 1.0),)\n",
    "\n",
    "#sample params to test functions all work and pre-compile\n",
    "sample_par = {\"p1\": 0.1,\"p2\": 0.05, \"p3\": 0.5} \n",
    "\n",
    "n = 4 #number of models we are looking at!\n",
    "param_list = [parameter_prior]*n"
   ]
  },
  {
   "cell_type": "code",
   "execution_count": 10,
   "id": "57ab0068",
   "metadata": {},
   "outputs": [
    {
     "ename": "NameError",
     "evalue": "name 'distance' is not defined",
     "output_type": "error",
     "traceback": [
      "\u001b[0;31m---------------------------------------------------------------------------\u001b[0m",
      "\u001b[0;31mNameError\u001b[0m                                 Traceback (most recent call last)",
      "Input \u001b[0;32mIn [10]\u001b[0m, in \u001b[0;36m<cell line: 1>\u001b[0;34m()\u001b[0m\n\u001b[0;32m----> 1\u001b[0m \u001b[43mdistance\u001b[49m(model1_c (sample_par),obs)\n\u001b[1;32m      2\u001b[0m distance(model2_c (sample_par),obs)\n\u001b[1;32m      3\u001b[0m distance(model3_c (sample_par),obs)\n",
      "\u001b[0;31mNameError\u001b[0m: name 'distance' is not defined"
     ]
    }
   ],
   "source": [
    "distance(model1_c (sample_par),obs)\n",
    "distance(model2_c (sample_par),obs)\n",
    "distance(model3_c (sample_par),obs)\n",
    "distance(model4_c (sample_par),obs);"
   ]
  },
  {
   "cell_type": "code",
   "execution_count": 12,
   "id": "5b7d876a",
   "metadata": {},
   "outputs": [],
   "source": [
    "abc = ABCSMC(\n",
    "    models=model1_c,\n",
    "    parameter_priors=parameter_prior,\n",
    "    distance_function=distance,\n",
    "    population_size =  AdaptivePopulationSize(100, 0.15,max_population_size = 100),\n",
    "    sampler = SingleCoreSampler(),\n",
    ")\n",
    "\n",
    "\n"
   ]
  },
  {
   "cell_type": "code",
   "execution_count": 13,
   "id": "b439862c",
   "metadata": {},
   "outputs": [
    {
     "name": "stderr",
     "output_type": "stream",
     "text": [
      "ABC.History INFO: Start <ABCSMC id=1, start_time=2023-03-21 21:08:47>\n"
     ]
    }
   ],
   "source": [
    "abc_id = abc.new(\"sqlite:////tmp/mjjp.db\", obs)\n"
   ]
  },
  {
   "cell_type": "code",
   "execution_count": 14,
   "id": "36dde7b3",
   "metadata": {},
   "outputs": [
    {
     "name": "stderr",
     "output_type": "stream",
     "text": [
      "ABC INFO: Calibration sample t = -1.\n",
      "ABC INFO: t: 0, eps: 4.98509856e+00.\n",
      "ABC INFO: Accepted: 100 / 188 = 5.3191e-01, ESS: 1.0000e+02.\n",
      "ABC.Adaptation INFO: Change nr particles 100 -> 100\n",
      "ABC INFO: t: 1, eps: 3.53003223e+00.\n",
      "ABC INFO: Accepted: 100 / 247 = 4.0486e-01, ESS: 8.3813e+01.\n",
      "ABC.Adaptation INFO: Change nr particles 100 -> 100\n",
      "ABC INFO: t: 2, eps: 2.50887318e+00.\n",
      "ABC INFO: Accepted: 100 / 285 = 3.5088e-01, ESS: 6.7366e+01.\n",
      "ABC.Adaptation INFO: Change nr particles 100 -> 100\n",
      "ABC INFO: t: 3, eps: 1.79454663e+00.\n",
      "ABC INFO: Accepted: 100 / 350 = 2.8571e-01, ESS: 7.3575e+01.\n",
      "ABC.Adaptation INFO: Change nr particles 100 -> 100\n",
      "ABC INFO: t: 4, eps: 1.22487862e+00.\n",
      "ABC INFO: Accepted: 100 / 750 = 1.3333e-01, ESS: 8.0965e+01.\n",
      "ABC.Adaptation INFO: Change nr particles 100 -> 100\n",
      "ABC INFO: t: 5, eps: 9.27977813e-01.\n",
      "ABC INFO: Accepted: 100 / 1333 = 7.5019e-02, ESS: 8.6901e+01.\n",
      "ABC.Adaptation INFO: Change nr particles 100 -> 100\n",
      "ABC INFO: Stop: Maximum number of generations.\n",
      "ABC.History INFO: Done <ABCSMC id=1, duration=3:19:47.245594, end_time=2023-03-22 00:28:35>\n"
     ]
    }
   ],
   "source": [
    "h1n = abc.run(minimum_epsilon=0.5, max_nr_populations=6)\n"
   ]
  }
 ],
 "metadata": {
  "@webio": {
   "lastCommId": null,
   "lastKernelId": null
  },
  "kernelspec": {
   "display_name": "Python 3 (ipykernel)",
   "language": "python",
   "name": "python3"
  },
  "language_info": {
   "codemirror_mode": {
    "name": "ipython",
    "version": 3
   },
   "file_extension": ".py",
   "mimetype": "text/x-python",
   "name": "python",
   "nbconvert_exporter": "python",
   "pygments_lexer": "ipython3",
   "version": "3.10.6"
  }
 },
 "nbformat": 4,
 "nbformat_minor": 5
}
