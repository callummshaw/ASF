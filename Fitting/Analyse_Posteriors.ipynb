{
 "cells": [
  {
   "cell_type": "markdown",
   "id": "62c59299",
   "metadata": {},
   "source": [
    "# Plotting Posteriors!"
   ]
  },
  {
   "cell_type": "code",
   "execution_count": 29,
   "id": "a5490003",
   "metadata": {},
   "outputs": [],
   "source": [
    "from julia import Julia\n",
    "jl = Julia(sysimage = \"/home/callum/ASF/Fitting/sys_model.so\") #loading sys image"
   ]
  },
  {
   "cell_type": "code",
   "execution_count": 30,
   "id": "4e52024c",
   "metadata": {},
   "outputs": [],
   "source": [
    "import matplotlib.pyplot as plt\n",
    "\n",
    "import os\n",
    "import tempfile\n",
    "import numpy as np\n",
    "import scipy as sp\n",
    "\n",
    "from scipy import stats\n",
    "import random as rd\n",
    "from brokenaxes import brokenaxes\n",
    "from matplotlib.gridspec import GridSpec"
   ]
  },
  {
   "cell_type": "code",
   "execution_count": 31,
   "id": "9fd7d30b",
   "metadata": {},
   "outputs": [],
   "source": [
    "plt.rcParams.update({\n",
    "    \"text.usetex\": True,\n",
    "    \"font.family\": \"Helvetica\",\n",
    "    \"font.size\": 10\n",
    "})\n",
    "plt.style.use('seaborn-colorblind')\n",
    "prop_cycle = plt.rcParams['axes.prop_cycle']\n",
    "colors = prop_cycle.by_key()['color']"
   ]
  },
  {
   "cell_type": "code",
   "execution_count": 37,
   "id": "914d9c90",
   "metadata": {},
   "outputs": [],
   "source": [
    "def read_inputs(path,number):\n",
    "    \n",
    "    models = [1,2,3,4]\n",
    "    \n",
    "    if number not in models:\n",
    "        raise Exception(\"Model number must be 1, 2, 3 or 4\") \n",
    "        \n",
    "    weights = np.genfromtxt(path + \"/H{}_weights.csv\".format(number), delimiter=',')\n",
    "    params = np.genfromtxt(path + \"/H{}_params.csv\".format(number), delimiter=',')\n",
    "    \n",
    "    nparams = params.shape[1]\n",
    "    \n",
    "    p1_dis = stats.gaussian_kde(params[:,0],weights = weights)\n",
    "    p2_dis = stats.gaussian_kde(params[:,1],weights = weights)\n",
    "    \n",
    "    if nparams == 2:\n",
    "        return p1_dis, p2_dis\n",
    "    elif nparams == 3:\n",
    "        p3_dis = stats.gaussian_kde(params[:,2],weights = weights)\n",
    "        return p1_dis, p2_dis, p3_dis\n",
    "    "
   ]
  },
  {
   "cell_type": "code",
   "execution_count": 33,
   "id": "eb10bbb0",
   "metadata": {},
   "outputs": [],
   "source": [
    "def run_simulations(path,number,n_sims, median = False, distance = False):\n",
    "    \n",
    "    posteriors = read_inputs(path,number)\n",
    "    \n",
    "    n_params = len(posteriors) #two or three fitted parameters!\n",
    "    \n",
    "    store  = np.zeros((n_sims,3))\n",
    "    \n",
    "    dd = 0\n",
    "    n_samples = 100000\n",
    "    \n",
    "    dp1 = posteriors[0].resample(n_samples)[0]\n",
    "    dp2 = posteriors[1].resample(n_samples)[0]\n",
    "\n",
    "    rd.shuffle(dp1)\n",
    "    rd.shuffle(dp2)\n",
    "    \n",
    "    if n_params == 3:\n",
    "        dp3 = posteriors[2].resample(n_samples)[0]\n",
    "        rd.shuffle(dp3)\n",
    "        \n",
    "    if median:\n",
    "        if n_params == 2:\n",
    "            p = {\"p1\":np.median(dp1),\"p2\":np.median(dp2)}\n",
    "        elif n_params ==3:\n",
    "            p = {\"p1\":np.median(dp1),\"p2\":np.median(dp2), \"p3\":np.median(dp3)}\n",
    "            \n",
    "    for i in range(n_sims):\n",
    "        \n",
    "        if not median:\n",
    "            if n_params == 2:\n",
    "                p = {\"p1\":dp1[i],\"p2\":dp2[i]}\n",
    "            elif n_params ==3:\n",
    "                p = {\"p1\":dp1[i],\"p2\":dp2[i], \"p3\":dp3[i]}\n",
    "\n",
    "        \n",
    "        \n",
    "        if number == 1:\n",
    "            out = model1(p)\n",
    "            \n",
    "        elif number == 2:\n",
    "             out = model2(p)\n",
    "                \n",
    "        elif number == 3:\n",
    "             out = model3(p)\n",
    "                \n",
    "        else:\n",
    "             out = model4(p)\n",
    "\n",
    "        \n",
    "        store[i] = out[\"SS\"][0:3]\n",
    "        dd += out[\"SS\"][3]\n",
    "    print(\"Finished\")\n",
    "    if distance:\n",
    "        dis, mean, c95 = distance_from_mean(store)\n",
    "        \n",
    "        return store, dis, mean, c95\n",
    "    \n",
    "    else:        \n",
    "        return store, dd\n",
    "    \n",
    "    \n",
    "        \n",
    "        "
   ]
  },
  {
   "cell_type": "code",
   "execution_count": 7,
   "id": "d542a788",
   "metadata": {},
   "outputs": [],
   "source": [
    "def distance_from_mean(store):\n",
    "    \n",
    "    mean_ep = 1.5\n",
    "    std_ep = 0.604\n",
    "\n",
    "    mean_pd = 75\n",
    "    std_pd = 6.08\n",
    "\n",
    "    mean_mt = 180\n",
    "    std_mt = 36.475\n",
    "\n",
    "    \n",
    "    store_t = (store -[mean_ep, mean_pd, mean_mt]) / ([std_ep, std_pd, std_mt])\n",
    "    \n",
    "    d = np.linalg.norm(store_t,axis=1)\n",
    "    \n",
    "    mean = np.mean(d)\n",
    "    c_95 = np.percentile(d,[2.5, 97.5])\n",
    "    \n",
    "    print('Mean distance = ', mean)\n",
    "    print('95% confidence interval =', c_95)\n",
    "    \n",
    "    return d, mean, c_95"
   ]
  },
  {
   "cell_type": "code",
   "execution_count": 8,
   "id": "81b85219",
   "metadata": {},
   "outputs": [],
   "source": [
    "#Functions to see how many simulations are withing ALL the 95\\% conf of summary stats\n",
    "\n",
    "def within_95_1(data):\n",
    "    return len(data[(data[:,0] > 0.5) & (data[:,0]  < 2.5) & (data[:,1] > 65)  & (data[:,1] < 85)])\n",
    "\n",
    "def within_95_2(data):\n",
    "    return len(data[(data[:,0] > 0.5) & (data[:,0]  < 2.5) & (data[:,2] > 120)  & (data[:,2] < 240)])\n",
    "\n",
    "def within_95(data):\n",
    "    return len(data[(data[:,0] > 0.5) & (data[:,0]  < 2.5) & (data[:,2] > 120)  & (data[:,2] < 240) & (data[:,1] > 65)  & (data[:,1] < 85)])"
   ]
  },
  {
   "cell_type": "markdown",
   "id": "bf1671fd",
   "metadata": {},
   "source": [
    "# ODE\n"
   ]
  },
  {
   "cell_type": "markdown",
   "id": "0e3709b1",
   "metadata": {},
   "source": [
    "## Posteriors"
   ]
  },
  {
   "cell_type": "code",
   "execution_count": 9,
   "id": "28cb8263",
   "metadata": {},
   "outputs": [],
   "source": [
    "#Load in fitting results\n",
    "ode_1p = read_inputs(\"Posteriors/ODE/\", 1)\n",
    "ode_2p = read_inputs(\"Posteriors/ODE/\", 2)\n",
    "ode_3p = read_inputs(\"Posteriors/ODE/\", 3)\n",
    "ode_4p = read_inputs(\"Posteriors/ODE/\", 4)"
   ]
  },
  {
   "cell_type": "code",
   "execution_count": 10,
   "id": "01488a58",
   "metadata": {},
   "outputs": [],
   "source": [
    "lode_1p = read_inputs(\"Posteriors/ODE/\", 1)\n",
    "lode_2p = read_inputs(\"Posteriors/ODE/\", 2)\n",
    "lode_3p = read_inputs(\"Posteriors/ODE/\", 3)\n",
    "lode_4p = read_inputs(\"Posteriors/ODE/\", 4)\n",
    "\n",
    "#to find stats about posteriors\n",
    "n_samples = 1000000\n",
    "lsh1p1= lode_1p[0].resample(n_samples)\n",
    "lsh2p1= lode_2p[0].resample(n_samples)\n",
    "lsh3p1= lode_3p[0].resample(n_samples)\n",
    "lsh4p1= lode_4p[0].resample(n_samples)\n",
    "\n",
    "\n",
    "lsh1p2= lode_1p[1].resample(n_samples)\n",
    "lsh2p2= lode_2p[1].resample(n_samples)\n",
    "lsh3p2= lode_3p[1].resample(n_samples)\n",
    "lsh4p2= lode_4p[1].resample(n_samples)"
   ]
  },
  {
   "cell_type": "code",
   "execution_count": 11,
   "id": "c1a88473",
   "metadata": {},
   "outputs": [
    {
     "data": {
      "image/png": "[encoded data removed]",
      "text/plain": [
       "<Figure size 600x200 with 4 Axes>"
      ]
     },
     "metadata": {},
     "output_type": "display_data"
    }
   ],
   "source": [
    "fig = plt.figure(figsize=(6, 2))\n",
    "sps1, sps2 = GridSpec(1,2)\n",
    "fig.suptitle('Logistic ODE Posteriors',y=1.05)\n",
    "\n",
    "x = np.linspace(0.05, 0.15, 1000)\n",
    "\n",
    "ax1 = fig.add_subplot(sps1)\n",
    "ax1.plot(x, lode_1p[0].pdf(x), label =  r\"$\\beta \\not \\propto \\rho$\", color = colors[0])\n",
    "ax1.plot(x, lode_2p[0].pdf(x), label =  r\"$\\beta \\propto \\rho$\", color = colors[1])\n",
    "ax1.plot(x, lode_3p[0].pdf(x), label =  r\"$\\beta \\propto \\tanh \\rho$\", color = colors[2])\n",
    "ax1.plot(x, lode_4p[0].pdf(x), label =  r\"$\\beta \\propto  \\sqrt \\rho$\", color = colors[3])\n",
    "\n",
    "\n",
    "ax1.set_xlabel(r'$p_h$')\n",
    "ax1.set_ylabel(\"Density\")\n",
    "ax1.set_title(r\"$p_h$\")\n",
    "#ax1.set_xlim([0,0.2])\n",
    "\n",
    "\n",
    "\n",
    "bax = brokenaxes(xlims=((0, 0.25), (.9, 1.0)), hspace=.05, subplot_spec=sps2, despine = False)\n",
    "x = np.linspace(0, 1, 10000)\n",
    "n_samples = 1000000\n",
    "\n",
    "\n",
    "bax.plot(x, lode_1p[1].pdf(x), label =  r\"$C = 1$\", color = colors[0])\n",
    "bax.plot(x, lode_2p[1].pdf(x), label =  r\"$C \\propto \\rho_N$\", color = colors[1])\n",
    "bax.plot(x, lode_3p[1].pdf(x), label =  r\"$C \\propto \\tanh(\\rho_N)$\", color = colors[2])\n",
    "bax.plot(x, lode_4p[1].pdf(x), label =  r\"$C \\propto  \\sqrt {\\rho_N}$\", color = colors[3])\n",
    "#bax.axs[0].yaxis.set_major_formatter(EngFormatter())\n",
    "bax.legend(fontsize=8)\n",
    "bax.set_xlabel(r'$\\omega$')\n",
    "plt.savefig('logistic_ode_post.pdf', format='pdf', bbox_inches='tight')"
   ]
  },
  {
   "cell_type": "code",
   "execution_count": 12,
   "id": "02e001b8",
   "metadata": {},
   "outputs": [],
   "source": [
    "#to find stats about posteriors\n",
    "n_samples = 1000000\n",
    "sh1p1= ode_1p[0].resample(n_samples)\n",
    "sh2p1= ode_2p[0].resample(n_samples)\n",
    "sh3p1= ode_3p[0].resample(n_samples)\n",
    "sh4p1= ode_4p[0].resample(n_samples)\n",
    "\n",
    "\n",
    "sh1p2= ode_1p[1].resample(n_samples)\n",
    "sh2p2= ode_2p[1].resample(n_samples)\n",
    "sh3p2= ode_3p[1].resample(n_samples)\n",
    "sh4p2= ode_4p[1].resample(n_samples)"
   ]
  },
  {
   "cell_type": "code",
   "execution_count": 13,
   "id": "32bc8319",
   "metadata": {},
   "outputs": [
    {
     "data": {
      "image/png": "[encoded data removed]",
      "text/plain": [
       "<Figure size 600x200 with 4 Axes>"
      ]
     },
     "metadata": {},
     "output_type": "display_data"
    }
   ],
   "source": [
    "fig = plt.figure(figsize=(6, 2))\n",
    "sps1, sps2 = GridSpec(1,2)\n",
    "fig.suptitle('ODE Posteriors',y=1.05)\n",
    "\n",
    "x = np.linspace(0, 0.2, 1000)\n",
    "\n",
    "ax1 = fig.add_subplot(sps1)\n",
    "ax1.plot(x, ode_1p[0].pdf(x), label =  r\"$\\beta \\not \\propto \\rho$\", color = colors[0])\n",
    "ax1.plot(x, ode_2p[0].pdf(x), label =  r\"$\\beta \\propto \\rho$\", color = colors[1])\n",
    "ax1.plot(x, ode_3p[0].pdf(x), label =  r\"$\\beta \\propto \\tanh \\rho$\", color = colors[2])\n",
    "ax1.plot(x, ode_4p[0].pdf(x), label =  r\"$\\beta \\propto  \\sqrt \\rho$\", color = colors[3])\n",
    "\n",
    "\n",
    "ax1.set_xlabel(r'$p_h$')\n",
    "ax1.set_ylabel(\"Density\")\n",
    "ax1.set_title(r\"$p_h$\")\n",
    "ax1.set_xlim([0,0.2])\n",
    "\n",
    "\n",
    "bax = brokenaxes(xlims=((0, 0.02), (.95, 1.0)), hspace=.05, subplot_spec=sps2, despine = False)\n",
    "x = np.linspace(0, 1, 10000)\n",
    "n_samples = 1000000\n",
    "\n",
    "bax.vlines(np.median(sh1p2), 0, ode_1p[1].pdf(np.median(sh1p2))[0], ls = '--', color = colors[0])\n",
    "bax.vlines(np.median(sh2p2), 0, ode_2p[1].pdf(np.median(sh2p2))[0], ls = '--', color = colors[1])\n",
    "bax.vlines(np.median(sh3p2), 0, ode_3p[1].pdf(np.median(sh3p2))[0], ls = '--', color = colors[2])\n",
    "bax.vlines(np.median(sh4p2), 0, ode_4p[1].pdf(np.median(sh4p2))[0], ls = '--', color = colors[3])\n",
    "\n",
    "\n",
    "bax.plot(x, ode_1p[1].pdf(x), label =  r\"$C = 1$\", color = colors[0])\n",
    "bax.plot(x, ode_2p[1].pdf(x), label =  r\"$C \\propto \\rho_N$\", color = colors[1])\n",
    "bax.plot(x, ode_3p[1].pdf(x), label =  r\"$C \\propto \\tanh (\\rho_N)$\", color = colors[2])\n",
    "bax.plot(x, ode_4p[1].pdf(x), label =  r\"$C \\propto  \\sqrt{ \\rho_N}$\", color = colors[3])\n",
    "#bax.axs[0].yaxis.set_major_formatter(EngFormatter())\n",
    "bax.legend(fontsize=8)\n",
    "bax.set_xlabel(r'$\\omega$')\n",
    "\n",
    "bax.set_title(r\"$\\omega$\")\n",
    "plt.savefig('ode_post.pdf', format='pdf', bbox_inches='tight')"
   ]
  },
  {
   "cell_type": "markdown",
   "id": "44a54689",
   "metadata": {},
   "source": [
    "## Running from Posteriors"
   ]
  },
  {
   "cell_type": "code",
   "execution_count": 57,
   "id": "8c3c9231",
   "metadata": {},
   "outputs": [
    {
     "name": "stderr",
     "output_type": "stream",
     "text": [
      "WARNING: replacing module SIR_ODE.\n"
     ]
    }
   ],
   "source": [
    "#Loading models\n",
    "\n",
    "jl.eval('push!(LOAD_PATH, \"/home/callum/ASF/Fitting/ODE_FIT.jl\")')\n",
    "jl.include('/home/callum/ASF/Fitting/ODE_FIT.jl') #loading files with our model!\n",
    "\n",
    "\n",
    "#Loading the four models!\n",
    "model1 = jl.SIR_ODE.model_1 #Frequency\n",
    "model2 = jl.SIR_ODE.model_2 #Pure Density\n",
    "model3 = jl.SIR_ODE.model_3 #Sigmoid Density\n",
    "model4 = jl.SIR_ODE.model_4 #Sqrt Density\n"
   ]
  },
  {
   "cell_type": "code",
   "execution_count": 76,
   "id": "48cd9dc1",
   "metadata": {},
   "outputs": [
    {
     "name": "stderr",
     "output_type": "stream",
     "text": [
      "/home/callum/.local/lib/python3.10/site-packages/julia/core.py:709: FutureWarning: Accessing `Julia().<name>` to obtain Julia objects is deprecated.  Use `from julia import Main; Main.<name>` or `jl = Julia(); jl.eval('<name>')`.\n",
      "  warnings.warn(\n",
      "WARNING: replacing module SIR_TAU_S.\n"
     ]
    }
   ],
   "source": [
    "jl.eval('push!(LOAD_PATH, \"/home/callum/ASF/Fitting/TAU_HOMO_FIT.jl\")')\n",
    "jl.include('/home/callum/ASF/Fitting/TAU_HOMO_FIT.jl') #loading files with our model!\n",
    "model1 = jl.SIR_TAU_S.model_1 #Frequency\n",
    "model2 = jl.SIR_TAU_S.model_2 #Pure Density\n",
    "model3 = jl.SIR_TAU_S.model_3 #Sigmoid Density\n",
    "model4 = jl.SIR_TAU_S.model_4 #Sqrt Density\n",
    "\n"
   ]
  },
  {
   "cell_type": "code",
   "execution_count": 77,
   "id": "98a3bc0e",
   "metadata": {},
   "outputs": [],
   "source": [
    "hi1,hc1 = run_simulations2(\"Posteriors/Tau-Homogeneous/\", 1, 1000)\n",
    "\n",
    "hi4,hc4= run_simulations2(\"Posteriors/Tau-Homogeneous/\", 4, 1000)"
   ]
  },
  {
   "cell_type": "code",
   "execution_count": 75,
   "id": "05cbc7c5",
   "metadata": {},
   "outputs": [],
   "source": [
    "fi1,fc1 = run_simulations2(\"Posteriors/ODE/\", 1, 1000)\n",
    "#so2,eo2,io2,ro2,co2 = run_simulations2(\"Posteriors/ODE/\", 2, 1000)\n",
    "#so3,eo3,io3,ro3,co3 = run_simulations2(\"Posteriors/ODE/\", 3, 1000)\n",
    "fi4,fc4 = run_simulations2(\"Posteriors/ODE/\", 4, 1000)"
   ]
  },
  {
   "cell_type": "code",
   "execution_count": 63,
   "id": "e32072a8",
   "metadata": {},
   "outputs": [
    {
     "data": {
      "text/plain": [
       "(8.418356509796829e-05, 8.688362500899512e-05)"
      ]
     },
     "execution_count": 63,
     "metadata": {},
     "output_type": "execute_result"
    }
   ],
   "source": [
    "stats.t.interval(alpha=0.95, df=len(data)-1, loc=np.mean(data), scale=stats.sem(data)) \n"
   ]
  },
  {
   "cell_type": "code",
   "execution_count": 47,
   "id": "1dcf81fb",
   "metadata": {},
   "outputs": [],
   "source": [
    "def filter_out(s,e,i,r,c):\n",
    "    \n",
    "    inf = e + i + c \n",
    "    \n",
    "    return s[inf[:,-1]>1],  e[inf[:,-1]>1],  i[inf[:,-1]>1],  r[inf[:,-1]>1],  c[inf[:,-1]>1]\n",
    "\n",
    "\n"
   ]
  },
  {
   "cell_type": "code",
   "execution_count": null,
   "id": "6aa0f086",
   "metadata": {},
   "outputs": [],
   "source": []
  },
  {
   "cell_type": "code",
   "execution_count": 28,
   "id": "c1999b8e",
   "metadata": {},
   "outputs": [
    {
     "name": "stdout",
     "output_type": "stream",
     "text": [
      "Finished\n",
      "Finished\n",
      "Finished\n",
      "Finished\n"
     ]
    }
   ],
   "source": [
    "#running models\n",
    "ode_1, ode_1d = run_simulations(\"Posteriors/ODE/\", 1, 10000)\n",
    "ode_2, ode_2d = run_simulations(\"Posteriors/ODE/\", 2, 10000)\n",
    "ode_3, ode_3d = run_simulations(\"Posteriors/ODE/\", 3, 10000)\n",
    "ode_4, ode_4d = run_simulations(\"Posteriors/ODE/\", 4, 10000)\n",
    "\n"
   ]
  },
  {
   "cell_type": "code",
   "execution_count": 16,
   "id": "866cb093",
   "metadata": {},
   "outputs": [],
   "source": [
    "def mean_confidence_interval(data, confidence=0.95):\n",
    "    a = 1.0 * np.array(data)\n",
    "    n = len(a)\n",
    "    m, se = np.mean(a), scipy.stats.sem(a)\n",
    "    h = se * scipy.stats.t.ppf((1 + confidence) / 2., n-1)\n",
    "    return m, m-h, m+h\n"
   ]
  },
  {
   "cell_type": "code",
   "execution_count": null,
   "id": "8b1629e1",
   "metadata": {},
   "outputs": [],
   "source": []
  },
  {
   "cell_type": "code",
   "execution_count": 29,
   "id": "97c11c16",
   "metadata": {},
   "outputs": [
    {
     "data": {
      "image/png": "[encoded data removed]",
      "text/plain": [
       "<Figure size 600x200 with 2 Axes>"
      ]
     },
     "metadata": {},
     "output_type": "display_data"
    }
   ],
   "source": [
    "fig, (ax1, ax2) = plt.subplots(1, 2, figsize = (6,2))\n",
    "fig.suptitle('Logistic ODE Simulations')\n",
    "\n",
    "ax1.scatter(ode_1[:,1], ode_1[:,0], s = 0.2, alpha=0.1, label =  r\"$\\beta \\propto 1$ ({}\\%)\".format(np.round(100*within_95_1(ode_1)/len(ode_1),3)))\n",
    "ax1.scatter(ode_2[:,1], ode_2[:,0], s = 0.2, alpha=0.1, label =  r\"$\\beta \\propto \\rho$ ({}\\%)\".format(np.round(100*within_95_1(ode_2)/len(ode_1),3)))\n",
    "ax1.scatter(ode_3[:,1], ode_3[:,0], s = 0.2, alpha=0.1, label =  r\"$\\beta \\propto \\tanh(\\rho)$ ({}\\%)\".format(np.round(100*within_95_1(ode_3)/len(ode_1),3)))\n",
    "ax1.scatter(ode_4[:,1], ode_4[:,0], s = 0.2, alpha=0.1, label =  r\"$\\beta \\propto \\sqrt\\rho$ ({}\\%)\".format(np.round(100*within_95_1(ode_4)/len(ode_1),3)))\n",
    "    \n",
    "u=1.5     #x-position of the center\n",
    "v=75    #y-position of the center\n",
    "a=1    #radius on the x-axis\n",
    "b=10    #radius on the y-axis\n",
    "\n",
    "ax1.plot(v,u,\"ko\")\n",
    "t = np.linspace(0, 2*np.pi, 100)\n",
    "ax1.plot( v+b*np.sin(t), u+a*np.cos(t) ,\"k\" )\n",
    "\n",
    "\n",
    "ax2.scatter(ode_1[:,2], ode_1[:,0], s = 0.2, alpha=0.1, label =  r\"$C = 1$ ({}\\%)\".format(np.round(100*within_95(ode_1)/len(ode_1),3)))\n",
    "ax2.scatter(ode_2[:,2], ode_2[:,0], s = 0.2, alpha=0.1, label =  r\"$C \\propto \\rho_N$ ({}\\%)\".format(np.round(100*within_95(ode_2)/len(ode_1),3)))\n",
    "ax2.scatter(ode_3[:,2], ode_3[:,0], s = 0.2, alpha=0.1, label =  r\"$C \\propto \\tanh(\\rho_N) $ ({}\\%)\".format(np.round(100*within_95(ode_3)/len(ode_1),3)))\n",
    "ax2.scatter(ode_4[:,2], ode_4[:,0], s = 0.2, alpha=0.1, label =  r\"$C \\propto \\sqrt{ \\rho_N }$\"+\" ({}\\%)\".format(np.round(100*within_95(ode_4)/len(ode_1),3)))\n",
    "\n",
    "ax1.set_xlim([53.33,86.66])\n",
    "ax1.set_ylim([0,3])\n",
    "\n",
    "ax2.set_xlim([50,365])\n",
    "ax2.set_ylim([0,3])\n",
    "\n",
    "v = 180\n",
    "b = 60\n",
    "\n",
    "ax2.plot(v,u,\"ko\")\n",
    "ax2.plot( v+b*np.sin(t), u+a*np.cos(t) ,\"k\" )\n",
    "\n",
    "ax1.set_ylabel(\"Endemic prevelence (\\%)\")\n",
    "ax1.set_xlabel(\"Population decline (\\%)\")\n",
    "ax2.set_xlabel(\"Time till peak (days)\")\n",
    "\n",
    "lgnd = ax2.legend(loc=4, numpoints=1, fontsize=7,  framealpha=0.85)\n",
    "\n",
    "for handle in lgnd.legendHandles:\n",
    "    handle.set_sizes([10.0])\n",
    "    handle.set_alpha(1)\n",
    "    \n",
    "\n",
    "\n",
    "#plt.savefig('logistic_ode_sims.pdf', format='pdf', bbox_inches='tight')"
   ]
  },
  {
   "cell_type": "markdown",
   "id": "1ee869cb",
   "metadata": {},
   "source": [
    "# TAU Homogeneous"
   ]
  },
  {
   "cell_type": "markdown",
   "id": "feea051a",
   "metadata": {},
   "source": [
    "## Posteriors"
   ]
  },
  {
   "cell_type": "code",
   "execution_count": null,
   "id": "ae9ea4cd",
   "metadata": {},
   "outputs": [],
   "source": [
    "tau_1_p = read_inputs(\"Posteriors/Tau-Homogeneous/\", 1)\n",
    "tau_2_p = read_inputs(\"Posteriors/Tau-Homogeneous/\", 2)\n",
    "tau_3_p = read_inputs(\"Posteriors/Tau-Homogeneous/\", 3)\n",
    "tau_4_p = read_inputs(\"Posteriors/Tau-Homogeneous/\", 4)"
   ]
  },
  {
   "cell_type": "code",
   "execution_count": null,
   "id": "fcf9802f",
   "metadata": {},
   "outputs": [],
   "source": [
    "ep1 = np.linspace(0.025, 0.2, 1000)\n",
    "ep2 = np.linspace(0, 1, 1000)\n",
    "\n",
    "n_samples = 10000\n",
    "shh1p1= tau_1_p[0].resample(n_samples)\n",
    "shh2p1= tau_2_p[0].resample(n_samples)\n",
    "shh3p1= tau_3_p[0].resample(n_samples)\n",
    "shh4p1= tau_4_p[0].resample(n_samples)\n",
    "\n",
    "shh1p2= tau_1_p[1].resample(n_samples)\n",
    "shh2p2= tau_2_p[1].resample(n_samples)\n",
    "shh3p2= tau_3_p[1].resample(n_samples)\n",
    "shh4p2= tau_4_p[1].resample(n_samples)"
   ]
  },
  {
   "cell_type": "code",
   "execution_count": null,
   "id": "56c56d87",
   "metadata": {},
   "outputs": [],
   "source": [
    "from scipy.stats import mode"
   ]
  },
  {
   "cell_type": "code",
   "execution_count": null,
   "id": "b7983c99",
   "metadata": {},
   "outputs": [],
   "source": [
    "def print_stats(data):\n",
    "    n_samples = 1000000\n",
    "    ep = np.linspace(0,1,n_samples)\n",
    "    \n",
    "    for i in data:\n",
    "        \n",
    "        rs = i.resample(n_samples)\n",
    "        rm = i.pdf(ep)\n",
    "        \n",
    "        print(\"MAP:, \", np.round(ep[np.argmax(rm)],3))\n",
    "        print(\"Mean:, \",  np.round(np.mean(rs),3))\n",
    "        print(\"Median: \",  np.round(np.median(rs),3))\n",
    "        print()"
   ]
  },
  {
   "cell_type": "code",
   "execution_count": null,
   "id": "a51c77cd",
   "metadata": {},
   "outputs": [],
   "source": [
    "fig, (ax1, ax2) = plt.subplots(1, 2, figsize = (6,2))\n",
    "fig.suptitle('Tau-Leaping Homogeneous Posteriors',y=1.07)\n",
    "\n",
    "ax1.vlines(np.median(shh1p1), 0, tau_1_p[0].pdf(np.median(shh1p1))[0], ls = '--', color = colors[0])\n",
    "ax1.vlines(np.median(shh2p1), 0, tau_2_p[0].pdf(np.median(shh2p1))[0], ls = '--', color = colors[1])\n",
    "ax1.vlines(np.median(shh3p1), 0, tau_3_p[0].pdf(np.median(shh3p1))[0], ls = '--', color = colors[2])\n",
    "ax1.vlines(np.median(shh4p1), 0, tau_4_p[0].pdf(np.median(shh4p1))[0], ls = '--', color = colors[3])\n",
    "\n",
    "ax1.plot(ep1, tau_1_p[0].pdf(ep1), label =  r\"$\\beta \\not \\propto \\rho$\", color = colors[0])\n",
    "ax1.plot(ep1, tau_2_p[0].pdf(ep1), label =  r\"$\\beta \\propto  \\sqrt \\rho$\", color = colors[1])\n",
    "ax1.plot(ep1, tau_3_p[0].pdf(ep1), label =  r\"$\\beta \\propto  \\sqrt \\rho$\", color = colors[2])\n",
    "ax1.plot(ep1, tau_4_p[0].pdf(ep1), label =  r\"$\\beta \\propto  \\sqrt \\rho$\", color = colors[3])\n",
    "\n",
    "ax1.set_title(r\"$\\beta_h$\")\n",
    "ax1.set_xlabel(r\"$\\beta_h$\")\n",
    "ax1.set_ylabel(\"Density\")\n",
    "\n",
    "\n",
    "ax2.vlines(np.median(shh1p2), 0, tau_1_p[1].pdf(np.median(shh1p2))[0], ls = '--', color = colors[0])\n",
    "ax2.vlines(np.median(shh2p2), 0, tau_2_p[1].pdf(np.median(shh2p2))[0], ls = '--', color = colors[1])\n",
    "ax2.vlines(np.median(shh3p2), 0, tau_3_p[1].pdf(np.median(shh3p2))[0], ls = '--', color = colors[2])\n",
    "ax2.vlines(np.median(shh4p2), 0, tau_4_p[1].pdf(np.median(shh4p2))[0], ls = '--', color = colors[3])\n",
    "\n",
    "ax2.plot(ep2, tau_1_p[1].pdf(ep2), label =  r\"$\\beta \\propto 1$\", color = colors[0])\n",
    "ax2.plot(ep2, tau_2_p[1].pdf(ep2), label =  r\"$\\beta \\propto \\rho$\", color = colors[1])\n",
    "ax2.plot(ep2, tau_3_p[1].pdf(ep2), label =  r\"$\\beta \\propto \\tanh (\\rho)$\", color = colors[2])\n",
    "ax2.plot(ep2, tau_4_p[1].pdf(ep2), label =  r\"$\\beta \\propto  \\sqrt \\rho$\", color = colors[3])\n",
    "\n",
    "ax2.set_title(r\"$\\omega$\")\n",
    "ax2.set_xlabel(r\"$\\omega$\")\n",
    "\n",
    "ax2.legend(fontsize=8)\n",
    "plt.savefig('tau_homogeneous_post.pdf', format='pdf', bbox_inches='tight')"
   ]
  },
  {
   "cell_type": "markdown",
   "id": "74e42866",
   "metadata": {},
   "source": [
    "## Running from Posteriors"
   ]
  },
  {
   "cell_type": "code",
   "execution_count": null,
   "id": "a699526a",
   "metadata": {},
   "outputs": [],
   "source": [
    "jl.eval('push!(LOAD_PATH, \"/home/callum/ASF/Fitting/TAU_HOMO_FIT.jl\")')\n",
    "jl.include('/home/callum/ASF/Fitting/TAU_HOMO_FIT.jl') #loading files with our model!\n",
    "model1 = jl.SIR_TAU_S.model_1 #Frequency\n",
    "model2 = jl.SIR_TAU_S.model_2 #Pure Density\n",
    "model3 = jl.SIR_TAU_S.model_3 #Sigmoid Density\n",
    "model4 = jl.SIR_TAU_S.model_4 #Sqrt Density\n",
    "\n"
   ]
  },
  {
   "cell_type": "code",
   "execution_count": null,
   "id": "14efbae4",
   "metadata": {},
   "outputs": [],
   "source": [
    "tauho_1, d1 = run_simulations(\"Posteriors/Tau-Homogeneous/\", 1, 10000)\n",
    "tauho_2, d2 = run_simulations(\"Posteriors/Tau-Homogeneous/\", 2, 10000)\n",
    "tauho_3, d3 = run_simulations(\"Posteriors/Tau-Homogeneous/\", 3, 10000)\n",
    "tauho_4, d4 = run_simulations(\"Posteriors/Tau-Homogeneous/\", 4, 10000)"
   ]
  },
  {
   "cell_type": "code",
   "execution_count": null,
   "id": "dc1e490e",
   "metadata": {},
   "outputs": [],
   "source": []
  },
  {
   "cell_type": "code",
   "execution_count": null,
   "id": "e85cddaa",
   "metadata": {},
   "outputs": [],
   "source": [
    "fig, (ax1, ax2) = plt.subplots(1, 2, figsize = (6,2))\n",
    "fig.suptitle('Tau-Leaping Homogeneous Simulations')\n",
    "\n",
    "\n",
    "ax1.scatter(tauho_1f[:,1], tauho_1f[:,0], s = 0.2, alpha=0.1, label =  r\"$\\beta \\propto 1$ ({}\\% endemic)\".format(round(100*d1/len(tauho_1),1)), color = colors[0])\n",
    "ax1.scatter(tauho_2f[:,1], tauho_2f[:,0], s = 0.2, alpha=0.1, label =  r\"$\\beta \\propto 1$ ({}\\% endemic)\".format(round(100*d1/len(tauho_1),1)), color = colors[1])\n",
    "ax1.scatter(tauho_3f[:,1], tauho_3f[:,0], s = 0.2, alpha=0.1, label =  r\"$\\beta \\propto \\sqrt \\rho$ ({}\\% endemic)\".format(round(100*d4/len(tauho_4),1)),color=colors[2]) \n",
    "ax1.scatter(tauho_4f[:,1], tauho_4f[:,0], s = 0.2, alpha=0.1, label =  r\"$\\beta \\propto \\sqrt \\rho$ ({}\\% endemic)\".format(round(100*d4/len(tauho_4),1)),color = colors[3])\n",
    "    \n",
    "u=1.5     #x-position of the center\n",
    "v=75    #y-position of the center\n",
    "a=1    #radius on the x-axis\n",
    "b=10    #radius on the y-axis\n",
    "\n",
    "ax1.plot(v,u,\"ko\")\n",
    "t = np.linspace(0, 2*np.pi, 100)\n",
    "ax1.plot( v+b*np.sin(t), u+a*np.cos(t) ,\"k\" )\n",
    "\n",
    "\n",
    "ax2.scatter(tauho_1f[:,2], tauho_1f[:,0], s = 0.2, alpha=0.1, label =  r\"$C \\propto 1$ ({}\\%)\".format(np.round(100*within_95(tauho_1)/len(tauho_1),3)), color = colors[0])\n",
    "ax2.scatter(tauho_2f[:,2], tauho_2f[:,0], s = 0.2, alpha=0.1, label =  r\"$C \\propto \\rho_N$ ({}\\%)\".format(np.round(100*within_95(tauho_2)/len(tauho_1),3)), color = colors[1])\n",
    "ax2.scatter(tauho_3f[:,2], tauho_3f[:,0], s = 0.2, alpha=0.1, label =  r\"$C \\propto \\tanh( \\rho_N$) ({}\\%)\".format(np.round(100*within_95(tauho_3)/len(tauho_1),3)),color = colors[2])\n",
    "ax2.scatter(tauho_4f[:,2], tauho_4f[:,0], s = 0.2, alpha=0.1, label =  r\"$C \\propto \\sqrt{\\rho_N}$\"+\" ({}\\%)\".format(np.round(100*within_95(tauho_4)/len(tauho_1),3)),color = colors[3])\n",
    "v = 180\n",
    "b = 60\n",
    "\n",
    "ax2.plot(v,u,\"ko\")\n",
    "ax2.plot( v+b*np.sin(t), u+a*np.cos(t) ,\"k\" )\n",
    "\n",
    "ax1.set_ylabel(\"Endemic prevelence (\\%)\")\n",
    "ax1.set_xlabel(\"Population decline (\\%)\")\n",
    "ax2.set_xlabel(\"Time till peak (days)\")\n",
    "\n",
    "lgnd = ax2.legend(loc=1, numpoints=1, fontsize=8)\n",
    "\n",
    "for handle in lgnd.legendHandles:\n",
    "    handle.set_sizes([10.0])\n",
    "    handle.set_alpha(1)\n",
    "ax2.set_xlim([0,3*365])    \n"
   ]
  },
  {
   "cell_type": "markdown",
   "id": "f958bef3",
   "metadata": {},
   "source": [
    "# Tau Hetrogeneous"
   ]
  },
  {
   "cell_type": "markdown",
   "id": "e4b02ca8",
   "metadata": {},
   "source": [
    "## Posteriors"
   ]
  },
  {
   "cell_type": "code",
   "execution_count": null,
   "id": "59f91e8a",
   "metadata": {},
   "outputs": [],
   "source": [
    "tau_sf_1_p = read_inputs(\"Posteriors/Tau-Hetrogeneous/Scale_Free/\",1)\n",
    "tau_sf_4_p = read_inputs(\"Posteriors/Tau-Hetrogeneous/Scale_Free/\",4)\n",
    "\n",
    "tau_r_1_p = read_inputs(\"Posteriors/Tau-Hetrogeneous/Random/\",1)\n",
    "tau_r_4_p = read_inputs(\"Posteriors/Tau-Hetrogeneous/Random/\",4)\n",
    "\n",
    "tau_sw_1_p = read_inputs(\"Posteriors/Tau-Hetrogeneous/Small_Worlds/\",1)\n",
    "tau_sw_4_p = read_inputs(\"Posteriors/Tau-Hetrogeneous/Small_Worlds/\",4)"
   ]
  },
  {
   "cell_type": "code",
   "execution_count": null,
   "id": "cf139ae3",
   "metadata": {},
   "outputs": [],
   "source": [
    "ep1 = np.linspace(0, 1, 1000)\n",
    "ep2 = np.linspace(0, 0.3, 1000)\n",
    "ep3 = np.linspace(0, 1, 1000)\n",
    "\n",
    "n_samples = 1000000\n",
    "\n",
    "sf1p1= tau_sf_1_p[0].resample(n_samples)\n",
    "sf4p1= tau_sf_4_p[0].resample(n_samples)\n",
    "\n",
    "sf1p2= tau_sf_1_p[1].resample(n_samples)\n",
    "sf4p2= tau_sf_4_p[1].resample(n_samples)\n",
    "\n",
    "sf1p3= tau_sf_1_p[2].resample(n_samples)\n",
    "sf4p3= tau_sf_4_p[2].resample(n_samples)\n",
    "\n",
    "sw1p1= tau_sw_1_p[0].resample(n_samples)\n",
    "sw4p1= tau_sw_4_p[0].resample(n_samples)\n",
    "\n",
    "sw1p2= tau_sw_1_p[1].resample(n_samples)\n",
    "sw4p2= tau_sw_4_p[1].resample(n_samples)\n",
    "\n",
    "sw1p3= tau_sw_1_p[2].resample(n_samples)\n",
    "sw4p3= tau_sw_4_p[2].resample(n_samples)\n",
    "\n",
    "r1p1= tau_r_1_p[0].resample(n_samples)\n",
    "r4p1= tau_r_4_p[0].resample(n_samples)\n",
    "\n",
    "r1p2= tau_r_1_p[1].resample(n_samples)\n",
    "r4p2= tau_r_4_p[1].resample(n_samples)\n",
    "\n",
    "r1p3= tau_r_1_p[2].resample(n_samples)\n",
    "r4p3= tau_r_4_p[2].resample(n_samples)\n"
   ]
  },
  {
   "cell_type": "code",
   "execution_count": 26,
   "id": "9bf145e4",
   "metadata": {},
   "outputs": [
    {
     "name": "stderr",
     "output_type": "stream",
     "text": [
      "WARNING: replacing module SIR_TAU_M.\n"
     ]
    }
   ],
   "source": [
    "jl.eval('push!(LOAD_PATH, \"/home/callum/ASF/Fitting/TAU_HETRO_FIT.jl\")')\n",
    "jl.include('/home/callum/ASF/Fitting/TAU_HETRO_FIT.jl') #loading files with our model!\n",
    "model1 = jl.SIR_TAU_M.model_1 #Frequency\n",
    "model4 = jl.SIR_TAU_M.model_4 #Sqrt Density"
   ]
  },
  {
   "cell_type": "code",
   "execution_count": null,
   "id": "5a3b4b8d",
   "metadata": {},
   "outputs": [],
   "source": [
    "def print_stats(data):\n",
    "    n_samples = 1000000\n",
    "    ep = np.linspace(0,1,n_samples)\n",
    "    \n",
    "    i = data[1]\n",
    "        \n",
    "    rs = i.resample(n_samples)\n",
    "    rm = i.pdf(ep)\n",
    "        \n",
    "    print(\"MAP:, \", np.round(ep[np.argmax(rm)]/6,4))\n",
    "    print(\"Mean:, \",  np.round(np.mean(rs)/6,4))\n",
    "    print(\"Median: \",  np.round(np.median(rs)/6,4))\n",
    "    print()"
   ]
  },
  {
   "cell_type": "code",
   "execution_count": null,
   "id": "ea4e7896",
   "metadata": {},
   "outputs": [],
   "source": [
    "fig = plt.figure(figsize=(6,8))\n",
    "\n",
    "gs = GridSpec(3, 2, figure=fig, hspace=.5)\n",
    "plt.suptitle(\"Tau-Leaping Heterogeneous Posteriors\", y=0.94)\n",
    "ax1 = fig.add_subplot(gs[0, 0])\n",
    "ax2 = fig.add_subplot(gs[0, 1])\n",
    "ax3 = fig.add_subplot(gs[1, 0])\n",
    "ax4 = fig.add_subplot(gs[1, 1])\n",
    "ax5 = fig.add_subplot(gs[2, 0])\n",
    "ax6 = fig.add_subplot(gs[2, 1])\n",
    "\n",
    "\n",
    "ax1.plot(ep1, tau_r_1_p[0].pdf(ep1), label =  r\"Random\", color = colors[0])\n",
    "ax1.plot(ep1, tau_sf_1_p[0].pdf(ep1), label =  r\"Scale Free\", color = colors[0], ls = '--')\n",
    "ax1.plot(ep1, tau_sw_1_p[0].pdf(ep1), label =  r\"Small Worlds\", color = colors[0], ls = \":\")\n",
    "\n",
    "ax2.plot(ep1, tau_r_4_p[0].pdf(ep1), label =  r\"Random\", color = colors[3])\n",
    "ax2.plot(ep1, tau_sf_4_p[0].pdf(ep1), label =  r\"Scale Free\", color = colors[3], ls = '--')\n",
    "ax2.plot(ep1, tau_sw_4_p[0].pdf(ep1), label =  r\"Small Worlds\", color = colors[3], ls=\":\")\n",
    "\n",
    "ax3.plot(ep2/6, tau_r_1_p[1].pdf(ep2), label =  r\"Random\", color = colors[0])\n",
    "ax3.plot(ep2/6, tau_sf_1_p[1].pdf(ep2), label =  r\"Scale Free\", color = colors[0], ls = '--')\n",
    "ax3.plot(ep2/6, tau_sw_1_p[1].pdf(ep2), label =  r\"Small World\", color = colors[0], ls = \":\")\n",
    "\n",
    "ax3.legend(fontsize=8)\n",
    "\n",
    "ax4.plot(ep2/6, tau_r_4_p[1].pdf(ep2), label =  r\"Random\", color = colors[3])\n",
    "ax4.plot(ep2/6, tau_sf_4_p[1].pdf(ep2), label =  r\"Scale Free\", color = colors[3], ls = '--')\n",
    "ax4.plot(ep2/6, tau_sw_4_p[1].pdf(ep2), label =  r\"Small World\", color = colors[3], ls=\":\")\n",
    "\n",
    "ax4.legend(fontsize=8)\n",
    "\n",
    "\n",
    "ax5.plot(ep3, tau_r_1_p[2].pdf(ep3), label =  r\"Random\", color = colors[0])\n",
    "ax5.plot(ep3, tau_sf_1_p[2].pdf(ep3), label =  r\"Scale Free\", color = colors[0], ls = '--')\n",
    "ax5.plot(ep3, tau_sw_1_p[2].pdf(ep3), label =  r\"Small World\", color = colors[0], ls = \":\")\n",
    "\n",
    "ax6.plot(ep3, tau_r_4_p[2].pdf(ep3), label =  r\"Random\", color = colors[3])\n",
    "ax6.plot(ep3, tau_sf_4_p[2].pdf(ep3), label =  r\"Scale Free\", color = colors[3], ls = '--')\n",
    "ax6.plot(ep3, tau_sw_4_p[2].pdf(ep3), label =  r\"Small World\", color = colors[3], ls=\":\")\n",
    "\n",
    "ax1.set_ylabel(\"Density\")\n",
    "ax3.set_ylabel(\"Density\")\n",
    "ax5.set_ylabel(\"Density\")\n",
    "\n",
    "ax1.set_xlabel(r\"$p_{i}$\")\n",
    "ax2.set_xlabel(r\"$p_{i}$\")\n",
    "\n",
    "ax3.set_xlabel(r\"$p_{o}$\")\n",
    "ax4.set_xlabel(r\"$p_{o}$\")\n",
    "\n",
    "\n",
    "ax5.set_xlabel(r\"$\\omega$\")\n",
    "ax6.set_xlabel(r\"$\\omega$\")\n",
    "\n",
    "ax1.set_title(r\"$\\bf{C = 1}$: $p_{i}$\")\n",
    "ax3.set_title(r\"$\\bf{C = 1}$: $p_{o}$\")\n",
    "ax5.set_title(r\"$\\bf{C = 1}\\propto 1$: $\\omega$\")\n",
    "\n",
    "ax2.set_title(r\"$\\bf{C \\propto \\sqrt{ \\rho_N}}$: $p_{i}$\")\n",
    "ax4.set_title(r\"$\\bf{C \\propto \\sqrt{ \\rho_N}}$: $p_{o}$\")\n",
    "ax6.set_title(r\"$\\bf{C \\propto \\sqrt{ \\rho_N}}$: $\\omega$\")\n",
    "\n",
    "\n",
    "\n",
    "#plt.savefig('tau_hetrogeneous_post.pdf', format='pdf', bbox_inches='tight')"
   ]
  },
  {
   "cell_type": "markdown",
   "id": "0c6e0610",
   "metadata": {},
   "source": [
    "## Running from posteriors\n",
    "\n",
    "As running from postiors with this model is far slower than the previous, will load previsouly done runs!"
   ]
  },
  {
   "cell_type": "code",
   "execution_count": null,
   "id": "6346596e",
   "metadata": {},
   "outputs": [],
   "source": [
    "#jl.eval('push!(LOAD_PATH, \"/home/callum/ASF/Fitting/TAU_HETRO_FIT.jl\")')\n",
    "#jl.include('/home/callum/ASF/Fitting/TAU_HETRO_FIT.jl') #loading files with our model!\n",
    "#model1= jl.SIR_TAU_M.model_1 #Frequency\n",
    "#model4 = jl.SIR_TAU_M.model_4 #Sqrt Density\n",
    "\n",
    "#tausf_1, sfd1 = run_simulations(\"Posteriors/Tau-Hetrogeneous/Scale_Free/\", 1, 250)\n",
    "#tausf_4, sfd4 = run_simulations(\"Posteriors/Tau-Hetrogeneous/Scale_Free/\", 4, 250)"
   ]
  },
  {
   "cell_type": "code",
   "execution_count": null,
   "id": "b91c0d6b",
   "metadata": {},
   "outputs": [],
   "source": [
    "rn1 = np.load(\"/home/callum/ASF/Model_Output/Hetrogeneous/out_random_model1.npy\")\n",
    "rn4 = np.load(\"/home/callum/ASF/Model_Output/Hetrogeneous/out_random_model4.npy\")\n",
    "\n",
    "sw1 = np.load(\"/home/callum/ASF/Model_Output/Hetrogeneous/out_small_world_model1.npy\")\n",
    "sw4 = np.load(\"/home/callum/ASF/Model_Output/Hetrogeneous/out_small_world_model4.npy\")\n",
    "\n",
    "sf1 = np.load(\"/home/callum/ASF/Model_Output/Hetrogeneous/out_scale_free_model1.npy\")\n",
    "sf4 = np.load(\"/home/callum/ASF/Model_Output/Hetrogeneous/out_scale_free_model4.npy\")"
   ]
  },
  {
   "cell_type": "code",
   "execution_count": null,
   "id": "f592cba7",
   "metadata": {},
   "outputs": [],
   "source": [
    "rn1f = rn1[rn1[:,0] > 0 ]\n",
    "rn4f = rn4[rn4[:,0] > 0 ]\n",
    "\n",
    "sw1f = sw1[sw1[:,0] > 0 ]\n",
    "sw4f = sw4[sw4[:,0] > 0 ]\n",
    "\n",
    "sf1f = sf1[sf1[:,0] > 0 ]\n",
    "sf4f = sf4[sf4[:,0] > 0 ]"
   ]
  },
  {
   "cell_type": "code",
   "execution_count": null,
   "id": "029901d9",
   "metadata": {},
   "outputs": [],
   "source": [
    "fig = plt.figure(figsize=(6,8))\n",
    "\n",
    "gs = GridSpec(3, 2, figure=fig, hspace=.5)\n",
    "plt.suptitle(\"Tau-Leaping Heterogeneous Simulations\", y=0.94)\n",
    "ax1 = fig.add_subplot(gs[0, 0])\n",
    "ax2 = fig.add_subplot(gs[0, 1])\n",
    "ax3 = fig.add_subplot(gs[1, 0])\n",
    "ax4 = fig.add_subplot(gs[1, 1])\n",
    "ax5 = fig.add_subplot(gs[2, 0])\n",
    "ax6 = fig.add_subplot(gs[2, 1])\n",
    "\n",
    "ax1.scatter(rn1f[:,1], rn1f[:,0], s = 1, alpha=0.25, color = colors[0])\n",
    "ax1.scatter(rn4f[:,1], rn4f[:,0], s = 1, alpha=0.25, color = colors[3])\n",
    "    \n",
    "u=1.5     #x-position of the center\n",
    "v=75    #y-position of the center\n",
    "a=1    #radius on the x-axis\n",
    "b=10    #radius on the y-axis\n",
    "\n",
    "ax1.plot(v,u,\"ko\")\n",
    "t = np.linspace(0, 2*np.pi, 100)\n",
    "ax1.plot( v+b*np.sin(t), u+a*np.cos(t) ,\"k\" )\n",
    "\n",
    "\n",
    "ax2.scatter(rn1f[:,2], rn1f[:,0], s = 1, alpha=0.25, label =  r\"$C = 1$ ({}\\%)\".format(np.round(100*within_95(rn1)/len(rn1),3)), color = colors[0])\n",
    "ax2.scatter(rn4f[:,2], rn4f[:,0], s = 1, alpha=0.25, label =  r\"$C \\propto \\sqrt{ \\rho_N}$ \"+\"({}\\%)\".format(np.round(100*within_95(rn4)/len(rn4),3)),color = colors[3])\n",
    "v = 180\n",
    "b = 60\n",
    "\n",
    "ax2.plot(v,u,\"ko\")\n",
    "ax2.plot( v+b*np.sin(t), u+a*np.cos(t) ,\"k\" )\n",
    "\n",
    "ax1.set_ylabel(\"Endemic prevelence (\\%)\")\n",
    "ax1.set_xlabel(\"Population decline (\\%)\")\n",
    "ax2.set_xlabel(\"Time till peak (days)\")\n",
    "\n",
    "ax1.set_title(\"Random Network (S1+S2)\")\n",
    "ax2.set_title(\"Random Network (S1+S3)\")\n",
    "\n",
    "lgnd = ax2.legend(loc=1, numpoints=1, fontsize=8)\n",
    "\n",
    "for handle in lgnd.legendHandles:\n",
    "    handle.set_sizes([10.0])\n",
    "    handle.set_alpha(1)\n",
    "\n",
    "\n",
    "\n",
    "ax3.scatter(sf1f[:,1], sf1f[:,0], s = 1, alpha=0.25, color = colors[0])\n",
    "ax3.scatter(sf4f[:,1], sf4f[:,0], s = 1, alpha=0.25, color = colors[3])\n",
    "    \n",
    "u=1.5     #x-position of the center\n",
    "v=75    #y-position of the center\n",
    "a=1    #radius on the x-axis\n",
    "b=10    #radius on the y-axis\n",
    "\n",
    "ax3.plot(v,u,\"ko\")\n",
    "t = np.linspace(0, 2*np.pi, 100)\n",
    "ax3.plot( v+b*np.sin(t), u+a*np.cos(t) ,\"k\" )\n",
    "\n",
    "\n",
    "ax4.scatter(sf1f[:,2], sf1f[:,0], s = 1, alpha=0.25, label =  r\"$C = 1$ ({}\\%)\".format(np.round(100*within_95(sf1)/len(sf1),3)), color = colors[0])\n",
    "ax4.scatter(sf4f[:,2], sf4f[:,0], s = 1, alpha=0.25, label =  r\"$C \\propto \\sqrt{ \\rho_N}$ \"+\"({}\\%)\".format(np.round(100*within_95(sf4)/len(sf4),3)),color = colors[3])\n",
    "v = 180\n",
    "b = 60\n",
    "\n",
    "ax4.plot(v,u,\"ko\")\n",
    "ax4.plot( v+b*np.sin(t), u+a*np.cos(t) ,\"k\" )\n",
    "\n",
    "ax3.set_ylabel(\"Endemic prevelence (\\%)\")\n",
    "ax3.set_xlabel(\"Population decline (\\%)\")\n",
    "ax4.set_xlabel(\"Time till peak (days)\")\n",
    "\n",
    "ax3.set_title(\"Scale-Free Network (S1+S2)\")\n",
    "ax4.set_title(\"Scale-Free Network (S1+S3)\")\n",
    "\n",
    "lgnd = ax4.legend(loc=1, numpoints=1, fontsize=8)\n",
    "\n",
    "for handle in lgnd.legendHandles:\n",
    "    handle.set_sizes([10.0])\n",
    "    handle.set_alpha(1)\n",
    "    \n",
    "    \n",
    "ax5.scatter(sw1f[:,1], sw1f[:,0], s = 1, alpha=0.25, color = colors[0])\n",
    "ax5.scatter(sw4f[:,1], sw4f[:,0], s = 1, alpha=0.25, color = colors[3])\n",
    "    \n",
    "u=1.5     #x-position of the center\n",
    "v=75    #y-position of the center\n",
    "a=1    #radius on the x-axis\n",
    "b=10    #radius on the y-axis\n",
    "\n",
    "ax5.plot(v,u,\"ko\")\n",
    "t = np.linspace(0, 2*np.pi, 100)\n",
    "ax5.plot( v+b*np.sin(t), u+a*np.cos(t) ,\"k\" )\n",
    "\n",
    "\n",
    "ax6.scatter(sw1f[:,2], sw1f[:,0], s = 1, alpha=0.25, label =  r\"$C = 1$ ({}\\%)\".format(np.round(100*within_95(sw1)/len(sw1),3)), color = colors[0])\n",
    "ax6.scatter(sw4f[:,2], sw4f[:,0], s = 1, alpha=0.25, label =  r\"$C \\propto \\sqrt{ \\rho_N}$\"+\" ({}\\%)\".format(np.round(100*within_95(sw4)/len(sw4),3)),color = colors[3])\n",
    "v = 180\n",
    "b = 60\n",
    "\n",
    "ax6.plot(v,u,\"ko\")\n",
    "ax6.plot( v+b*np.sin(t), u+a*np.cos(t) ,\"k\" )\n",
    "\n",
    "ax5.set_ylabel(\"Endemic prevelence (\\%)\")\n",
    "ax5.set_xlabel(\"Population decline (\\%)\")\n",
    "ax6.set_xlabel(\"Time till peak (days)\")\n",
    "\n",
    "ax5.set_title(\"Small-World Network (S1+S2)\")\n",
    "ax6.set_title(\"Small-World Network (S1+S3)\")\n",
    "\n",
    "lgnd = ax6.legend(loc=1, numpoints=1, fontsize=8)\n",
    "\n",
    "for handle in lgnd.legendHandles:\n",
    "    handle.set_sizes([10.0])\n",
    "    handle.set_alpha(1)\n",
    "    \n",
    "plt.savefig('het_sims.pdf', format='pdf', bbox_inches='tight')"
   ]
  }
 ],
 "metadata": {
  "@webio": {
   "lastCommId": null,
   "lastKernelId": null
  },
  "kernelspec": {
   "display_name": "Python 3 (ipykernel)",
   "language": "python",
   "name": "python3"
  },
  "language_info": {
   "codemirror_mode": {
    "name": "ipython",
    "version": 3
   },
   "file_extension": ".py",
   "mimetype": "text/x-python",
   "name": "python",
   "nbconvert_exporter": "python",
   "pygments_lexer": "ipython3",
   "version": "3.10.6"
  }
 },
 "nbformat": 4,
 "nbformat_minor": 5
}
