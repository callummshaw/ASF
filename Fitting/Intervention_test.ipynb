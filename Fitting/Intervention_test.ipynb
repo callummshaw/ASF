{
 "cells": [
  {
   "cell_type": "code",
   "execution_count": null,
   "id": "a5490003",
   "metadata": {},
   "outputs": [],
   "source": [
    " from julia import Julia\n",
    "jl = Julia(sysimage = \"/home/callum/ASF/Fitting/sys_model.so\") #loading sys image"
   ]
  },
  {
   "cell_type": "code",
   "execution_count": null,
   "id": "4e52024c",
   "metadata": {},
   "outputs": [],
   "source": [
    "import matplotlib.pyplot as plt\n",
    "\n",
    "import os\n",
    "import tempfile\n",
    "import numpy as np\n",
    "import scipy as sp\n",
    "\n",
    "from scipy import stats\n",
    "import random as rd\n",
    "from brokenaxes import brokenaxes"
   ]
  },
  {
   "cell_type": "code",
   "execution_count": 3,
   "id": "65624f17",
   "metadata": {},
   "outputs": [],
   "source": [
    "plt.rcParams.update({\n",
    "    \"text.usetex\": True,\n",
    "    \"font.family\": \"Helvetica\"\n",
    "})"
   ]
  },
  {
   "cell_type": "code",
   "execution_count": 137,
   "id": "ff1fb8b3",
   "metadata": {},
   "outputs": [],
   "source": [
    "plt.style.use('seaborn-colorblind')\n",
    "prop_cycle = plt.rcParams['axes.prop_cycle']\n",
    "colors = prop_cycle.by_key()['color']"
   ]
  },
  {
   "cell_type": "code",
   "execution_count": 5,
   "id": "914d9c90",
   "metadata": {},
   "outputs": [],
   "source": [
    "def read_inputs(path,number):\n",
    "    \n",
    "    models = [1,2,3,4]\n",
    "    \n",
    "    if number not in models:\n",
    "        raise Exception(\"Model number must be 1, 2, 3 or 4\") \n",
    "        \n",
    "    weights = np.genfromtxt(path + \"/h{}_weights.csv\".format(number), delimiter=',')\n",
    "    params = np.genfromtxt(path + \"/h{}_params.csv\".format(number), delimiter=',')\n",
    "    \n",
    "    nparams = params.shape[1]\n",
    "    \n",
    "    p1_dis = stats.gaussian_kde(params[:,0],weights = weights)\n",
    "    p2_dis = stats.gaussian_kde(params[:,1],weights = weights)\n",
    "    \n",
    "    if nparams == 2:\n",
    "        return p1_dis, p2_dis\n",
    "    elif nparams == 3:\n",
    "        p3_dis = stats.gaussian_kde(params[:,2],weights = weights)\n",
    "        return p1_dis, p2_dis, p3_dis\n",
    "    "
   ]
  },
  {
   "cell_type": "code",
   "execution_count": 6,
   "id": "d542a788",
   "metadata": {},
   "outputs": [],
   "source": [
    "def distance_from_mean(store):\n",
    "    \n",
    "    mean_ep = 1.5\n",
    "    std_ep = 0.604\n",
    "\n",
    "    mean_pd = 75\n",
    "    std_pd = 6.08\n",
    "\n",
    "    mean_mt = 180\n",
    "    std_mt = 36.475\n",
    "\n",
    "    \n",
    "    store_t = (store -[mean_ep, mean_pd, mean_mt]) / ([std_ep, std_pd, std_mt])\n",
    "    \n",
    "    d = np.linalg.norm(store_t,axis=1)\n",
    "    \n",
    "    mean = np.mean(d)\n",
    "    c_95 = np.percentile(d,[2.5, 97.5])\n",
    "    \n",
    "    print('Mean distance = ', mean)\n",
    "    print('95% confidence interval =', c_95)\n",
    "    \n",
    "    return d, mean, c_95"
   ]
  },
  {
   "cell_type": "code",
   "execution_count": 7,
   "id": "7aaf5812",
   "metadata": {},
   "outputs": [],
   "source": [
    "def run_simulations_inter(path,number,n_sims, value, median = False):\n",
    "    \n",
    "    posteriors = read_inputs(path,number)\n",
    "    \n",
    "    n_params = len(posteriors) #two or three fitted parameters!\n",
    "    \n",
    "    dd = 0\n",
    "    n_samples = 100000\n",
    "    \n",
    "    dp1 = posteriors[0].resample(n_samples)[0]\n",
    "    dp2 = posteriors[1].resample(n_samples)[0]\n",
    "\n",
    "    rd.shuffle(dp1)\n",
    "    rd.shuffle(dp2)\n",
    "    \n",
    "    if n_params == 3:\n",
    "        dp3 = posteriors[2].resample(n_samples)[0]\n",
    "        rd.shuffle(dp3)\n",
    "        \n",
    "    if median:\n",
    "        if n_params == 2:\n",
    "            p = (np.median(dp1), np.median(dp2), value,number)\n",
    "            \n",
    "        elif n_params ==3:\n",
    "             p = (np.median(dp1), np.median(dp2), np.median(dp3), value,number)\n",
    "            \n",
    "    for i in range(n_sims):\n",
    "        \n",
    "        if not median:\n",
    "            if n_params == 2:\n",
    "                p = (dp1[i], dp2[i], value,number)\n",
    "            elif n_params ==3:\n",
    "                p = (dp1[i], dp2[i], dp3[i], value,number)\n",
    "\n",
    "        \n",
    "        \n",
    "        out = model_int(p)\n",
    "        \n",
    "        \n",
    "        dd += out\n",
    "  \n",
    "    return dd\n"
   ]
  },
  {
   "cell_type": "code",
   "execution_count": 203,
   "id": "1cc21195",
   "metadata": {},
   "outputs": [],
   "source": [
    "def simulate_intervention(mn,nsims,path, cs = [0]):\n",
    "    if cs.all() == [0]:\n",
    "        test_strengths = np.linspace(60,99,100)\n",
    "    else:\n",
    "        test_strengths = cs\n",
    "    \n",
    "    dummy  = np.zeros(len(test_strengths)) \n",
    "    for i, j in enumerate(test_strengths):\n",
    "\n",
    "        wa = (100-j)/100\n",
    "\n",
    "        val = run_simulations_inter(path,mn,nsims, wa)\n",
    "        red = round(100*val/n_sims,3)\n",
    "        dummy[i] = red\n",
    "        \n",
    "    return dummy"
   ]
  },
  {
   "cell_type": "markdown",
   "id": "331510cd",
   "metadata": {},
   "source": [
    "# ODE model"
   ]
  },
  {
   "cell_type": "code",
   "execution_count": 166,
   "id": "42fe5593",
   "metadata": {},
   "outputs": [
    {
     "name": "stderr",
     "output_type": "stream",
     "text": [
      "WARNING: replacing module SIR_ODE.\n"
     ]
    }
   ],
   "source": [
    "jl.eval('push!(LOAD_PATH, \"/home/callum/ASF/Fitting/ODE_Extinct.jl\")')\n",
    "jl.include('/home/callum/ASF/Fitting/ODE_Extinct.jl') #loading files with our model!\n",
    "\n",
    "#Loading the four models!\n",
    "model_int = jl.SIR_ODE.model_int #Frequency\n"
   ]
  },
  {
   "cell_type": "code",
   "execution_count": 173,
   "id": "dade2e34",
   "metadata": {},
   "outputs": [],
   "source": [
    "model_no = 1\n",
    "n_sims = 1000\n",
    "\n",
    "path = \"/home/callum/ASF/Fitting/Posteriors/ODE/\"\n"
   ]
  },
  {
   "cell_type": "code",
   "execution_count": 204,
   "id": "12a7afbe",
   "metadata": {},
   "outputs": [],
   "source": [
    "#ode1 = simulate_intervention(1,n_sims,path)\n",
    "ode2 = simulate_intervention(2,n_sims,path, test_ode3)\n",
    "ode3 = simulate_intervention(3,n_sims,path, test_ode3)\n",
    "ode4 = simulate_intervention(4,n_sims,path, test_ode4)"
   ]
  },
  {
   "cell_type": "code",
   "execution_count": 316,
   "id": "1c0cce4c",
   "metadata": {},
   "outputs": [],
   "source": [
    "test_strengths = np.linspace(60,97.5,100)"
   ]
  },
  {
   "cell_type": "code",
   "execution_count": 298,
   "id": "444321f6",
   "metadata": {},
   "outputs": [],
   "source": [
    "lo1 = np.load(\"/home/callum/lowerode1.npy\")\n",
    "lo2 = np.load(\"/home/callum/lowerode2.npy\")\n",
    "lo3 = np.load(\"/home/callum/lowerode3.npy\")\n",
    "lo4 = np.load(\"/home/callum/lowerode4.npy\")\n",
    "\n",
    "uo1 = np.load(\"/home/callum/upperode1.npy\")\n",
    "uo2 = np.load(\"/home/callum/upperode2.npy\")\n",
    "uo3 = np.load(\"/home/callum/upperode3.npy\")\n",
    "uo4 = np.load(\"/home/callum/upperode4.npy\")"
   ]
  },
  {
   "cell_type": "code",
   "execution_count": 317,
   "id": "a0588007",
   "metadata": {},
   "outputs": [
    {
     "data": {
      "text/plain": [
       "<matplotlib.collections.PolyCollection at 0x7f331c9efa30>"
      ]
     },
     "execution_count": 317,
     "metadata": {},
     "output_type": "execute_result"
    },
    {
     "data": {
      "image/png": "[encoded data removed]",
      "text/plain": [
       "<Figure size 400x200 with 1 Axes>"
      ]
     },
     "metadata": {},
     "output_type": "display_data"
    }
   ],
   "source": [
    "plt.figure(figsize = (4,2))\n",
    "\n",
    "\n",
    "plt.plot(test_strengths,ode1, label = r\"$\\beta \\propto 1$\", color = colors[0]) \n",
    "plt.plot(test_ode3,ode2, label = r\"$\\beta \\propto \\rho$\", color = colors[1]) \n",
    "plt.plot(test_ode3,ode3, label = r\"$\\beta \\propto \\tanh(\\rho)$\", color = colors[2]) \n",
    "plt.plot(test_ode4,ode4, label = r\"$\\beta \\propto \\sqrt \\rho$\", color = colors[3]) \n",
    "plt.title(\"Intervention Success:\\n ODE (M1)\")\n",
    "plt.xlabel(\"Reduction in decay time (\\%)\")\n",
    "plt.ylabel(\"Proportion of simulations\\nASF endemic (\\%)\")\n",
    "plt.legend(fontsize=8)\n",
    "\n",
    "plt.fill_between(test_strengths, lo1*100, uo1*100, color=colors[0], alpha=0.25)\n",
    "plt.fill_between(test_ode3, lo2*100, uo2*100, color=colors[1], alpha=0.25)\n",
    "\n",
    "plt.fill_between(test_ode3, lo3*100, uo3*100,color=colors[2], alpha=0.25)\n",
    "plt.fill_between(test_ode4, lo4*100, uo4*100,color=colors[3], alpha=0.25)\n",
    "\n",
    "\n"
   ]
  },
  {
   "cell_type": "markdown",
   "id": "ce84de4b",
   "metadata": {},
   "source": [
    "# TAU Homogeneous "
   ]
  },
  {
   "cell_type": "code",
   "execution_count": 219,
   "id": "78d92b2e",
   "metadata": {},
   "outputs": [
    {
     "name": "stderr",
     "output_type": "stream",
     "text": [
      "/home/callum/.local/lib/python3.10/site-packages/julia/core.py:709: FutureWarning: Accessing `Julia().<name>` to obtain Julia objects is deprecated.  Use `from julia import Main; Main.<name>` or `jl = Julia(); jl.eval('<name>')`.\n",
      "  warnings.warn(\n",
      "WARNING: replacing module SIR_TAU_S.\n"
     ]
    }
   ],
   "source": [
    "jl.eval('push!(LOAD_PATH, \"/home/callum/ASF/Fitting/TAU_HOMO_EXTINCT.jl\")')\n",
    "jl.include('/home/callum/ASF/Fitting/TAU_HOMO_EXTINCT.jl') #loading files with our model!\n",
    "\n",
    "#Loading the four models!\n",
    "model_int = jl.SIR_TAU_S.model_int #Frequency"
   ]
  },
  {
   "cell_type": "code",
   "execution_count": 311,
   "id": "51ebbfbc",
   "metadata": {},
   "outputs": [],
   "source": [
    "#test_strengths = np.linspace(0.01,1.0,10)[::-1]\n",
    "test_strengths = np.linspace(0,97.5,100)\n",
    "#round(100-test_strengths*100,3)\n"
   ]
  },
  {
   "cell_type": "code",
   "execution_count": 271,
   "id": "f166ed9c",
   "metadata": {},
   "outputs": [],
   "source": [
    "model_no = 1\n",
    "n_sims = 1000\n",
    "\n",
    "path = \"/home/callum/ASF/Fitting/Posteriors/Tau-Homogeneous/\"\n"
   ]
  },
  {
   "cell_type": "code",
   "execution_count": 285,
   "id": "44c2762b",
   "metadata": {},
   "outputs": [],
   "source": [
    "l1 = np.load(\"/home/callum/lower1.npy\")\n",
    "l4 = np.load(\"/home/callum/lower4.npy\")\n",
    "\n",
    "u1 = np.load(\"/home/callum/upper1.npy\")\n",
    "u4 = np.load(\"/home/callum/upper4.npy\")\n",
    "\n"
   ]
  },
  {
   "cell_type": "code",
   "execution_count": 272,
   "id": "4477a860",
   "metadata": {},
   "outputs": [],
   "source": [
    "store_tau1 = np.zeros(len(test_strengths)) \n",
    "for i, j in enumerate(test_strengths):\n",
    "    \n",
    "    wa = (100-j)/100\n",
    "    \n",
    "    val = run_simulations_inter(path,model_no,n_sims, wa)\n",
    "    red = round(100*val/n_sims,3)\n",
    "    store_tau1[i] = red\n",
    "    #print(\"Reduction: {}%\".format(j))\n",
    "    #print(\"Endemic: {}%\".format(red))\n",
    "    #print(\"--------------\")\n",
    "    \n",
    "    #if red < 10:\n",
    "     #   break"
   ]
  },
  {
   "cell_type": "code",
   "execution_count": 313,
   "id": "7510ca84",
   "metadata": {},
   "outputs": [],
   "source": [
    "test_strengths = np.linspace(0,97.5,100)\n"
   ]
  },
  {
   "cell_type": "code",
   "execution_count": 314,
   "id": "e70232df",
   "metadata": {},
   "outputs": [
    {
     "data": {
      "text/plain": [
       "<matplotlib.legend.Legend at 0x7f331cad1db0>"
      ]
     },
     "execution_count": 314,
     "metadata": {},
     "output_type": "execute_result"
    },
    {
     "data": {
      "image/png": "[encoded data removed]",
      "text/plain": [
       "<Figure size 400x200 with 1 Axes>"
      ]
     },
     "metadata": {},
     "output_type": "display_data"
    }
   ],
   "source": [
    "plt.figure(figsize = (4,2))\n",
    "\n",
    "plt.plot(test_strengths,store_tau1, label = r\"$\\beta \\propto 1$\", color = colors[0]) \n",
    "plt.plot(test_strengths,store_tau4, label = r\"$\\beta \\propto \\sqrt \\rho$\", color = colors[3]) \n",
    "plt.title(\"Intervention Success:\\nTau Homogeneous (M2)\")\n",
    "plt.xlabel(\"Reduction in decay time (\\%)\")\n",
    "plt.ylabel(\"Proportion of simulations\\nASF endemic (\\%)\")\n",
    "\n",
    "plt.fill_between(test_strengths, l1*100, u1*100,\n",
    "                 color=colors[0], alpha=0.25)\n",
    "\n",
    "plt.fill_between(test_strengths, l4*100, u4*100,\n",
    "                 color=colors[3], alpha=0.25)\n",
    "\n",
    "plt.legend(fontsize=8)"
   ]
  },
  {
   "cell_type": "code",
   "execution_count": null,
   "id": "2ee705ab",
   "metadata": {},
   "outputs": [],
   "source": []
  }
 ],
 "metadata": {
  "@webio": {
   "lastCommId": null,
   "lastKernelId": null
  },
  "kernelspec": {
   "display_name": "Python 3 (ipykernel)",
   "language": "python",
   "name": "python3"
  },
  "language_info": {
   "codemirror_mode": {
    "name": "ipython",
    "version": 3
   },
   "file_extension": ".py",
   "mimetype": "text/x-python",
   "name": "python",
   "nbconvert_exporter": "python",
   "pygments_lexer": "ipython3",
   "version": "3.10.6"
  }
 },
 "nbformat": 4,
 "nbformat_minor": 5
}
