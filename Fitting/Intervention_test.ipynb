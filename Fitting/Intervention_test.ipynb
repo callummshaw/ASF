{
 "cells": [
  {
   "cell_type": "markdown",
   "id": "ee7ba1d3",
   "metadata": {},
   "source": [
    "# Interventions!"
   ]
  },
  {
   "cell_type": "code",
   "execution_count": null,
   "id": "e313d9f1",
   "metadata": {},
   "outputs": [],
   "source": [
    " from julia import Julia\n",
    "jl = Julia(sysimage = \"/home/callum/ASF/Fitting/sys_model.so\") #loading sys image"
   ]
  },
  {
   "cell_type": "code",
   "execution_count": null,
   "id": "4e52024c",
   "metadata": {},
   "outputs": [],
   "source": [
    "import matplotlib.pyplot as plt\n",
    "\n",
    "import os\n",
    "import tempfile\n",
    "import numpy as np\n",
    "import scipy as sp\n",
    "\n",
    "from scipy import stats\n",
    "import random as rd\n",
    "from brokenaxes import brokenaxes"
   ]
  },
  {
   "cell_type": "code",
   "execution_count": null,
   "id": "65624f17",
   "metadata": {},
   "outputs": [],
   "source": [
    "plt.rcParams.update({\n",
    "    \"text.usetex\": True,\n",
    "    \"font.family\": \"Helvetica\",\n",
    "    \"font.size\": 10\n",
    "})"
   ]
  },
  {
   "cell_type": "code",
   "execution_count": null,
   "id": "ff1fb8b3",
   "metadata": {},
   "outputs": [],
   "source": [
    "plt.style.use('seaborn-colorblind')\n",
    "prop_cycle = plt.rcParams['axes.prop_cycle']\n",
    "colors = prop_cycle.by_key()['color']"
   ]
  },
  {
   "cell_type": "code",
   "execution_count": null,
   "id": "914d9c90",
   "metadata": {},
   "outputs": [],
   "source": [
    "def read_inputs(path,number):\n",
    "    \n",
    "    models = [1,2,3,4]\n",
    "    \n",
    "    if number not in models:\n",
    "        raise Exception(\"Model number must be 1, 2, 3 or 4\") \n",
    "        \n",
    "    weights = np.genfromtxt(path + \"/L{}_weights.csv\".format(number), delimiter=',')\n",
    "    params = np.genfromtxt(path + \"/L{}_params.csv\".format(number), delimiter=',')\n",
    "    \n",
    "    nparams = params.shape[1]\n",
    "    \n",
    "    p1_dis = stats.gaussian_kde(params[:,0],weights = weights)\n",
    "    p2_dis = stats.gaussian_kde(params[:,1],weights = weights)\n",
    "    \n",
    "    if nparams == 2:\n",
    "        return p1_dis, p2_dis\n",
    "    elif nparams == 3:\n",
    "        p3_dis = stats.gaussian_kde(params[:,2],weights = weights)\n",
    "        return p1_dis, p2_dis, p3_dis\n",
    "    "
   ]
  },
  {
   "cell_type": "code",
   "execution_count": null,
   "id": "d542a788",
   "metadata": {},
   "outputs": [],
   "source": [
    "def distance_from_mean(store):\n",
    "    \n",
    "    mean_ep = 1.5\n",
    "    std_ep = 0.604\n",
    "\n",
    "    mean_pd = 75\n",
    "    std_pd = 6.08\n",
    "\n",
    "    mean_mt = 180\n",
    "    std_mt = 36.475\n",
    "\n",
    "    \n",
    "    store_t = (store -[mean_ep, mean_pd, mean_mt]) / ([std_ep, std_pd, std_mt])\n",
    "    \n",
    "    d = np.linalg.norm(store_t,axis=1)\n",
    "    \n",
    "    mean = np.mean(d)\n",
    "    c_95 = np.percentile(d,[2.5, 97.5])\n",
    "    \n",
    "    print('Mean distance = ', mean)\n",
    "    print('95% confidence interval =', c_95)\n",
    "    \n",
    "    return d, mean, c_95"
   ]
  },
  {
   "cell_type": "code",
   "execution_count": null,
   "id": "7aaf5812",
   "metadata": {},
   "outputs": [],
   "source": [
    "def run_simulations_inter(path,number,n_sims, value, network = \"none\", median = False):\n",
    "    \n",
    "    posteriors = read_inputs(path,number)\n",
    "    \n",
    "    n_params = len(posteriors) #two or three fitted parameters!\n",
    "    \n",
    "    dd = 0\n",
    "    n_samples = 100000\n",
    "    \n",
    "    dp1 = posteriors[0].resample(n_samples)[0]\n",
    "    dp2 = posteriors[1].resample(n_samples)[0]\n",
    "\n",
    "    rd.shuffle(dp1)\n",
    "    rd.shuffle(dp2)\n",
    "    \n",
    "    if n_params == 3:\n",
    "        dp3 = posteriors[2].resample(n_samples)[0]\n",
    "        rd.shuffle(dp3)\n",
    "        \n",
    "    if median:\n",
    "        if n_params == 2:\n",
    "            p = (np.median(dp1), np.median(dp2), value,number)\n",
    "            \n",
    "        elif n_params ==3:\n",
    "             p = (np.median(dp1), np.median(dp2), np.median(dp3), value,number)\n",
    "            \n",
    "    for i in range(n_sims):\n",
    "        \n",
    "        if not median:\n",
    "            if n_params == 2:\n",
    "                p = (dp1[i], dp2[i], value,number)\n",
    "            elif n_params ==3:\n",
    "                p = (dp1[i], dp2[i], dp3[i], value,number)\n",
    "\n",
    "        \n",
    "        if n_params == 2:\n",
    "            out = model_int(p)\n",
    "          \n",
    "        else:\n",
    "            out = model_int(p, network)\n",
    "        \n",
    "        dd += out\n",
    "  \n",
    "    return dd\n"
   ]
  },
  {
   "cell_type": "code",
   "execution_count": null,
   "id": "f7d9d865",
   "metadata": {},
   "outputs": [],
   "source": [
    "def simulate_intervention(mn,nsims,path, cs):\n",
    "   \n",
    "    dummy  = np.zeros(len(cs)) \n",
    "    for i, j in enumerate(cs):\n",
    "\n",
    "        wa = (100-j)/100\n",
    "        \n",
    "        val = run_simulations_inter(path,mn,nsims, wa)\n",
    "        red = round(100*val/n_sims,3)\n",
    "        dummy[i] = red\n",
    "        \n",
    "    return dummy"
   ]
  },
  {
   "cell_type": "markdown",
   "id": "331510cd",
   "metadata": {},
   "source": [
    "# ODE model"
   ]
  },
  {
   "cell_type": "code",
   "execution_count": null,
   "id": "926d63c2",
   "metadata": {},
   "outputs": [],
   "source": [
    "jl.eval('push!(LOAD_PATH, \"/home/callum/ASF/Fitting/ODE_Extinct.jl\")')\n",
    "jl.include('/home/callum/ASF/Fitting/ODE_Extinct.jl') #loading files with our model!\n",
    "\n",
    "#Loading the four models!\n",
    "model_int = jl.SIR_ODE.model_int #Frequency\n"
   ]
  },
  {
   "cell_type": "code",
   "execution_count": null,
   "id": "cc7c71cd",
   "metadata": {},
   "outputs": [],
   "source": [
    "n_sims = 1000\n",
    "path = \"Posteriors/ODE/\"\n"
   ]
  },
  {
   "cell_type": "markdown",
   "id": "59828fc6",
   "metadata": {},
   "source": [
    "## Intervention Strengths!\n",
    "\n",
    "Below we are making arrays for the different strengths of intervention ($\\alpha$) for the ODE model. Note there is a higher density of $\\alpha$ we are testing around the values of the bifurcation (want to see exactly where it occurs)! This point of transition was found by broader initial runs."
   ]
  },
  {
   "cell_type": "code",
   "execution_count": null,
   "id": "4fe48bc9",
   "metadata": {},
   "outputs": [],
   "source": [
    "#ODE1\n",
    "xode1 = np.linspace(0,97.5,21)\n"
   ]
  },
  {
   "cell_type": "code",
   "execution_count": null,
   "id": "702262aa",
   "metadata": {},
   "outputs": [],
   "source": [
    "#ODE4\n",
    "base4 = np.linspace(0,60,13)\n",
    "mid4 = np.linspace(61,75,140) #area around bifurcation\n",
    "end4 = np.linspace(72.5,97.5,11)\n",
    "xode4 = np.concatenate((base4,mid4,end4))"
   ]
  },
  {
   "cell_type": "code",
   "execution_count": null,
   "id": "04dda384",
   "metadata": {},
   "outputs": [],
   "source": [
    "#ODE2 and ODE3\n",
    "base2 = np.linspace(0,75,16)\n",
    "mid2 = np.linspace(76,90,140) #area around bifurcation\n",
    "end2 = np.linspace(92.5,97.5,3)\n",
    "xode2 = np.concatenate((base2,mid2,end2))\n",
    "\n",
    "base3 = np.linspace(0,47,10)\n",
    "mid3 = np.linspace(47.5,57.5,140) #area around bifurcation\n",
    "end3 = np.linspace(60,97.5,16)\n",
    "xode3 = np.concatenate((base3,mid3,end3))"
   ]
  },
  {
   "cell_type": "code",
   "execution_count": null,
   "id": "c17b2936",
   "metadata": {},
   "outputs": [],
   "source": [
    "#Running Interventions\n",
    "ode1 = simulate_intervention(1,n_sims,path,xode1)\n",
    "print(\"done\")\n",
    "ode2 = simulate_intervention(2,n_sims,path,xode2)\n",
    "print(\"done\")\n",
    "ode3 = simulate_intervention(3,n_sims,path,xode3)\n",
    "print(\"done\")\n",
    "ode4 = simulate_intervention(4,n_sims,path,xode4)"
   ]
  },
  {
   "cell_type": "code",
   "execution_count": null,
   "id": "c4050fbd",
   "metadata": {},
   "outputs": [],
   "source": [
    "#saving output!\n",
    "\n",
    "np.save(\"Intervention/ODE/int_ode1\",ode1)\n",
    "np.save(\"Intervention/ODE/int_ode2\",ode2)\n",
    "np.save(\"Intervention/ODE/int_ode3\",ode3)\n",
    "np.save(\"Intervention/ODE/int_ode4\",ode4)\n"
   ]
  },
  {
   "cell_type": "code",
   "execution_count": null,
   "id": "3028fdd6",
   "metadata": {},
   "outputs": [],
   "source": [
    "#loading input for plotting!\n",
    "\n",
    "ode1 = np.load(\"Intervention/ODE/int_ode1.npy\")\n",
    "ode2 = np.load(\"Intervention/ODE/int_ode2.npy\")\n",
    "ode3 = np.load(\"Intervention/ODE/int_ode3.npy\")\n",
    "ode4 = np.load(\"Intervention/ODE/int_ode4.npy\")"
   ]
  },
  {
   "cell_type": "code",
   "execution_count": null,
   "id": "ca591b11",
   "metadata": {},
   "outputs": [],
   "source": [
    "#loading credible intervals (calculated in R)\n",
    "lo1 = np.load(\"Intervention/ODE/lr1.npy\")\n",
    "lo2 = np.load(\"Intervention/ODE/lr2.npy\")\n",
    "lo3 = np.load(\"Intervention/ODE/lr3.npy\")\n",
    "lo4 = np.load(\"Intervention/ODE/lr4.npy\")\n",
    "\n",
    "uo1 = np.load(\"Intervention/ODE/ur1.npy\")\n",
    "uo2 = np.load(\"Intervention/ODE/ur2.npy\")\n",
    "uo3 = np.load(\"Intervention/ODE/ur3.npy\")\n",
    "uo4 = np.load(\"Intervention/ODE/ur4.npy\")"
   ]
  },
  {
   "cell_type": "markdown",
   "id": "fc3c2776",
   "metadata": {},
   "source": [
    "# TAU Homogeneous "
   ]
  },
  {
   "cell_type": "code",
   "execution_count": null,
   "id": "13379ba2",
   "metadata": {},
   "outputs": [],
   "source": [
    "jl.eval('push!(LOAD_PATH, \"/home/callum/ASF/Fitting/TAU_HOMO_EXTINCT.jl\")')\n",
    "jl.include('/home/callum/ASF/Fitting/TAU_HOMO_EXTINCT.jl') #loading files with our model!\n",
    "\n",
    "#Loading the four models!\n",
    "model_int = jl.SIR_TAU_S.model_int #Frequency"
   ]
  },
  {
   "cell_type": "code",
   "execution_count": null,
   "id": "ce2d600c",
   "metadata": {},
   "outputs": [],
   "source": [
    "#converting alpha to correct format \n",
    "def run_tau_int(model_n, n_sims, path, test_array):\n",
    "    store = np.zeros(len(test_array))\n",
    "    \n",
    "    for i, j in enumerate(test_array):\n",
    "    \n",
    "        rr = (100 - j)/100\n",
    "        val = run_simulations_inter(path,model_n,n_sims, rr)\n",
    "        store[i] = val\n",
    "    return store"
   ]
  },
  {
   "cell_type": "code",
   "execution_count": null,
   "id": "c023c5d9",
   "metadata": {},
   "outputs": [],
   "source": [
    "test_strengths = np.linspace(0,95,100) \n",
    "\n",
    "path = \"Posteriors/Tau-Homogeneous/\"\n"
   ]
  },
  {
   "cell_type": "code",
   "execution_count": null,
   "id": "e4a5bd7d",
   "metadata": {},
   "outputs": [],
   "source": [
    "tau1 = run_tau_int(1,1000,path,test_strengths)\n",
    "np.save(\"Intervention/Homogeneous/int_tau1\", tau1)\n",
    "print(1)\n",
    "tau2 = run_tau_int(2,1000,path,test_strengths)\n",
    "np.save(\"Intervention/Homogeneous/int_tau2\", tau2)\n",
    "print(1)\n",
    "tau3 = run_tau_int(3,1000,path,test_strengths)\n",
    "np.save(\"Intervention/Homogeneous/int_tau3\", tau3)\n",
    "print(1)\n",
    "tau4 = run_tau_int(4,1000,path,test_strengths)\n",
    "np.save(\"Intervention/Homogeneous/int_tau4\", tau4)\n"
   ]
  },
  {
   "cell_type": "code",
   "execution_count": null,
   "id": "97f1d999",
   "metadata": {},
   "outputs": [],
   "source": []
  },
  {
   "cell_type": "code",
   "execution_count": null,
   "id": "5efb3db4",
   "metadata": {},
   "outputs": [],
   "source": [
    "#loading credible intervals\n",
    "cl1 = np.load(\"Intervention/Homogeneous/lr1.npy\")\n",
    "cl2 = np.load(\"Intervention/Homogeneous/lr2.npy\")\n",
    "cl3 = np.load(\"Intervention/Homogeneous/lr3.npy\")\n",
    "cl4 = np.load(\"Intervention/Homogeneous/lr4.npy\")\n",
    "\n",
    "cu1 =  np.load(\"Intervention/Homogeneous/ur1.npy\")\n",
    "cu2 =  np.load(\"Intervention/Homogeneous/ur2.npy\")\n",
    "cu3 =  np.load(\"Intervention/Homogeneous/ur3.npy\")\n",
    "cu4 =  np.load(\"Intervention/Homogeneous/ur4.npy\")"
   ]
  },
  {
   "cell_type": "code",
   "execution_count": null,
   "id": "f3577c04",
   "metadata": {},
   "outputs": [],
   "source": [
    "#loading data\n",
    "tau1 = np.load(\"Intervention/Homogeneous/int_tau1.npy\")\n",
    "tau2 = np.load(\"Intervention/Homogeneous/int_tau2.npy\")\n",
    "tau3 = np.load(\"Intervention/Homogeneous/int_tau3.npy\")\n",
    "tau4 = np.load(\"Intervention/Homogeneous/int_tau4.npy\")"
   ]
  },
  {
   "cell_type": "code",
   "execution_count": null,
   "id": "3b334910",
   "metadata": {},
   "outputs": [],
   "source": [
    "#plotting M1 and M2 intervention successes against each other!\n",
    "\n",
    "fig, (ax1, ax2) = plt.subplots(1, 2, figsize = (6,2))\n",
    "fig.suptitle('Intervention Success', y=1.1)\n",
    "\n",
    "\n",
    "ax1.hlines(25,0,100, color = \"k\", ls='--')\n",
    "\n",
    "ax1.plot(xode1,ode1, label = r\"$\\beta \\propto 1$\", color = colors[0]) \n",
    "ax1.plot(xode2,ode2, label = r\"$\\beta \\propto \\rho$\", color = colors[1]) \n",
    "ax1.plot(xode3,ode3, label = r\"$\\beta \\propto \\tanh(\\rho)$\", color = colors[2]) \n",
    "ax1.plot(xode4,ode4, label = r\"$\\beta \\propto \\sqrt \\rho$\", color = colors[3]) \n",
    "ax1.set_title(\"ODE\")\n",
    "ax1.set_xlabel(\"Reduction in decay time (\\%)\")\n",
    "ax1.set_ylabel(\"ASF endemic\\nsimulations (\\%)\")\n",
    "ax1.fill_between(xode1, lo1*100, uo1*100, color=colors[0], alpha=0.25)\n",
    "ax1.fill_between(xode2, lo2*100, uo2*100, color=colors[1], alpha=0.25)\n",
    "\n",
    "ax1.fill_between(xode3, lo3*100, uo3*100,color=colors[2], alpha=0.25)\n",
    "ax1.fill_between(xode4, lo4*100, uo4*100,color=colors[3], alpha=0.25)\n",
    "ax1.set_xlim([0,100])\n",
    "\n",
    "test_strengths = np.linspace(0,97.5,100)\n",
    "\n",
    "ax2.hlines(25,0,100, color = \"k\", ls='--')\n",
    "ax2.plot(test_strengths,tau1/10, label = r\"$C = 1$\", color = colors[0]) \n",
    "ax2.plot(test_strengths,tau2/10, label = r\"$C \\propto \\rho_N$\", color = colors[1]) \n",
    "ax2.plot(test_strengths,tau3/10, label = r\"$C \\propto \\tanh (\\rho_N)$\", color = colors[2]) \n",
    "ax2.plot(test_strengths,tau4/10, label = r\"$C \\propto \\sqrt{\\rho_N}$\", color = colors[3]) \n",
    "ax2.set_title(\"Tau-Leaping Homogeneous\")\n",
    "ax2.set_xlabel(\"Reduction in decay time (\\%)\")\n",
    "\n",
    "ax2.fill_between(test_strengths, cl1*100, cu1*100,\n",
    "                 color=colors[0], alpha=0.25)\n",
    "\n",
    "ax2.fill_between(test_strengths, cl4*100, cu4*100,\n",
    "                 color=colors[3], alpha=0.25)\n",
    "ax2.fill_between(test_strengths, cl2*100, cu2*100,\n",
    "                 color=colors[1], alpha=0.25)\n",
    "\n",
    "ax2.fill_between(test_strengths, cl3*100, cu3*100,\n",
    "                 color=colors[2], alpha=0.25)\n",
    "\n",
    "ax2.legend(fontsize=7)\n",
    "ax2.set_xlim([0,100])\n",
    "plt.savefig('m1m2inter.pdf', format='pdf', bbox_inches='tight')\n",
    "ax1.set_ylabel(\"ASF endemic\\nsimulations (\\%)\")\n"
   ]
  },
  {
   "cell_type": "code",
   "execution_count": null,
   "id": "6016169e",
   "metadata": {},
   "outputs": [],
   "source": [
    "#similar but for cycle vs constant \n",
    "\n",
    "fig, (ax1, ax2) = plt.subplots(1, 2, figsize = (6,2))\n",
    "fig.suptitle('Intervention Success', y=1.1)\n",
    "\n",
    "\n",
    "ax1.hlines(25,0,100, color = \"k\", ls='--')\n",
    "\n",
    "ax1.plot(xode1,ode1,  color = colors[0], label = r\"Split: $C =1 $\") \n",
    "ax1.plot(xode1,ode1l,  color = colors[0],ls='--', label = r\"Logistic: $C =1 $\") \n",
    "ax1.plot(xode4,ode4, color = colors[3], label  = r\"Split: $C \\propto \\sqrt{\\rho_N}$\") \n",
    "ax1.plot(lxode4,ode4l, color = colors[3],label = r\"Logistic: $C \\propto \\sqrt{\\rho_N}$\",ls='--') \n",
    "\n",
    "\n",
    "\n",
    "ax1.set_title(\"ODE\")\n",
    "ax1.set_xlabel(\"Reduction in decay time (\\%)\")\n",
    "ax1.set_ylabel(\"ASF endemic\\nsimulations (\\%)\")\n",
    "ax1.fill_between(xode1, lo1*100, uo1*100, color=colors[0], alpha=0.25)\n",
    "ax1.fill_between(xode1, llo1*100, luo1*100, color=colors[0], alpha=0.25)\n",
    "\n",
    "ax1.fill_between(xode4, lo4*100, uo4*100,color=colors[3], alpha=0.25)\n",
    "ax1.fill_between(lxode4, llo4*100, luo4*100,color=colors[3], alpha=0.25)\n",
    "\n",
    "ax1.set_xlim([0,100])\n",
    "\n",
    "test_strengths = np.linspace(0,97.5,100)\n",
    "\n",
    "ax2.hlines(25,0,100, color = \"k\", ls='--')\n",
    "ax2.plot(test_strengths,tau1/10, label = r\"$C = 1$\", color = colors[0]) \n",
    "ax2.plot(test_strengths,ltau1/10, label = r\"$C = 1$\", color = colors[0], ls=\"--\") \n",
    "ax2.plot(test_strengths,tau4/10, label = r\"$C \\propto \\sqrt{\\rho_N}$\", color = colors[3])\n",
    "ax2.plot(test_strengths,ltau4/10, label = r\"$C \\propto \\sqrt{\\rho_N}$\", color = colors[3], ls=\"--\") \n",
    "\n",
    "\n",
    "ax2.set_title(\"Tau-Leaping Homogeneous\")\n",
    "ax2.set_xlabel(\"Reduction in decay time (\\%)\")\n",
    "\n",
    "ax2.fill_between(test_strengths, cl1*100, cu1*100,\n",
    "                 color=colors[0], alpha=0.25)\n",
    "ax2.fill_between(test_strengths, lcl1*100, lcu1*100,\n",
    "                 color=colors[0], alpha=0.25)\n",
    "\n",
    "\n",
    "\n",
    "ax2.fill_between(test_strengths, cl4*100, cu4*100,\n",
    "                 color=colors[3], alpha=0.25)\n",
    "\n",
    "\n",
    "ax2.fill_between(test_strengths, lcl4*100, lcu4*100,\n",
    "                 color=colors[3], alpha=0.25)\n",
    "\n",
    "ax1.legend(fontsize=7, loc = \"center left\")\n",
    "ax2.set_xlim([0,100])\n",
    "plt.savefig('log_m1m2inter.pdf', format='pdf', bbox_inches='tight')"
   ]
  },
  {
   "cell_type": "markdown",
   "id": "d7ba7e5b",
   "metadata": {},
   "source": [
    "## Same but for M3 Simualtions"
   ]
  },
  {
   "cell_type": "code",
   "execution_count": null,
   "id": "0c8855b6",
   "metadata": {},
   "outputs": [],
   "source": [
    "jl.eval('push!(LOAD_PATH, \"/home/callum/ASF/Fitting/TAU_HETRO_Extinct.jl\")')\n",
    "jl.include('/home/callum/ASF/Fitting/TAU_HETRO_Extinct.jl') #loading files with our model!\n",
    "#again network is deined in extinct file!\n",
    "#Loading the four models!\n",
    "model_int = jl.SIR_TAU_I.model_int #Frequency"
   ]
  },
  {
   "cell_type": "code",
   "execution_count": null,
   "id": "9c986c2b",
   "metadata": {},
   "outputs": [],
   "source": [
    "def simulate_intervention(path, mo_no, n_sims, network):\n",
    "    cs = np.linspace(.1,1, 19)[::-1]\n",
    "    dummy  = np.zeros(len(cs)) \n",
    "    for i, j in enumerate(cs):\n",
    "\n",
    "        val = run_simulations_inter(path, mo_no, n_sims, j, network=network)\n",
    "        red = val/n_sims\n",
    "        dummy[i] = red\n",
    "        \n",
    "    return dummy"
   ]
  },
  {
   "cell_type": "code",
   "execution_count": null,
   "id": "c10aba53",
   "metadata": {},
   "outputs": [],
   "source": [
    "n_sims = 500"
   ]
  },
  {
   "cell_type": "code",
   "execution_count": null,
   "id": "6afbd426",
   "metadata": {},
   "outputs": [],
   "source": [
    "#Random!\n",
    "path = \"Posteriors/Tau-Hetrogeneous/Random/\"\n",
    "network = 'r'\n",
    "mo_no = 1\n",
    "r1_int = simulate_intervention(path, mo_no, n_sims, network)\n",
    "print(\"Done\")\n",
    "mo_no = 4\n",
    "r4_int = simulate_intervention(path, mo_no, n_sims, network)"
   ]
  },
  {
   "cell_type": "code",
   "execution_count": null,
   "id": "d05e96f0",
   "metadata": {},
   "outputs": [],
   "source": [
    "np.save(\"r1_int\",r1_int)\n",
    "np.save(\"r4_int\",r4_int)"
   ]
  },
  {
   "cell_type": "code",
   "execution_count": null,
   "id": "005a440b",
   "metadata": {},
   "outputs": [],
   "source": [
    "#Scale Free!\n",
    "path = \"Posteriors/Tau-Hetrogeneous/Scale_Free/\"\n",
    "network = 'sf'\n",
    "mo_no = 1\n",
    "sf1_int = simulate_intervention(path, mo_no, n_sims, network)\n",
    "print(\"Done\")\n",
    "mo_no = 4\n",
    "sf4_int = simulate_intervention(path, mo_no, n_sims, network)"
   ]
  },
  {
   "cell_type": "code",
   "execution_count": null,
   "id": "fbf0d1e9",
   "metadata": {},
   "outputs": [],
   "source": [
    "np.save(\"sf1_int\",sf1_int)\n",
    "np.save(\"sf4_int\",sf4_int)"
   ]
  },
  {
   "cell_type": "code",
   "execution_count": null,
   "id": "219dd7e8",
   "metadata": {},
   "outputs": [],
   "source": []
  },
  {
   "cell_type": "code",
   "execution_count": null,
   "id": "2c7517c8",
   "metadata": {},
   "outputs": [],
   "source": [
    "#loading output\n",
    "\n",
    "r1_int  = np.load(\"interventionm3/r1_int5.npy\")\n",
    "r4_int  = np.load(\"interventionm3/r4_int5.npy\")\n",
    "sf1_int = np.load(\"interventionm3/sf1_int5.npy\")\n",
    "sf4_int = np.load(\"interventionm3/sf4_int5.npy\")\n",
    "sw1_int = np.load(\"interventionm3/sw1_int5.npy\")\n",
    "sw4_int = np.load(\"interventionm3/sw4_int5.npy\")"
   ]
  },
  {
   "cell_type": "code",
   "execution_count": null,
   "id": "4397e4da",
   "metadata": {},
   "outputs": [],
   "source": [
    "ur1 = np.load(\"interventionm3/r1_iu.npy\")\n",
    "lr1 = np.load(\"interventionm3/r1_il.npy\")\n",
    "\n",
    "ur4 = np.load(\"interventionm3/r4_iu.npy\")\n",
    "lr4 = np.load(\"interventionm3/r4_il.npy\")\n",
    "\n",
    "usf1 = np.load(\"interventionm3/sf1_iu.npy\")\n",
    "lsf1 = np.load(\"interventionm3/sf1_il.npy\")\n",
    "\n",
    "usf4 = np.load(\"interventionm3/sf4_iu.npy\")\n",
    "lsf4 = np.load(\"interventionm3/sf4_il.npy\")\n",
    "\n",
    "usw1 = np.load(\"interventionm3/sw1_iu.npy\")\n",
    "lsw1 = np.load(\"interventionm3/sw1_il.npy\")\n",
    "\n",
    "usw4 = np.load(\"interventionm3/sw4_iu.npy\")\n",
    "lsw4 = np.load(\"interventionm3/sw4_il.npy\")"
   ]
  },
  {
   "cell_type": "code",
   "execution_count": null,
   "id": "f0721d1b",
   "metadata": {},
   "outputs": [],
   "source": [
    "fig = plt.figure(figsize=(4,5))\n",
    "\n",
    "gs = GridSpec(3, 1, figure=fig, hspace=.5)\n",
    "plt.suptitle(\"Tau-Leaping Heterogeneous Intervention Success\", y=0.975)\n",
    "ax1 = fig.add_subplot(gs[0, 0])\n",
    "ax2 = fig.add_subplot(gs[1, 0])\n",
    "ax3 = fig.add_subplot(gs[2, 0])\n",
    "\n",
    "x = 100*(1- np.linspace(.1,1, 37)[::-1,])\n",
    "\n",
    "ax1.plot(x, 100*r1_int,color=colors[0], label = r\"$C = 1$ ({}\\%)\".format(r1_int[0]*100))\n",
    "ax1.plot(x, 100*r4_int,color=colors[3], label = r\"$C \\propto \\sqrt{\\rho_N}$\"+\" ({}\\%)\".format(r4_int[0]*100))\n",
    "\n",
    "\n",
    "ax1.fill_between(x, 100*lr1, 100*ur1,color=colors[0], alpha=0.25)\n",
    "ax1.fill_between(x, 100*lr4, 100*ur4,color=colors[3], alpha=0.25)\n",
    "ax1.hlines(25,min(x),max(x), color = \"k\", ls='--')\n",
    "ax1.set_title(\"Random Network\")\n",
    "ax1.set_ylabel(\"ASF endemic\\nsimulations (\\%)\")\n",
    "\n",
    "ax2.plot(x, 100*sf1_int,color=colors[0], label = r\"$C = 1$ ({}\\%)\".format(sf1_int[0]*100))\n",
    "ax2.plot(x, 100*sf4_int,color=colors[3], label = r\"$C \\propto \\sqrt{\\rho_N}$\"+\" ({}\\%)\".format(sf4_int[0]*100))\n",
    "\n",
    "ax2.fill_between(x, 100*lsf1, 100*usf1,color=colors[0], alpha=0.25)\n",
    "ax2.fill_between(x, 100*lsf4, 100*usf4,color=colors[3], alpha=0.25)\n",
    "ax2.hlines(25,min(x),max(x), color = \"k\", ls='--')\n",
    "ax2.set_title(\"Scale-Free Network\")\n",
    "ax2.set_ylabel(\"ASF endemic\\nsimulations (\\%)\")\n",
    "ax3.plot(x, 100*sw1_int,color=colors[0], label = r\"$C = 1$ ({}\\%)\".format(np.round(sw1_int[0]*100,1)))\n",
    "ax3.plot(x, 100*sw4_int,color=colors[3],label = r\"$C \\propto \\sqrt{\\rho_N}$\"+\" ({}\\%)\".format(sw4_int[0]*100))\n",
    "\n",
    "\n",
    "ax3.fill_between(x, 100*lsw1, 100*usw1,color=colors[0], alpha=0.25)\n",
    "ax3.fill_between(x, 100*lsw4, 100*usw4,color=colors[3], alpha=0.25)\n",
    "ax3.hlines(25,min(x),max(x), color = \"k\", ls='--')\n",
    "ax3.set_title(\"Small-World Network\")\n",
    "ax3.set_xlabel(\"Reduction in decay time (\\%)\")\n",
    "ax3.set_ylabel(\"ASF endemic\\nsimulations (\\%)\")\n",
    "\n",
    "\n",
    "\n",
    "ax1.legend(loc=\"lower left\", fontsize=8, framealpha=1)\n",
    "ax2.legend(loc=\"lower left\",fontsize=8, framealpha=1)\n",
    "ax3.legend(loc=\"lower left\",fontsize=8, framealpha=1)\n",
    "\n",
    "ax1.set_frame_on(True) # make sure there is any background\n",
    "\n",
    "ax1.set_ylim([0,75])\n",
    "ax1.set_xlim([0,90])\n",
    "ax2.set_ylim([0,75])\n",
    "ax2.set_xlim([0,90])\n",
    "ax3.set_ylim([0,75])\n",
    "ax3.set_xlim([0,90])\n",
    "plt.savefig('m3inter.pdf', format='pdf', bbox_inches='tight')\n"
   ]
  },
  {
   "cell_type": "code",
   "execution_count": null,
   "id": "1b6e8db6",
   "metadata": {},
   "outputs": [],
   "source": []
  }
 ],
 "metadata": {
  "@webio": {
   "lastCommId": null,
   "lastKernelId": null
  },
  "kernelspec": {
   "display_name": "Python 3 (ipykernel)",
   "language": "python",
   "name": "python3"
  },
  "language_info": {
   "codemirror_mode": {
    "name": "ipython",
    "version": 3
   },
   "file_extension": ".py",
   "mimetype": "text/x-python",
   "name": "python",
   "nbconvert_exporter": "python",
   "pygments_lexer": "ipython3",
   "version": "3.10.6"
  }
 },
 "nbformat": 4,
 "nbformat_minor": 5
}
