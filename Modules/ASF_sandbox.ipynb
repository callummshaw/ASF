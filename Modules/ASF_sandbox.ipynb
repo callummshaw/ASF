{
 "cells": [
  {
   "cell_type": "code",
   "execution_count": 1,
   "id": "e0b3e9bd-e098-4c17-96e2-f511cf40e76e",
   "metadata": {},
   "outputs": [],
   "source": [
    "using LinearAlgebra\n",
    "using DelimitedFiles\n",
    "using DataFrames\n",
    "using CSV\n",
    "using FileIO\n",
    "using LinearAlgebra\n",
    "using NPZ\n",
    "using Random, Distributions\n",
    "using LightGraphs\n",
    "\n"
   ]
  },
  {
   "cell_type": "code",
   "execution_count": 2,
   "id": "df340ce7-3fc9-4343-80ec-c44cddb14a7f",
   "metadata": {},
   "outputs": [],
   "source": [
    "\n",
    "abstract type Data_Input end\n",
    "\n",
    "struct Meta_Data <: Data_Input\n",
    "    #=\n",
    "    Structure to store all the meta data infomation for the run:\n",
    "    number of years, if the model is being run in ensemble, if\n",
    "    using distros or just mean values for parameters, the number of \n",
    "    populations and the number of said populations seeded with ASF\n",
    "    =#\n",
    "    years::Float64\n",
    "    N_ensemble::Int64\n",
    "    Identical::Bool\n",
    "    N_Pop::Int64\n",
    "    N_Inf::Vector{Int64}\n",
    "    \n",
    "    function Meta_Data(input, numv)\n",
    "        Ny = parse(Int64, input.Value[1])\n",
    "        Ne = parse(Float64,input.Value[2])\n",
    "        I = (input.Value[3] == \"true\")\n",
    "        Np = parse(Int64, input.Value[4])\n",
    "        Ni = numv\n",
    "        \n",
    "        new(Ny,Ne,I,Np,Ni)\n",
    "    end\n",
    "end\n",
    "\n",
    "struct Population_Data <: Data_Input\n",
    "    \n",
    "    Dense::Vector{Float64} #density of population\n",
    "    N_feral::Vector{Int64} #number of feral groups\n",
    "    N_farm::Vector{Int64} #number of farm groups\n",
    "    N_int::Vector{Int64} #average interconnection between feral groups\n",
    "    B_f::Vector{Float64} #intra feral group transmission\n",
    "    B_l::Vector{Float64} #intra farm transmission\n",
    "    B_ff::Vector{Float64} #inter feral group transmission\n",
    "    B_fl::Vector{Float64} #farm-feral transmission\n",
    "    Death::Vector{Float64} #ASF death prob\n",
    "    Recovery::Vector{Float64}#Recovery rate\n",
    "    Latent::Vector{Float64} #latent period\n",
    "    Corpse::Vector{Float64} #corpse infection modifier\n",
    "    Decay_l::Vector{Float64} #decay farm\n",
    "    Decay_f::Vector{Float64} #decay feral\n",
    "    N_f::Vector{Float64} #feral population size\n",
    "    N_l::Vector{Float64} #farm population size\n",
    "    N_e::Vector{Float64} #number of exposed in seeded\n",
    "    N_i::Vector{Float64} #number of infected in seeded\n",
    "    Birth::Vector{Float64} #birth rate\n",
    "    Death_n::Vector{Float64} #natural death rate\n",
    "    \n",
    "    function Population_Data(input)\n",
    "        \n",
    "        Den = [input.Mean[1],input.STD[1]]\n",
    "        Nf = [input.Mean[2],input.STD[2]]\n",
    "        Nl = [input.Mean[3],input.STD[3]]\n",
    "        Ni = [input.Mean[4],input.STD[4]]\n",
    "        Bf = [input.Mean[5],input.STD[5]]\n",
    "        Bl = [input.Mean[6],input.STD[6]]\n",
    "        Bff = [input.Mean[7],input.STD[7]]\n",
    "        Bfl = [input.Mean[8],input.STD[8]]\n",
    "        D = [input.Mean[9],input.STD[9]]\n",
    "        R = [input.Mean[10],input.STD[10]]\n",
    "        L = [input.Mean[11],input.STD[11]]\n",
    "        C = [input.Mean[12],input.STD[12]]\n",
    "        Dl = [input.Mean[13],input.STD[13]]\n",
    "        Df = [input.Mean[14],input.STD[14]]\n",
    "        Npf = [input.Mean[15],input.STD[15]]\n",
    "        Npl = [input.Mean[16],input.STD[16]]\n",
    "        Npe = [input.Mean[17],input.STD[17]]\n",
    "        Npi = [input.Mean[18],input.STD[18]]\n",
    "        B = [input.Mean[19],input.STD[19]]\n",
    "        Dn = [input.Mean[20],input.STD[20]]\n",
    "        \n",
    "        new(Den, Nf, Nl, Ni ,Bf, Bl, Bff, Bfl, D, R, L, C, Dl, Df, Npf, Npl, Npe, Npi, B, Dn)\n",
    "        \n",
    "    end\n",
    "    \n",
    "end\n",
    "\n",
    "mutable struct Population_Breakdown\n",
    "    #=\n",
    "    Structure to store key data on each population\n",
    "    =#\n",
    "    feral::Vector{Int64}\n",
    "    farm::Vector{Int64}\n",
    "    \n",
    "    density::Vector{Float64}\n",
    "    area::Vector{Float64}\n",
    "\n",
    "    \n",
    "    pop::Int64\n",
    "    total::Vector{Int64}\n",
    "    cum_sum::Vector{Int64}\n",
    "    \n",
    "    inf::Vector{Int64}\n",
    "    \n",
    "    function Population_Breakdown(feral,farm, density,area, numv)\n",
    "        n = size(feral)[1]\n",
    "        t = feral + farm\n",
    "        cs = pushfirst!(cumsum(t),0)\n",
    "        \n",
    "        new(feral,farm,density,area,n,t,cs,numv)\n",
    "    end\n",
    "end \n",
    "\n"
   ]
  },
  {
   "cell_type": "code",
   "execution_count": 290,
   "id": "d9ee48c2-c331-4ba1-a4fb-9273c3c3c8c0",
   "metadata": {},
   "outputs": [],
   "source": [
    "mutable struct Model_Data\n",
    "    #=\n",
    "    Structure to store key data on mode\n",
    "    =#\n",
    "    Time::Float64 #Model run time\n",
    "    U0::Vector{Int64} #Initial Population\n",
    "    Parameters::Model_Parameters #Model parameters\n",
    "    \n",
    "    function Model_Data(Path)\n",
    "        sim, pops = read_inputs(path)\n",
    "        \n",
    "        Time = (0.0,sim.years[1]*365)\n",
    "        \n",
    "        U0, counts = intial_group_pops(sim, pops) #initial populations\n",
    "        \n",
    "        Parameters = Model_Parameters(sim, pops, U0, counts)\n",
    "        \n",
    "        new(Time, U0, Parameters)\n",
    "        \n",
    "    end\n",
    "    \n",
    "end  "
   ]
  },
  {
   "cell_type": "code",
   "execution_count": 291,
   "id": "48352700-648c-4e04-9b91-38facb58c747",
   "metadata": {},
   "outputs": [],
   "source": [
    "mutable struct Model_Parameters\n",
    "    #=\n",
    "    Structure to store key parameters\n",
    "    =#\n",
    "    \n",
    "    β::Matrix{Float64} #transmission matrix\n",
    "    β_connections::Matrix{Float64} #what feral groups are linked to each other\n",
    "    β_density::Matrix{Float64} #used to identify feral groups and farms for each population for density calcualtions\n",
    "    \n",
    "    μ_birth::Vector{Float64} #birth rate\n",
    "    μ_death::Vector{Float64} #natural death rate\n",
    "    μ_capicty::Vector{Float64} #density dependent death/birth rate (to ensure carrying capicity)\n",
    "    \n",
    "    ζ::Vector{Float64} #latent rate\n",
    "    γ::Vector{Float64} #recovery rate\n",
    "    ω::Vector{Float64} #corpse infection modifier\n",
    "    ρ::Vector{Float64} #death probability\n",
    "    λ::Vector{Float64} #corpse decay rate\n",
    "    \n",
    "    Populations::Population_Breakdown #breakdown of population\n",
    "    \n",
    "    function Model_Parameters(sim, pops, U0, Populations)\n",
    "        \n",
    "        β, β_density = population_beta(sim, pops, Populations)\n",
    "        β_connections = migration_births(β)\n",
    "        \n",
    "        μ_birth, μ_death, μ_capicty, ζ, γ, ω, ρ, λ = parameter_build(sim, pops, U0, Populations)\n",
    "        \n",
    "        new(β, β_connections, β_density, μ_birth, μ_death, μ_capicty, ζ, γ, ω, ρ, λ, Populations)\n",
    "    end\n",
    "    \n",
    "end"
   ]
  },
  {
   "cell_type": "code",
   "execution_count": null,
   "id": "93fb6b96-dafb-418e-acce-993a4d634f83",
   "metadata": {
    "tags": []
   },
   "outputs": [],
   "source": [
    "function population_connection(counts)\n",
    "    #=\n",
    "     Function to build the the connections between the populations\n",
    "     Could put in some error checking to make sure the entered populations are reasonable\n",
    "     \n",
    "     Inputs:\n",
    "     - counts, vector of the amount of farms and feral groups in each population\n",
    "     \n",
    "     Outputs:\n",
    "     -connections, vector of vectors containing the populations each population is connected too\n",
    "     =#\n",
    "     println(\"-------------------------------------\")\n",
    "     println(string(counts.pop,\" Populations!\\nEnter connections for each population\\n(for multiple seperate with space)\"))\n",
    "     println(\"-------------------------------------\")\n",
    "         \n",
    "     connections =  [Vector() for _ in 1:counts.pop]\n",
    "     \n",
    "     for i in 1:counts.pop\n",
    "         println(string(\"Population \", i , \" Connects to:\"))\n",
    "         nums = readline()\n",
    "         numv =  parse.(Int, split(nums, \" \"))\n",
    "         connections[i] = numv\n",
    "     end\n",
    "     \n",
    "     return connections\n",
    "end\n",
    "\n",
    "\n",
    "function infected_populations(input)\n",
    "    \n",
    "    Ni = parse(Int64, input.Value[4])\n",
    "\n",
    "    if Ni == 1\n",
    "        println(\"-------------------------------------\")\n",
    "        println(\"Single Population!\\nThe Only Populations Seeded With ASF!\")\n",
    "        println(\"-------------------------------------\") \n",
    "        numv = [1]\n",
    "    else\n",
    "        println(\"-------------------------------------\")\n",
    "        println(string(Ni,\" Populations!\\nEnter Populations Seeded With ASF! \\n(for multiple seperate with space)\"))\n",
    "        println(\"-------------------------------------\") \n",
    "        nums = readline()\n",
    "        numv =  parse.(Int, split(nums, \" \"))\n",
    "        \n",
    "    end\n",
    "    \n",
    "    return numv\n",
    "\n",
    "end "
   ]
  },
  {
   "cell_type": "code",
   "execution_count": null,
   "id": "e595960e-5e34-4f3e-9813-54c4698ec439",
   "metadata": {
    "tags": []
   },
   "outputs": [],
   "source": [
    "function population_beta(sim, pops, counts)\n",
    "    #=\n",
    "    function used to construct the transmission co-efficant matrix over all populations,\n",
    "    will build each population individaully then combine at end if need. \n",
    "    =#\n",
    "    \n",
    "    N_pops = sim.N_Pop\n",
    "    \n",
    "    beta_p = Matrix{Float64}[]\n",
    "    beta_dens = Matrix{Float64}[]\n",
    "    \n",
    "    for x in 1:N_pops \n",
    "        \n",
    "        data = pops[x]\n",
    "        \n",
    "        nf =  trunc(Int64,counts.feral[x]) #number of feral groups within pop\n",
    "        nl = trunc(Int64,counts.farm[x]) #number of farms within pop\n",
    "        \n",
    "        n_t = nf + nl\n",
    "        \n",
    "        n_o = nf -1 #number of other feral groups; excluding \"target group\"\n",
    "\n",
    "        if data.N_int[1] > n_o\n",
    "           # @warn \"Warning interconnectedness exceeds number of feral groups in population; average enterconnectedness set to total  number of feral groups - 1\"\n",
    "            n_aim = n_o \n",
    "        else\n",
    "            n_aim = data.N_int[1]\n",
    "        end\n",
    "\n",
    "        #using an erdos-renyi random network to determine inter-group interactions\n",
    "        p_c = n_aim / n_o #probability of a connection\n",
    "\n",
    "        if p_c == 1\n",
    "            beta_feral = erdos_renyi(nf,sum(1:n_o)) #every group connected with every other\n",
    "        else\n",
    "            beta_feral = erdos_renyi(nf,p_c) #not all groups are connected to every other\n",
    "        end\n",
    "\n",
    "        beta_m = Matrix(adjacency_matrix(beta_feral))\n",
    "        \n",
    "        beta_m = Float64.(beta_m) \n",
    "        \n",
    "        beta_t = (x+1)*beta_m #used to keep track of density\n",
    "        #looking at feral\n",
    "        \n",
    "        #setting feral values\n",
    "        if sim.Identical == true #if no varition between groups in a pop\n",
    "\n",
    "            beta_m = beta_m * data.B_ff[1] .* (1/n_aim) #inter group\n",
    "            beta_m[diagind(beta_m)] .= data.B_f[1] #intra group\n",
    "\n",
    "        else #variaiton between inter-population groups\n",
    "\n",
    "            i_f = TruncatedNormal(data.B_f[1],data.B_f[2],0,5) #intra group\n",
    "            b_i_f = rand(i_f, nf) \n",
    "            beta_m[diagind(beta_m)] = b_i_f\n",
    "            \n",
    "            i_ff = TruncatedNormal(data.B_ff[1],data.B_ff[2],0,5) #inter group\n",
    "            \n",
    "            for i in 1:nf\n",
    "                for j in 1:nf\n",
    "                    if i>j && beta_m[i,j] != 0\n",
    "                        beta_m[i,j] = beta_m[j,i]  = rand(i_ff).* (1/n_aim) \n",
    "                    end\n",
    "                end\n",
    "            end\n",
    "\n",
    "        end\n",
    "        \n",
    "        \n",
    "\n",
    "        #now loooking at farms\n",
    "        if nl != 0  #there are farm populations \n",
    "            \n",
    "            N = nf + nl\n",
    "            beta = zeros((N,N))\n",
    "            beta_tt = zeros((N,N))\n",
    "            beta[1:nf,1:nf] = beta_m \n",
    "            beta_tt[1:nf,1:nf] = beta_t\n",
    "\n",
    "            #currently assumes 1 farm-group interaction term\n",
    "\n",
    "            if sim.Identical == true #if no varition between groups in a pop\n",
    "\n",
    "                for i in nf+1:N\n",
    "\n",
    "                    feral_pop = rand(1:nf) # the feral population the farm can interact within\n",
    "                    beta[i,i] = data.B_l[1] #transmission within farm pop\n",
    "\n",
    "                    beta[i,feral_pop] = data.B_fl[1]\n",
    "                    beta[feral_pop, i] = data.B_fl[1]\n",
    "                    \n",
    "                    beta_tt[i,feral_pop] = 99\n",
    "                    beta_tt[feral_pop, i] = 99\n",
    "                end\n",
    "\n",
    "            else\n",
    "                \n",
    "                i_l = TruncatedNormal(data.B_l[1],data.B_l[2],0,5)\n",
    "                i_fl = TruncatedNormal(data.B_fl[1],data.B_fl[2],0,5)\n",
    "\n",
    "                for i in nf+1:N\n",
    "\n",
    "                    feral_pop = rand(1:nf) # the feral population the farm can interact within\n",
    "                    beta[i,i] = rand(i_l)#transmission within farm pop\n",
    "\n",
    "                    b_i_fl = rand(i_fl)\n",
    "                    beta[i,feral_pop] = b_i_fl\n",
    "                    beta[feral_pop, i] = b_i_fl\n",
    "                    \n",
    "                    beta_tt[i,feral_pop] = 99\n",
    "                    beta_tt[feral_pop, i] = 99\n",
    "                end\n",
    "\n",
    "            end\n",
    "        \n",
    "        else #no farms in this population\n",
    "            beta = beta_m \n",
    "            beta_tt = beta_t\n",
    "    \n",
    "        end\n",
    "        \n",
    "        push!(beta_p, beta)\n",
    "        push!(beta_dens, beta_tt)\n",
    "    end\n",
    "    \n",
    "\n",
    "    if N_pops > 1\n",
    "        beta,beta_density = combine_beta!(beta_p,beta_dens,counts)\n",
    "    else\n",
    "        beta = beta_p[1]\n",
    "        beta_density = beta_dens[1]\n",
    "    end\n",
    "    \n",
    "    return beta, beta_density\n",
    "    \n",
    "end\n",
    "\n",
    "\n",
    "function combine_beta!(beta_p, beta_d, counts)\n",
    "    \n",
    "    connections = population_connection(counts)\n",
    "    \n",
    "    cs_g = counts.cum_sum\n",
    "  \n",
    "    N = sum(counts.total)\n",
    "    beta = zeros(N,N)\n",
    "    beta_density  = zeros(N,N)\n",
    "    \n",
    "    links = []\n",
    "    \n",
    "        for i in 1:counts.pop\n",
    "\n",
    "            linked_pops = connections[i]\n",
    "            beta[cs_g[i]+1:cs_g[i+1],cs_g[i]+1:cs_g[i+1]] = beta_p[i]\n",
    "            beta_density[cs_g[i]+1:cs_g[i+1],cs_g[i]+1:cs_g[i+1]] = beta_d[i]\n",
    "            for j in connections[i]\n",
    "                \n",
    "                new_link = sort([i,j]) #checking if we have already linked the two populations\n",
    "\n",
    "                if new_link ∉ links\n",
    "                    #println(new_link)\n",
    "                    push!(links, sort([i,j])) #storing the link\n",
    "\n",
    "                    println(\"-------------------------------------\")\n",
    "                    println(string(\"Strength of Population \", i, \" to Population \", j, \" Transmission:\"))\n",
    "                    str = readline()\n",
    "                    str = parse(Float64, str) \n",
    "\n",
    "                    #the chosen population\n",
    "                    ll = cs_g[i] + 1\n",
    "                    ul = cs_g[i] + counts.feral[i]\n",
    "                    l_group = rand(ll:ul)\n",
    "\n",
    "                    #populations the chosen population is linked too\n",
    "                    ll_s = cs_g[j] + 1\n",
    "\n",
    "                    ul_s = cs_g[j] + counts.feral[j]\n",
    "\n",
    "                    s_group = rand(ll_s:ul_s)\n",
    "\n",
    "                    beta[l_group,s_group] = str\n",
    "                    beta[s_group,l_group] = str\n",
    "                    \n",
    "                end\n",
    "\n",
    "            end\n",
    "        end\n",
    "    \n",
    "    beta_density[diagind(beta_density)] .= 0\n",
    "    \n",
    "    \n",
    "    return beta, beta_density\n",
    "end\n"
   ]
  },
  {
   "cell_type": "code",
   "execution_count": null,
   "id": "c375dbbb-597c-49c8-bb4b-8007f7874eee",
   "metadata": {
    "jupyter": {
     "source_hidden": true
    },
    "tags": []
   },
   "outputs": [],
   "source": [
    "function intial_group_pops(sim, pops)\n",
    "    #=\n",
    "    Function to build the initial populations for each group in each population and Each group is divided into\n",
    "    five classes- S,E,I,R,C. Also determines in which group ASF is seeded\n",
    "    \n",
    "    Inputs:\n",
    "    - sim, the simulation meta data\n",
    "    - pops, data on n populations used in the model\n",
    "\n",
    "    Outputs:\n",
    "    -y_total, vector of intial population distributions \n",
    "    -counts, vector of the amount of farms and feral groups in each population\n",
    "    =#\n",
    "    \n",
    "    N_class = 5 #S,E,I,R,C\n",
    "    \n",
    "    p_i = sim.N_Inf #what population seeded with ASF\n",
    "    y_total = [] #vector to store initial populations\n",
    "    \n",
    "    farm_count = [] #vector to store farm counts\n",
    "    feral_count = [] #vector to store feral counts\n",
    "    \n",
    "    densities = [] #vector to store each population's density\n",
    "    areas = [] #vector to store each population's area\n",
    "    \n",
    "    for i in 1:sim.N_Pop #looping through all populations\n",
    "        \n",
    "        data = pops[i]\n",
    "        \n",
    "        #Density of population\n",
    "        Density_D = TruncatedNormal(data.Dense[1],data.Dense[2],0,100)\n",
    "        Density = rand(Density_D)\n",
    "        \n",
    "        #number of farms and feral groups for each population are drawn from a distribution\n",
    "        \n",
    "        if data.N_feral[1] == 0\n",
    "            N_feral = 0\n",
    "            push!(feral_count, N_feral)\n",
    "        else\n",
    "            N_feral_D = TruncatedNormal(data.N_feral[1],data.N_feral[2],0,1000) #number of feral group distribution\n",
    "            N_feral = trunc(Int64,rand(N_feral_D))\n",
    "            push!(feral_count, N_feral)\n",
    "        end\n",
    "       \n",
    "        \n",
    "        if data.N_farm[1] == 0\n",
    "            N_farm = 0\n",
    "            push!(farm_count, N_farm)\n",
    "        else\n",
    "            N_farm_D = TruncatedNormal(data.N_farm[1],data.N_farm[2],0,100) #number of farms distribution\n",
    "            N_farm =  trunc(Int64,rand(N_farm_D))\n",
    "            push!(farm_count,N_farm)\n",
    "        end\n",
    "        \n",
    "        push!(densities, Density)\n",
    "        \n",
    "        N_total = N_feral + N_farm\n",
    "        \n",
    "        y0 = zeros(N_class*N_total)\n",
    "        \n",
    "        group_feral_pops = Normal(data.N_f[1],data.N_f[2]) #dist for number of pigs in selected feral group\n",
    "        pop_groups = round.(Int,rand(group_feral_pops, N_feral)) #drawing the populations of each feral group in population\n",
    "        \n",
    "        #now seededing ASF in feral populations\n",
    "        \n",
    "        if i in p_i #population that have ASF in a group\n",
    "            \n",
    "            g_i = rand(1:N_feral) #choosing group to seed ASF\n",
    "         \n",
    "            for k in 1:N_feral #looping through groups\n",
    "                \n",
    "                l = (k-1)*N_class+1\n",
    "                \n",
    "                if k == g_i # if group is the seeded group\n",
    "                    \n",
    "                    d_e = TruncatedNormal(data.N_e[1],data.N_e[2], 0, 100) #dist for number of pigs exposed\n",
    "                    d_i = TruncatedNormal(data.N_i[1],data.N_i[2], 0, 100) #dist for number of pigs infected\n",
    "                    \n",
    "                    t_e = round(Int,rand(d_e)) #number of exposed in group\n",
    "                    t_i = round(Int,rand(d_i)) #number of infected in group\n",
    "                    \n",
    "                    t_pop = pop_groups[k]\n",
    "                    \n",
    "                    y0[l] = max(0,t_pop-t_e-t_i)\n",
    "                    y0[l+1] = t_e\n",
    "                    y0[l+2] = t_i\n",
    "                    \n",
    "                else\n",
    "                    \n",
    "                    y0[l] = pop_groups[k]\n",
    "                    \n",
    "                end\n",
    "                \n",
    "            end\n",
    "            \n",
    "        else # population does not have ASF in any groups\n",
    "            \n",
    "            y0[1:5:N_class*N_feral] = pop_groups\n",
    "            \n",
    "        end\n",
    "        \n",
    "        total_pop = sum(y0)\n",
    "        total_area = total_pop/Density\n",
    "        \n",
    "        push!(areas, total_area)\n",
    "        \n",
    "        #livestock populations\n",
    "        group_farm_pops = TruncatedNormal(data.N_l[1],data.N_l[2],0,10000)#distribution of group sizes         \n",
    "        farm_groups = round.(Int,rand(group_farm_pops, N_farm))\n",
    "        y0[N_class*N_feral+1:5:end] = farm_groups\n",
    "\n",
    "        append!(y_total, y0)\n",
    "        \n",
    "    end\n",
    "    \n",
    "    counts = Population_Breakdown(feral_count,farm_count, densities, areas, sim.N_Inf)\n",
    "\n",
    "    return trunc.(Int,y_total), counts\n",
    "\n",
    "    \n",
    "end\n"
   ]
  },
  {
   "cell_type": "code",
   "execution_count": null,
   "id": "f87fbfad-1396-44c6-9765-a4d9561b2adc",
   "metadata": {},
   "outputs": [],
   "source": []
  },
  {
   "cell_type": "code",
   "execution_count": 260,
   "id": "d968170d-3e9c-48b4-b82c-792a32ac337e",
   "metadata": {
    "jupyter": {
     "source_hidden": true
    },
    "tags": []
   },
   "outputs": [
    {
     "data": {
      "text/plain": [
       "regular_rate (generic function with 1 method)"
      ]
     },
     "execution_count": 260,
     "metadata": {},
     "output_type": "execute_result"
    }
   ],
   "source": [
    "function parameter_build(sim, pops, init_pops, counts)\n",
    "    #=\n",
    "    Function that builds most parameters for model\n",
    "    =#\n",
    "   \n",
    "    K = init_pops[1:5:end] + init_pops[2:5:end] + init_pops[3:5:end] #carrying capacity of each group\n",
    "    \n",
    "    # All other params\n",
    "    \n",
    "    ζ = [] #latent rate\n",
    "    γ = [] #recovery/death rate\n",
    "    μ_b = [] #births\n",
    "    μ_d = [] #natural death rate\n",
    "    μ_g = [] #density dependent deaths\n",
    "    ω = [] #corpse infection modifier\n",
    "    ρ = [] #ASF mortality\n",
    "    λ = [] #corpse decay rate\n",
    "    \n",
    "    for i in 1:counts.pop\n",
    "        data =  pops[i]\n",
    "        \n",
    "        nf = counts.feral[i]\n",
    "        nl = counts.farm[i]\n",
    "        nt = counts.total[i]\n",
    "        \n",
    "        cs = counts.cum_sum\n",
    "        \n",
    "        if sim.Identical == true #if running off means\n",
    "            \n",
    "            ζ_r = repeat([data.Latent[1]],nt)\n",
    "            append!(ζ,ζ_r)\n",
    "            \n",
    "            γ_r = repeat([data.Recovery[1]],nt)\n",
    "            append!(γ,γ_r)\n",
    "            \n",
    "            μ_b_r = repeat([data.Birth[1]],nt)\n",
    "            append!(μ_b,μ_b_r)\n",
    "            \n",
    "            μ_d_r = repeat([data.Death_n[1]],nt)\n",
    "            append!(μ_d,μ_d_r)\n",
    "            \n",
    "            μ_g_r =  (μ_b_r-μ_d_r)./K[cs[i]+1:cs[i+1]]\n",
    "            append!(μ_g,μ_g_r)\n",
    "            \n",
    "            ω_r = repeat([data.Corpse[1]],nt)\n",
    "            append!(ω,ω_r)\n",
    "            \n",
    "            ρ_r = repeat([data.Death[1]],nt)\n",
    "            append!(ρ,ρ_r)\n",
    "            \n",
    "            λ_fr = repeat([data.Decay_f[1]],nf)\n",
    "            λ_lr = repeat([data.Decay_l[1]],nl)\n",
    "            append!(λ,λ_fr)\n",
    "            append!(λ,λ_lr)\n",
    "\n",
    "            \n",
    "        else #running of distros\n",
    "            \n",
    "            ζ_d = TruncatedNormal(data.Latent[1], data.Latent[2],0,5) #latent dist\n",
    "            γ_d = TruncatedNormal(data.Recovery[1], data.Recovery[2],0,5) #r/d rate dist\n",
    "            μ_b_d = TruncatedNormal(data.Birth[1], data.Birth[2],0,1) #birth dist\n",
    "            μ_d_d = TruncatedNormal(data.Death_n[1], data.Death_n[2],0,1) #n death dist\n",
    "            ω_d = TruncatedNormal(data.Corpse[1], data.Corpse[2],0,1) #corpse inf dist\n",
    "            ρ_d = TruncatedNormal(data.Death[1], data.Death[2],0,1) #mortality dist\n",
    "            λ_fd = TruncatedNormal(data.Decay_f[1], data.Decay_f[2],0,1) #corpse decay feral dist\n",
    "            λ_ld = TruncatedNormal(data.Decay_l[1], data.Decay_l[2],0,5) #corpse decay farm dist\n",
    "\n",
    "            append!(ζ,rand(ζ_d,nt))\n",
    "            append!(γ,rand(γ_d,nt))\n",
    "            append!(ω,rand(ω_d,nt))\n",
    "            append!(ρ,rand(ρ_d,nt))\n",
    "\n",
    "            μ_b_r = rand(μ_b_d,nt)\n",
    "            μ_d_r = rand(μ_d_d,nt)\n",
    "            \n",
    "            append!(μ_b, μ_b_r)\n",
    "            append!(μ_d, μ_d_r) \n",
    "            \n",
    "            μ_g_r =  (μ_b_r-μ_d_r)./K[cs[i]+1:cs[i+1]]\n",
    "            append!(μ_g,μ_g_r)\n",
    "            \n",
    "            append!(λ,rand(λ_fd,nf))\n",
    "            append!(λ,rand(λ_ld,nl))\n",
    "        \n",
    "        end\n",
    "        \n",
    "    end\n",
    "\n",
    "    return  μ_b, μ_d, μ_g, ζ, γ, ω, ρ, λ\n",
    "    \n",
    "end\n",
    "\n",
    "function read_inputs(path)\n",
    "    #=\n",
    "    Function to read in the data for the tau simulation. Expecting a file for simulation meta data, \n",
    "    a folder with population data and another folder with seasonal data\n",
    "    \n",
    "    Inputs:\n",
    "    -path, the path to directory with data for suns\n",
    "\n",
    "    Outputs:\n",
    "    -simulation, the simulation meta data\n",
    "    -pops, data on n populations used in the model\n",
    "    -seasonal, seaonal data on the n populations \n",
    "    =#\n",
    "    \n",
    "    Simulation = CSV.read(string(path,\"/Simulation_Data.csv\"), DataFrame; comment=\"#\") #reading in simulation meta data\n",
    "    \n",
    "    \n",
    "    n_inf  = infected_populations(Simulation)\n",
    "        \n",
    "    Sim = Meta_Data(Simulation,n_inf)\n",
    "    \n",
    "    Pops = Vector{Population_Data}(undef, Sim.N_Pop)\n",
    "    #Seasons = [DataFrame() for _ in 1:Sim.N_Pop] seasons not currently in use\n",
    "    \n",
    "    for i in 1:Sim.N_Pop\n",
    "        pop_data = CSV.read(string(path,\"Population/Population_\",i,\".csv\"), DataFrame; comment=\"#\") \n",
    "        Pops[i] = Population_Data(pop_data)\n",
    "        #Seasons[i] = CSV.read(string(path,\"Seasonal/Seasonal_\",i,\".csv\"), DataFrame; comment=\"#\")\n",
    "    end\n",
    "    \n",
    "    return Sim, Pops #, Seasons\n",
    "    \n",
    "end \n",
    "\n",
    "function migration_births(β)\n",
    "   #=\n",
    "    function for to find connected groups to determine births from other groups that migrate into said group\n",
    "    needed to help prevent stochastic group die-out\n",
    "    =#\n",
    "    \n",
    "    βb = β .!= 0 #matrix of all connected groups\n",
    "    βb[diagind(βb)] .= 0 #setting intra group value to 0,as meant to be births from other groups\n",
    "    \n",
    "    migration_modifier = 0.01 # X% external births vs internal births\n",
    "    \n",
    "    for j in 1:counts.pop #here to stop migratory births from connected groups in neighbouring populations\n",
    "        \n",
    "        ll = counts.cum_sum[j]+counts.feral[j] + 1\n",
    "        uu = counts.cum_sum[j+1]\n",
    "        \n",
    "        βb[:,ll:uu] .= 0\n",
    "        βb[ll:uu,:] .= 0\n",
    "        \n",
    "        βb[diagind(βb)] .= 0\n",
    "    \n",
    "    end\n",
    "    \n",
    "end\n",
    "    \n",
    "    \n",
    "    \n",
    "function tau_simulation(path)\n",
    "    #=\n",
    "    Function to run the tau-leaping simulation.\n",
    "    \n",
    "    Inputs\n",
    "    - path, the path to directory with data for suns\n",
    "    - save, if we want to save the results of the simulation\n",
    "\n",
    "    Outputs:\n",
    "    -df, dataframe with model output\n",
    "    =#\n",
    "    \n",
    "    \n",
    "    sim, pops = read_inputs(path) #reading input directory\n",
    "    \n",
    "    p, init_pops, tspan = population_input_build(sim,pops) #constructing params for simulation\n",
    "\n",
    "    return p, init_pops, tspan, pops\n",
    "end\n"
   ]
  },
  {
   "cell_type": "code",
   "execution_count": null,
   "id": "0e5365dd-1479-47c1-91fe-708e65a91100",
   "metadata": {
    "tags": []
   },
   "outputs": [],
   "source": []
  },
  {
   "cell_type": "code",
   "execution_count": 6,
   "id": "cc9a5399-838f-4576-826e-a73b01057455",
   "metadata": {},
   "outputs": [
    {
     "data": {
      "text/plain": [
       "\"/home/callum/Julia/ASF_Input/\""
      ]
     },
     "execution_count": 6,
     "metadata": {},
     "output_type": "execute_result"
    }
   ],
   "source": [
    "input_path = \"/home/callum/Julia/ASF_Input/\""
   ]
  },
  {
   "cell_type": "code",
   "execution_count": 276,
   "id": "10f27251-749e-4224-8d6a-ce9b2b374b64",
   "metadata": {},
   "outputs": [
    {
     "data": {
      "text/plain": [
       "22×22 BitMatrix:\n",
       " 1  1  1  1  0  1  1  0  1  1  0  1  0  0  0  0  0  0  0  0  0  0\n",
       " 1  1  1  0  1  0  1  1  1  0  0  0  0  0  0  0  0  0  0  0  0  0\n",
       " 1  1  1  1  0  0  1  1  1  1  0  0  0  0  0  0  0  0  0  0  0  0\n",
       " 1  0  1  1  0  0  1  0  1  0  0  0  0  0  0  0  0  0  1  0  0  0\n",
       " 0  1  0  0  1  0  0  0  0  1  0  0  0  0  0  0  0  0  0  0  0  0\n",
       " 1  0  0  0  0  1  0  0  1  0  0  0  0  0  0  0  0  0  0  0  0  0\n",
       " 1  1  1  1  0  0  1  1  1  0  0  0  0  0  0  0  0  0  0  0  0  0\n",
       " 0  1  1  0  0  0  1  1  0  0  0  0  0  0  0  0  0  0  0  0  0  0\n",
       " 1  1  1  1  0  1  1  0  1  0  0  0  0  0  0  0  0  0  0  0  0  0\n",
       " 1  0  1  0  1  0  0  0  0  1  1  0  0  0  0  0  0  0  0  0  0  0\n",
       " 0  0  0  0  0  0  0  0  0  1  1  0  0  0  0  0  0  0  0  0  0  0\n",
       " 1  0  0  0  0  0  0  0  0  0  0  1  0  0  0  0  0  0  0  0  0  0\n",
       " 0  0  0  0  0  0  0  0  0  0  0  0  1  1  1  1  1  1  0  0  1  1\n",
       " 0  0  0  0  0  0  0  0  0  0  0  0  1  1  1  0  1  1  0  1  1  0\n",
       " 0  0  0  0  0  0  0  0  0  0  0  0  1  1  1  0  0  0  1  1  0  1\n",
       " 0  0  0  0  0  0  0  0  0  0  0  0  1  0  0  1  0  1  1  1  1  1\n",
       " 0  0  0  0  0  0  0  0  0  0  0  0  1  1  0  0  1  0  1  0  0  0\n",
       " 0  0  0  0  0  0  0  0  0  0  0  0  1  1  0  1  0  1  0  1  0  1\n",
       " 0  0  0  1  0  0  0  0  0  0  0  0  0  0  1  1  1  0  1  0  0  0\n",
       " 0  0  0  0  0  0  0  0  0  0  0  0  0  1  1  1  0  1  0  1  1  1\n",
       " 0  0  0  0  0  0  0  0  0  0  0  0  1  1  0  1  0  0  0  1  1  1\n",
       " 0  0  0  0  0  0  0  0  0  0  0  0  1  0  1  1  0  1  0  1  1  1"
      ]
     },
     "execution_count": 276,
     "metadata": {},
     "output_type": "execute_result"
    }
   ],
   "source": [
    "parameters[1] .!=0"
   ]
  },
  {
   "cell_type": "code",
   "execution_count": 81,
   "id": "c08d2d66-b4d6-413a-bcad-a03c139b6a8c",
   "metadata": {},
   "outputs": [
    {
     "data": {
      "text/plain": [
       "0.0"
      ]
     },
     "execution_count": 81,
     "metadata": {},
     "output_type": "execute_result"
    }
   ],
   "source": [
    "sum(Diagonal(parameters[12]))"
   ]
  },
  {
   "cell_type": "code",
   "execution_count": 261,
   "id": "5a885d45-bfbc-440c-a415-089fcc3383c6",
   "metadata": {},
   "outputs": [
    {
     "name": "stdout",
     "output_type": "stream",
     "text": [
      "-------------------------------------\n",
      "2 Populations!\n",
      "Enter Populations Seeded With ASF! \n",
      "(for multiple seperate with space)\n",
      "-------------------------------------\n"
     ]
    },
    {
     "name": "stdin",
     "output_type": "stream",
     "text": [
      "stdin>  1\n"
     ]
    },
    {
     "name": "stdout",
     "output_type": "stream",
     "text": [
      "-------------------------------------\n",
      "2 Populations!\n",
      "Enter connections for each population\n",
      "(for multiple seperate with space)\n",
      "-------------------------------------\n",
      "Population 1 Connects to:\n"
     ]
    },
    {
     "name": "stdin",
     "output_type": "stream",
     "text": [
      "stdin>  2\n"
     ]
    },
    {
     "name": "stdout",
     "output_type": "stream",
     "text": [
      "Population 2 Connects to:\n"
     ]
    },
    {
     "name": "stdin",
     "output_type": "stream",
     "text": [
      "stdin>  1\n"
     ]
    },
    {
     "name": "stdout",
     "output_type": "stream",
     "text": [
      "-------------------------------------\n",
      "Strength of Population 1 to Population 2 Transmission:\n"
     ]
    },
    {
     "name": "stdin",
     "output_type": "stream",
     "text": [
      "stdin>  0.01\n"
     ]
    }
   ],
   "source": [
    "parameters, init_pops, tspan, pops = tau_simulation(input_path);"
   ]
  },
  {
   "cell_type": "code",
   "execution_count": 8,
   "id": "fa48b52f-76e3-4fa7-b575-5eff9941c38f",
   "metadata": {},
   "outputs": [
    {
     "data": {
      "text/plain": [
       "density_rate (generic function with 1 method)"
      ]
     },
     "execution_count": 8,
     "metadata": {},
     "output_type": "execute_result"
    }
   ],
   "source": [
    "function density_rate(out,u,p,t)\n",
    "    \n",
    "    β, ζ, γ, μ_b, μ_d, μ_g, ω, ρ, λ, βb, counts, β_den = p\n",
    "   \n",
    "    u[u.<0].=0 \n",
    "    S = u[1:5:end]\n",
    "    E = u[2:5:end]\n",
    "    I = u[3:5:end]\n",
    "    R = u[4:5:end]\n",
    "    C = u[5:5:end]\n",
    "    \n",
    "    N = S + E + I + R + C .+ 0.001\n",
    "    Np = S + E + I + R\n",
    "    \n",
    "    \n",
    "    tp = counts.cum_sum[end]\n",
    "\n",
    "    for i in 1:counts.pop\n",
    "        j = i + 1 \n",
    "\n",
    "        nf = counts.feral[i] #number of feral groups in region\n",
    "        nt = counts.total[i] #number of feral groups and farms in region\n",
    "        ncs = counts.cum_sum[i] #cumsum of farm and ferals over all regions\n",
    "\n",
    "        N_feral = sum(N[ncs+1:ncs+nf]) #total feral population in region i\n",
    "        Density = N_feral/counts.area[i]\n",
    "        println(Density)\n",
    "        β[β_den .== j] *= Density\n",
    "\n",
    "    end\n",
    "\n",
    "\n",
    "    populations  = hcat([column(i) for i=1:tp]...)\n",
    "    populations[diagind(populations)] = N;\n",
    "    \n",
    "    Births = μ_b.*Np + migration_births*(μ_b.*(βb*Np))\n",
    "    Infect = ((β .* S) ./ populations) * (I+ω.*C)#ASF Infections\n",
    "    Infectous = ζ.*E\n",
    "    Recover = γ.*(1 .- ρ).*I #ASF Recoveries\n",
    "    Death_I = ρ.*γ.*I #ASF Deaths in I\n",
    "    Death_nI = μ_d.*I+ μ_g.*(Np.*I) #Natural Deaths in I\n",
    "    Death_S = μ_d.*S + μ_g.*(Np.*S) #Natural Deaths S\n",
    "    Death_E = μ_d.*E + μ_g.*(Np.*E)\n",
    "    Death_R = μ_d.*R + μ_g.*(Np.*R) #Natural Deaths R\n",
    "    Decay_C = λ.*C #Body Decomposition \n",
    "    \n",
    "    \n",
    "    out[1:10:end] = Births\n",
    "    out[2:10:end] = Death_S\n",
    "    out[3:10:end] = Infect\n",
    "    out[4:10:end] = Death_E\n",
    "    out[5:10:end] = Infectous\n",
    "    out[6:10:end] = Death_I\n",
    "    out[7:10:end] = Death_nI\n",
    "    out[8:10:end] = Recover\n",
    "    out[9:10:end] = Death_R\n",
    "    out[10:10:end] = Decay_C\n",
    "end"
   ]
  },
  {
   "cell_type": "code",
   "execution_count": 9,
   "id": "550c1b40-ea46-46a3-891c-0392a59a4199",
   "metadata": {},
   "outputs": [
    {
     "data": {
      "text/plain": [
       "prob_func (generic function with 1 method)"
      ]
     },
     "execution_count": 9,
     "metadata": {},
     "output_type": "execute_result"
    }
   ],
   "source": [
    "function regular_c(du,u,p,t,counts,mark)  \n",
    "    mul!(du,dc,counts)\n",
    "end\n",
    "\n",
    "function prob_func(prob,i,repeat)\n",
    "                prime = MASF.reparam!(params, init_pops, pops, counts)\n",
    "                remake(prob,p= prime)\n",
    "end "
   ]
  },
  {
   "cell_type": "code",
   "execution_count": 139,
   "id": "4aae6830-397c-4821-b5c1-f2a893c04767",
   "metadata": {},
   "outputs": [
    {
     "data": {
      "text/plain": [
       "13-element Vector{Any}:\n",
       " [25930.47280732925 0.0 … 0.0 0.0; 0.0 25576.349831354753 … 0.0 0.0; … ; 0.0 0.0 … 25421.05627002076 6043.486674262658; 0.0 0.0 … 6043.486674262658 18692.35970147449]\n",
       " Any[0.26476848965083327, 0.2502310911239528, 0.26003561554724075, 0.23945221691852672, 0.23964848778901618, 0.22905708140726042, 0.24086384506415065, 0.24371721364433738, 0.25400269255452046, 0.254989272191423  …  0.25651734898735035, 0.2371259124456781, 0.2471083465772917, 0.23868627684930335, 0.2410905274502601, 0.24081132982611014, 0.24794137371275804, 0.23920817569218275, 0.26525653392554027, 0.24975260890369944]\n",
       " Any[0.1519077060458328, 0.145629941219548, 0.14991320568497593, 0.14005264776226878, 0.14889082849605448, 0.13915172829083824, 0.14699575273216203, 0.146255700362107, 0.16147879204658896, 0.1388253446173492  …  0.1546889335691125, 0.13280555336650127, 0.14147599444041659, 0.1386063374785822, 0.14850311367255647, 0.14120707383722245, 0.14740729830116586, 0.13553991401186613, 0.14454977936869887, 0.14321918063556416]\n",
       " Any[0.006037618253993518, 0.006059411856239671, 0.0059702815989078565, 0.0060270659828003505, 0.005843356502997844, 0.006172833686021666, 0.00608427083901855, 0.006013619356240867, 0.005913523312610991, 0.006035427608862787  …  0.006194462582442206, 0.006034570987525484, 0.006105873758135602, 0.005981987076695376, 0.006017236173864324, 0.006100761280401069, 0.005965520968151028, 0.006163911831660295, 0.006007835448837803, 0.005957175264863953]\n",
       " Any[0.003903783130713306, 0.003918320067065141, 0.004114141107773629, 0.003984139849181621, 0.004074000539355934, 0.003993119424853155, 0.003911087142080569, 0.003973612892457469, 0.00385668224939566, 0.0040068047661153796  …  0.003923730108552461, 0.00404273387863966, 0.00401055562129518, 0.00400508136158656, 0.003977594168611998, 0.003891858916328485, 0.00397746152625162, 0.004050535236352575, 0.003947376279514544, 0.003892432444487045]\n",
       " Any[0.00021338351232802117, 0.00019464470810677545, 0.0001546783742611856, 0.00022699179262430328, 0.0001608505421492645, 0.00024219047346316785, 0.00019756215426708918, 0.00029142949482619977, 0.00015821854332425625, 0.00016905190356228394  …  0.00028384155923621816, 0.0002213152343206471, 0.00020953181368404223, 0.00021965619056764623, 0.00015689553886556352, 0.00022089023640725841, 0.00018073267653630982, 0.00021133765953077198, 0.0002575573961654074, 0.00015882637079822368]\n",
       " Any[0.19627353804565772, 0.20805744556426184, 0.19156717941908064, 0.2001086983456233, 0.18748713252713342, 0.2021416205732973, 0.17966598649393803, 0.21120116009029322, 0.18438974544752815, 0.19036930088889042  …  0.19065850220504615, 0.198389543768157, 0.19906708398635592, 0.20943895672164592, 0.17828776031133065, 0.20991464595004072, 0.18732501892719577, 0.20522347657933937, 0.19907022601307417, 0.18557617947029936]\n",
       " Any[0.7164109014683286, 0.669543256529137, 0.7725049463167055, 0.9351002077033034, 0.8767431181787424, 0.5442830674281776, 0.8297060417345946, 0.8266031282427335, 0.7099155379735198, 0.8703342870382101  …  0.7177420010806183, 0.8332087366774653, 0.7890986512429305, 0.9408598510481754, 0.7465157907082874, 0.7523967926613269, 0.8521582952434533, 0.9119577827088263, 0.7984588020223141, 0.8020693355542905]\n",
       " Any[0.14111911819215184, 0.15085796337933063, 0.13058309360135342, 0.12220939874040188, 0.14540826441537924, 0.14805068971182267, 0.14308956382274737, 0.15830547164351033, 0.14303938000939695, 0.1384630686752277  …  0.13217143106151924, 0.1415140166464662, 0.14533553384231643, 0.11460698011937401, 0.11363379760841141, 0.14252350770669323, 0.1470795477958564, 0.12981241833460253, 0.13660577027955695, 0.13545350828009856]\n",
       " Bool[1 0 … 0 0; 0 1 … 0 0; … ; 0 0 … 1 1; 0 0 … 1 1]\n",
       " Population_Breakdown([10, 10], [2, 0], [3.0, 3.0], [35.0, 33.666666666666664], 2, [12, 10], [0, 12, 22], [1])\n",
       " [2.0 2.0 … 2.0 2.0; 2.0 2.0 … 2.0 2.0; … ; 2.0 2.0 … 2.0 2.0; 2.0 2.0 … 2.0 2.0]\n",
       " Any[[9, 16]]"
      ]
     },
     "execution_count": 139,
     "metadata": {},
     "output_type": "execute_result"
    }
   ],
   "source": [
    "parameters"
   ]
  },
  {
   "cell_type": "code",
   "execution_count": 262,
   "id": "7d47d34f-d8ee-4f25-8209-53cbe59fd1dd",
   "metadata": {},
   "outputs": [],
   "source": [
    "counts = parameters[11]\n",
    "tp = counts.cum_sum[end]\n",
    "\n",
    "β = parameters[1]\n",
    "β_den = parameters[12]\n",
    "\n",
    "u = init_pops\n",
    "Si = u[1:5:end]\n",
    "Ei = u[2:5:end]\n",
    "Ii = u[3:5:end]\n",
    "Ri = u[4:5:end]\n",
    "Ci = u[5:5:end]\n",
    "\n",
    "N = Si + Ei + Ii + Ri + Ci .+ 0.001;"
   ]
  },
  {
   "cell_type": "code",
   "execution_count": 272,
   "id": "66535efc-4fea-4d6e-9cce-4c1742dfaea7",
   "metadata": {},
   "outputs": [
    {
     "name": "stdout",
     "output_type": "stream",
     "text": [
      "3.0002521008403367\n",
      "3.00030612244898\n"
     ]
    },
    {
     "data": {
      "text/plain": [
       "22-element Vector{Float64}:\n",
       " 0.0054756100855274355\n",
       " 0.5829117164870161\n",
       " 0.0043199703006373\n",
       " 0.0\n",
       " 0.004840003389073321\n",
       " 0.0\n",
       " 0.0054756100855274355\n",
       " 0.004591290929031383\n",
       " 0.0054756100855274355\n",
       " 0.0\n",
       " 0.0\n",
       " 0.0\n",
       " 0.0\n",
       " 0.0\n",
       " 0.0\n",
       " 0.0\n",
       " 0.0\n",
       " 0.0\n",
       " 0.0\n",
       " 0.0\n",
       " 0.0\n",
       " 0.0"
      ]
     },
     "execution_count": 272,
     "metadata": {},
     "output_type": "execute_result"
    }
   ],
   "source": [
    "for i in 1:counts.pop\n",
    "    j = i + 1 \n",
    "\n",
    "    nf = counts.feral[i] #number of feral groups in region\n",
    "    nt = counts.total[i] #number of feral groups and farms in region\n",
    "    ncs = counts.cum_sum[i] #cumsum of farm and ferals over all regions\n",
    "\n",
    "    N_feral = sum(N[ncs+1:ncs+nf]) #total feral population in region i\n",
    "    Density = N_feral/counts.area[i]\n",
    "    println(Density)\n",
    "    #β[β_den .== j] *= Density\n",
    "\n",
    "end\n",
    "\n",
    "\n",
    "populations  = hcat([column(i) for i=1:tp]...)\n",
    "populations[diagind(populations)] = N;\n",
    "\n",
    "dummy = ((β .* Si) ./ populations) * (Ii+ω*Ci)"
   ]
  },
  {
   "cell_type": "code",
   "execution_count": 241,
   "id": "fb1f043a-ce03-4df0-9c1b-62586d53c642",
   "metadata": {},
   "outputs": [
    {
     "data": {
      "text/plain": [
       "0.008800966666666667"
      ]
     },
     "execution_count": 241,
     "metadata": {},
     "output_type": "execute_result"
    }
   ],
   "source": [
    "0.0264029/3\n"
   ]
  },
  {
   "cell_type": "code",
   "execution_count": 266,
   "id": "28b8b172-33ef-4454-b2a1-fc298a2bf8b3",
   "metadata": {},
   "outputs": [
    {
     "data": {
      "text/plain": [
       "0.03520293333333333"
      ]
     },
     "execution_count": 266,
     "metadata": {},
     "output_type": "execute_result"
    }
   ],
   "source": [
    ".00528044*5/3*4"
   ]
  },
  {
   "cell_type": "code",
   "execution_count": null,
   "id": "0939ac9f-dafc-4d84-9f32-b2d6330bc3c5",
   "metadata": {},
   "outputs": [],
   "source": []
  },
  {
   "cell_type": "code",
   "execution_count": 201,
   "id": "a6e470fd-dde9-4ab2-99e2-b1f23adadbd6",
   "metadata": {},
   "outputs": [
    {
     "data": {
      "text/plain": [
       "22-element Vector{Float64}:\n",
       " 0.0\n",
       " 0.0\n",
       " 0.0\n",
       " 0.0\n",
       " 0.0\n",
       " 2.0\n",
       " 0.0\n",
       " 0.0\n",
       " 0.0\n",
       " 0.0\n",
       " 0.0\n",
       " 0.0\n",
       " 0.0\n",
       " 0.0\n",
       " 0.0\n",
       " 0.0\n",
       " 0.0\n",
       " 0.0\n",
       " 0.0\n",
       " 0.0\n",
       " 0.0\n",
       " 0.0"
      ]
     },
     "execution_count": 201,
     "metadata": {},
     "output_type": "execute_result"
    }
   ],
   "source": [
    "β = parameters[1]\n",
    "β_den = parameters[12]\n",
    "\n",
    "u = init_pops\n",
    "Si = u[1:5:end]\n",
    "Ei = u[2:5:end]\n",
    "Ii = u[3:5:end]\n",
    "Ri = u[4:5:end]\n",
    "Ci = u[5:5:end]\n",
    "\n",
    "N = Si + Ei + Ii + Ri + Ci .+ 0.001;"
   ]
  },
  {
   "cell_type": "code",
   "execution_count": 267,
   "id": "f31c857e-cb23-4ff6-879c-ff161b2d7302",
   "metadata": {},
   "outputs": [
    {
     "data": {
      "text/plain": [
       "22×22 Matrix{Float64}:\n",
       "   14.001    27.002    23.002    26.002  …    23.002    24.002    26.002\n",
       "   27.002    13.001    22.002    25.002       22.002    23.002    25.002\n",
       "   23.002    22.002     9.001    21.002       18.002    19.002    21.002\n",
       "   26.002    25.002    21.002    12.001       21.002    22.002    24.002\n",
       "   25.002    24.002    20.002    23.002       20.002    21.002    23.002\n",
       "   26.002    25.002    21.002    24.002  …    21.002    22.002    24.002\n",
       "   28.002    27.002    23.002    26.002       23.002    24.002    26.002\n",
       "   24.002    23.002    19.002    22.002       19.002    20.002    22.002\n",
       "   28.002    27.002    23.002    26.002       23.002    24.002    26.002\n",
       "   24.002    23.002    19.002    22.002       19.002    20.002    22.002\n",
       "  845.002   844.002   840.002   843.002  …   840.002   841.002   843.002\n",
       " 1147.0    1146.0    1142.0    1145.0       1142.0    1143.0    1145.0\n",
       "   23.002    22.002    18.002    21.002       18.002    19.002    21.002\n",
       "   26.002    25.002    21.002    24.002       21.002    22.002    24.002\n",
       "   24.002    23.002    19.002    22.002       19.002    20.002    22.002\n",
       "   22.002    21.002    17.002    20.002  …    17.002    18.002    20.002\n",
       "   26.002    25.002    21.002    24.002       21.002    22.002    24.002\n",
       "   22.002    21.002    17.002    20.002       17.002    18.002    20.002\n",
       "   22.002    21.002    17.002    20.002       17.002    18.002    20.002\n",
       "   23.002    22.002    18.002    21.002        9.001    19.002    21.002\n",
       "   24.002    23.002    19.002    22.002  …    19.002    10.001    22.002\n",
       "   26.002    25.002    21.002    24.002       21.002    22.002    12.001"
      ]
     },
     "execution_count": 267,
     "metadata": {},
     "output_type": "execute_result"
    }
   ],
   "source": [
    "aa"
   ]
  },
  {
   "cell_type": "code",
   "execution_count": 273,
   "id": "829af9c6-c65f-4713-8b66-7140af33eec5",
   "metadata": {},
   "outputs": [
    {
     "data": {
      "text/plain": [
       "22×22 Matrix{Float64}:\n",
       "   14.001    27.002    23.002    26.002  …    23.002    24.002    26.002\n",
       "   27.002    13.001    22.002    25.002       22.002    23.002    25.002\n",
       "   23.002    22.002     9.001    21.002       18.002    19.002    21.002\n",
       "   26.002    25.002    21.002    12.001       21.002    22.002    24.002\n",
       "   25.002    24.002    20.002    23.002       20.002    21.002    23.002\n",
       "   26.002    25.002    21.002    24.002  …    21.002    22.002    24.002\n",
       "   28.002    27.002    23.002    26.002       23.002    24.002    26.002\n",
       "   24.002    23.002    19.002    22.002       19.002    20.002    22.002\n",
       "   28.002    27.002    23.002    26.002       23.002    24.002    26.002\n",
       "   24.002    23.002    19.002    22.002       19.002    20.002    22.002\n",
       "  845.002   844.002   840.002   843.002  …   840.002   841.002   843.002\n",
       " 1147.0    1146.0    1142.0    1145.0       1142.0    1143.0    1145.0\n",
       "   23.002    22.002    18.002    21.002       18.002    19.002    21.002\n",
       "   26.002    25.002    21.002    24.002       21.002    22.002    24.002\n",
       "   24.002    23.002    19.002    22.002       19.002    20.002    22.002\n",
       "   22.002    21.002    17.002    20.002  …    17.002    18.002    20.002\n",
       "   26.002    25.002    21.002    24.002       21.002    22.002    24.002\n",
       "   22.002    21.002    17.002    20.002       17.002    18.002    20.002\n",
       "   22.002    21.002    17.002    20.002       17.002    18.002    20.002\n",
       "   23.002    22.002    18.002    21.002        9.001    19.002    21.002\n",
       "   24.002    23.002    19.002    22.002  …    19.002    10.001    22.002\n",
       "   26.002    25.002    21.002    24.002       21.002    22.002    12.001"
      ]
     },
     "execution_count": 273,
     "metadata": {},
     "output_type": "execute_result"
    }
   ],
   "source": [
    "populations"
   ]
  },
  {
   "cell_type": "code",
   "execution_count": null,
   "id": "7a2c53a7-ee44-4ba2-810a-6ecf5334482f",
   "metadata": {},
   "outputs": [],
   "source": []
  },
  {
   "cell_type": "code",
   "execution_count": 271,
   "id": "4fe1f6d2-e399-4695-8a51-6c5030ec3abe",
   "metadata": {},
   "outputs": [
    {
     "data": {
      "text/plain": [
       "column (generic function with 1 method)"
      ]
     },
     "execution_count": 271,
     "metadata": {},
     "output_type": "execute_result"
    }
   ],
   "source": [
    "column(i) = N .+ N[i]"
   ]
  },
  {
   "cell_type": "code",
   "execution_count": 162,
   "id": "c286b0de-c23f-4a25-ac9d-78ce7ed64ecb",
   "metadata": {},
   "outputs": [
    {
     "data": {
      "text/plain": [
       "newway (generic function with 1 method)"
      ]
     },
     "execution_count": 162,
     "metadata": {},
     "output_type": "execute_result"
    }
   ],
   "source": [
    "function newway()\n",
    "    \n",
    "    for i in 1:counts.pop\n",
    "        j = i + 1 \n",
    "        \n",
    "        nf = counts.feral[i] #number of feral groups in region\n",
    "        nt = counts.total[i] #number of feral groups and farms in region\n",
    "        ncs = counts.cum_sum[i] #cumsum of farm and ferals over all regions\n",
    "\n",
    "        N_feral = sum(N[ncs+1:ncs+nf]) #total feral population in region i\n",
    "        Density = N_feral/counts.area[i]\n",
    "        \n",
    "        β[β_den .== j] = β[β_den .== j]*Density\n",
    "        \n",
    "    end\n",
    "\n",
    "\n",
    "    populations  = hcat([column(i) for i=1:tp]...)\n",
    "    populations[diagind(populations)] = N;\n",
    "    \n",
    "    dummy = ((β .* Si) ./ populations) * (Ii+ω*Ci)\n",
    "end"
   ]
  },
  {
   "cell_type": "code",
   "execution_count": 48,
   "id": "3340b1ad-769b-4a94-8d5a-84e128a9419a",
   "metadata": {},
   "outputs": [
    {
     "name": "stderr",
     "output_type": "stream",
     "text": [
      "WARNING: using BenchmarkTools.params in module Main conflicts with an existing identifier.\n"
     ]
    }
   ],
   "source": [
    "using BenchmarkTools\n"
   ]
  },
  {
   "cell_type": "code",
   "execution_count": 63,
   "id": "be9d4eb3-55cf-4cbc-a7ca-8593dff5956b",
   "metadata": {},
   "outputs": [
    {
     "data": {
      "text/plain": [
       "BenchmarkTools.Trial: 10000 samples with 1 evaluation.\n",
       " Range \u001b[90m(\u001b[39m\u001b[36m\u001b[1mmin\u001b[22m\u001b[39m … \u001b[35mmax\u001b[39m\u001b[90m):  \u001b[39m\u001b[36m\u001b[1m46.096 μs\u001b[22m\u001b[39m … \u001b[35m  4.859 ms\u001b[39m  \u001b[90m┊\u001b[39m GC \u001b[90m(\u001b[39mmin … max\u001b[90m): \u001b[39m0.00% … 98.43%\n",
       " Time  \u001b[90m(\u001b[39m\u001b[34m\u001b[1mmedian\u001b[22m\u001b[39m\u001b[90m):     \u001b[39m\u001b[34m\u001b[1m47.060 μs               \u001b[22m\u001b[39m\u001b[90m┊\u001b[39m GC \u001b[90m(\u001b[39mmedian\u001b[90m):    \u001b[39m0.00%\n",
       " Time  \u001b[90m(\u001b[39m\u001b[32m\u001b[1mmean\u001b[22m\u001b[39m ± \u001b[32mσ\u001b[39m\u001b[90m):   \u001b[39m\u001b[32m\u001b[1m51.961 μs\u001b[22m\u001b[39m ± \u001b[32m122.264 μs\u001b[39m  \u001b[90m┊\u001b[39m GC \u001b[90m(\u001b[39mmean ± σ\u001b[90m):  \u001b[39m6.18% ±  2.60%\n",
       "\n",
       "  \u001b[39m▄\u001b[39m█\u001b[39m█\u001b[34m▇\u001b[39m\u001b[39m▆\u001b[39m▅\u001b[39m▅\u001b[39m▃\u001b[39m▂\u001b[39m▁\u001b[39m \u001b[39m \u001b[39m \u001b[39m \u001b[39m \u001b[39m \u001b[39m \u001b[39m▂\u001b[39m▄\u001b[39m▄\u001b[39m▃\u001b[32m▂\u001b[39m\u001b[39m▁\u001b[39m▂\u001b[39m▁\u001b[39m▁\u001b[39m▂\u001b[39m▂\u001b[39m▂\u001b[39m▃\u001b[39m▂\u001b[39m▁\u001b[39m▁\u001b[39m \u001b[39m \u001b[39m \u001b[39m \u001b[39m \u001b[39m \u001b[39m \u001b[39m \u001b[39m \u001b[39m \u001b[39m \u001b[39m \u001b[39m \u001b[39m \u001b[39m \u001b[39m \u001b[39m \u001b[39m \u001b[39m \u001b[39m \u001b[39m \u001b[39m \u001b[39m \u001b[39m \u001b[39m \u001b[39m \u001b[39m \u001b[39m \u001b[39m▂\n",
       "  \u001b[39m█\u001b[39m█\u001b[39m█\u001b[34m█\u001b[39m\u001b[39m█\u001b[39m█\u001b[39m█\u001b[39m█\u001b[39m█\u001b[39m█\u001b[39m█\u001b[39m█\u001b[39m█\u001b[39m▇\u001b[39m█\u001b[39m▇\u001b[39m▇\u001b[39m█\u001b[39m█\u001b[39m█\u001b[39m█\u001b[32m█\u001b[39m\u001b[39m█\u001b[39m█\u001b[39m█\u001b[39m█\u001b[39m█\u001b[39m█\u001b[39m█\u001b[39m█\u001b[39m█\u001b[39m█\u001b[39m█\u001b[39m█\u001b[39m▇\u001b[39m▇\u001b[39m▆\u001b[39m▅\u001b[39m▆\u001b[39m▅\u001b[39m▆\u001b[39m▆\u001b[39m▅\u001b[39m▅\u001b[39m▆\u001b[39m▅\u001b[39m▄\u001b[39m▅\u001b[39m▆\u001b[39m▅\u001b[39m▆\u001b[39m▆\u001b[39m▅\u001b[39m▆\u001b[39m▅\u001b[39m▅\u001b[39m▅\u001b[39m▃\u001b[39m▅\u001b[39m▂\u001b[39m \u001b[39m█\n",
       "  46.1 μs\u001b[90m       \u001b[39m\u001b[90mHistogram: \u001b[39m\u001b[90m\u001b[1mlog(\u001b[22m\u001b[39m\u001b[90mfrequency\u001b[39m\u001b[90m\u001b[1m)\u001b[22m\u001b[39m\u001b[90m by time\u001b[39m      62.9 μs \u001b[0m\u001b[1m<\u001b[22m\n",
       "\n",
       " Memory estimate\u001b[90m: \u001b[39m\u001b[33m36.25 KiB\u001b[39m, allocs estimate\u001b[90m: \u001b[39m\u001b[33m2055\u001b[39m."
      ]
     },
     "execution_count": 63,
     "metadata": {},
     "output_type": "execute_result"
    }
   ],
   "source": [
    "@benchmark oldway()"
   ]
  },
  {
   "cell_type": "code",
   "execution_count": 163,
   "id": "763b21e4-a0c8-4d39-aa80-cca6d6840f67",
   "metadata": {},
   "outputs": [
    {
     "data": {
      "text/plain": [
       "BenchmarkTools.Trial: 10000 samples with 1 evaluation.\n",
       " Range \u001b[90m(\u001b[39m\u001b[36m\u001b[1mmin\u001b[22m\u001b[39m … \u001b[35mmax\u001b[39m\u001b[90m):  \u001b[39m\u001b[36m\u001b[1m17.022 μs\u001b[22m\u001b[39m … \u001b[35m  5.740 ms\u001b[39m  \u001b[90m┊\u001b[39m GC \u001b[90m(\u001b[39mmin … max\u001b[90m): \u001b[39m 0.00% … 85.86%\n",
       " Time  \u001b[90m(\u001b[39m\u001b[34m\u001b[1mmedian\u001b[22m\u001b[39m\u001b[90m):     \u001b[39m\u001b[34m\u001b[1m18.304 μs               \u001b[22m\u001b[39m\u001b[90m┊\u001b[39m GC \u001b[90m(\u001b[39mmedian\u001b[90m):    \u001b[39m 0.00%\n",
       " Time  \u001b[90m(\u001b[39m\u001b[32m\u001b[1mmean\u001b[22m\u001b[39m ± \u001b[32mσ\u001b[39m\u001b[90m):   \u001b[39m\u001b[32m\u001b[1m21.835 μs\u001b[22m\u001b[39m ± \u001b[32m108.943 μs\u001b[39m  \u001b[90m┊\u001b[39m GC \u001b[90m(\u001b[39mmean ± σ\u001b[90m):  \u001b[39m12.24% ±  2.50%\n",
       "\n",
       "  \u001b[39m \u001b[39m \u001b[39m \u001b[39m▃\u001b[39m▇\u001b[39m█\u001b[34m▄\u001b[39m\u001b[39m \u001b[39m \u001b[39m \u001b[39m \u001b[39m \u001b[39m \u001b[39m \u001b[39m \u001b[39m \u001b[39m \u001b[39m \u001b[39m \u001b[39m \u001b[39m \u001b[39m \u001b[39m \u001b[32m \u001b[39m\u001b[39m \u001b[39m \u001b[39m \u001b[39m \u001b[39m \u001b[39m \u001b[39m \u001b[39m \u001b[39m \u001b[39m \u001b[39m \u001b[39m \u001b[39m \u001b[39m \u001b[39m \u001b[39m \u001b[39m \u001b[39m \u001b[39m \u001b[39m \u001b[39m \u001b[39m \u001b[39m \u001b[39m \u001b[39m \u001b[39m \u001b[39m \u001b[39m \u001b[39m \u001b[39m \u001b[39m \u001b[39m \u001b[39m \u001b[39m \u001b[39m \u001b[39m \u001b[39m \u001b[39m \n",
       "  \u001b[39m▁\u001b[39m▂\u001b[39m▅\u001b[39m█\u001b[39m█\u001b[39m█\u001b[34m█\u001b[39m\u001b[39m█\u001b[39m▆\u001b[39m▄\u001b[39m▃\u001b[39m▃\u001b[39m▃\u001b[39m▃\u001b[39m▃\u001b[39m▃\u001b[39m▂\u001b[39m▂\u001b[39m▂\u001b[39m▂\u001b[39m▂\u001b[39m▁\u001b[39m▁\u001b[32m▁\u001b[39m\u001b[39m▁\u001b[39m▁\u001b[39m▁\u001b[39m▁\u001b[39m▁\u001b[39m▁\u001b[39m▁\u001b[39m▁\u001b[39m▁\u001b[39m▁\u001b[39m▁\u001b[39m▁\u001b[39m▁\u001b[39m▁\u001b[39m▁\u001b[39m▁\u001b[39m▁\u001b[39m▁\u001b[39m▁\u001b[39m▁\u001b[39m▁\u001b[39m▁\u001b[39m▁\u001b[39m▁\u001b[39m▁\u001b[39m▁\u001b[39m▁\u001b[39m▁\u001b[39m▁\u001b[39m▁\u001b[39m▁\u001b[39m▁\u001b[39m▁\u001b[39m▁\u001b[39m▁\u001b[39m▁\u001b[39m \u001b[39m▂\n",
       "  17 μs\u001b[90m           Histogram: frequency by time\u001b[39m         29.6 μs \u001b[0m\u001b[1m<\u001b[22m\n",
       "\n",
       " Memory estimate\u001b[90m: \u001b[39m\u001b[33m37.38 KiB\u001b[39m, allocs estimate\u001b[90m: \u001b[39m\u001b[33m145\u001b[39m."
      ]
     },
     "execution_count": 163,
     "metadata": {},
     "output_type": "execute_result"
    }
   ],
   "source": [
    "@benchmark newway()"
   ]
  },
  {
   "cell_type": "code",
   "execution_count": null,
   "id": "cdb411ca-8e01-41a5-af29-4c1d39f86d86",
   "metadata": {},
   "outputs": [],
   "source": []
  }
 ],
 "metadata": {
  "kernelspec": {
   "display_name": "Julia 1.6.3",
   "language": "julia",
   "name": "julia-1.6"
  },
  "language_info": {
   "file_extension": ".jl",
   "mimetype": "application/julia",
   "name": "julia",
   "version": "1.6.3"
  }
 },
 "nbformat": 4,
 "nbformat_minor": 5
}
